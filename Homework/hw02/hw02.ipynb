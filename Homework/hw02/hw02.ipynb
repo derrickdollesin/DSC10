{
 "cells": [
  {
   "cell_type": "markdown",
   "metadata": {},
   "source": [
    "# Homework 2: DataFrames, Data Visualization, and Functions\n",
    "\n",
    "## Due Saturday, October 21st at 11:59PM\n",
    "\n",
    "Welcome to Homework 2! This week, we will cover DataFrame manipulations, making visualizations, and defining functions. You can find additional help on these topics in  [BPD 6, 9-12](https://notes.dsc10.com/01-getting_started/functions-defining.html) in the `babypandas` notes and [CIT 7-7.3](https://inferentialthinking.com/chapters/07/Visualization.html) in the textbook."
   ]
  },
  {
   "cell_type": "markdown",
   "metadata": {},
   "source": [
    "### Instructions\n",
    "\n",
    "Remember to start early and submit often. You are given six slip days throughout the quarter to extend deadlines. See the syllabus for more details. With the exception of using slip days, late work will not be accepted unless you have made special arrangements with your instructor.\n",
    "\n",
    "**Important**: For homeworks, the `otter` tests don't usually tell you that your answer is correct. More often, they help catch careless mistakes. It's up to you to ensure that your answer is correct. If you're not sure, ask someone (not for the answer, but for some guidance about your approach). These are great questions for office hours (see the schedule on the [Calendar](https://dsc10.com/calendar)) or Ed. Directly sharing answers is not okay, but discussing problems with the course staff or with other students is encouraged. \n",
    "\n",
    "**Please do not use for-loops for any questions in this homework.** If you don't know what a for-loop is, don't worry – we haven't covered them yet. But if you do know what they are and are wondering why it's not OK to use them, it is because loops in Python are slow, and looping over arrays and DataFrames should usually be avoided.\n",
    "\n",
    "🚨 ***Important:*** If you create a data visualization that is too cluttered to read or takes more than a few seconds to generate, this is a sign you are doing something wrong. Do not submit code like this, or the Gradescope autograder may fail to grade your entire assignment. It's better to leave a question blank than to submit code that will cause the autograder to fail on your full assignment."
   ]
  },
  {
   "cell_type": "code",
   "execution_count": 1,
   "metadata": {},
   "outputs": [],
   "source": [
    "# Please don't change this cell, but do make sure to run it\n",
    "import babypandas as bpd\n",
    "import numpy as np\n",
    "\n",
    "import matplotlib.pyplot as plt\n",
    "plt.style.use('ggplot')\n",
    "plt.rcParams['figure.figsize'] = (10, 5)\n",
    "\n",
    "import otter\n",
    "grader = otter.Notebook()"
   ]
  },
  {
   "cell_type": "markdown",
   "metadata": {},
   "source": [
    "## 1. Are You Scared Yet? Analyzing Horror Movies 🎃😱"
   ]
  },
  {
   "cell_type": "markdown",
   "metadata": {},
   "source": [
    "<center><img src='./images/hocus_pocus.jpg' width = 400/></center>\n",
    "\n",
    "Spooky season is upon us! We've provided a file, `data/horror_movies.csv`, that contains information about 464 movies. For each movie, we have 10 pieces of information (see the data description below) that we'll use to generate some insights about the state of horror movies in recent years. \n",
    "\n",
    "| Column      | Description |\n",
    "| ----------- | ----------- |\n",
    "| `'Title'`      | Title of the movie, with the year in parentheses    |\n",
    "| `'Country'`   | Country the movie was originally released in        |\n",
    "| `'Maturity Rating'` | A rating given to the movie by the Motion Picture Association |\n",
    "| `'Review Rating'` | The IMDb rating of the film, representing how good it was | \n",
    "| `'Language'` | The language the movie is in | \n",
    "| `'Filming Locations'` | The location in which the movie was filmed |\n",
    "| `'Budget'` | The total amount spent on the movie |\n",
    "| `'Release Month'` | The month the movie was released |\n",
    "| `'Release Day'` | The day of the month the movie was released |\n",
    "| `'Run Time'` | The length of the film in minutes |"
   ]
  },
  {
   "cell_type": "markdown",
   "metadata": {},
   "source": [
    "Run the cell below to read the file containing all of the horror movies into a DataFrame called `horror`."
   ]
  },
  {
   "cell_type": "code",
   "execution_count": 2,
   "metadata": {
    "scrolled": true
   },
   "outputs": [
    {
     "data": {
      "text/html": [
       "<div>\n",
       "<style scoped>\n",
       "    .dataframe tbody tr th:only-of-type {\n",
       "        vertical-align: middle;\n",
       "    }\n",
       "\n",
       "    .dataframe tbody tr th {\n",
       "        vertical-align: top;\n",
       "    }\n",
       "\n",
       "    .dataframe thead th {\n",
       "        text-align: right;\n",
       "    }\n",
       "</style>\n",
       "<table border=\"1\" class=\"dataframe\">\n",
       "  <thead>\n",
       "    <tr style=\"text-align: right;\">\n",
       "      <th></th>\n",
       "      <th>Title</th>\n",
       "      <th>Country</th>\n",
       "      <th>Maturity Rating</th>\n",
       "      <th>Review Rating</th>\n",
       "      <th>Language</th>\n",
       "      <th>Filming Locations</th>\n",
       "      <th>Budget</th>\n",
       "      <th>Release Month</th>\n",
       "      <th>Release Day</th>\n",
       "      <th>Run Time</th>\n",
       "    </tr>\n",
       "  </thead>\n",
       "  <tbody>\n",
       "    <tr>\n",
       "      <th>0</th>\n",
       "      <td>Rise of the Animals (2011)</td>\n",
       "      <td>USA</td>\n",
       "      <td>NOT RATED</td>\n",
       "      <td>3.6</td>\n",
       "      <td>English</td>\n",
       "      <td>Rochester, New York, USA</td>\n",
       "      <td>7000</td>\n",
       "      <td>May</td>\n",
       "      <td>1</td>\n",
       "      <td>70</td>\n",
       "    </tr>\n",
       "    <tr>\n",
       "      <th>1</th>\n",
       "      <td>Zombie Resurrection (2014)</td>\n",
       "      <td>UK</td>\n",
       "      <td>NOT RATED</td>\n",
       "      <td>2.7</td>\n",
       "      <td>English</td>\n",
       "      <td>Hampshire, England, UK</td>\n",
       "      <td>100000</td>\n",
       "      <td>March</td>\n",
       "      <td>23</td>\n",
       "      <td>86</td>\n",
       "    </tr>\n",
       "    <tr>\n",
       "      <th>2</th>\n",
       "      <td>Before Dawn (2013)</td>\n",
       "      <td>Japan</td>\n",
       "      <td>NOT RATED</td>\n",
       "      <td>4.7</td>\n",
       "      <td>English</td>\n",
       "      <td>Yorkshire, England, UK</td>\n",
       "      <td>25000</td>\n",
       "      <td>June</td>\n",
       "      <td>8</td>\n",
       "      <td>82</td>\n",
       "    </tr>\n",
       "    <tr>\n",
       "      <th>3</th>\n",
       "      <td>Apparition (2015)</td>\n",
       "      <td>USA</td>\n",
       "      <td>NOT RATED</td>\n",
       "      <td>4.0</td>\n",
       "      <td>English</td>\n",
       "      <td>Philadelphia, Pennsylvania, USA</td>\n",
       "      <td>3000000</td>\n",
       "      <td>May</td>\n",
       "      <td>5</td>\n",
       "      <td>100</td>\n",
       "    </tr>\n",
       "    <tr>\n",
       "      <th>4</th>\n",
       "      <td>Her Cry: La Llorona Investigation (2013)</td>\n",
       "      <td>USA</td>\n",
       "      <td>NOT RATED</td>\n",
       "      <td>5.4</td>\n",
       "      <td>English</td>\n",
       "      <td>Houston, Texas, USA</td>\n",
       "      <td>60000</td>\n",
       "      <td>April</td>\n",
       "      <td>19</td>\n",
       "      <td>89</td>\n",
       "    </tr>\n",
       "    <tr>\n",
       "      <th>...</th>\n",
       "      <td>...</td>\n",
       "      <td>...</td>\n",
       "      <td>...</td>\n",
       "      <td>...</td>\n",
       "      <td>...</td>\n",
       "      <td>...</td>\n",
       "      <td>...</td>\n",
       "      <td>...</td>\n",
       "      <td>...</td>\n",
       "      <td>...</td>\n",
       "    </tr>\n",
       "    <tr>\n",
       "      <th>457</th>\n",
       "      <td>Insidious: Chapter 3 (2015)</td>\n",
       "      <td>USA</td>\n",
       "      <td>PG-13</td>\n",
       "      <td>6.1</td>\n",
       "      <td>English</td>\n",
       "      <td>929 South Broadway, Downtown, Los Angeles, Cal...</td>\n",
       "      <td>10000000</td>\n",
       "      <td>June</td>\n",
       "      <td>5</td>\n",
       "      <td>97</td>\n",
       "    </tr>\n",
       "    <tr>\n",
       "      <th>458</th>\n",
       "      <td>The Purge (2013)</td>\n",
       "      <td>USA</td>\n",
       "      <td>R</td>\n",
       "      <td>5.7</td>\n",
       "      <td>English</td>\n",
       "      <td>Chatsworth, Los Angeles, California, USA</td>\n",
       "      <td>3000000</td>\n",
       "      <td>June</td>\n",
       "      <td>7</td>\n",
       "      <td>85</td>\n",
       "    </tr>\n",
       "    <tr>\n",
       "      <th>459</th>\n",
       "      <td>13 Sins (2014)</td>\n",
       "      <td>Poland</td>\n",
       "      <td>R</td>\n",
       "      <td>6.3</td>\n",
       "      <td>English</td>\n",
       "      <td>New Orleans, Louisiana, USA</td>\n",
       "      <td>4000000</td>\n",
       "      <td>April</td>\n",
       "      <td>11</td>\n",
       "      <td>93</td>\n",
       "    </tr>\n",
       "    <tr>\n",
       "      <th>460</th>\n",
       "      <td>Victor Frankenstein (2015)</td>\n",
       "      <td>USA</td>\n",
       "      <td>PG-13</td>\n",
       "      <td>6.0</td>\n",
       "      <td>English</td>\n",
       "      <td>London, England, UK</td>\n",
       "      <td>40000000</td>\n",
       "      <td>November</td>\n",
       "      <td>25</td>\n",
       "      <td>110</td>\n",
       "    </tr>\n",
       "    <tr>\n",
       "      <th>461</th>\n",
       "      <td>BloodRayne: The Third Reich (2011)</td>\n",
       "      <td>Japan</td>\n",
       "      <td>R</td>\n",
       "      <td>3.0</td>\n",
       "      <td>English</td>\n",
       "      <td>Zagreb, Croatia</td>\n",
       "      <td>10000000</td>\n",
       "      <td>March</td>\n",
       "      <td>17</td>\n",
       "      <td>79</td>\n",
       "    </tr>\n",
       "  </tbody>\n",
       "</table>\n",
       "<p>462 rows × 10 columns</p>\n",
       "</div>"
      ],
      "text/plain": [
       "                                        Title Country Maturity Rating  \\\n",
       "0                  Rise of the Animals (2011)     USA       NOT RATED   \n",
       "1                  Zombie Resurrection (2014)      UK       NOT RATED   \n",
       "2                          Before Dawn (2013)   Japan       NOT RATED   \n",
       "3                           Apparition (2015)     USA       NOT RATED   \n",
       "4    Her Cry: La Llorona Investigation (2013)     USA       NOT RATED   \n",
       "..                                        ...     ...             ...   \n",
       "457               Insidious: Chapter 3 (2015)     USA           PG-13   \n",
       "458                          The Purge (2013)     USA               R   \n",
       "459                            13 Sins (2014)  Poland               R   \n",
       "460                Victor Frankenstein (2015)     USA           PG-13   \n",
       "461        BloodRayne: The Third Reich (2011)   Japan               R   \n",
       "\n",
       "     Review Rating Language  \\\n",
       "0              3.6  English   \n",
       "1              2.7  English   \n",
       "2              4.7  English   \n",
       "3              4.0  English   \n",
       "4              5.4  English   \n",
       "..             ...      ...   \n",
       "457            6.1  English   \n",
       "458            5.7  English   \n",
       "459            6.3  English   \n",
       "460            6.0  English   \n",
       "461            3.0  English   \n",
       "\n",
       "                                     Filming Locations    Budget  \\\n",
       "0                             Rochester, New York, USA      7000   \n",
       "1                               Hampshire, England, UK    100000   \n",
       "2                               Yorkshire, England, UK     25000   \n",
       "3                      Philadelphia, Pennsylvania, USA   3000000   \n",
       "4                                  Houston, Texas, USA     60000   \n",
       "..                                                 ...       ...   \n",
       "457  929 South Broadway, Downtown, Los Angeles, Cal...  10000000   \n",
       "458           Chatsworth, Los Angeles, California, USA   3000000   \n",
       "459                        New Orleans, Louisiana, USA   4000000   \n",
       "460                                London, England, UK  40000000   \n",
       "461                                    Zagreb, Croatia  10000000   \n",
       "\n",
       "    Release Month  Release Day  Run Time  \n",
       "0             May            1        70  \n",
       "1           March           23        86  \n",
       "2            June            8        82  \n",
       "3             May            5       100  \n",
       "4           April           19        89  \n",
       "..            ...          ...       ...  \n",
       "457          June            5        97  \n",
       "458          June            7        85  \n",
       "459         April           11        93  \n",
       "460      November           25       110  \n",
       "461         March           17        79  \n",
       "\n",
       "[462 rows x 10 columns]"
      ]
     },
     "execution_count": 2,
     "metadata": {},
     "output_type": "execute_result"
    }
   ],
   "source": [
    "horror = bpd.read_csv('data/horror_movies.csv') \n",
    "horror"
   ]
  },
  {
   "cell_type": "markdown",
   "metadata": {},
   "source": [
    "**Question 1.1.** Examine the columns available in `horror` and consider which would be the best choice of index for this DataFrame. Change the `horror` DataFrame so that it's indexed by the values in this column instead of the default index."
   ]
  },
  {
   "cell_type": "code",
   "execution_count": 3,
   "metadata": {
    "scrolled": false
   },
   "outputs": [
    {
     "data": {
      "text/html": [
       "<div>\n",
       "<style scoped>\n",
       "    .dataframe tbody tr th:only-of-type {\n",
       "        vertical-align: middle;\n",
       "    }\n",
       "\n",
       "    .dataframe tbody tr th {\n",
       "        vertical-align: top;\n",
       "    }\n",
       "\n",
       "    .dataframe thead th {\n",
       "        text-align: right;\n",
       "    }\n",
       "</style>\n",
       "<table border=\"1\" class=\"dataframe\">\n",
       "  <thead>\n",
       "    <tr style=\"text-align: right;\">\n",
       "      <th></th>\n",
       "      <th>Country</th>\n",
       "      <th>Maturity Rating</th>\n",
       "      <th>Review Rating</th>\n",
       "      <th>Language</th>\n",
       "      <th>Filming Locations</th>\n",
       "      <th>Budget</th>\n",
       "      <th>Release Month</th>\n",
       "      <th>Release Day</th>\n",
       "      <th>Run Time</th>\n",
       "    </tr>\n",
       "    <tr>\n",
       "      <th>Title</th>\n",
       "      <th></th>\n",
       "      <th></th>\n",
       "      <th></th>\n",
       "      <th></th>\n",
       "      <th></th>\n",
       "      <th></th>\n",
       "      <th></th>\n",
       "      <th></th>\n",
       "      <th></th>\n",
       "    </tr>\n",
       "  </thead>\n",
       "  <tbody>\n",
       "    <tr>\n",
       "      <th>Rise of the Animals (2011)</th>\n",
       "      <td>USA</td>\n",
       "      <td>NOT RATED</td>\n",
       "      <td>3.6</td>\n",
       "      <td>English</td>\n",
       "      <td>Rochester, New York, USA</td>\n",
       "      <td>7000</td>\n",
       "      <td>May</td>\n",
       "      <td>1</td>\n",
       "      <td>70</td>\n",
       "    </tr>\n",
       "    <tr>\n",
       "      <th>Zombie Resurrection (2014)</th>\n",
       "      <td>UK</td>\n",
       "      <td>NOT RATED</td>\n",
       "      <td>2.7</td>\n",
       "      <td>English</td>\n",
       "      <td>Hampshire, England, UK</td>\n",
       "      <td>100000</td>\n",
       "      <td>March</td>\n",
       "      <td>23</td>\n",
       "      <td>86</td>\n",
       "    </tr>\n",
       "    <tr>\n",
       "      <th>Before Dawn (2013)</th>\n",
       "      <td>Japan</td>\n",
       "      <td>NOT RATED</td>\n",
       "      <td>4.7</td>\n",
       "      <td>English</td>\n",
       "      <td>Yorkshire, England, UK</td>\n",
       "      <td>25000</td>\n",
       "      <td>June</td>\n",
       "      <td>8</td>\n",
       "      <td>82</td>\n",
       "    </tr>\n",
       "    <tr>\n",
       "      <th>Apparition (2015)</th>\n",
       "      <td>USA</td>\n",
       "      <td>NOT RATED</td>\n",
       "      <td>4.0</td>\n",
       "      <td>English</td>\n",
       "      <td>Philadelphia, Pennsylvania, USA</td>\n",
       "      <td>3000000</td>\n",
       "      <td>May</td>\n",
       "      <td>5</td>\n",
       "      <td>100</td>\n",
       "    </tr>\n",
       "    <tr>\n",
       "      <th>Her Cry: La Llorona Investigation (2013)</th>\n",
       "      <td>USA</td>\n",
       "      <td>NOT RATED</td>\n",
       "      <td>5.4</td>\n",
       "      <td>English</td>\n",
       "      <td>Houston, Texas, USA</td>\n",
       "      <td>60000</td>\n",
       "      <td>April</td>\n",
       "      <td>19</td>\n",
       "      <td>89</td>\n",
       "    </tr>\n",
       "    <tr>\n",
       "      <th>...</th>\n",
       "      <td>...</td>\n",
       "      <td>...</td>\n",
       "      <td>...</td>\n",
       "      <td>...</td>\n",
       "      <td>...</td>\n",
       "      <td>...</td>\n",
       "      <td>...</td>\n",
       "      <td>...</td>\n",
       "      <td>...</td>\n",
       "    </tr>\n",
       "    <tr>\n",
       "      <th>Insidious: Chapter 3 (2015)</th>\n",
       "      <td>USA</td>\n",
       "      <td>PG-13</td>\n",
       "      <td>6.1</td>\n",
       "      <td>English</td>\n",
       "      <td>929 South Broadway, Downtown, Los Angeles, Cal...</td>\n",
       "      <td>10000000</td>\n",
       "      <td>June</td>\n",
       "      <td>5</td>\n",
       "      <td>97</td>\n",
       "    </tr>\n",
       "    <tr>\n",
       "      <th>The Purge (2013)</th>\n",
       "      <td>USA</td>\n",
       "      <td>R</td>\n",
       "      <td>5.7</td>\n",
       "      <td>English</td>\n",
       "      <td>Chatsworth, Los Angeles, California, USA</td>\n",
       "      <td>3000000</td>\n",
       "      <td>June</td>\n",
       "      <td>7</td>\n",
       "      <td>85</td>\n",
       "    </tr>\n",
       "    <tr>\n",
       "      <th>13 Sins (2014)</th>\n",
       "      <td>Poland</td>\n",
       "      <td>R</td>\n",
       "      <td>6.3</td>\n",
       "      <td>English</td>\n",
       "      <td>New Orleans, Louisiana, USA</td>\n",
       "      <td>4000000</td>\n",
       "      <td>April</td>\n",
       "      <td>11</td>\n",
       "      <td>93</td>\n",
       "    </tr>\n",
       "    <tr>\n",
       "      <th>Victor Frankenstein (2015)</th>\n",
       "      <td>USA</td>\n",
       "      <td>PG-13</td>\n",
       "      <td>6.0</td>\n",
       "      <td>English</td>\n",
       "      <td>London, England, UK</td>\n",
       "      <td>40000000</td>\n",
       "      <td>November</td>\n",
       "      <td>25</td>\n",
       "      <td>110</td>\n",
       "    </tr>\n",
       "    <tr>\n",
       "      <th>BloodRayne: The Third Reich (2011)</th>\n",
       "      <td>Japan</td>\n",
       "      <td>R</td>\n",
       "      <td>3.0</td>\n",
       "      <td>English</td>\n",
       "      <td>Zagreb, Croatia</td>\n",
       "      <td>10000000</td>\n",
       "      <td>March</td>\n",
       "      <td>17</td>\n",
       "      <td>79</td>\n",
       "    </tr>\n",
       "  </tbody>\n",
       "</table>\n",
       "<p>462 rows × 9 columns</p>\n",
       "</div>"
      ],
      "text/plain": [
       "                                         Country Maturity Rating  \\\n",
       "Title                                                              \n",
       "Rise of the Animals (2011)                   USA       NOT RATED   \n",
       "Zombie Resurrection (2014)                    UK       NOT RATED   \n",
       "Before Dawn (2013)                         Japan       NOT RATED   \n",
       "Apparition (2015)                            USA       NOT RATED   \n",
       "Her Cry: La Llorona Investigation (2013)     USA       NOT RATED   \n",
       "...                                          ...             ...   \n",
       "Insidious: Chapter 3 (2015)                  USA           PG-13   \n",
       "The Purge (2013)                             USA               R   \n",
       "13 Sins (2014)                            Poland               R   \n",
       "Victor Frankenstein (2015)                   USA           PG-13   \n",
       "BloodRayne: The Third Reich (2011)         Japan               R   \n",
       "\n",
       "                                          Review Rating Language  \\\n",
       "Title                                                              \n",
       "Rise of the Animals (2011)                          3.6  English   \n",
       "Zombie Resurrection (2014)                          2.7  English   \n",
       "Before Dawn (2013)                                  4.7  English   \n",
       "Apparition (2015)                                   4.0  English   \n",
       "Her Cry: La Llorona Investigation (2013)            5.4  English   \n",
       "...                                                 ...      ...   \n",
       "Insidious: Chapter 3 (2015)                         6.1  English   \n",
       "The Purge (2013)                                    5.7  English   \n",
       "13 Sins (2014)                                      6.3  English   \n",
       "Victor Frankenstein (2015)                          6.0  English   \n",
       "BloodRayne: The Third Reich (2011)                  3.0  English   \n",
       "\n",
       "                                                                          Filming Locations  \\\n",
       "Title                                                                                         \n",
       "Rise of the Animals (2011)                                         Rochester, New York, USA   \n",
       "Zombie Resurrection (2014)                                           Hampshire, England, UK   \n",
       "Before Dawn (2013)                                                   Yorkshire, England, UK   \n",
       "Apparition (2015)                                           Philadelphia, Pennsylvania, USA   \n",
       "Her Cry: La Llorona Investigation (2013)                                Houston, Texas, USA   \n",
       "...                                                                                     ...   \n",
       "Insidious: Chapter 3 (2015)               929 South Broadway, Downtown, Los Angeles, Cal...   \n",
       "The Purge (2013)                                   Chatsworth, Los Angeles, California, USA   \n",
       "13 Sins (2014)                                                  New Orleans, Louisiana, USA   \n",
       "Victor Frankenstein (2015)                                              London, England, UK   \n",
       "BloodRayne: The Third Reich (2011)                                          Zagreb, Croatia   \n",
       "\n",
       "                                            Budget Release Month  Release Day  \\\n",
       "Title                                                                           \n",
       "Rise of the Animals (2011)                    7000           May            1   \n",
       "Zombie Resurrection (2014)                  100000         March           23   \n",
       "Before Dawn (2013)                           25000          June            8   \n",
       "Apparition (2015)                          3000000           May            5   \n",
       "Her Cry: La Llorona Investigation (2013)     60000         April           19   \n",
       "...                                            ...           ...          ...   \n",
       "Insidious: Chapter 3 (2015)               10000000          June            5   \n",
       "The Purge (2013)                           3000000          June            7   \n",
       "13 Sins (2014)                             4000000         April           11   \n",
       "Victor Frankenstein (2015)                40000000      November           25   \n",
       "BloodRayne: The Third Reich (2011)        10000000         March           17   \n",
       "\n",
       "                                          Run Time  \n",
       "Title                                               \n",
       "Rise of the Animals (2011)                      70  \n",
       "Zombie Resurrection (2014)                      86  \n",
       "Before Dawn (2013)                              82  \n",
       "Apparition (2015)                              100  \n",
       "Her Cry: La Llorona Investigation (2013)        89  \n",
       "...                                            ...  \n",
       "Insidious: Chapter 3 (2015)                     97  \n",
       "The Purge (2013)                                85  \n",
       "13 Sins (2014)                                  93  \n",
       "Victor Frankenstein (2015)                     110  \n",
       "BloodRayne: The Third Reich (2011)              79  \n",
       "\n",
       "[462 rows x 9 columns]"
      ]
     },
     "execution_count": 3,
     "metadata": {},
     "output_type": "execute_result"
    }
   ],
   "source": [
    "horror = horror.set_index(\"Title\")\n",
    "horror"
   ]
  },
  {
   "cell_type": "code",
   "execution_count": 4,
   "metadata": {
    "deletable": false,
    "editable": false
   },
   "outputs": [
    {
     "data": {
      "text/html": [
       "<p><strong><pre style='display: inline;'>q1_1</pre></strong> passed!</p>"
      ],
      "text/plain": [
       "q1_1 results: All test cases passed!"
      ]
     },
     "execution_count": 4,
     "metadata": {},
     "output_type": "execute_result"
    }
   ],
   "source": [
    "grader.check(\"q1_1\")"
   ]
  },
  {
   "cell_type": "markdown",
   "metadata": {},
   "source": [
    "**_Note:_**  If you were to run the cell where you set the index of `horror` again, you'd see an error message. Stop and think about _why_ you'd run into an error. Once you've thought about it, click the thinking emoji below to see the reason for the error.\n",
    "\n",
    "<br>\n",
    "\n",
    "<details>\n",
    "    <summary>Why would there be an error? 🤔</summary>\n",
    "    There would be an error since you'd be trying to set the index of <code>horror</code> to a column that no longer exists in <code>horror</code> – the column wouldn't exist because it was converted to the index the first time you ran the cell (and the index is not a column)!\n",
    "</details>\n",
    "\n",
    "If you acually ran the cell twice and got an error message, don't worry. To get rid of it, re-run the cell in 1.1 where you defined the `horror` DataFrame, then run the cell in 1.2 just once, and you'll be good to go.\n",
    "\n",
    "When you submit your work for autograding, the entire notebook will be run from start to finish. Each cell will run only once, so it's no problem if your code errors on the second run. In this case, it means you're doing something right!"
   ]
  },
  {
   "cell_type": "markdown",
   "metadata": {},
   "source": [
    "**Question 1.2.** *The Ouija Experiment*, released in 2013, is among the lowest-budget movies in our dataset. What is the budget of `'The Ouija Experiment (2013)'`, and what is its `'Review Rating'`? Assign your answers to variables `OE_budget` and `OE_rating`, respectively."
   ]
  },
  {
   "cell_type": "code",
   "execution_count": 5,
   "metadata": {},
   "outputs": [
    {
     "name": "stdout",
     "output_type": "stream",
     "text": [
      "The budget for The Ouija Experiment was 1200 and the rating was 3.3\n"
     ]
    }
   ],
   "source": [
    "OE_budget = horror.get('Budget').loc['The Ouija Experiment (2013)']\n",
    "\n",
    "OE_rating = horror.get('Review Rating').loc['The Ouija Experiment (2013)']\n",
    "\n",
    "print('The budget for The Ouija Experiment was', OE_budget, 'and the rating was', OE_rating)"
   ]
  },
  {
   "cell_type": "code",
   "execution_count": 6,
   "metadata": {
    "deletable": false,
    "editable": false
   },
   "outputs": [
    {
     "data": {
      "text/html": [
       "<p><strong><pre style='display: inline;'>q1_2</pre></strong> passed!</p>"
      ],
      "text/plain": [
       "q1_2 results: All test cases passed!"
      ]
     },
     "execution_count": 6,
     "metadata": {},
     "output_type": "execute_result"
    }
   ],
   "source": [
    "grader.check(\"q1_2\")"
   ]
  },
  {
   "cell_type": "markdown",
   "metadata": {},
   "source": [
    "**Question 1.3.** Horror movies can be really entertaining, but they can also be really bad. Assign `lowest_rated_movie` to the name of the movie with the lowest `'Review Rating'` (including the year in parentheses), and set the `'Review Rating'` of that movie to `lowest_rating`."
   ]
  },
  {
   "cell_type": "code",
   "execution_count": 7,
   "metadata": {},
   "outputs": [
    {
     "name": "stdout",
     "output_type": "stream",
     "text": [
      "The lowest-rated movie is Krampus: The Devil Returns (2016) with a rating of 1.6\n"
     ]
    }
   ],
   "source": [
    "lowest_rated_movie = horror.sort_values('Review Rating').index[0]\n",
    "\n",
    "lowest_rating = horror.get('Review Rating').min()\n",
    "\n",
    "print('The lowest-rated movie is', lowest_rated_movie, 'with a rating of', lowest_rating)"
   ]
  },
  {
   "cell_type": "code",
   "execution_count": 8,
   "metadata": {
    "deletable": false,
    "editable": false
   },
   "outputs": [
    {
     "data": {
      "text/html": [
       "<p><strong><pre style='display: inline;'>q1_3</pre></strong> passed!</p>"
      ],
      "text/plain": [
       "q1_3 results: All test cases passed!"
      ]
     },
     "execution_count": 8,
     "metadata": {},
     "output_type": "execute_result"
    }
   ],
   "source": [
    "grader.check(\"q1_3\")"
   ]
  },
  {
   "cell_type": "markdown",
   "metadata": {},
   "source": [
    "**Question 1.4.** That's a very low rating, but how does that compare to the other movies included in the dataset? First, plot a density histogram that shows the distribution of `'Review Rating'`. Then compute the absolute difference between the lowest rating and the **median** rating, and assign the result to the variable `below_med`.\n",
    "\n",
    "When plotting your histogram, remember to set `density=True` and `ec='w'`. You don't have to set the `bins` argument."
   ]
  },
  {
   "cell_type": "code",
   "execution_count": 9,
   "metadata": {},
   "outputs": [
    {
     "data": {
      "text/plain": [
       "3.4"
      ]
     },
     "execution_count": 9,
     "metadata": {},
     "output_type": "execute_result"
    },
    {
     "data": {
      "image/png": "[encoded data removed]",
      "text/plain": [
       "<Figure size 720x360 with 1 Axes>"
      ]
     },
     "metadata": {},
     "output_type": "display_data"
    }
   ],
   "source": [
    "# Create your histogram here.\n",
    "horror.plot(kind='hist', y='Review Rating', density=True, ec='w');\n",
    "\n",
    "# Then calculate below_med.\n",
    "below_med = abs(lowest_rating - horror.get('Review Rating').median())\n",
    "below_med"
   ]
  },
  {
   "cell_type": "code",
   "execution_count": 10,
   "metadata": {
    "deletable": false,
    "editable": false
   },
   "outputs": [
    {
     "data": {
      "text/html": [
       "<p><strong><pre style='display: inline;'>q1_4</pre></strong> passed!</p>"
      ],
      "text/plain": [
       "q1_4 results: All test cases passed!"
      ]
     },
     "execution_count": 10,
     "metadata": {},
     "output_type": "execute_result"
    }
   ],
   "source": [
    "grader.check(\"q1_4\")"
   ]
  },
  {
   "cell_type": "markdown",
   "metadata": {},
   "source": [
    "**Question 1.5.** How many movies in our dataset were released in October and have been given a `'Maturity Rating'`? Set the number of such movies equal to the variable `oct_rated_count`. Note that movies *without* a `'Maturity Rating'` appear as either `'NOT RATED'` or `'UNRATED'`.  "
   ]
  },
  {
   "cell_type": "code",
   "execution_count": 11,
   "metadata": {},
   "outputs": [
    {
     "name": "stderr",
     "output_type": "stream",
     "text": [
      "/opt/conda/lib/python3.9/site-packages/babypandas/bpd.py:1608: UserWarning: Boolean Series key will be reindexed to match DataFrame index.\n",
      "  a = func(*vargs, **kwargs)\n",
      "/opt/conda/lib/python3.9/site-packages/babypandas/bpd.py:1608: UserWarning: Boolean Series key will be reindexed to match DataFrame index.\n",
      "  a = func(*vargs, **kwargs)\n"
     ]
    },
    {
     "data": {
      "text/plain": [
       "36"
      ]
     },
     "execution_count": 11,
     "metadata": {},
     "output_type": "execute_result"
    }
   ],
   "source": [
    "oct_rated_count = (\n",
    "    horror\n",
    "    [horror.get('Release Month') == 'October'] \n",
    "    [horror.get('Maturity Rating') != 'NOT RATED']\n",
    "    [horror.get('Maturity Rating') != 'UNRATED']\n",
    "    .get('Language')\n",
    "    .count()\n",
    ")\n",
    "oct_rated_count"
   ]
  },
  {
   "cell_type": "code",
   "execution_count": 12,
   "metadata": {
    "deletable": false,
    "editable": false
   },
   "outputs": [
    {
     "data": {
      "text/html": [
       "<p><strong><pre style='display: inline;'>q1_5</pre></strong> passed!</p>"
      ],
      "text/plain": [
       "q1_5 results: All test cases passed!"
      ]
     },
     "execution_count": 12,
     "metadata": {},
     "output_type": "execute_result"
    }
   ],
   "source": [
    "grader.check(\"q1_5\")"
   ]
  },
  {
   "cell_type": "markdown",
   "metadata": {},
   "source": [
    "### Aside: String methods and Series\n",
    "\n",
    "**Before proceeding to Question 1.6., make sure to read this aside.**\n",
    "\n",
    "As we saw in [Lecture 3](https://dsc10.com/resources/lectures/lec03/lec03.html), strings have several methods available to them."
   ]
  },
  {
   "cell_type": "code",
   "execution_count": 13,
   "metadata": {},
   "outputs": [
    {
     "data": {
      "text/plain": [
       "'apparition (2015)'"
      ]
     },
     "execution_count": 13,
     "metadata": {},
     "output_type": "execute_result"
    }
   ],
   "source": [
    "'Apparition (2015)'.lower()"
   ]
  },
  {
   "cell_type": "code",
   "execution_count": 14,
   "metadata": {},
   "outputs": [
    {
     "data": {
      "text/plain": [
       "'Appar👀t👀on (2015)'"
      ]
     },
     "execution_count": 14,
     "metadata": {},
     "output_type": "execute_result"
    }
   ],
   "source": [
    "'Apparition (2015)'.replace('i', '👀')"
   ]
  },
  {
   "cell_type": "markdown",
   "metadata": {},
   "source": [
    "`babypandas` makes it easy for us to use string methods on Series of strings. To do this, we follow the pattern\n",
    "\n",
    "```py\n",
    "ser.str.method(args)\n",
    "```\n",
    "\n",
    "where `ser` is a Series, `method` is the name of a method, and `args` are the arguments to that method (if any). The key difference between string-specific Series methods and other Series methods (like `ser.mean()`) is that we need to write `.str` first."
   ]
  },
  {
   "cell_type": "markdown",
   "metadata": {},
   "source": [
    "For example, the following expression returns a Series containing the values in the `'Country'` column but converted to lowercase."
   ]
  },
  {
   "cell_type": "code",
   "execution_count": 15,
   "metadata": {},
   "outputs": [
    {
     "data": {
      "text/plain": [
       "Title\n",
       "Rise of the Animals (2011)                     usa\n",
       "Zombie Resurrection (2014)                      uk\n",
       "Before Dawn (2013)                           japan\n",
       "Apparition (2015)                              usa\n",
       "Her Cry: La Llorona Investigation (2013)       usa\n",
       "                                             ...  \n",
       "Insidious: Chapter 3 (2015)                    usa\n",
       "The Purge (2013)                               usa\n",
       "13 Sins (2014)                              poland\n",
       "Victor Frankenstein (2015)                     usa\n",
       "BloodRayne: The Third Reich (2011)           japan\n",
       "Name: Country, Length: 462, dtype: object"
      ]
     },
     "execution_count": 15,
     "metadata": {},
     "output_type": "execute_result"
    }
   ],
   "source": [
    "horror.get('Country').str.lower()"
   ]
  },
  {
   "cell_type": "markdown",
   "metadata": {},
   "source": [
    "The following expression replaces all `'i'`s with `'👀'` in the index. (Yes, you can use `.str` with the index as well!)"
   ]
  },
  {
   "cell_type": "code",
   "execution_count": 16,
   "metadata": {},
   "outputs": [
    {
     "data": {
      "text/plain": [
       "Index(['R👀se of the An👀mals (2011)', 'Zomb👀e Resurrect👀on (2014)',\n",
       "       'Before Dawn (2013)', 'Appar👀t👀on (2015)',\n",
       "       'Her Cry: La Llorona Invest👀gat👀on (2013)',\n",
       "       'Haunted House on Soror👀ty Row (2014)', 'Legend Has It (2009)',\n",
       "       'Fet👀sh Dolls D👀e Laugh👀ng (2012)', 'Holla II (2013)',\n",
       "       'The Lurk👀ng (2015)',\n",
       "       ...\n",
       "       'The Bad Batch (2016)', 'Dracula Untold (2014)', 'Nurse 3D (2013)',\n",
       "       'Ant👀b👀rth (2016)', 'Clown (2014)', 'Ins👀d👀ous: Chapter 3 (2015)',\n",
       "       'The Purge (2013)', '13 S👀ns (2014)', 'V👀ctor Frankenste👀n (2015)',\n",
       "       'BloodRayne: The Th👀rd Re👀ch (2011)'],\n",
       "      dtype='object', name='Title', length=462)"
      ]
     },
     "execution_count": 16,
     "metadata": {},
     "output_type": "execute_result"
    }
   ],
   "source": [
    "horror.index.str.replace('i', '👀')"
   ]
  },
  {
   "cell_type": "markdown",
   "metadata": {},
   "source": [
    "The following expression returns a Boolean Series, with `True` for movies whose `'Filming Locations'` contain the string `'England'` and `False` for all other movies. (`contains` is not a regular string method in Python, while the other examples – `lower` and `replace` – are.)"
   ]
  },
  {
   "cell_type": "code",
   "execution_count": 17,
   "metadata": {},
   "outputs": [
    {
     "data": {
      "text/plain": [
       "Title\n",
       "Rise of the Animals (2011)                  False\n",
       "Zombie Resurrection (2014)                   True\n",
       "Before Dawn (2013)                           True\n",
       "Apparition (2015)                           False\n",
       "Her Cry: La Llorona Investigation (2013)    False\n",
       "                                            ...  \n",
       "Insidious: Chapter 3 (2015)                 False\n",
       "The Purge (2013)                            False\n",
       "13 Sins (2014)                              False\n",
       "Victor Frankenstein (2015)                   True\n",
       "BloodRayne: The Third Reich (2011)          False\n",
       "Name: Filming Locations, Length: 462, dtype: bool"
      ]
     },
     "execution_count": 17,
     "metadata": {},
     "output_type": "execute_result"
    }
   ],
   "source": [
    "horror.get('Filming Locations').str.contains('England')"
   ]
  },
  {
   "cell_type": "markdown",
   "metadata": {},
   "source": [
    "Remember that we use Boolean Series to make queries!\n",
    "\n",
    "Now you're ready to proceed to Question 1.6. If you'd like another explanation of Series string methods, and `.str.contains` in particular, watch [this video](https://www.youtube.com/watch?v=TCcEhVA6Euw&list=PLDNbnocpJUhbczUw2Rw6bqreEECMvZ8gN&index=2)."
   ]
  },
  {
   "cell_type": "markdown",
   "metadata": {},
   "source": [
    "**Question 1.6.** Which movie titles contain the word `'night'`, with any capitalization? Create an *array* called `night_movies` containing the titles of all such movies, capitalized exactly as they appear in the DataFrame. \n",
    "\n",
    "**_Hints:_** \n",
    "- To convert a sequence into an array, call the function `np.array` on the sequence.\n",
    "- The movie names are all strings, so they may have inconsistencies in how they're capitalized. We want to count movie titles with the words `'Night'`, `'night'`, and even `'NiGHt'`. If we want to account for variations in capitalization, what operation should we call on the movie names **first**? (You may end up using `.str` twice!)"
   ]
  },
  {
   "cell_type": "code",
   "execution_count": 18,
   "metadata": {},
   "outputs": [
    {
     "data": {
      "text/plain": [
       "array(['Silent Night, Bloody Night: The Homecoming (2013)',\n",
       "       'Dream Nightmare (2016)', \"Hyde's Secret Nightmare (2011)\",\n",
       "       'Night Terrors (2014)', \"All Sinner's Night (2014)\",\n",
       "       'Darkest Night (2012)', 'Evil Night (2014)',\n",
       "       'Darker Than Night (2014)',\n",
       "       'Poultrygeist: Night of the Chicken Dead (2006)',\n",
       "       'It Comes at Night (2017)'], dtype=object)"
      ]
     },
     "execution_count": 18,
     "metadata": {},
     "output_type": "execute_result"
    }
   ],
   "source": [
    "night_movies = (\n",
    "    np.array(\n",
    "        horror[horror.index.str.lower().str.contains('night')]\n",
    "        .index\n",
    "    )\n",
    ")\n",
    "night_movies"
   ]
  },
  {
   "cell_type": "code",
   "execution_count": 19,
   "metadata": {
    "deletable": false,
    "editable": false
   },
   "outputs": [
    {
     "data": {
      "text/html": [
       "<p><strong><pre style='display: inline;'>q1_6</pre></strong> passed!</p>"
      ],
      "text/plain": [
       "q1_6 results: All test cases passed!"
      ]
     },
     "execution_count": 19,
     "metadata": {},
     "output_type": "execute_result"
    }
   ],
   "source": [
    "grader.check(\"q1_6\")"
   ]
  },
  {
   "cell_type": "markdown",
   "metadata": {},
   "source": [
    "**Question 1.7.** Create a DataFrame named `country_proportions`, indexed by `'Country'`, with one column named `'Proportion'`. The `'Proportion'` column should contain, for each country, the proportion of movies in the dataset from that country. Order the rows in descending order of `'Proportion'`.\n",
    "\n",
    "**_Hints:_** \n",
    "- Proportions can be easily calculated from counts.\n",
    "- If you pass in a **list** of columns names to `.get()`, the result will be a DataFrame containing only the columns specified in the list. "
   ]
  },
  {
   "cell_type": "code",
   "execution_count": 20,
   "metadata": {},
   "outputs": [
    {
     "data": {
      "text/html": [
       "<div>\n",
       "<style scoped>\n",
       "    .dataframe tbody tr th:only-of-type {\n",
       "        vertical-align: middle;\n",
       "    }\n",
       "\n",
       "    .dataframe tbody tr th {\n",
       "        vertical-align: top;\n",
       "    }\n",
       "\n",
       "    .dataframe thead th {\n",
       "        text-align: right;\n",
       "    }\n",
       "</style>\n",
       "<table border=\"1\" class=\"dataframe\">\n",
       "  <thead>\n",
       "    <tr style=\"text-align: right;\">\n",
       "      <th></th>\n",
       "      <th>Proportion</th>\n",
       "    </tr>\n",
       "    <tr>\n",
       "      <th>Country</th>\n",
       "      <th></th>\n",
       "    </tr>\n",
       "  </thead>\n",
       "  <tbody>\n",
       "    <tr>\n",
       "      <th>USA</th>\n",
       "      <td>0.755411</td>\n",
       "    </tr>\n",
       "    <tr>\n",
       "      <th>UK</th>\n",
       "      <td>0.058442</td>\n",
       "    </tr>\n",
       "    <tr>\n",
       "      <th>Japan</th>\n",
       "      <td>0.015152</td>\n",
       "    </tr>\n",
       "    <tr>\n",
       "      <th>Kuwait</th>\n",
       "      <td>0.012987</td>\n",
       "    </tr>\n",
       "    <tr>\n",
       "      <th>Philippines</th>\n",
       "      <td>0.012987</td>\n",
       "    </tr>\n",
       "    <tr>\n",
       "      <th>...</th>\n",
       "      <td>...</td>\n",
       "    </tr>\n",
       "    <tr>\n",
       "      <th>Denmark</th>\n",
       "      <td>0.002165</td>\n",
       "    </tr>\n",
       "    <tr>\n",
       "      <th>Belarus</th>\n",
       "      <td>0.002165</td>\n",
       "    </tr>\n",
       "    <tr>\n",
       "      <th>Bahrain</th>\n",
       "      <td>0.002165</td>\n",
       "    </tr>\n",
       "    <tr>\n",
       "      <th>Austria</th>\n",
       "      <td>0.002165</td>\n",
       "    </tr>\n",
       "    <tr>\n",
       "      <th>Venezuela</th>\n",
       "      <td>0.002165</td>\n",
       "    </tr>\n",
       "  </tbody>\n",
       "</table>\n",
       "<p>38 rows × 1 columns</p>\n",
       "</div>"
      ],
      "text/plain": [
       "             Proportion\n",
       "Country                \n",
       "USA            0.755411\n",
       "UK             0.058442\n",
       "Japan          0.015152\n",
       "Kuwait         0.012987\n",
       "Philippines    0.012987\n",
       "...                 ...\n",
       "Denmark        0.002165\n",
       "Belarus        0.002165\n",
       "Bahrain        0.002165\n",
       "Austria        0.002165\n",
       "Venezuela      0.002165\n",
       "\n",
       "[38 rows x 1 columns]"
      ]
     },
     "execution_count": 20,
     "metadata": {},
     "output_type": "execute_result"
    }
   ],
   "source": [
    "country_proportions = (\n",
    "    bpd.DataFrame().assign(\n",
    "        Country=np.array(horror.groupby('Country').count().index),\n",
    "        Proportion=np.array(horror.groupby('Country').count().get('Run Time')) / horror.shape[0]\n",
    "    )\n",
    "    .set_index('Country')\n",
    "    .sort_values('Proportion', ascending=False)\n",
    ")\n",
    "country_proportions"
   ]
  },
  {
   "cell_type": "code",
   "execution_count": 21,
   "metadata": {
    "deletable": false,
    "editable": false
   },
   "outputs": [
    {
     "data": {
      "text/html": [
       "<p><strong><pre style='display: inline;'>q1_7</pre></strong> passed!</p>"
      ],
      "text/plain": [
       "q1_7 results: All test cases passed!"
      ]
     },
     "execution_count": 21,
     "metadata": {},
     "output_type": "execute_result"
    }
   ],
   "source": [
    "grader.check(\"q1_7\")"
   ]
  },
  {
   "cell_type": "markdown",
   "metadata": {},
   "source": [
    "**Question 1.8**  Create a horizontal bar chart that displays the **mean** `'Review Rating'` for each country's horror movies. Sort the bars so that the country with the lowest mean appears at the very top and the country with the highest mean appears at the bottom.\n",
    "\n",
    "**_Hints:_** \n",
    "- To get the bar chart to display nicely, try adding the keyword argument `figsize=(10, 10)`.\n",
    "- If your bar chart still doesn't look very nice after setting `figsize=(10, 10)`, make sure you are first calculating the average `'Review Rating'` of each country. You should not be plotting directly from the `horror` DataFrame."
   ]
  },
  {
   "cell_type": "markdown",
   "metadata": {
    "deletable": false,
    "editable": false
   },
   "source": [
    "<!-- BEGIN QUESTION -->\n",
    "\n",
    "<!--\n",
    "BEGIN QUESTION\n",
    "name: q1_8\n",
    "manual: True\n",
    "-->"
   ]
  },
  {
   "cell_type": "code",
   "execution_count": 22,
   "metadata": {
    "scrolled": false
   },
   "outputs": [
    {
     "data": {
      "image/png": "[encoded data removed]",
      "text/plain": [
       "<Figure size 720x720 with 1 Axes>"
      ]
     },
     "metadata": {},
     "output_type": "display_data"
    }
   ],
   "source": [
    "# Create your bar chart here.\n",
    "horror_by_country = (\n",
    "    horror\n",
    "    .groupby('Country')\n",
    "    .mean()\n",
    "    .sort_values('Review Rating', ascending=False)\n",
    ")\n",
    "\n",
    "horror_by_country.plot(kind='barh', y='Review Rating', figsize=(10, 10));"
   ]
  },
  {
   "cell_type": "markdown",
   "metadata": {},
   "source": [
    "<!-- END QUESTION -->\n",
    "\n",
    "\n",
    "\n",
    "## 2. Shine Bright Like a Diamond 💎"
   ]
  },
  {
   "cell_type": "markdown",
   "metadata": {},
   "source": [
    "In this section, we're going to be working alongside Jack the Jeweler to learn more about the diamond business! The data in `data/diamonds.csv` contains details about 10,000 diamonds, including the quality, dimensions, and price. The information about these diamonds can help Jack get a better understanding about what is valued most in the diamond business. The columns are described below:\n",
    "\n",
    "| Column      | Description |\n",
    "| ----------- | ----------- |\n",
    "| `'carat'`      | The number of carats of the diamond       |\n",
    "| `'cut'`   | The cut quality of the diamond   |\n",
    "| `'color'` | The color of the diamond |\n",
    "| `'clarity'` | The clarity of the diamond | \n",
    "| `'price'` | The diamond's price |\n",
    "| `'length'` | The length of the diamond, in mm |\n",
    "| `'width'` | The width of the diamond, in mm |\n",
    "| `'depth'` | The depth of the diamond, in mm |"
   ]
  },
  {
   "cell_type": "markdown",
   "metadata": {},
   "source": [
    "Run the cell below to read in the data."
   ]
  },
  {
   "cell_type": "code",
   "execution_count": 23,
   "metadata": {},
   "outputs": [
    {
     "data": {
      "text/html": [
       "<div>\n",
       "<style scoped>\n",
       "    .dataframe tbody tr th:only-of-type {\n",
       "        vertical-align: middle;\n",
       "    }\n",
       "\n",
       "    .dataframe tbody tr th {\n",
       "        vertical-align: top;\n",
       "    }\n",
       "\n",
       "    .dataframe thead th {\n",
       "        text-align: right;\n",
       "    }\n",
       "</style>\n",
       "<table border=\"1\" class=\"dataframe\">\n",
       "  <thead>\n",
       "    <tr style=\"text-align: right;\">\n",
       "      <th></th>\n",
       "      <th>carat</th>\n",
       "      <th>cut</th>\n",
       "      <th>color</th>\n",
       "      <th>clarity</th>\n",
       "      <th>price</th>\n",
       "      <th>length</th>\n",
       "      <th>width</th>\n",
       "      <th>depth</th>\n",
       "    </tr>\n",
       "  </thead>\n",
       "  <tbody>\n",
       "    <tr>\n",
       "      <th>0</th>\n",
       "      <td>2.04</td>\n",
       "      <td>Very Good</td>\n",
       "      <td>J</td>\n",
       "      <td>SI2</td>\n",
       "      <td>9482</td>\n",
       "      <td>8.07</td>\n",
       "      <td>8.04</td>\n",
       "      <td>5.11</td>\n",
       "    </tr>\n",
       "    <tr>\n",
       "      <th>1</th>\n",
       "      <td>0.59</td>\n",
       "      <td>Very Good</td>\n",
       "      <td>H</td>\n",
       "      <td>VVS2</td>\n",
       "      <td>1771</td>\n",
       "      <td>5.39</td>\n",
       "      <td>5.48</td>\n",
       "      <td>3.32</td>\n",
       "    </tr>\n",
       "    <tr>\n",
       "      <th>2</th>\n",
       "      <td>0.34</td>\n",
       "      <td>Very Good</td>\n",
       "      <td>H</td>\n",
       "      <td>VS2</td>\n",
       "      <td>689</td>\n",
       "      <td>4.45</td>\n",
       "      <td>4.39</td>\n",
       "      <td>2.80</td>\n",
       "    </tr>\n",
       "    <tr>\n",
       "      <th>3</th>\n",
       "      <td>1.01</td>\n",
       "      <td>Good</td>\n",
       "      <td>H</td>\n",
       "      <td>SI2</td>\n",
       "      <td>3888</td>\n",
       "      <td>6.32</td>\n",
       "      <td>6.35</td>\n",
       "      <td>4.05</td>\n",
       "    </tr>\n",
       "    <tr>\n",
       "      <th>4</th>\n",
       "      <td>0.50</td>\n",
       "      <td>Ideal</td>\n",
       "      <td>D</td>\n",
       "      <td>VS2</td>\n",
       "      <td>1635</td>\n",
       "      <td>5.10</td>\n",
       "      <td>5.13</td>\n",
       "      <td>3.19</td>\n",
       "    </tr>\n",
       "    <tr>\n",
       "      <th>...</th>\n",
       "      <td>...</td>\n",
       "      <td>...</td>\n",
       "      <td>...</td>\n",
       "      <td>...</td>\n",
       "      <td>...</td>\n",
       "      <td>...</td>\n",
       "      <td>...</td>\n",
       "      <td>...</td>\n",
       "    </tr>\n",
       "    <tr>\n",
       "      <th>9995</th>\n",
       "      <td>0.32</td>\n",
       "      <td>Premium</td>\n",
       "      <td>G</td>\n",
       "      <td>VS2</td>\n",
       "      <td>561</td>\n",
       "      <td>4.33</td>\n",
       "      <td>4.38</td>\n",
       "      <td>2.70</td>\n",
       "    </tr>\n",
       "    <tr>\n",
       "      <th>9996</th>\n",
       "      <td>0.41</td>\n",
       "      <td>Good</td>\n",
       "      <td>J</td>\n",
       "      <td>IF</td>\n",
       "      <td>1061</td>\n",
       "      <td>4.75</td>\n",
       "      <td>4.72</td>\n",
       "      <td>3.01</td>\n",
       "    </tr>\n",
       "    <tr>\n",
       "      <th>9997</th>\n",
       "      <td>0.30</td>\n",
       "      <td>Ideal</td>\n",
       "      <td>G</td>\n",
       "      <td>VS2</td>\n",
       "      <td>545</td>\n",
       "      <td>4.35</td>\n",
       "      <td>4.38</td>\n",
       "      <td>2.67</td>\n",
       "    </tr>\n",
       "    <tr>\n",
       "      <th>9998</th>\n",
       "      <td>1.25</td>\n",
       "      <td>Premium</td>\n",
       "      <td>J</td>\n",
       "      <td>SI2</td>\n",
       "      <td>4018</td>\n",
       "      <td>6.98</td>\n",
       "      <td>6.95</td>\n",
       "      <td>4.27</td>\n",
       "    </tr>\n",
       "    <tr>\n",
       "      <th>9999</th>\n",
       "      <td>0.34</td>\n",
       "      <td>Ideal</td>\n",
       "      <td>E</td>\n",
       "      <td>VVS1</td>\n",
       "      <td>1014</td>\n",
       "      <td>4.47</td>\n",
       "      <td>4.51</td>\n",
       "      <td>2.78</td>\n",
       "    </tr>\n",
       "  </tbody>\n",
       "</table>\n",
       "<p>10000 rows × 8 columns</p>\n",
       "</div>"
      ],
      "text/plain": [
       "      carat        cut color clarity  price  length  width  depth\n",
       "0      2.04  Very Good     J     SI2   9482    8.07   8.04   5.11\n",
       "1      0.59  Very Good     H    VVS2   1771    5.39   5.48   3.32\n",
       "2      0.34  Very Good     H     VS2    689    4.45   4.39   2.80\n",
       "3      1.01       Good     H     SI2   3888    6.32   6.35   4.05\n",
       "4      0.50      Ideal     D     VS2   1635    5.10   5.13   3.19\n",
       "...     ...        ...   ...     ...    ...     ...    ...    ...\n",
       "9995   0.32    Premium     G     VS2    561    4.33   4.38   2.70\n",
       "9996   0.41       Good     J      IF   1061    4.75   4.72   3.01\n",
       "9997   0.30      Ideal     G     VS2    545    4.35   4.38   2.67\n",
       "9998   1.25    Premium     J     SI2   4018    6.98   6.95   4.27\n",
       "9999   0.34      Ideal     E    VVS1   1014    4.47   4.51   2.78\n",
       "\n",
       "[10000 rows x 8 columns]"
      ]
     },
     "execution_count": 23,
     "metadata": {},
     "output_type": "execute_result"
    }
   ],
   "source": [
    "diamonds_raw = bpd.read_csv('data/diamonds_raw.csv')\n",
    "diamonds_raw"
   ]
  },
  {
   "cell_type": "markdown",
   "metadata": {},
   "source": [
    "**Question 2.1.** One of the first things that Jack learned about when entering the diamond business was the *depth percentage* measurement. The depth percentage of a diamond is ratio of the depth to the mean of the width and length, times 100:\n",
    "\n",
    "$$\\text{depth percentage} =\\dfrac{\\text{depth (in mm)}}{\\text{mean of width and length (in mm)}} \\cdot 100$$\n",
    "    \n",
    "Assign to the variable `depth_percentage` a Series with the depth percentage of each diamond in `diamonds_raw`. Then, add a column named `'depth_percentage'` containing this Series to the `diamonds_raw` DataFrame and save the result as `diamonds`."
   ]
  },
  {
   "cell_type": "code",
   "execution_count": 24,
   "metadata": {},
   "outputs": [
    {
     "data": {
      "text/html": [
       "<div>\n",
       "<style scoped>\n",
       "    .dataframe tbody tr th:only-of-type {\n",
       "        vertical-align: middle;\n",
       "    }\n",
       "\n",
       "    .dataframe tbody tr th {\n",
       "        vertical-align: top;\n",
       "    }\n",
       "\n",
       "    .dataframe thead th {\n",
       "        text-align: right;\n",
       "    }\n",
       "</style>\n",
       "<table border=\"1\" class=\"dataframe\">\n",
       "  <thead>\n",
       "    <tr style=\"text-align: right;\">\n",
       "      <th></th>\n",
       "      <th>carat</th>\n",
       "      <th>cut</th>\n",
       "      <th>color</th>\n",
       "      <th>clarity</th>\n",
       "      <th>price</th>\n",
       "      <th>length</th>\n",
       "      <th>width</th>\n",
       "      <th>depth</th>\n",
       "      <th>depth_percentage</th>\n",
       "    </tr>\n",
       "  </thead>\n",
       "  <tbody>\n",
       "    <tr>\n",
       "      <th>0</th>\n",
       "      <td>2.04</td>\n",
       "      <td>Very Good</td>\n",
       "      <td>J</td>\n",
       "      <td>SI2</td>\n",
       "      <td>9482</td>\n",
       "      <td>8.07</td>\n",
       "      <td>8.04</td>\n",
       "      <td>5.11</td>\n",
       "      <td>63.438858</td>\n",
       "    </tr>\n",
       "    <tr>\n",
       "      <th>1</th>\n",
       "      <td>0.59</td>\n",
       "      <td>Very Good</td>\n",
       "      <td>H</td>\n",
       "      <td>VVS2</td>\n",
       "      <td>1771</td>\n",
       "      <td>5.39</td>\n",
       "      <td>5.48</td>\n",
       "      <td>3.32</td>\n",
       "      <td>61.085557</td>\n",
       "    </tr>\n",
       "    <tr>\n",
       "      <th>2</th>\n",
       "      <td>0.34</td>\n",
       "      <td>Very Good</td>\n",
       "      <td>H</td>\n",
       "      <td>VS2</td>\n",
       "      <td>689</td>\n",
       "      <td>4.45</td>\n",
       "      <td>4.39</td>\n",
       "      <td>2.80</td>\n",
       "      <td>63.348416</td>\n",
       "    </tr>\n",
       "    <tr>\n",
       "      <th>3</th>\n",
       "      <td>1.01</td>\n",
       "      <td>Good</td>\n",
       "      <td>H</td>\n",
       "      <td>SI2</td>\n",
       "      <td>3888</td>\n",
       "      <td>6.32</td>\n",
       "      <td>6.35</td>\n",
       "      <td>4.05</td>\n",
       "      <td>63.930545</td>\n",
       "    </tr>\n",
       "    <tr>\n",
       "      <th>4</th>\n",
       "      <td>0.50</td>\n",
       "      <td>Ideal</td>\n",
       "      <td>D</td>\n",
       "      <td>VS2</td>\n",
       "      <td>1635</td>\n",
       "      <td>5.10</td>\n",
       "      <td>5.13</td>\n",
       "      <td>3.19</td>\n",
       "      <td>62.365591</td>\n",
       "    </tr>\n",
       "    <tr>\n",
       "      <th>...</th>\n",
       "      <td>...</td>\n",
       "      <td>...</td>\n",
       "      <td>...</td>\n",
       "      <td>...</td>\n",
       "      <td>...</td>\n",
       "      <td>...</td>\n",
       "      <td>...</td>\n",
       "      <td>...</td>\n",
       "      <td>...</td>\n",
       "    </tr>\n",
       "    <tr>\n",
       "      <th>9995</th>\n",
       "      <td>0.32</td>\n",
       "      <td>Premium</td>\n",
       "      <td>G</td>\n",
       "      <td>VS2</td>\n",
       "      <td>561</td>\n",
       "      <td>4.33</td>\n",
       "      <td>4.38</td>\n",
       "      <td>2.70</td>\n",
       "      <td>61.997704</td>\n",
       "    </tr>\n",
       "    <tr>\n",
       "      <th>9996</th>\n",
       "      <td>0.41</td>\n",
       "      <td>Good</td>\n",
       "      <td>J</td>\n",
       "      <td>IF</td>\n",
       "      <td>1061</td>\n",
       "      <td>4.75</td>\n",
       "      <td>4.72</td>\n",
       "      <td>3.01</td>\n",
       "      <td>63.569166</td>\n",
       "    </tr>\n",
       "    <tr>\n",
       "      <th>9997</th>\n",
       "      <td>0.30</td>\n",
       "      <td>Ideal</td>\n",
       "      <td>G</td>\n",
       "      <td>VS2</td>\n",
       "      <td>545</td>\n",
       "      <td>4.35</td>\n",
       "      <td>4.38</td>\n",
       "      <td>2.67</td>\n",
       "      <td>61.168385</td>\n",
       "    </tr>\n",
       "    <tr>\n",
       "      <th>9998</th>\n",
       "      <td>1.25</td>\n",
       "      <td>Premium</td>\n",
       "      <td>J</td>\n",
       "      <td>SI2</td>\n",
       "      <td>4018</td>\n",
       "      <td>6.98</td>\n",
       "      <td>6.95</td>\n",
       "      <td>4.27</td>\n",
       "      <td>61.306533</td>\n",
       "    </tr>\n",
       "    <tr>\n",
       "      <th>9999</th>\n",
       "      <td>0.34</td>\n",
       "      <td>Ideal</td>\n",
       "      <td>E</td>\n",
       "      <td>VVS1</td>\n",
       "      <td>1014</td>\n",
       "      <td>4.47</td>\n",
       "      <td>4.51</td>\n",
       "      <td>2.78</td>\n",
       "      <td>61.915367</td>\n",
       "    </tr>\n",
       "  </tbody>\n",
       "</table>\n",
       "<p>10000 rows × 9 columns</p>\n",
       "</div>"
      ],
      "text/plain": [
       "      carat        cut color clarity  price  length  width  depth  \\\n",
       "0      2.04  Very Good     J     SI2   9482    8.07   8.04   5.11   \n",
       "1      0.59  Very Good     H    VVS2   1771    5.39   5.48   3.32   \n",
       "2      0.34  Very Good     H     VS2    689    4.45   4.39   2.80   \n",
       "3      1.01       Good     H     SI2   3888    6.32   6.35   4.05   \n",
       "4      0.50      Ideal     D     VS2   1635    5.10   5.13   3.19   \n",
       "...     ...        ...   ...     ...    ...     ...    ...    ...   \n",
       "9995   0.32    Premium     G     VS2    561    4.33   4.38   2.70   \n",
       "9996   0.41       Good     J      IF   1061    4.75   4.72   3.01   \n",
       "9997   0.30      Ideal     G     VS2    545    4.35   4.38   2.67   \n",
       "9998   1.25    Premium     J     SI2   4018    6.98   6.95   4.27   \n",
       "9999   0.34      Ideal     E    VVS1   1014    4.47   4.51   2.78   \n",
       "\n",
       "      depth_percentage  \n",
       "0            63.438858  \n",
       "1            61.085557  \n",
       "2            63.348416  \n",
       "3            63.930545  \n",
       "4            62.365591  \n",
       "...                ...  \n",
       "9995         61.997704  \n",
       "9996         63.569166  \n",
       "9997         61.168385  \n",
       "9998         61.306533  \n",
       "9999         61.915367  \n",
       "\n",
       "[10000 rows x 9 columns]"
      ]
     },
     "execution_count": 24,
     "metadata": {},
     "output_type": "execute_result"
    }
   ],
   "source": [
    "depth_percentage = (\n",
    "                    diamonds_raw.get('depth') /\n",
    "                    ((diamonds_raw.get('width') + diamonds_raw.get('length')) / 2) \n",
    "                    * 100\n",
    "                   )\n",
    "diamonds = diamonds_raw.assign(\n",
    "               depth_percentage=depth_percentage\n",
    "           )\n",
    "diamonds"
   ]
  },
  {
   "cell_type": "code",
   "execution_count": 25,
   "metadata": {
    "deletable": false,
    "editable": false
   },
   "outputs": [
    {
     "data": {
      "text/html": [
       "<p><strong><pre style='display: inline;'>q2_1</pre></strong> passed!</p>"
      ],
      "text/plain": [
       "q2_1 results: All test cases passed!"
      ]
     },
     "execution_count": 25,
     "metadata": {},
     "output_type": "execute_result"
    }
   ],
   "source": [
    "grader.check(\"q2_1\")"
   ]
  },
  {
   "cell_type": "markdown",
   "metadata": {},
   "source": [
    "Depth percentage is important to jewelers because it determines how light refracts through the stone, which in turn affects the visual appearance of the diamond. Diamonds that are too shallow have grey rings (called 'fish eyes' 🐟 ), and diamonds that are too deep have dark spots in the middle (called 'nail heads' 🔨). The ideal depth percentage for a diamond is between 54 and 66 percent, inclusive. These diamonds really sparkle! ✨"
   ]
  },
  {
   "cell_type": "markdown",
   "metadata": {},
   "source": [
    "<center><img src=images/depth_percentage.jpg width=500>\n",
    "(<a href='https://www.ori-diamonds.com/blog/diamond-depth'>source</a>)</center>"
   ]
  },
  {
   "cell_type": "markdown",
   "metadata": {},
   "source": [
    "**Question 2.2.** Jack is curious about how common ideally proportioned diamonds actually are. Calculate the proportion of diamonds that have an ideal depth percentage (between 54 to 66 percent, inclusive) and set the result to the variable `ideal_prop`."
   ]
  },
  {
   "cell_type": "code",
   "execution_count": 26,
   "metadata": {
    "scrolled": true
   },
   "outputs": [
    {
     "name": "stderr",
     "output_type": "stream",
     "text": [
      "/opt/conda/lib/python3.9/site-packages/babypandas/bpd.py:1608: UserWarning: Boolean Series key will be reindexed to match DataFrame index.\n",
      "  a = func(*vargs, **kwargs)\n"
     ]
    },
    {
     "data": {
      "text/plain": [
       "0.9928"
      ]
     },
     "execution_count": 26,
     "metadata": {},
     "output_type": "execute_result"
    }
   ],
   "source": [
    "ideal_prop = (\n",
    "    diamonds\n",
    "    [diamonds.get('depth_percentage') >= 54]\n",
    "    [diamonds.get('depth_percentage') <= 66] \n",
    "    .get('depth_percentage') \n",
    "    .count() \n",
    "    / diamonds.get('depth_percentage') \n",
    "    .count()\n",
    ")\n",
    "ideal_prop"
   ]
  },
  {
   "cell_type": "code",
   "execution_count": 27,
   "metadata": {
    "deletable": false,
    "editable": false
   },
   "outputs": [
    {
     "data": {
      "text/html": [
       "<p><strong><pre style='display: inline;'>q2_2</pre></strong> passed!</p>"
      ],
      "text/plain": [
       "q2_2 results: All test cases passed!"
      ]
     },
     "execution_count": 27,
     "metadata": {},
     "output_type": "execute_result"
    }
   ],
   "source": [
    "grader.check(\"q2_2\")"
   ]
  },
  {
   "cell_type": "markdown",
   "metadata": {},
   "source": [
    "**Question 2.3.** Jack has been taught that the depth percentage has an impact on the visual impact of a diamond, which he suspects also affects the price. Create a scatter plot showing how the price of a diamond varies with its depth percentage."
   ]
  },
  {
   "cell_type": "markdown",
   "metadata": {
    "deletable": false,
    "editable": false
   },
   "source": [
    "<!-- BEGIN QUESTION -->\n",
    "\n",
    "<!--\n",
    "BEGIN QUESTION\n",
    "name: q2_3\n",
    "manual: True\n",
    "-->"
   ]
  },
  {
   "cell_type": "code",
   "execution_count": 28,
   "metadata": {},
   "outputs": [
    {
     "data": {
      "text/plain": [
       "<AxesSubplot:xlabel='depth_percentage', ylabel='price'>"
      ]
     },
     "execution_count": 28,
     "metadata": {},
     "output_type": "execute_result"
    },
    {
     "data": {
      "image/png": "[encoded data removed]",
      "text/plain": [
       "<Figure size 720x360 with 1 Axes>"
      ]
     },
     "metadata": {},
     "output_type": "display_data"
    }
   ],
   "source": [
    "# Create your scatter plot here.\n",
    "diamonds.plot(kind='scatter', x='depth_percentage', y='price')"
   ]
  },
  {
   "cell_type": "markdown",
   "metadata": {},
   "source": [
    "<!-- END QUESTION -->\n",
    "\n",
    "\n",
    "\n",
    "Hmm... perhaps there's a bit more to diamond pricing than just depth percentage! Jack explains that there are four common measures of the quality of a diamond, sometimes called the 4 C's: `'carat'`, `'cut'`, `'clarity'`, and `'color'`.\n",
    "\n",
    "1) The `'carat'` simply measures the weight of the diamond. \n",
    "\n",
    "2) The `'cut'` is related to the depth proportion, and is considered either Ideal, Premium, Very Good, Good, or Fair (in descending order of quality).\n",
    "\n",
    "3) The `'clarity'` describes whether the diamond has any flaws. In descending order of quality, the values of `'clarity'` in our dataset are `'IF'` (which stands for 'internally flawless'), `'VVS1'`, `'VVS2'`, `'VS1'`, `'VS2'`, `'SI1'`, `'SI2'`, and `'I1'`.\n",
    "\n",
    "<br>\n",
    "\n",
    "<center><img src=images/clarity.jpg width=400>\n",
    "(<a href='https://www.petragems.com/education/diamond-clarity/'>source</a>)</center>\n",
    "\n",
    "4) The `'color'` of each diamond in our dataset is described by a letter between `'D'` and `'J'`, where `'D'` represents a diamond with no color, and `'J'` represents a diamond with some color to it. Diamonds with less color are considered higher quality.\n",
    "\n",
    "<center><img src=images/color.jpg width=200>\n",
    "(<a href='https://bashertjewelry.com/pages/diamonds-color-grading'>source</a>)</center>\n",
    "\n",
    "The `'carat'` column of `diamonds` contains numerical data, but the columns for the other 3 C's contain ordered categorical data. Since the data has an order to it, we can convert the values in those columns into numerical values, to make for easier comparisons. For example, if we assign all the values of `'J'` in the `'color'` column to 1, all the values of `'I'` in the `'color'` column to 2, etc., we'll more easily be able to search for diamonds where the color is better than an `'F'` (we could search for color values greater than 5).\n",
    "\n",
    "For each of `'cut'`, `'clarity'`, and `'color'`, let's translate the data from categorical values to numerical values. For all three of these quality measures, we'll use the number 1 to represent the lowest quality category, and we'll count up from there by one for each category. For example, the numbers for `'clarity'` will range from 1 (for `'I1'`-rated diamonds) to 8 (for internally flawless, or `'IF'`-rated diamonds).\n"
   ]
  },
  {
   "cell_type": "markdown",
   "metadata": {},
   "source": [
    "One way to do this conversion is to use a Python [dictionary](https://www.tutorialspoint.com/python/python_dictionary.htm).  A dictionary is a simple way to map a unique key to a value.  For example, the dictionary below maps course codes to course names."
   ]
  },
  {
   "cell_type": "code",
   "execution_count": 29,
   "metadata": {},
   "outputs": [],
   "source": [
    "dsc_courses = {\n",
    "    # key: value\n",
    "    'DSC 10': 'Principles of Data Science',\n",
    "    'DSC 20': 'Programming and Basic Data Structures for Data Science',\n",
    "    'DSC 30': 'Data Structures and Algorithms for Data Science',\n",
    "    'DSC 40A': 'Theoretical Foundations of Data Science I',\n",
    "    'DSC 40B': 'Theoretical Foundations of Data Science II',\n",
    "    'DSC 80': 'The Practice and Application of Data Science'\n",
    "}"
   ]
  },
  {
   "cell_type": "markdown",
   "metadata": {},
   "source": [
    "We can access the value corresponding to each key using bracket notation."
   ]
  },
  {
   "cell_type": "code",
   "execution_count": 30,
   "metadata": {},
   "outputs": [
    {
     "data": {
      "text/plain": [
       "'Data Structures and Algorithms for Data Science'"
      ]
     },
     "execution_count": 30,
     "metadata": {},
     "output_type": "execute_result"
    }
   ],
   "source": [
    "dsc30_name = dsc_courses['DSC 30']\n",
    "dsc30_name"
   ]
  },
  {
   "cell_type": "markdown",
   "metadata": {},
   "source": [
    "Here, `'DSC 30'` is the key and `'Data Structures and Algorithms for Data Science'` is the value.\n",
    "\n",
    "Use dictionaries to help in categorical to numerical value conversions. For example, below is a dictionary containing each category in `'clarity'` as keys and numbers 1-8 as values."
   ]
  },
  {
   "cell_type": "code",
   "execution_count": 31,
   "metadata": {},
   "outputs": [
    {
     "data": {
      "text/html": [
       "<div>\n",
       "<style scoped>\n",
       "    .dataframe tbody tr th:only-of-type {\n",
       "        vertical-align: middle;\n",
       "    }\n",
       "\n",
       "    .dataframe tbody tr th {\n",
       "        vertical-align: top;\n",
       "    }\n",
       "\n",
       "    .dataframe thead th {\n",
       "        text-align: right;\n",
       "    }\n",
       "</style>\n",
       "<table border=\"1\" class=\"dataframe\">\n",
       "  <thead>\n",
       "    <tr style=\"text-align: right;\">\n",
       "      <th></th>\n",
       "      <th>carat</th>\n",
       "      <th>cut</th>\n",
       "      <th>color</th>\n",
       "      <th>clarity</th>\n",
       "      <th>price</th>\n",
       "      <th>length</th>\n",
       "      <th>width</th>\n",
       "      <th>depth</th>\n",
       "      <th>depth_percentage</th>\n",
       "    </tr>\n",
       "  </thead>\n",
       "  <tbody>\n",
       "    <tr>\n",
       "      <th>0</th>\n",
       "      <td>2.04</td>\n",
       "      <td>Very Good</td>\n",
       "      <td>J</td>\n",
       "      <td>SI2</td>\n",
       "      <td>9482</td>\n",
       "      <td>8.07</td>\n",
       "      <td>8.04</td>\n",
       "      <td>5.11</td>\n",
       "      <td>63.438858</td>\n",
       "    </tr>\n",
       "    <tr>\n",
       "      <th>1</th>\n",
       "      <td>0.59</td>\n",
       "      <td>Very Good</td>\n",
       "      <td>H</td>\n",
       "      <td>VVS2</td>\n",
       "      <td>1771</td>\n",
       "      <td>5.39</td>\n",
       "      <td>5.48</td>\n",
       "      <td>3.32</td>\n",
       "      <td>61.085557</td>\n",
       "    </tr>\n",
       "    <tr>\n",
       "      <th>2</th>\n",
       "      <td>0.34</td>\n",
       "      <td>Very Good</td>\n",
       "      <td>H</td>\n",
       "      <td>VS2</td>\n",
       "      <td>689</td>\n",
       "      <td>4.45</td>\n",
       "      <td>4.39</td>\n",
       "      <td>2.80</td>\n",
       "      <td>63.348416</td>\n",
       "    </tr>\n",
       "    <tr>\n",
       "      <th>3</th>\n",
       "      <td>1.01</td>\n",
       "      <td>Good</td>\n",
       "      <td>H</td>\n",
       "      <td>SI2</td>\n",
       "      <td>3888</td>\n",
       "      <td>6.32</td>\n",
       "      <td>6.35</td>\n",
       "      <td>4.05</td>\n",
       "      <td>63.930545</td>\n",
       "    </tr>\n",
       "    <tr>\n",
       "      <th>4</th>\n",
       "      <td>0.50</td>\n",
       "      <td>Ideal</td>\n",
       "      <td>D</td>\n",
       "      <td>VS2</td>\n",
       "      <td>1635</td>\n",
       "      <td>5.10</td>\n",
       "      <td>5.13</td>\n",
       "      <td>3.19</td>\n",
       "      <td>62.365591</td>\n",
       "    </tr>\n",
       "    <tr>\n",
       "      <th>...</th>\n",
       "      <td>...</td>\n",
       "      <td>...</td>\n",
       "      <td>...</td>\n",
       "      <td>...</td>\n",
       "      <td>...</td>\n",
       "      <td>...</td>\n",
       "      <td>...</td>\n",
       "      <td>...</td>\n",
       "      <td>...</td>\n",
       "    </tr>\n",
       "    <tr>\n",
       "      <th>9995</th>\n",
       "      <td>0.32</td>\n",
       "      <td>Premium</td>\n",
       "      <td>G</td>\n",
       "      <td>VS2</td>\n",
       "      <td>561</td>\n",
       "      <td>4.33</td>\n",
       "      <td>4.38</td>\n",
       "      <td>2.70</td>\n",
       "      <td>61.997704</td>\n",
       "    </tr>\n",
       "    <tr>\n",
       "      <th>9996</th>\n",
       "      <td>0.41</td>\n",
       "      <td>Good</td>\n",
       "      <td>J</td>\n",
       "      <td>IF</td>\n",
       "      <td>1061</td>\n",
       "      <td>4.75</td>\n",
       "      <td>4.72</td>\n",
       "      <td>3.01</td>\n",
       "      <td>63.569166</td>\n",
       "    </tr>\n",
       "    <tr>\n",
       "      <th>9997</th>\n",
       "      <td>0.30</td>\n",
       "      <td>Ideal</td>\n",
       "      <td>G</td>\n",
       "      <td>VS2</td>\n",
       "      <td>545</td>\n",
       "      <td>4.35</td>\n",
       "      <td>4.38</td>\n",
       "      <td>2.67</td>\n",
       "      <td>61.168385</td>\n",
       "    </tr>\n",
       "    <tr>\n",
       "      <th>9998</th>\n",
       "      <td>1.25</td>\n",
       "      <td>Premium</td>\n",
       "      <td>J</td>\n",
       "      <td>SI2</td>\n",
       "      <td>4018</td>\n",
       "      <td>6.98</td>\n",
       "      <td>6.95</td>\n",
       "      <td>4.27</td>\n",
       "      <td>61.306533</td>\n",
       "    </tr>\n",
       "    <tr>\n",
       "      <th>9999</th>\n",
       "      <td>0.34</td>\n",
       "      <td>Ideal</td>\n",
       "      <td>E</td>\n",
       "      <td>VVS1</td>\n",
       "      <td>1014</td>\n",
       "      <td>4.47</td>\n",
       "      <td>4.51</td>\n",
       "      <td>2.78</td>\n",
       "      <td>61.915367</td>\n",
       "    </tr>\n",
       "  </tbody>\n",
       "</table>\n",
       "<p>10000 rows × 9 columns</p>\n",
       "</div>"
      ],
      "text/plain": [
       "      carat        cut color clarity  price  length  width  depth  \\\n",
       "0      2.04  Very Good     J     SI2   9482    8.07   8.04   5.11   \n",
       "1      0.59  Very Good     H    VVS2   1771    5.39   5.48   3.32   \n",
       "2      0.34  Very Good     H     VS2    689    4.45   4.39   2.80   \n",
       "3      1.01       Good     H     SI2   3888    6.32   6.35   4.05   \n",
       "4      0.50      Ideal     D     VS2   1635    5.10   5.13   3.19   \n",
       "...     ...        ...   ...     ...    ...     ...    ...    ...   \n",
       "9995   0.32    Premium     G     VS2    561    4.33   4.38   2.70   \n",
       "9996   0.41       Good     J      IF   1061    4.75   4.72   3.01   \n",
       "9997   0.30      Ideal     G     VS2    545    4.35   4.38   2.67   \n",
       "9998   1.25    Premium     J     SI2   4018    6.98   6.95   4.27   \n",
       "9999   0.34      Ideal     E    VVS1   1014    4.47   4.51   2.78   \n",
       "\n",
       "      depth_percentage  \n",
       "0            63.438858  \n",
       "1            61.085557  \n",
       "2            63.348416  \n",
       "3            63.930545  \n",
       "4            62.365591  \n",
       "...                ...  \n",
       "9995         61.997704  \n",
       "9996         63.569166  \n",
       "9997         61.168385  \n",
       "9998         61.306533  \n",
       "9999         61.915367  \n",
       "\n",
       "[10000 rows x 9 columns]"
      ]
     },
     "execution_count": 31,
     "metadata": {},
     "output_type": "execute_result"
    }
   ],
   "source": [
    "diamonds"
   ]
  },
  {
   "cell_type": "code",
   "execution_count": 32,
   "metadata": {},
   "outputs": [],
   "source": [
    "clarity_nums = {\n",
    "    'IF': 8,\n",
    "    'VVS1': 7,\n",
    "    'VVS2': 6,\n",
    "    'VS1': 5,\n",
    "    'VS2': 4,\n",
    "    'SI1': 3,\n",
    "    'SI2': 2,\n",
    "    'I1': 1\n",
    "}"
   ]
  },
  {
   "cell_type": "code",
   "execution_count": 33,
   "metadata": {},
   "outputs": [],
   "source": [
    "cut_nums = {\n",
    "    'Ideal': 5,\n",
    "    'Premium': 4,\n",
    "    'Very Good': 3,\n",
    "    'Good': 2,\n",
    "    'Fair': 1\n",
    "}"
   ]
  },
  {
   "cell_type": "code",
   "execution_count": 34,
   "metadata": {},
   "outputs": [],
   "source": [
    "color_nums = {\n",
    "    'D': 7,\n",
    "    'E': 6,\n",
    "    'F': 5,\n",
    "    'G': 4,\n",
    "    'H': 3,\n",
    "    'I': 2,\n",
    "    'J': 1\n",
    "}"
   ]
  },
  {
   "cell_type": "markdown",
   "metadata": {},
   "source": [
    "**Question 2.4.** Create three functions, called `cut_numerical`, `clarity_numerical` and `color_numerical`, where each function takes in a string value describing the categorical quality for the `'cut'`, `'clarity'`, or `'color'`, respectively, and outputs the corresponding numerical value, as described above. Remember, for all three of these quality measures, we'll use the number 1 to represent the lowest quality category, and we'll count up from there by one for each category. \n",
    "\n",
    "**_Hint:_**  When implementing `clarity_numerical`, you can use the dictionary `clarity_nums` defined above; if you do so, your implementation of `clarity_numerical` should only take one line of code. When implementing the other two functions, you may want to define your own dictionaries, which can be done inside the functions themselves. There is a way to implement these functions that doesn't involve dictionaries, but you'll find that the dictionary approach is much more concise."
   ]
  },
  {
   "cell_type": "code",
   "execution_count": 35,
   "metadata": {},
   "outputs": [],
   "source": [
    "def cut_numerical(cut):\n",
    "    return cut_nums[cut]\n",
    "    \n",
    "def clarity_numerical(clarity):\n",
    "    return clarity_nums[clarity]\n",
    "\n",
    "def color_numerical(color):\n",
    "    return color_nums[color]"
   ]
  },
  {
   "cell_type": "code",
   "execution_count": 36,
   "metadata": {
    "deletable": false,
    "editable": false
   },
   "outputs": [
    {
     "data": {
      "text/html": [
       "<p><strong><pre style='display: inline;'>q2_4</pre></strong> passed!</p>"
      ],
      "text/plain": [
       "q2_4 results: All test cases passed!"
      ]
     },
     "execution_count": 36,
     "metadata": {},
     "output_type": "execute_result"
    }
   ],
   "source": [
    "grader.check(\"q2_4\")"
   ]
  },
  {
   "cell_type": "markdown",
   "metadata": {},
   "source": [
    "**Question 2.5.** Now, create a DataFrame called `diamonds_numerical` with the same data as `diamonds`, except with the categorical values in the `'cut'`, `'clarity'`, and `'color'` columns replaced with their numerical equivalents.\n",
    "\n",
    "**_Hint:_**  You can use the `.assign` method to **replace** values in a column, without having to create additional columns."
   ]
  },
  {
   "cell_type": "code",
   "execution_count": 37,
   "metadata": {},
   "outputs": [
    {
     "data": {
      "text/html": [
       "<div>\n",
       "<style scoped>\n",
       "    .dataframe tbody tr th:only-of-type {\n",
       "        vertical-align: middle;\n",
       "    }\n",
       "\n",
       "    .dataframe tbody tr th {\n",
       "        vertical-align: top;\n",
       "    }\n",
       "\n",
       "    .dataframe thead th {\n",
       "        text-align: right;\n",
       "    }\n",
       "</style>\n",
       "<table border=\"1\" class=\"dataframe\">\n",
       "  <thead>\n",
       "    <tr style=\"text-align: right;\">\n",
       "      <th></th>\n",
       "      <th>carat</th>\n",
       "      <th>cut</th>\n",
       "      <th>color</th>\n",
       "      <th>clarity</th>\n",
       "      <th>price</th>\n",
       "      <th>length</th>\n",
       "      <th>width</th>\n",
       "      <th>depth</th>\n",
       "      <th>depth_percentage</th>\n",
       "    </tr>\n",
       "  </thead>\n",
       "  <tbody>\n",
       "    <tr>\n",
       "      <th>0</th>\n",
       "      <td>2.04</td>\n",
       "      <td>3</td>\n",
       "      <td>1</td>\n",
       "      <td>2</td>\n",
       "      <td>9482</td>\n",
       "      <td>8.07</td>\n",
       "      <td>8.04</td>\n",
       "      <td>5.11</td>\n",
       "      <td>63.438858</td>\n",
       "    </tr>\n",
       "    <tr>\n",
       "      <th>1</th>\n",
       "      <td>0.59</td>\n",
       "      <td>3</td>\n",
       "      <td>3</td>\n",
       "      <td>6</td>\n",
       "      <td>1771</td>\n",
       "      <td>5.39</td>\n",
       "      <td>5.48</td>\n",
       "      <td>3.32</td>\n",
       "      <td>61.085557</td>\n",
       "    </tr>\n",
       "    <tr>\n",
       "      <th>2</th>\n",
       "      <td>0.34</td>\n",
       "      <td>3</td>\n",
       "      <td>3</td>\n",
       "      <td>4</td>\n",
       "      <td>689</td>\n",
       "      <td>4.45</td>\n",
       "      <td>4.39</td>\n",
       "      <td>2.80</td>\n",
       "      <td>63.348416</td>\n",
       "    </tr>\n",
       "    <tr>\n",
       "      <th>3</th>\n",
       "      <td>1.01</td>\n",
       "      <td>2</td>\n",
       "      <td>3</td>\n",
       "      <td>2</td>\n",
       "      <td>3888</td>\n",
       "      <td>6.32</td>\n",
       "      <td>6.35</td>\n",
       "      <td>4.05</td>\n",
       "      <td>63.930545</td>\n",
       "    </tr>\n",
       "    <tr>\n",
       "      <th>4</th>\n",
       "      <td>0.50</td>\n",
       "      <td>5</td>\n",
       "      <td>7</td>\n",
       "      <td>4</td>\n",
       "      <td>1635</td>\n",
       "      <td>5.10</td>\n",
       "      <td>5.13</td>\n",
       "      <td>3.19</td>\n",
       "      <td>62.365591</td>\n",
       "    </tr>\n",
       "    <tr>\n",
       "      <th>...</th>\n",
       "      <td>...</td>\n",
       "      <td>...</td>\n",
       "      <td>...</td>\n",
       "      <td>...</td>\n",
       "      <td>...</td>\n",
       "      <td>...</td>\n",
       "      <td>...</td>\n",
       "      <td>...</td>\n",
       "      <td>...</td>\n",
       "    </tr>\n",
       "    <tr>\n",
       "      <th>9995</th>\n",
       "      <td>0.32</td>\n",
       "      <td>4</td>\n",
       "      <td>4</td>\n",
       "      <td>4</td>\n",
       "      <td>561</td>\n",
       "      <td>4.33</td>\n",
       "      <td>4.38</td>\n",
       "      <td>2.70</td>\n",
       "      <td>61.997704</td>\n",
       "    </tr>\n",
       "    <tr>\n",
       "      <th>9996</th>\n",
       "      <td>0.41</td>\n",
       "      <td>2</td>\n",
       "      <td>1</td>\n",
       "      <td>8</td>\n",
       "      <td>1061</td>\n",
       "      <td>4.75</td>\n",
       "      <td>4.72</td>\n",
       "      <td>3.01</td>\n",
       "      <td>63.569166</td>\n",
       "    </tr>\n",
       "    <tr>\n",
       "      <th>9997</th>\n",
       "      <td>0.30</td>\n",
       "      <td>5</td>\n",
       "      <td>4</td>\n",
       "      <td>4</td>\n",
       "      <td>545</td>\n",
       "      <td>4.35</td>\n",
       "      <td>4.38</td>\n",
       "      <td>2.67</td>\n",
       "      <td>61.168385</td>\n",
       "    </tr>\n",
       "    <tr>\n",
       "      <th>9998</th>\n",
       "      <td>1.25</td>\n",
       "      <td>4</td>\n",
       "      <td>1</td>\n",
       "      <td>2</td>\n",
       "      <td>4018</td>\n",
       "      <td>6.98</td>\n",
       "      <td>6.95</td>\n",
       "      <td>4.27</td>\n",
       "      <td>61.306533</td>\n",
       "    </tr>\n",
       "    <tr>\n",
       "      <th>9999</th>\n",
       "      <td>0.34</td>\n",
       "      <td>5</td>\n",
       "      <td>6</td>\n",
       "      <td>7</td>\n",
       "      <td>1014</td>\n",
       "      <td>4.47</td>\n",
       "      <td>4.51</td>\n",
       "      <td>2.78</td>\n",
       "      <td>61.915367</td>\n",
       "    </tr>\n",
       "  </tbody>\n",
       "</table>\n",
       "<p>10000 rows × 9 columns</p>\n",
       "</div>"
      ],
      "text/plain": [
       "      carat  cut  color  clarity  price  length  width  depth  \\\n",
       "0      2.04    3      1        2   9482    8.07   8.04   5.11   \n",
       "1      0.59    3      3        6   1771    5.39   5.48   3.32   \n",
       "2      0.34    3      3        4    689    4.45   4.39   2.80   \n",
       "3      1.01    2      3        2   3888    6.32   6.35   4.05   \n",
       "4      0.50    5      7        4   1635    5.10   5.13   3.19   \n",
       "...     ...  ...    ...      ...    ...     ...    ...    ...   \n",
       "9995   0.32    4      4        4    561    4.33   4.38   2.70   \n",
       "9996   0.41    2      1        8   1061    4.75   4.72   3.01   \n",
       "9997   0.30    5      4        4    545    4.35   4.38   2.67   \n",
       "9998   1.25    4      1        2   4018    6.98   6.95   4.27   \n",
       "9999   0.34    5      6        7   1014    4.47   4.51   2.78   \n",
       "\n",
       "      depth_percentage  \n",
       "0            63.438858  \n",
       "1            61.085557  \n",
       "2            63.348416  \n",
       "3            63.930545  \n",
       "4            62.365591  \n",
       "...                ...  \n",
       "9995         61.997704  \n",
       "9996         63.569166  \n",
       "9997         61.168385  \n",
       "9998         61.306533  \n",
       "9999         61.915367  \n",
       "\n",
       "[10000 rows x 9 columns]"
      ]
     },
     "execution_count": 37,
     "metadata": {},
     "output_type": "execute_result"
    }
   ],
   "source": [
    "diamonds_numerical = diamonds.assign(\n",
    "                         cut=diamonds.get('cut').apply(cut_numerical),\n",
    "                         clarity=diamonds.get('clarity').apply(clarity_numerical),\n",
    "                         color=diamonds.get('color').apply(color_numerical)\n",
    "                     )\n",
    "diamonds_numerical"
   ]
  },
  {
   "cell_type": "code",
   "execution_count": 38,
   "metadata": {
    "deletable": false,
    "editable": false
   },
   "outputs": [
    {
     "data": {
      "text/html": [
       "<p><strong><pre style='display: inline;'>q2_5</pre></strong> passed!</p>"
      ],
      "text/plain": [
       "q2_5 results: All test cases passed!"
      ]
     },
     "execution_count": 38,
     "metadata": {},
     "output_type": "execute_result"
    }
   ],
   "source": [
    "grader.check(\"q2_5\")"
   ]
  },
  {
   "cell_type": "markdown",
   "metadata": {},
   "source": [
    "**Question 2.6.** One of Jack's customers comes into Jack's store asking for a diamond whose `'cut'` is `'Premium'` or better, and whose `'color'` is `'E'` or better. The customer can afford a diamond that costs $500 or less. Assign `customer_choices` to a DataFrame of all the diamonds in `diamonds_numerical` that fit the customer's criteria and budget."
   ]
  },
  {
   "cell_type": "code",
   "execution_count": 39,
   "metadata": {},
   "outputs": [
    {
     "name": "stderr",
     "output_type": "stream",
     "text": [
      "/opt/conda/lib/python3.9/site-packages/babypandas/bpd.py:1608: UserWarning: Boolean Series key will be reindexed to match DataFrame index.\n",
      "  a = func(*vargs, **kwargs)\n",
      "/opt/conda/lib/python3.9/site-packages/babypandas/bpd.py:1608: UserWarning: Boolean Series key will be reindexed to match DataFrame index.\n",
      "  a = func(*vargs, **kwargs)\n"
     ]
    },
    {
     "data": {
      "text/html": [
       "<div>\n",
       "<style scoped>\n",
       "    .dataframe tbody tr th:only-of-type {\n",
       "        vertical-align: middle;\n",
       "    }\n",
       "\n",
       "    .dataframe tbody tr th {\n",
       "        vertical-align: top;\n",
       "    }\n",
       "\n",
       "    .dataframe thead th {\n",
       "        text-align: right;\n",
       "    }\n",
       "</style>\n",
       "<table border=\"1\" class=\"dataframe\">\n",
       "  <thead>\n",
       "    <tr style=\"text-align: right;\">\n",
       "      <th></th>\n",
       "      <th>carat</th>\n",
       "      <th>cut</th>\n",
       "      <th>color</th>\n",
       "      <th>clarity</th>\n",
       "      <th>price</th>\n",
       "      <th>length</th>\n",
       "      <th>width</th>\n",
       "      <th>depth</th>\n",
       "      <th>depth_percentage</th>\n",
       "    </tr>\n",
       "  </thead>\n",
       "  <tbody>\n",
       "    <tr>\n",
       "      <th>135</th>\n",
       "      <td>0.20</td>\n",
       "      <td>5</td>\n",
       "      <td>7</td>\n",
       "      <td>4</td>\n",
       "      <td>367</td>\n",
       "      <td>3.81</td>\n",
       "      <td>3.77</td>\n",
       "      <td>2.33</td>\n",
       "      <td>61.477573</td>\n",
       "    </tr>\n",
       "    <tr>\n",
       "      <th>236</th>\n",
       "      <td>0.34</td>\n",
       "      <td>5</td>\n",
       "      <td>6</td>\n",
       "      <td>2</td>\n",
       "      <td>477</td>\n",
       "      <td>4.47</td>\n",
       "      <td>4.50</td>\n",
       "      <td>2.80</td>\n",
       "      <td>62.430323</td>\n",
       "    </tr>\n",
       "    <tr>\n",
       "      <th>689</th>\n",
       "      <td>0.31</td>\n",
       "      <td>4</td>\n",
       "      <td>7</td>\n",
       "      <td>2</td>\n",
       "      <td>462</td>\n",
       "      <td>4.38</td>\n",
       "      <td>4.41</td>\n",
       "      <td>2.64</td>\n",
       "      <td>60.068259</td>\n",
       "    </tr>\n",
       "    <tr>\n",
       "      <th>962</th>\n",
       "      <td>0.20</td>\n",
       "      <td>4</td>\n",
       "      <td>7</td>\n",
       "      <td>4</td>\n",
       "      <td>367</td>\n",
       "      <td>3.73</td>\n",
       "      <td>3.68</td>\n",
       "      <td>2.31</td>\n",
       "      <td>62.348178</td>\n",
       "    </tr>\n",
       "    <tr>\n",
       "      <th>1025</th>\n",
       "      <td>0.34</td>\n",
       "      <td>4</td>\n",
       "      <td>6</td>\n",
       "      <td>2</td>\n",
       "      <td>477</td>\n",
       "      <td>4.49</td>\n",
       "      <td>4.52</td>\n",
       "      <td>2.77</td>\n",
       "      <td>61.487236</td>\n",
       "    </tr>\n",
       "    <tr>\n",
       "      <th>...</th>\n",
       "      <td>...</td>\n",
       "      <td>...</td>\n",
       "      <td>...</td>\n",
       "      <td>...</td>\n",
       "      <td>...</td>\n",
       "      <td>...</td>\n",
       "      <td>...</td>\n",
       "      <td>...</td>\n",
       "      <td>...</td>\n",
       "    </tr>\n",
       "    <tr>\n",
       "      <th>9337</th>\n",
       "      <td>0.32</td>\n",
       "      <td>4</td>\n",
       "      <td>6</td>\n",
       "      <td>1</td>\n",
       "      <td>345</td>\n",
       "      <td>4.38</td>\n",
       "      <td>4.42</td>\n",
       "      <td>2.68</td>\n",
       "      <td>60.909091</td>\n",
       "    </tr>\n",
       "    <tr>\n",
       "      <th>9420</th>\n",
       "      <td>0.21</td>\n",
       "      <td>4</td>\n",
       "      <td>6</td>\n",
       "      <td>2</td>\n",
       "      <td>394</td>\n",
       "      <td>3.84</td>\n",
       "      <td>3.82</td>\n",
       "      <td>2.37</td>\n",
       "      <td>61.879896</td>\n",
       "    </tr>\n",
       "    <tr>\n",
       "      <th>9541</th>\n",
       "      <td>0.31</td>\n",
       "      <td>5</td>\n",
       "      <td>6</td>\n",
       "      <td>2</td>\n",
       "      <td>435</td>\n",
       "      <td>4.34</td>\n",
       "      <td>4.37</td>\n",
       "      <td>2.67</td>\n",
       "      <td>61.308840</td>\n",
       "    </tr>\n",
       "    <tr>\n",
       "      <th>9706</th>\n",
       "      <td>0.33</td>\n",
       "      <td>4</td>\n",
       "      <td>7</td>\n",
       "      <td>2</td>\n",
       "      <td>492</td>\n",
       "      <td>4.39</td>\n",
       "      <td>4.41</td>\n",
       "      <td>2.76</td>\n",
       "      <td>62.727273</td>\n",
       "    </tr>\n",
       "    <tr>\n",
       "      <th>9807</th>\n",
       "      <td>0.22</td>\n",
       "      <td>4</td>\n",
       "      <td>7</td>\n",
       "      <td>4</td>\n",
       "      <td>404</td>\n",
       "      <td>3.91</td>\n",
       "      <td>3.88</td>\n",
       "      <td>2.31</td>\n",
       "      <td>59.306804</td>\n",
       "    </tr>\n",
       "  </tbody>\n",
       "</table>\n",
       "<p>24 rows × 9 columns</p>\n",
       "</div>"
      ],
      "text/plain": [
       "      carat  cut  color  clarity  price  length  width  depth  \\\n",
       "135    0.20    5      7        4    367    3.81   3.77   2.33   \n",
       "236    0.34    5      6        2    477    4.47   4.50   2.80   \n",
       "689    0.31    4      7        2    462    4.38   4.41   2.64   \n",
       "962    0.20    4      7        4    367    3.73   3.68   2.31   \n",
       "1025   0.34    4      6        2    477    4.49   4.52   2.77   \n",
       "...     ...  ...    ...      ...    ...     ...    ...    ...   \n",
       "9337   0.32    4      6        1    345    4.38   4.42   2.68   \n",
       "9420   0.21    4      6        2    394    3.84   3.82   2.37   \n",
       "9541   0.31    5      6        2    435    4.34   4.37   2.67   \n",
       "9706   0.33    4      7        2    492    4.39   4.41   2.76   \n",
       "9807   0.22    4      7        4    404    3.91   3.88   2.31   \n",
       "\n",
       "      depth_percentage  \n",
       "135          61.477573  \n",
       "236          62.430323  \n",
       "689          60.068259  \n",
       "962          62.348178  \n",
       "1025         61.487236  \n",
       "...                ...  \n",
       "9337         60.909091  \n",
       "9420         61.879896  \n",
       "9541         61.308840  \n",
       "9706         62.727273  \n",
       "9807         59.306804  \n",
       "\n",
       "[24 rows x 9 columns]"
      ]
     },
     "execution_count": 39,
     "metadata": {},
     "output_type": "execute_result"
    }
   ],
   "source": [
    "customer_choices = (\n",
    "    diamonds_numerical \n",
    "    [diamonds_numerical.get('cut') >= cut_numerical('Premium')] \n",
    "    [diamonds_numerical.get('color') >= color_numerical('E')] \n",
    "    [diamonds_numerical.get('price') <= 500]\n",
    ")\n",
    "customer_choices"
   ]
  },
  {
   "cell_type": "code",
   "execution_count": 40,
   "metadata": {
    "deletable": false,
    "editable": false
   },
   "outputs": [
    {
     "data": {
      "text/html": [
       "<p><strong><pre style='display: inline;'>q2_6</pre></strong> passed!</p>"
      ],
      "text/plain": [
       "q2_6 results: All test cases passed!"
      ]
     },
     "execution_count": 40,
     "metadata": {},
     "output_type": "execute_result"
    }
   ],
   "source": [
    "grader.check(\"q2_6\")"
   ]
  },
  {
   "cell_type": "markdown",
   "metadata": {},
   "source": [
    "**Question 2.7.** Jack wants you to find out which of the 4 C's is most closely connected to the price of a diamond. Assign an integer from 1 to 4 representing your answer to Jack's question to the variable `best_price_indicator`.\n",
    "\n",
    "1. `'carat'`\n",
    "2. `'cut'`\n",
    "3. `'clarity'`\n",
    "4. `'color'`\n",
    "\n",
    "**_Hint:_**  Use scatter plots to see the relationship of each variable with `'price'`."
   ]
  },
  {
   "cell_type": "code",
   "execution_count": 41,
   "metadata": {},
   "outputs": [
    {
     "data": {
      "image/png": "[encoded data removed]",
      "text/plain": [
       "<Figure size 720x360 with 1 Axes>"
      ]
     },
     "metadata": {},
     "output_type": "display_data"
    }
   ],
   "source": [
    "diamonds_numerical.plot(kind='scatter', y='price', x='carat');"
   ]
  },
  {
   "cell_type": "code",
   "execution_count": 42,
   "metadata": {},
   "outputs": [
    {
     "data": {
      "image/png": "[encoded data removed]",
      "text/plain": [
       "<Figure size 720x360 with 1 Axes>"
      ]
     },
     "metadata": {},
     "output_type": "display_data"
    }
   ],
   "source": [
    "diamonds_numerical.plot(kind='scatter', y='price', x='cut');"
   ]
  },
  {
   "cell_type": "code",
   "execution_count": 43,
   "metadata": {},
   "outputs": [
    {
     "data": {
      "image/png": "[encoded data removed]",
      "text/plain": [
       "<Figure size 720x360 with 1 Axes>"
      ]
     },
     "metadata": {},
     "output_type": "display_data"
    }
   ],
   "source": [
    "diamonds_numerical.plot(kind='scatter', y='price', x='clarity');"
   ]
  },
  {
   "cell_type": "code",
   "execution_count": 44,
   "metadata": {},
   "outputs": [
    {
     "data": {
      "image/png": "[encoded data removed]",
      "text/plain": [
       "<Figure size 720x360 with 1 Axes>"
      ]
     },
     "metadata": {},
     "output_type": "display_data"
    }
   ],
   "source": [
    "diamonds_numerical.plot(kind='scatter', y='price', x='color');"
   ]
  },
  {
   "cell_type": "code",
   "execution_count": 45,
   "metadata": {},
   "outputs": [],
   "source": [
    "best_price_indicator = 1"
   ]
  },
  {
   "cell_type": "code",
   "execution_count": 46,
   "metadata": {
    "deletable": false,
    "editable": false
   },
   "outputs": [
    {
     "data": {
      "text/html": [
       "<p><strong><pre style='display: inline;'>q2_7</pre></strong> passed!</p>"
      ],
      "text/plain": [
       "q2_7 results: All test cases passed!"
      ]
     },
     "execution_count": 46,
     "metadata": {},
     "output_type": "execute_result"
    }
   ],
   "source": [
    "grader.check(\"q2_7\")"
   ]
  },
  {
   "cell_type": "markdown",
   "metadata": {},
   "source": [
    "**Question 2.8.** Jack asks you to show him the median price of a diamond as the length of the diamond (in mm) increases. Since Jack is more of a visuals type of person, he wants you to show him this trend in a graph. Create a plot that shows the trend of the **median** price of a diamond as the length of the diamond increases."
   ]
  },
  {
   "cell_type": "code",
   "execution_count": 47,
   "metadata": {},
   "outputs": [
    {
     "data": {
      "text/html": [
       "<div>\n",
       "<style scoped>\n",
       "    .dataframe tbody tr th:only-of-type {\n",
       "        vertical-align: middle;\n",
       "    }\n",
       "\n",
       "    .dataframe tbody tr th {\n",
       "        vertical-align: top;\n",
       "    }\n",
       "\n",
       "    .dataframe thead th {\n",
       "        text-align: right;\n",
       "    }\n",
       "</style>\n",
       "<table border=\"1\" class=\"dataframe\">\n",
       "  <thead>\n",
       "    <tr style=\"text-align: right;\">\n",
       "      <th></th>\n",
       "      <th>carat</th>\n",
       "      <th>cut</th>\n",
       "      <th>color</th>\n",
       "      <th>clarity</th>\n",
       "      <th>price</th>\n",
       "      <th>length</th>\n",
       "      <th>width</th>\n",
       "      <th>depth</th>\n",
       "      <th>depth_percentage</th>\n",
       "    </tr>\n",
       "  </thead>\n",
       "  <tbody>\n",
       "    <tr>\n",
       "      <th>0</th>\n",
       "      <td>2.04</td>\n",
       "      <td>3</td>\n",
       "      <td>1</td>\n",
       "      <td>2</td>\n",
       "      <td>9482</td>\n",
       "      <td>8.07</td>\n",
       "      <td>8.04</td>\n",
       "      <td>5.11</td>\n",
       "      <td>63.438858</td>\n",
       "    </tr>\n",
       "    <tr>\n",
       "      <th>1</th>\n",
       "      <td>0.59</td>\n",
       "      <td>3</td>\n",
       "      <td>3</td>\n",
       "      <td>6</td>\n",
       "      <td>1771</td>\n",
       "      <td>5.39</td>\n",
       "      <td>5.48</td>\n",
       "      <td>3.32</td>\n",
       "      <td>61.085557</td>\n",
       "    </tr>\n",
       "    <tr>\n",
       "      <th>2</th>\n",
       "      <td>0.34</td>\n",
       "      <td>3</td>\n",
       "      <td>3</td>\n",
       "      <td>4</td>\n",
       "      <td>689</td>\n",
       "      <td>4.45</td>\n",
       "      <td>4.39</td>\n",
       "      <td>2.80</td>\n",
       "      <td>63.348416</td>\n",
       "    </tr>\n",
       "    <tr>\n",
       "      <th>3</th>\n",
       "      <td>1.01</td>\n",
       "      <td>2</td>\n",
       "      <td>3</td>\n",
       "      <td>2</td>\n",
       "      <td>3888</td>\n",
       "      <td>6.32</td>\n",
       "      <td>6.35</td>\n",
       "      <td>4.05</td>\n",
       "      <td>63.930545</td>\n",
       "    </tr>\n",
       "    <tr>\n",
       "      <th>4</th>\n",
       "      <td>0.50</td>\n",
       "      <td>5</td>\n",
       "      <td>7</td>\n",
       "      <td>4</td>\n",
       "      <td>1635</td>\n",
       "      <td>5.10</td>\n",
       "      <td>5.13</td>\n",
       "      <td>3.19</td>\n",
       "      <td>62.365591</td>\n",
       "    </tr>\n",
       "    <tr>\n",
       "      <th>...</th>\n",
       "      <td>...</td>\n",
       "      <td>...</td>\n",
       "      <td>...</td>\n",
       "      <td>...</td>\n",
       "      <td>...</td>\n",
       "      <td>...</td>\n",
       "      <td>...</td>\n",
       "      <td>...</td>\n",
       "      <td>...</td>\n",
       "    </tr>\n",
       "    <tr>\n",
       "      <th>9995</th>\n",
       "      <td>0.32</td>\n",
       "      <td>4</td>\n",
       "      <td>4</td>\n",
       "      <td>4</td>\n",
       "      <td>561</td>\n",
       "      <td>4.33</td>\n",
       "      <td>4.38</td>\n",
       "      <td>2.70</td>\n",
       "      <td>61.997704</td>\n",
       "    </tr>\n",
       "    <tr>\n",
       "      <th>9996</th>\n",
       "      <td>0.41</td>\n",
       "      <td>2</td>\n",
       "      <td>1</td>\n",
       "      <td>8</td>\n",
       "      <td>1061</td>\n",
       "      <td>4.75</td>\n",
       "      <td>4.72</td>\n",
       "      <td>3.01</td>\n",
       "      <td>63.569166</td>\n",
       "    </tr>\n",
       "    <tr>\n",
       "      <th>9997</th>\n",
       "      <td>0.30</td>\n",
       "      <td>5</td>\n",
       "      <td>4</td>\n",
       "      <td>4</td>\n",
       "      <td>545</td>\n",
       "      <td>4.35</td>\n",
       "      <td>4.38</td>\n",
       "      <td>2.67</td>\n",
       "      <td>61.168385</td>\n",
       "    </tr>\n",
       "    <tr>\n",
       "      <th>9998</th>\n",
       "      <td>1.25</td>\n",
       "      <td>4</td>\n",
       "      <td>1</td>\n",
       "      <td>2</td>\n",
       "      <td>4018</td>\n",
       "      <td>6.98</td>\n",
       "      <td>6.95</td>\n",
       "      <td>4.27</td>\n",
       "      <td>61.306533</td>\n",
       "    </tr>\n",
       "    <tr>\n",
       "      <th>9999</th>\n",
       "      <td>0.34</td>\n",
       "      <td>5</td>\n",
       "      <td>6</td>\n",
       "      <td>7</td>\n",
       "      <td>1014</td>\n",
       "      <td>4.47</td>\n",
       "      <td>4.51</td>\n",
       "      <td>2.78</td>\n",
       "      <td>61.915367</td>\n",
       "    </tr>\n",
       "  </tbody>\n",
       "</table>\n",
       "<p>10000 rows × 9 columns</p>\n",
       "</div>"
      ],
      "text/plain": [
       "      carat  cut  color  clarity  price  length  width  depth  \\\n",
       "0      2.04    3      1        2   9482    8.07   8.04   5.11   \n",
       "1      0.59    3      3        6   1771    5.39   5.48   3.32   \n",
       "2      0.34    3      3        4    689    4.45   4.39   2.80   \n",
       "3      1.01    2      3        2   3888    6.32   6.35   4.05   \n",
       "4      0.50    5      7        4   1635    5.10   5.13   3.19   \n",
       "...     ...  ...    ...      ...    ...     ...    ...    ...   \n",
       "9995   0.32    4      4        4    561    4.33   4.38   2.70   \n",
       "9996   0.41    2      1        8   1061    4.75   4.72   3.01   \n",
       "9997   0.30    5      4        4    545    4.35   4.38   2.67   \n",
       "9998   1.25    4      1        2   4018    6.98   6.95   4.27   \n",
       "9999   0.34    5      6        7   1014    4.47   4.51   2.78   \n",
       "\n",
       "      depth_percentage  \n",
       "0            63.438858  \n",
       "1            61.085557  \n",
       "2            63.348416  \n",
       "3            63.930545  \n",
       "4            62.365591  \n",
       "...                ...  \n",
       "9995         61.997704  \n",
       "9996         63.569166  \n",
       "9997         61.168385  \n",
       "9998         61.306533  \n",
       "9999         61.915367  \n",
       "\n",
       "[10000 rows x 9 columns]"
      ]
     },
     "execution_count": 47,
     "metadata": {},
     "output_type": "execute_result"
    }
   ],
   "source": [
    "diamonds_numerical"
   ]
  },
  {
   "cell_type": "markdown",
   "metadata": {
    "deletable": false,
    "editable": false
   },
   "source": [
    "<!-- BEGIN QUESTION -->\n",
    "\n",
    "<!--\n",
    "BEGIN QUESTION\n",
    "name: q2_8\n",
    "manual: True\n",
    "-->"
   ]
  },
  {
   "cell_type": "code",
   "execution_count": 48,
   "metadata": {},
   "outputs": [
    {
     "data": {
      "image/png": "[encoded data removed]",
      "text/plain": [
       "<Figure size 720x360 with 1 Axes>"
      ]
     },
     "metadata": {},
     "output_type": "display_data"
    }
   ],
   "source": [
    "# Create your plot here.\n",
    "# diamonds_numerical.assign(median_price=diamonds_numerical.groupby('length').median().get('price'))#.plot(kind='scatter', y='median_price', x='length');\n",
    "\n",
    "(\n",
    "    diamonds_numerical\n",
    "    .groupby('length')\n",
    "    .median()\n",
    "    .reset_index()\n",
    "    .plot(kind='scatter', x='length', y='price')\n",
    ");\n"
   ]
  },
  {
   "cell_type": "markdown",
   "metadata": {},
   "source": [
    "<!-- END QUESTION -->\n",
    "\n",
    "\n",
    "\n",
    "## 3. As Seen on TV 📺"
   ]
  },
  {
   "cell_type": "markdown",
   "metadata": {},
   "source": [
    "In this section, we'll work with a dataset from [Kaggle](https://www.kaggle.com/datasets/devanshiipatel/imdb-tv-shows/)  containing information about different TV shows, originally obtained from the Internet Movie Database (IMDb). In the cell below, we load the dataset in as a DataFrame named `tv_shows`. Take some time to look at the data in `tv_shows` to see what information is recorded."
   ]
  },
  {
   "cell_type": "code",
   "execution_count": 49,
   "metadata": {},
   "outputs": [
    {
     "data": {
      "text/html": [
       "<div>\n",
       "<style scoped>\n",
       "    .dataframe tbody tr th:only-of-type {\n",
       "        vertical-align: middle;\n",
       "    }\n",
       "\n",
       "    .dataframe tbody tr th {\n",
       "        vertical-align: top;\n",
       "    }\n",
       "\n",
       "    .dataframe thead th {\n",
       "        text-align: right;\n",
       "    }\n",
       "</style>\n",
       "<table border=\"1\" class=\"dataframe\">\n",
       "  <thead>\n",
       "    <tr style=\"text-align: right;\">\n",
       "      <th></th>\n",
       "      <th>Title</th>\n",
       "      <th>About</th>\n",
       "      <th>Genres</th>\n",
       "      <th>Actors</th>\n",
       "      <th>Rating</th>\n",
       "      <th>Votes</th>\n",
       "      <th>Years</th>\n",
       "    </tr>\n",
       "  </thead>\n",
       "  <tbody>\n",
       "    <tr>\n",
       "      <th>0</th>\n",
       "      <td>The Family Man</td>\n",
       "      <td>A working man from the National Investigation ...</td>\n",
       "      <td>Action, Comedy, Drama</td>\n",
       "      <td>Manoj Bajpayee, Samantha Akkineni, Priyamani, ...</td>\n",
       "      <td>8.8</td>\n",
       "      <td>57632</td>\n",
       "      <td>2019–</td>\n",
       "    </tr>\n",
       "    <tr>\n",
       "      <th>1</th>\n",
       "      <td>Lucifer</td>\n",
       "      <td>Lucifer Morningstar has decided he's had enoug...</td>\n",
       "      <td>Crime, Drama, Fantasy</td>\n",
       "      <td>Tom Ellis, Lauren German, Lesley-Ann Brandt, K...</td>\n",
       "      <td>8.1</td>\n",
       "      <td>252826</td>\n",
       "      <td>2016–</td>\n",
       "    </tr>\n",
       "    <tr>\n",
       "      <th>2</th>\n",
       "      <td>The Handmaid's Tale</td>\n",
       "      <td>Set in a dystopian future, a woman is forced t...</td>\n",
       "      <td>Drama, Sci-Fi, Thriller</td>\n",
       "      <td>Elisabeth Moss, Yvonne Strahovski, Joseph Fien...</td>\n",
       "      <td>8.4</td>\n",
       "      <td>187007</td>\n",
       "      <td>2017–</td>\n",
       "    </tr>\n",
       "    <tr>\n",
       "      <th>3</th>\n",
       "      <td>StartUp</td>\n",
       "      <td>A desperate banker, a Haitian-American gang lo...</td>\n",
       "      <td>Crime, Thriller</td>\n",
       "      <td>Adam Brody, Edi Gathegi, Otmara Marrero, Krist...</td>\n",
       "      <td>8.0</td>\n",
       "      <td>18165</td>\n",
       "      <td>2016–2018</td>\n",
       "    </tr>\n",
       "    <tr>\n",
       "      <th>4</th>\n",
       "      <td>Game of Thrones</td>\n",
       "      <td>Nine noble families fight for control over the...</td>\n",
       "      <td>Action, Adventure, Drama</td>\n",
       "      <td>Emilia Clarke, Peter Dinklage, Kit Harington, ...</td>\n",
       "      <td>9.3</td>\n",
       "      <td>1823966</td>\n",
       "      <td>2011–2019</td>\n",
       "    </tr>\n",
       "    <tr>\n",
       "      <th>...</th>\n",
       "      <td>...</td>\n",
       "      <td>...</td>\n",
       "      <td>...</td>\n",
       "      <td>...</td>\n",
       "      <td>...</td>\n",
       "      <td>...</td>\n",
       "      <td>...</td>\n",
       "    </tr>\n",
       "    <tr>\n",
       "      <th>2826</th>\n",
       "      <td>A Drop of True Blood</td>\n",
       "      <td>A kids' show centered around a special agent-i...</td>\n",
       "      <td>Short, Drama, Fantasy</td>\n",
       "      <td>Claudia Abrego, Ryan Kwanten, Stephen Moyer, A...</td>\n",
       "      <td>8.1</td>\n",
       "      <td>572</td>\n",
       "      <td>2010–</td>\n",
       "    </tr>\n",
       "    <tr>\n",
       "      <th>2827</th>\n",
       "      <td>Yu-Gi-Oh! GX</td>\n",
       "      <td>An anthology series in which each episode is a...</td>\n",
       "      <td>Animation, Action, Adventure</td>\n",
       "      <td>Matthew Labyorteaux, Wayne Grayson, Tony Saler...</td>\n",
       "      <td>6.8</td>\n",
       "      <td>4115</td>\n",
       "      <td>2004–2008</td>\n",
       "    </tr>\n",
       "    <tr>\n",
       "      <th>2828</th>\n",
       "      <td>Special Agent Oso</td>\n",
       "      <td>Four teenage heroes-for-hire warp through the ...</td>\n",
       "      <td>Animation, Action, Adventure</td>\n",
       "      <td>Meghan Strange, Gary Anthony Williams, Sean As...</td>\n",
       "      <td>5.2</td>\n",
       "      <td>475</td>\n",
       "      <td>2009–2012</td>\n",
       "    </tr>\n",
       "    <tr>\n",
       "      <th>2829</th>\n",
       "      <td>Metal Hurlant Chronicles</td>\n",
       "      <td>An expose on the U.S. government's secret prog...</td>\n",
       "      <td>Action, Sci-Fi</td>\n",
       "      <td>Scott Adkins, Karl E. Landler, Dominique Pinon...</td>\n",
       "      <td>5.8</td>\n",
       "      <td>1630</td>\n",
       "      <td>2012–2014</td>\n",
       "    </tr>\n",
       "    <tr>\n",
       "      <th>2830</th>\n",
       "      <td>Bravest Warriors</td>\n",
       "      <td>The adventures of young H.G. Wells and his tim...</td>\n",
       "      <td>Animation, Action, Adventure</td>\n",
       "      <td>Liliana Mumy, John Omohundro, Ian Jones-Quarte...</td>\n",
       "      <td>8.1</td>\n",
       "      <td>3187</td>\n",
       "      <td>2012–</td>\n",
       "    </tr>\n",
       "  </tbody>\n",
       "</table>\n",
       "<p>2831 rows × 7 columns</p>\n",
       "</div>"
      ],
      "text/plain": [
       "                         Title  \\\n",
       "0               The Family Man   \n",
       "1                      Lucifer   \n",
       "2          The Handmaid's Tale   \n",
       "3                      StartUp   \n",
       "4              Game of Thrones   \n",
       "...                        ...   \n",
       "2826      A Drop of True Blood   \n",
       "2827              Yu-Gi-Oh! GX   \n",
       "2828         Special Agent Oso   \n",
       "2829  Metal Hurlant Chronicles   \n",
       "2830          Bravest Warriors   \n",
       "\n",
       "                                                  About  \\\n",
       "0     A working man from the National Investigation ...   \n",
       "1     Lucifer Morningstar has decided he's had enoug...   \n",
       "2     Set in a dystopian future, a woman is forced t...   \n",
       "3     A desperate banker, a Haitian-American gang lo...   \n",
       "4     Nine noble families fight for control over the...   \n",
       "...                                                 ...   \n",
       "2826  A kids' show centered around a special agent-i...   \n",
       "2827  An anthology series in which each episode is a...   \n",
       "2828  Four teenage heroes-for-hire warp through the ...   \n",
       "2829  An expose on the U.S. government's secret prog...   \n",
       "2830  The adventures of young H.G. Wells and his tim...   \n",
       "\n",
       "                            Genres  \\\n",
       "0            Action, Comedy, Drama   \n",
       "1            Crime, Drama, Fantasy   \n",
       "2          Drama, Sci-Fi, Thriller   \n",
       "3                  Crime, Thriller   \n",
       "4         Action, Adventure, Drama   \n",
       "...                            ...   \n",
       "2826         Short, Drama, Fantasy   \n",
       "2827  Animation, Action, Adventure   \n",
       "2828  Animation, Action, Adventure   \n",
       "2829                Action, Sci-Fi   \n",
       "2830  Animation, Action, Adventure   \n",
       "\n",
       "                                                 Actors  Rating    Votes  \\\n",
       "0     Manoj Bajpayee, Samantha Akkineni, Priyamani, ...     8.8    57632   \n",
       "1     Tom Ellis, Lauren German, Lesley-Ann Brandt, K...     8.1   252826   \n",
       "2     Elisabeth Moss, Yvonne Strahovski, Joseph Fien...     8.4   187007   \n",
       "3     Adam Brody, Edi Gathegi, Otmara Marrero, Krist...     8.0    18165   \n",
       "4     Emilia Clarke, Peter Dinklage, Kit Harington, ...     9.3  1823966   \n",
       "...                                                 ...     ...      ...   \n",
       "2826  Claudia Abrego, Ryan Kwanten, Stephen Moyer, A...     8.1      572   \n",
       "2827  Matthew Labyorteaux, Wayne Grayson, Tony Saler...     6.8     4115   \n",
       "2828  Meghan Strange, Gary Anthony Williams, Sean As...     5.2      475   \n",
       "2829  Scott Adkins, Karl E. Landler, Dominique Pinon...     5.8     1630   \n",
       "2830  Liliana Mumy, John Omohundro, Ian Jones-Quarte...     8.1     3187   \n",
       "\n",
       "          Years  \n",
       "0        2019–   \n",
       "1        2016–   \n",
       "2        2017–   \n",
       "3     2016–2018  \n",
       "4     2011–2019  \n",
       "...         ...  \n",
       "2826     2010–   \n",
       "2827  2004–2008  \n",
       "2828  2009–2012  \n",
       "2829  2012–2014  \n",
       "2830     2012–   \n",
       "\n",
       "[2831 rows x 7 columns]"
      ]
     },
     "execution_count": 49,
     "metadata": {},
     "output_type": "execute_result"
    }
   ],
   "source": [
    "# Run this cell to load the dataset.\n",
    "tv_shows = bpd.read_csv('data/tv_shows.csv')\n",
    "tv_shows"
   ]
  },
  {
   "cell_type": "markdown",
   "metadata": {},
   "source": [
    "**Question 3.1.** If you look at the `'Years'` column in the DataFrame, you'll notice that most of the year ranges are separated by en dashes (`–`). Note that if a show was still on air at the time of data collection, its value in the `'Years'` column will end with an en dash. For example, in the first row of the DataFrame, the value in the `'Years'` column is `'2019–'`, meaning that the show has been airing since 2019. The presence of en dashes indicates that the `'Years'` column contains strings, not ints, since Python never displays ints separated by en dashes.\n",
    "\n",
    "Complete the implementation of the function `extract_start_year_as_int`, which takes as input a string `v` representing a year range, like the values listed in the DataFrame above, and outputs the start year of `v` as an int. For example, passing in the string `'2016–2018'` to the function should return the int `2016`.\n",
    "\n",
    "Then, use your function to add a column called `'StartYear'` to the `tv_shows` DataFrame that contains the start year of each show as an integer. Make sure to 'save' your changes in the `tv_shows` DataFrame!\n",
    "\n",
    "\n",
    "**_Hints:_** \n",
    "- En dashes (`–`) are **not** the same as hyphens (`-`)! The easiest way to get an en dash is to **copy it from here**: `–`.\n",
    "- The string method [`.split()`](https://docs.python.org/3/library/stdtypes.html#str.split) will be helpful.\n"
   ]
  },
  {
   "cell_type": "code",
   "execution_count": 50,
   "metadata": {},
   "outputs": [],
   "source": [
    "def extract_start_year_as_int(v):\n",
    "    return int(v.replace('–', ' ').split()[0])"
   ]
  },
  {
   "cell_type": "code",
   "execution_count": 51,
   "metadata": {},
   "outputs": [
    {
     "data": {
      "text/html": [
       "<div>\n",
       "<style scoped>\n",
       "    .dataframe tbody tr th:only-of-type {\n",
       "        vertical-align: middle;\n",
       "    }\n",
       "\n",
       "    .dataframe tbody tr th {\n",
       "        vertical-align: top;\n",
       "    }\n",
       "\n",
       "    .dataframe thead th {\n",
       "        text-align: right;\n",
       "    }\n",
       "</style>\n",
       "<table border=\"1\" class=\"dataframe\">\n",
       "  <thead>\n",
       "    <tr style=\"text-align: right;\">\n",
       "      <th></th>\n",
       "      <th>Title</th>\n",
       "      <th>About</th>\n",
       "      <th>Genres</th>\n",
       "      <th>Actors</th>\n",
       "      <th>Rating</th>\n",
       "      <th>Votes</th>\n",
       "      <th>Years</th>\n",
       "      <th>StartYear</th>\n",
       "    </tr>\n",
       "  </thead>\n",
       "  <tbody>\n",
       "    <tr>\n",
       "      <th>0</th>\n",
       "      <td>The Family Man</td>\n",
       "      <td>A working man from the National Investigation ...</td>\n",
       "      <td>Action, Comedy, Drama</td>\n",
       "      <td>Manoj Bajpayee, Samantha Akkineni, Priyamani, ...</td>\n",
       "      <td>8.8</td>\n",
       "      <td>57632</td>\n",
       "      <td>2019–</td>\n",
       "      <td>2019</td>\n",
       "    </tr>\n",
       "    <tr>\n",
       "      <th>1</th>\n",
       "      <td>Lucifer</td>\n",
       "      <td>Lucifer Morningstar has decided he's had enoug...</td>\n",
       "      <td>Crime, Drama, Fantasy</td>\n",
       "      <td>Tom Ellis, Lauren German, Lesley-Ann Brandt, K...</td>\n",
       "      <td>8.1</td>\n",
       "      <td>252826</td>\n",
       "      <td>2016–</td>\n",
       "      <td>2016</td>\n",
       "    </tr>\n",
       "    <tr>\n",
       "      <th>2</th>\n",
       "      <td>The Handmaid's Tale</td>\n",
       "      <td>Set in a dystopian future, a woman is forced t...</td>\n",
       "      <td>Drama, Sci-Fi, Thriller</td>\n",
       "      <td>Elisabeth Moss, Yvonne Strahovski, Joseph Fien...</td>\n",
       "      <td>8.4</td>\n",
       "      <td>187007</td>\n",
       "      <td>2017–</td>\n",
       "      <td>2017</td>\n",
       "    </tr>\n",
       "    <tr>\n",
       "      <th>3</th>\n",
       "      <td>StartUp</td>\n",
       "      <td>A desperate banker, a Haitian-American gang lo...</td>\n",
       "      <td>Crime, Thriller</td>\n",
       "      <td>Adam Brody, Edi Gathegi, Otmara Marrero, Krist...</td>\n",
       "      <td>8.0</td>\n",
       "      <td>18165</td>\n",
       "      <td>2016–2018</td>\n",
       "      <td>2016</td>\n",
       "    </tr>\n",
       "    <tr>\n",
       "      <th>4</th>\n",
       "      <td>Game of Thrones</td>\n",
       "      <td>Nine noble families fight for control over the...</td>\n",
       "      <td>Action, Adventure, Drama</td>\n",
       "      <td>Emilia Clarke, Peter Dinklage, Kit Harington, ...</td>\n",
       "      <td>9.3</td>\n",
       "      <td>1823966</td>\n",
       "      <td>2011–2019</td>\n",
       "      <td>2011</td>\n",
       "    </tr>\n",
       "    <tr>\n",
       "      <th>...</th>\n",
       "      <td>...</td>\n",
       "      <td>...</td>\n",
       "      <td>...</td>\n",
       "      <td>...</td>\n",
       "      <td>...</td>\n",
       "      <td>...</td>\n",
       "      <td>...</td>\n",
       "      <td>...</td>\n",
       "    </tr>\n",
       "    <tr>\n",
       "      <th>2826</th>\n",
       "      <td>A Drop of True Blood</td>\n",
       "      <td>A kids' show centered around a special agent-i...</td>\n",
       "      <td>Short, Drama, Fantasy</td>\n",
       "      <td>Claudia Abrego, Ryan Kwanten, Stephen Moyer, A...</td>\n",
       "      <td>8.1</td>\n",
       "      <td>572</td>\n",
       "      <td>2010–</td>\n",
       "      <td>2010</td>\n",
       "    </tr>\n",
       "    <tr>\n",
       "      <th>2827</th>\n",
       "      <td>Yu-Gi-Oh! GX</td>\n",
       "      <td>An anthology series in which each episode is a...</td>\n",
       "      <td>Animation, Action, Adventure</td>\n",
       "      <td>Matthew Labyorteaux, Wayne Grayson, Tony Saler...</td>\n",
       "      <td>6.8</td>\n",
       "      <td>4115</td>\n",
       "      <td>2004–2008</td>\n",
       "      <td>2004</td>\n",
       "    </tr>\n",
       "    <tr>\n",
       "      <th>2828</th>\n",
       "      <td>Special Agent Oso</td>\n",
       "      <td>Four teenage heroes-for-hire warp through the ...</td>\n",
       "      <td>Animation, Action, Adventure</td>\n",
       "      <td>Meghan Strange, Gary Anthony Williams, Sean As...</td>\n",
       "      <td>5.2</td>\n",
       "      <td>475</td>\n",
       "      <td>2009–2012</td>\n",
       "      <td>2009</td>\n",
       "    </tr>\n",
       "    <tr>\n",
       "      <th>2829</th>\n",
       "      <td>Metal Hurlant Chronicles</td>\n",
       "      <td>An expose on the U.S. government's secret prog...</td>\n",
       "      <td>Action, Sci-Fi</td>\n",
       "      <td>Scott Adkins, Karl E. Landler, Dominique Pinon...</td>\n",
       "      <td>5.8</td>\n",
       "      <td>1630</td>\n",
       "      <td>2012–2014</td>\n",
       "      <td>2012</td>\n",
       "    </tr>\n",
       "    <tr>\n",
       "      <th>2830</th>\n",
       "      <td>Bravest Warriors</td>\n",
       "      <td>The adventures of young H.G. Wells and his tim...</td>\n",
       "      <td>Animation, Action, Adventure</td>\n",
       "      <td>Liliana Mumy, John Omohundro, Ian Jones-Quarte...</td>\n",
       "      <td>8.1</td>\n",
       "      <td>3187</td>\n",
       "      <td>2012–</td>\n",
       "      <td>2012</td>\n",
       "    </tr>\n",
       "  </tbody>\n",
       "</table>\n",
       "<p>2831 rows × 8 columns</p>\n",
       "</div>"
      ],
      "text/plain": [
       "                         Title  \\\n",
       "0               The Family Man   \n",
       "1                      Lucifer   \n",
       "2          The Handmaid's Tale   \n",
       "3                      StartUp   \n",
       "4              Game of Thrones   \n",
       "...                        ...   \n",
       "2826      A Drop of True Blood   \n",
       "2827              Yu-Gi-Oh! GX   \n",
       "2828         Special Agent Oso   \n",
       "2829  Metal Hurlant Chronicles   \n",
       "2830          Bravest Warriors   \n",
       "\n",
       "                                                  About  \\\n",
       "0     A working man from the National Investigation ...   \n",
       "1     Lucifer Morningstar has decided he's had enoug...   \n",
       "2     Set in a dystopian future, a woman is forced t...   \n",
       "3     A desperate banker, a Haitian-American gang lo...   \n",
       "4     Nine noble families fight for control over the...   \n",
       "...                                                 ...   \n",
       "2826  A kids' show centered around a special agent-i...   \n",
       "2827  An anthology series in which each episode is a...   \n",
       "2828  Four teenage heroes-for-hire warp through the ...   \n",
       "2829  An expose on the U.S. government's secret prog...   \n",
       "2830  The adventures of young H.G. Wells and his tim...   \n",
       "\n",
       "                            Genres  \\\n",
       "0            Action, Comedy, Drama   \n",
       "1            Crime, Drama, Fantasy   \n",
       "2          Drama, Sci-Fi, Thriller   \n",
       "3                  Crime, Thriller   \n",
       "4         Action, Adventure, Drama   \n",
       "...                            ...   \n",
       "2826         Short, Drama, Fantasy   \n",
       "2827  Animation, Action, Adventure   \n",
       "2828  Animation, Action, Adventure   \n",
       "2829                Action, Sci-Fi   \n",
       "2830  Animation, Action, Adventure   \n",
       "\n",
       "                                                 Actors  Rating    Votes  \\\n",
       "0     Manoj Bajpayee, Samantha Akkineni, Priyamani, ...     8.8    57632   \n",
       "1     Tom Ellis, Lauren German, Lesley-Ann Brandt, K...     8.1   252826   \n",
       "2     Elisabeth Moss, Yvonne Strahovski, Joseph Fien...     8.4   187007   \n",
       "3     Adam Brody, Edi Gathegi, Otmara Marrero, Krist...     8.0    18165   \n",
       "4     Emilia Clarke, Peter Dinklage, Kit Harington, ...     9.3  1823966   \n",
       "...                                                 ...     ...      ...   \n",
       "2826  Claudia Abrego, Ryan Kwanten, Stephen Moyer, A...     8.1      572   \n",
       "2827  Matthew Labyorteaux, Wayne Grayson, Tony Saler...     6.8     4115   \n",
       "2828  Meghan Strange, Gary Anthony Williams, Sean As...     5.2      475   \n",
       "2829  Scott Adkins, Karl E. Landler, Dominique Pinon...     5.8     1630   \n",
       "2830  Liliana Mumy, John Omohundro, Ian Jones-Quarte...     8.1     3187   \n",
       "\n",
       "          Years  StartYear  \n",
       "0        2019–        2019  \n",
       "1        2016–        2016  \n",
       "2        2017–        2017  \n",
       "3     2016–2018       2016  \n",
       "4     2011–2019       2011  \n",
       "...         ...        ...  \n",
       "2826     2010–        2010  \n",
       "2827  2004–2008       2004  \n",
       "2828  2009–2012       2009  \n",
       "2829  2012–2014       2012  \n",
       "2830     2012–        2012  \n",
       "\n",
       "[2831 rows x 8 columns]"
      ]
     },
     "execution_count": 51,
     "metadata": {},
     "output_type": "execute_result"
    }
   ],
   "source": [
    "tv_shows = tv_shows.assign(\n",
    "               StartYear=tv_shows.get('Years').apply(extract_start_year_as_int)\n",
    "           )\n",
    "tv_shows"
   ]
  },
  {
   "cell_type": "code",
   "execution_count": 52,
   "metadata": {
    "deletable": false,
    "editable": false
   },
   "outputs": [
    {
     "data": {
      "text/html": [
       "<p><strong><pre style='display: inline;'>q3_1</pre></strong> passed!</p>"
      ],
      "text/plain": [
       "q3_1 results: All test cases passed!"
      ]
     },
     "execution_count": 52,
     "metadata": {},
     "output_type": "execute_result"
    }
   ],
   "source": [
    "grader.check(\"q3_1\")"
   ]
  },
  {
   "cell_type": "markdown",
   "metadata": {},
   "source": [
    "**Question 3.2.** You've been starting to feel that TV shows are just not as good as they used to be.  Create an appropriate plot that shows the relationship between the `'StartYear'` and the `'Rating'` of each show in `tv_shows`."
   ]
  },
  {
   "cell_type": "code",
   "execution_count": 53,
   "metadata": {},
   "outputs": [
    {
     "data": {
      "image/png": "[encoded data removed]",
      "text/plain": [
       "<Figure size 720x360 with 1 Axes>"
      ]
     },
     "metadata": {},
     "output_type": "display_data"
    }
   ],
   "source": [
    "# Create your plot here.\n",
    "tv_shows.plot(kind='scatter', x='StartYear', y='Rating');"
   ]
  },
  {
   "cell_type": "markdown",
   "metadata": {},
   "source": [
    "Unfortunately, this plot is not very informative. Instead, make a plot that shows how the **median** `'Rating'` of all shows from a given `'StartYear'` has changed over time. "
   ]
  },
  {
   "cell_type": "code",
   "execution_count": 54,
   "metadata": {
    "scrolled": true
   },
   "outputs": [
    {
     "data": {
      "image/png": "[encoded data removed]",
      "text/plain": [
       "<Figure size 720x360 with 1 Axes>"
      ]
     },
     "metadata": {},
     "output_type": "display_data"
    }
   ],
   "source": [
    "# Create your plot here\n",
    "median_rating = (\n",
    "    tv_shows\n",
    "    .groupby('StartYear')\n",
    "    .median()\n",
    ")\n",
    "\n",
    "median_rating.reset_index().plot(kind='line', x='StartYear', y='Rating');"
   ]
  },
  {
   "cell_type": "markdown",
   "metadata": {},
   "source": [
    "Now, use the second plot you made to determine whether TV shows are as good as they used to be. Choose the most accurate statement below and assign an integer from 1 to 3 to the variable `q3_2`.\n",
    "\n",
    "1. TV shows have been getting worse since 2000.\n",
    "2. TV shows were getting worse until 2005, and since then, they have improved.\n",
    "3. TV shows have been getting worse since 2005."
   ]
  },
  {
   "cell_type": "code",
   "execution_count": 55,
   "metadata": {},
   "outputs": [
    {
     "data": {
      "text/plain": [
       "3"
      ]
     },
     "execution_count": 55,
     "metadata": {},
     "output_type": "execute_result"
    }
   ],
   "source": [
    "q3_2 = 3\n",
    "q3_2"
   ]
  },
  {
   "cell_type": "code",
   "execution_count": 56,
   "metadata": {
    "deletable": false,
    "editable": false
   },
   "outputs": [
    {
     "data": {
      "text/html": [
       "<p><strong><pre style='display: inline;'>q3_2</pre></strong> passed!</p>"
      ],
      "text/plain": [
       "q3_2 results: All test cases passed!"
      ]
     },
     "execution_count": 56,
     "metadata": {},
     "output_type": "execute_result"
    }
   ],
   "source": [
    "grader.check(\"q3_2\")"
   ]
  },
  {
   "cell_type": "markdown",
   "metadata": {},
   "source": [
    "**Question 3.3.** Assign `most_common_genres` to a DataFrame that contains the five most common genre combinations of TV shows in our dataset, in descending order of popularity. The DataFrame should be indexed by `'Genres'` and have only one column, `'Count'`, which is the number of TV shows of that genre combination.\n",
    "\n",
    "**_Note:_**  For this question, each TV show is assicated with one set of genres, which determines its genre combination. For example, `'Action, Adventure, Drama'` is one genre combination. `'Comedy'`, by itself, is another genre combination."
   ]
  },
  {
   "cell_type": "code",
   "execution_count": 57,
   "metadata": {
    "scrolled": true
   },
   "outputs": [
    {
     "data": {
      "text/html": [
       "<div>\n",
       "<style scoped>\n",
       "    .dataframe tbody tr th:only-of-type {\n",
       "        vertical-align: middle;\n",
       "    }\n",
       "\n",
       "    .dataframe tbody tr th {\n",
       "        vertical-align: top;\n",
       "    }\n",
       "\n",
       "    .dataframe thead th {\n",
       "        text-align: right;\n",
       "    }\n",
       "</style>\n",
       "<table border=\"1\" class=\"dataframe\">\n",
       "  <thead>\n",
       "    <tr style=\"text-align: right;\">\n",
       "      <th></th>\n",
       "      <th>Count</th>\n",
       "    </tr>\n",
       "    <tr>\n",
       "      <th>Genres</th>\n",
       "      <th></th>\n",
       "    </tr>\n",
       "  </thead>\n",
       "  <tbody>\n",
       "    <tr>\n",
       "      <th>Comedy</th>\n",
       "      <td>270</td>\n",
       "    </tr>\n",
       "    <tr>\n",
       "      <th>Drama</th>\n",
       "      <td>180</td>\n",
       "    </tr>\n",
       "    <tr>\n",
       "      <th>Crime, Drama, Mystery</th>\n",
       "      <td>173</td>\n",
       "    </tr>\n",
       "    <tr>\n",
       "      <th>Animation, Action, Adventure</th>\n",
       "      <td>142</td>\n",
       "    </tr>\n",
       "    <tr>\n",
       "      <th>Comedy, Drama</th>\n",
       "      <td>107</td>\n",
       "    </tr>\n",
       "  </tbody>\n",
       "</table>\n",
       "</div>"
      ],
      "text/plain": [
       "                              Count\n",
       "Genres                             \n",
       "Comedy                          270\n",
       "Drama                           180\n",
       "Crime, Drama, Mystery           173\n",
       "Animation, Action, Adventure    142\n",
       "Comedy, Drama                   107"
      ]
     },
     "execution_count": 57,
     "metadata": {},
     "output_type": "execute_result"
    }
   ],
   "source": [
    "most_common_genres = (\n",
    "    tv_shows \n",
    "    .groupby('Genres') \n",
    "    .count() \n",
    "    .assign(\n",
    "        Count=tv_shows.groupby('Genres').count().get('Title')\n",
    "    )\n",
    "    .drop(columns=['Title', 'About', 'Actors', 'Votes', 'Years', 'StartYear', 'Rating'])\n",
    ").sort_values('Count', ascending=False).iloc[0:5]\n",
    " \n",
    "most_common_genres"
   ]
  },
  {
   "cell_type": "code",
   "execution_count": 58,
   "metadata": {
    "deletable": false,
    "editable": false
   },
   "outputs": [
    {
     "data": {
      "text/html": [
       "<p><strong><pre style='display: inline;'>q3_3</pre></strong> passed!</p>"
      ],
      "text/plain": [
       "q3_3 results: All test cases passed!"
      ]
     },
     "execution_count": 58,
     "metadata": {},
     "output_type": "execute_result"
    }
   ],
   "source": [
    "grader.check(\"q3_3\")"
   ]
  },
  {
   "cell_type": "markdown",
   "metadata": {},
   "source": [
    "**Question 3.4.** Using the `most_common_genres` DataFrame you created in Question 3.3, create a horizontal bar chart that shows the distribution of TV shows into these five genre combinations. Make sure the bars are sorted such that the most common genre appears as the top-most bar in the bar chart."
   ]
  },
  {
   "cell_type": "markdown",
   "metadata": {
    "deletable": false,
    "editable": false
   },
   "source": [
    "<!-- BEGIN QUESTION -->\n",
    "\n",
    "<!--\n",
    "BEGIN QUESTION\n",
    "name: q3_4\n",
    "manual: true\n",
    "-->"
   ]
  },
  {
   "cell_type": "code",
   "execution_count": 59,
   "metadata": {},
   "outputs": [
    {
     "data": {
      "image/png": "[encoded data removed]",
      "text/plain": [
       "<Figure size 720x360 with 1 Axes>"
      ]
     },
     "metadata": {},
     "output_type": "display_data"
    }
   ],
   "source": [
    "# Create your bar chart here.\n",
    "(\n",
    "    most_common_genres \n",
    "    .sort_values('Count', ascending=True) \n",
    "    .plot(kind='barh', y='Count')\n",
    ");"
   ]
  },
  {
   "cell_type": "markdown",
   "metadata": {},
   "source": [
    "<!-- END QUESTION -->\n",
    "\n",
    "\n",
    "\n",
    "**Question 3.5.** Assign the variable `third_highest` to the genre combination with the third highest average overall `'Rating'` (*not* the third highest frequency), among all genre combinations in `tv_shows`.\n",
    "\n",
    "Do not manually type out your answer. Use `babypandas` methods to produce the answer."
   ]
  },
  {
   "cell_type": "code",
   "execution_count": 60,
   "metadata": {},
   "outputs": [
    {
     "data": {
      "text/plain": [
       "'Adventure, Comedy, Mystery'"
      ]
     },
     "execution_count": 60,
     "metadata": {},
     "output_type": "execute_result"
    }
   ],
   "source": [
    "third_highest = (\n",
    "    tv_shows\n",
    "    .groupby('Genres')\n",
    "    .mean()\n",
    "    .sort_values('Rating', ascending=False)\n",
    "    .get('Rating')\n",
    "    .index[2]\n",
    ")\n",
    "third_highest"
   ]
  },
  {
   "cell_type": "code",
   "execution_count": 61,
   "metadata": {
    "deletable": false,
    "editable": false
   },
   "outputs": [
    {
     "data": {
      "text/html": [
       "<p><strong><pre style='display: inline;'>q3_5</pre></strong> passed!</p>"
      ],
      "text/plain": [
       "q3_5 results: All test cases passed!"
      ]
     },
     "execution_count": 61,
     "metadata": {},
     "output_type": "execute_result"
    }
   ],
   "source": [
    "grader.check(\"q3_5\")"
   ]
  },
  {
   "cell_type": "markdown",
   "metadata": {},
   "source": [
    "**Question 3.6.** Create a histogram showing the distribution of `'Rating'` among shows in the `tv_shows` DataFrame.\n",
    "\n",
    "Remember to set `density=True` since we always use density histograms and `ec='w'` to make the separation of the bars more clear. You don't have to set the `bins` argument."
   ]
  },
  {
   "cell_type": "markdown",
   "metadata": {
    "deletable": false,
    "editable": false
   },
   "source": [
    "<!-- BEGIN QUESTION -->\n",
    "\n",
    "<!--\n",
    "BEGIN QUESTION\n",
    "name: q3_6\n",
    "manual: true\n",
    "-->"
   ]
  },
  {
   "cell_type": "code",
   "execution_count": 62,
   "metadata": {
    "scrolled": false
   },
   "outputs": [
    {
     "data": {
      "image/png": "[encoded data removed]",
      "text/plain": [
       "<Figure size 720x360 with 1 Axes>"
      ]
     },
     "metadata": {},
     "output_type": "display_data"
    }
   ],
   "source": [
    "# Create your histogram here.\n",
    "tv_shows.plot(kind='hist', y='Rating', density=True, ec='w');"
   ]
  },
  {
   "cell_type": "markdown",
   "metadata": {
    "deletable": false,
    "editable": false
   },
   "source": [
    "<!-- END QUESTION -->\n",
    "\n",
    "**Question 3.7.** Using the `'StartYear'` column, identify the year between 2001 and 2009 (inclusive) that has the lowest total number of `'Votes'` for TV shows released that year. Assign this year to the variable `lowest_01_09`.\n",
    "\n",
    "Please make sure to use `babypandas` methods to find your answer; you should not type in the year manually.\n",
    "\n",
    "<!--\n",
    "BEGIN QUESTION\n",
    "name: q3_7\n",
    "-->"
   ]
  },
  {
   "cell_type": "code",
   "execution_count": 63,
   "metadata": {
    "scrolled": true
   },
   "outputs": [
    {
     "data": {
      "text/plain": [
       "2002"
      ]
     },
     "execution_count": 63,
     "metadata": {},
     "output_type": "execute_result"
    }
   ],
   "source": [
    "lowest_01_09 = (\n",
    "    tv_shows\n",
    "    [tv_shows.get('StartYear') >= 2001]\n",
    "    [tv_shows.get('StartYear') <= 2009]\n",
    "    .groupby('StartYear').sum()\n",
    "    .sort_values('Votes', ascending=True)\n",
    "    .index[0]\n",
    ")\n",
    "lowest_01_09"
   ]
  },
  {
   "cell_type": "code",
   "execution_count": 64,
   "metadata": {
    "deletable": false,
    "editable": false
   },
   "outputs": [
    {
     "data": {
      "text/html": [
       "<p><strong><pre style='display: inline;'>q3_7</pre></strong> passed!</p>"
      ],
      "text/plain": [
       "q3_7 results: All test cases passed!"
      ]
     },
     "execution_count": 64,
     "metadata": {},
     "output_type": "execute_result"
    }
   ],
   "source": [
    "grader.check(\"q3_7\")"
   ]
  },
  {
   "cell_type": "markdown",
   "metadata": {},
   "source": [
    "## 4. Let's TED Talk 💡🎤"
   ]
  },
  {
   "cell_type": "markdown",
   "metadata": {},
   "source": [
    "TED Talks (Technology, Entertainment, and Design) are short, powerful presentations that cover a wide range of topics, delivered by experts in the field. Notably, a few UCSD Alumni and students were featured speakers at TEDxUCSD events in 2019 and again in May 2023. With millions of daily views, TED Talks have evolved into a critical platform for idea sharing and thought leadership.\n",
    "\n",
    "<img src='./images/TED-UCSD.PNG' width=350/>\n",
    "\n",
    "We have a dataset of TED Talks on YouTube from [Kaggle](https://www.kaggle.com/datasets/purnasaikirank/ted-talks-youtube?resource=download). First, we'll read in the data from a CSV. There is no good index, so we will leave it unset."
   ]
  },
  {
   "cell_type": "code",
   "execution_count": 65,
   "metadata": {
    "scrolled": false
   },
   "outputs": [
    {
     "data": {
      "text/html": [
       "<div>\n",
       "<style scoped>\n",
       "    .dataframe tbody tr th:only-of-type {\n",
       "        vertical-align: middle;\n",
       "    }\n",
       "\n",
       "    .dataframe tbody tr th {\n",
       "        vertical-align: top;\n",
       "    }\n",
       "\n",
       "    .dataframe thead th {\n",
       "        text-align: right;\n",
       "    }\n",
       "</style>\n",
       "<table border=\"1\" class=\"dataframe\">\n",
       "  <thead>\n",
       "    <tr style=\"text-align: right;\">\n",
       "      <th></th>\n",
       "      <th>comments</th>\n",
       "      <th>duration</th>\n",
       "      <th>event</th>\n",
       "      <th>main_speaker</th>\n",
       "      <th>title</th>\n",
       "      <th>published_date</th>\n",
       "      <th>ratings</th>\n",
       "      <th>views</th>\n",
       "    </tr>\n",
       "  </thead>\n",
       "  <tbody>\n",
       "    <tr>\n",
       "      <th>0</th>\n",
       "      <td>4553</td>\n",
       "      <td>1164</td>\n",
       "      <td>TED2006</td>\n",
       "      <td>Ken Robinson</td>\n",
       "      <td>Ken Robinson: Do schools kill creativity?</td>\n",
       "      <td>1151367060</td>\n",
       "      <td>[{'id': 7, 'name': 'Funny', 'count': 19645}, {...</td>\n",
       "      <td>47227110</td>\n",
       "    </tr>\n",
       "    <tr>\n",
       "      <th>1</th>\n",
       "      <td>265</td>\n",
       "      <td>977</td>\n",
       "      <td>TED2006</td>\n",
       "      <td>Al Gore</td>\n",
       "      <td>Al Gore: Averting the climate crisis</td>\n",
       "      <td>1151367060</td>\n",
       "      <td>[{'id': 7, 'name': 'Funny', 'count': 544}, {'i...</td>\n",
       "      <td>3200520</td>\n",
       "    </tr>\n",
       "    <tr>\n",
       "      <th>2</th>\n",
       "      <td>124</td>\n",
       "      <td>1286</td>\n",
       "      <td>TED2006</td>\n",
       "      <td>David Pogue</td>\n",
       "      <td>David Pogue: Simplicity sells</td>\n",
       "      <td>1151367060</td>\n",
       "      <td>[{'id': 7, 'name': 'Funny', 'count': 964}, {'i...</td>\n",
       "      <td>1636292</td>\n",
       "    </tr>\n",
       "    <tr>\n",
       "      <th>3</th>\n",
       "      <td>200</td>\n",
       "      <td>1116</td>\n",
       "      <td>TED2006</td>\n",
       "      <td>Majora Carter</td>\n",
       "      <td>Majora Carter: Greening the ghetto</td>\n",
       "      <td>1151367060</td>\n",
       "      <td>[{'id': 3, 'name': 'Courageous', 'count': 760}...</td>\n",
       "      <td>1697550</td>\n",
       "    </tr>\n",
       "    <tr>\n",
       "      <th>4</th>\n",
       "      <td>593</td>\n",
       "      <td>1190</td>\n",
       "      <td>TED2006</td>\n",
       "      <td>Hans Rosling</td>\n",
       "      <td>Hans Rosling: The best stats you've ever seen</td>\n",
       "      <td>1151440680</td>\n",
       "      <td>[{'id': 9, 'name': 'Ingenious', 'count': 3202}...</td>\n",
       "      <td>12005869</td>\n",
       "    </tr>\n",
       "    <tr>\n",
       "      <th>...</th>\n",
       "      <td>...</td>\n",
       "      <td>...</td>\n",
       "      <td>...</td>\n",
       "      <td>...</td>\n",
       "      <td>...</td>\n",
       "      <td>...</td>\n",
       "      <td>...</td>\n",
       "      <td>...</td>\n",
       "    </tr>\n",
       "    <tr>\n",
       "      <th>2545</th>\n",
       "      <td>17</td>\n",
       "      <td>476</td>\n",
       "      <td>TED2017</td>\n",
       "      <td>Duarte Geraldino</td>\n",
       "      <td>Duarte Geraldino: What we're missing in the de...</td>\n",
       "      <td>1505851216</td>\n",
       "      <td>[{'id': 3, 'name': 'Courageous', 'count': 24},...</td>\n",
       "      <td>450430</td>\n",
       "    </tr>\n",
       "    <tr>\n",
       "      <th>2546</th>\n",
       "      <td>6</td>\n",
       "      <td>290</td>\n",
       "      <td>TED2017</td>\n",
       "      <td>Armando Azua-Bustos</td>\n",
       "      <td>Armando Azua-Bustos: The most Martian place on...</td>\n",
       "      <td>1505919737</td>\n",
       "      <td>[{'id': 22, 'name': 'Fascinating', 'count': 32...</td>\n",
       "      <td>417470</td>\n",
       "    </tr>\n",
       "    <tr>\n",
       "      <th>2547</th>\n",
       "      <td>10</td>\n",
       "      <td>651</td>\n",
       "      <td>TED2017</td>\n",
       "      <td>Radhika Nagpal</td>\n",
       "      <td>Radhika Nagpal: What intelligent machines can ...</td>\n",
       "      <td>1506006095</td>\n",
       "      <td>[{'id': 1, 'name': 'Beautiful', 'count': 14}, ...</td>\n",
       "      <td>375647</td>\n",
       "    </tr>\n",
       "    <tr>\n",
       "      <th>2548</th>\n",
       "      <td>32</td>\n",
       "      <td>1100</td>\n",
       "      <td>TEDxMileHigh</td>\n",
       "      <td>Theo E.J. Wilson</td>\n",
       "      <td>Theo E.J. Wilson: A black man goes undercover ...</td>\n",
       "      <td>1506024042</td>\n",
       "      <td>[{'id': 11, 'name': 'Longwinded', 'count': 3},...</td>\n",
       "      <td>419309</td>\n",
       "    </tr>\n",
       "    <tr>\n",
       "      <th>2549</th>\n",
       "      <td>8</td>\n",
       "      <td>519</td>\n",
       "      <td>TED2017</td>\n",
       "      <td>Karoliina Korppoo</td>\n",
       "      <td>Karoliina Korppoo: How a video game might help...</td>\n",
       "      <td>1506092422</td>\n",
       "      <td>[{'id': 21, 'name': 'Unconvincing', 'count': 2...</td>\n",
       "      <td>391721</td>\n",
       "    </tr>\n",
       "  </tbody>\n",
       "</table>\n",
       "<p>2550 rows × 8 columns</p>\n",
       "</div>"
      ],
      "text/plain": [
       "      comments  duration         event         main_speaker  \\\n",
       "0         4553      1164       TED2006         Ken Robinson   \n",
       "1          265       977       TED2006              Al Gore   \n",
       "2          124      1286       TED2006          David Pogue   \n",
       "3          200      1116       TED2006        Majora Carter   \n",
       "4          593      1190       TED2006         Hans Rosling   \n",
       "...        ...       ...           ...                  ...   \n",
       "2545        17       476       TED2017     Duarte Geraldino   \n",
       "2546         6       290       TED2017  Armando Azua-Bustos   \n",
       "2547        10       651       TED2017       Radhika Nagpal   \n",
       "2548        32      1100  TEDxMileHigh     Theo E.J. Wilson   \n",
       "2549         8       519       TED2017    Karoliina Korppoo   \n",
       "\n",
       "                                                  title  published_date  \\\n",
       "0             Ken Robinson: Do schools kill creativity?      1151367060   \n",
       "1                  Al Gore: Averting the climate crisis      1151367060   \n",
       "2                         David Pogue: Simplicity sells      1151367060   \n",
       "3                    Majora Carter: Greening the ghetto      1151367060   \n",
       "4         Hans Rosling: The best stats you've ever seen      1151440680   \n",
       "...                                                 ...             ...   \n",
       "2545  Duarte Geraldino: What we're missing in the de...      1505851216   \n",
       "2546  Armando Azua-Bustos: The most Martian place on...      1505919737   \n",
       "2547  Radhika Nagpal: What intelligent machines can ...      1506006095   \n",
       "2548  Theo E.J. Wilson: A black man goes undercover ...      1506024042   \n",
       "2549  Karoliina Korppoo: How a video game might help...      1506092422   \n",
       "\n",
       "                                                ratings     views  \n",
       "0     [{'id': 7, 'name': 'Funny', 'count': 19645}, {...  47227110  \n",
       "1     [{'id': 7, 'name': 'Funny', 'count': 544}, {'i...   3200520  \n",
       "2     [{'id': 7, 'name': 'Funny', 'count': 964}, {'i...   1636292  \n",
       "3     [{'id': 3, 'name': 'Courageous', 'count': 760}...   1697550  \n",
       "4     [{'id': 9, 'name': 'Ingenious', 'count': 3202}...  12005869  \n",
       "...                                                 ...       ...  \n",
       "2545  [{'id': 3, 'name': 'Courageous', 'count': 24},...    450430  \n",
       "2546  [{'id': 22, 'name': 'Fascinating', 'count': 32...    417470  \n",
       "2547  [{'id': 1, 'name': 'Beautiful', 'count': 14}, ...    375647  \n",
       "2548  [{'id': 11, 'name': 'Longwinded', 'count': 3},...    419309  \n",
       "2549  [{'id': 21, 'name': 'Unconvincing', 'count': 2...    391721  \n",
       "\n",
       "[2550 rows x 8 columns]"
      ]
     },
     "execution_count": 65,
     "metadata": {},
     "output_type": "execute_result"
    }
   ],
   "source": [
    "ted_data = bpd.read_csv('data/ted_main.csv')\n",
    "ted_data"
   ]
  },
  {
   "cell_type": "markdown",
   "metadata": {},
   "source": [
    "**Question 4.1.** You'll notice that the values in the `'published_date'` column are really large integers. It turns out they're stored as Unix timestamps, which measure the number of seconds that have elapsed since midnight on January 1st, 1970. So, January 1st, 1970, at 00:00:00 UTC is time 0. (If you're curious, [this site](https://www.unixtimestamp.com) shows a live 'Unix timestamp clock.')\n",
    "\n",
    "Define a function `timestamp_to_year` that takes a Unix timestamp as input, like the values listed in the DataFrame above, and returns the corresponding year as an integer.\n",
    "\n",
    "**_Note:_**  Don't worry about leap years or leap seconds here."
   ]
  },
  {
   "cell_type": "code",
   "execution_count": 66,
   "metadata": {},
   "outputs": [],
   "source": [
    "def timestamp_to_year(timestamp):\n",
    "    \n",
    "    secs_in_year = 60*60*24*365\n",
    "    \n",
    "    return int(timestamp / secs_in_year) + 1970"
   ]
  },
  {
   "cell_type": "code",
   "execution_count": 67,
   "metadata": {
    "deletable": false,
    "editable": false
   },
   "outputs": [
    {
     "data": {
      "text/html": [
       "<p><strong><pre style='display: inline;'>q4_1</pre></strong> passed!</p>"
      ],
      "text/plain": [
       "q4_1 results: All test cases passed!"
      ]
     },
     "execution_count": 67,
     "metadata": {},
     "output_type": "execute_result"
    }
   ],
   "source": [
    "grader.check(\"q4_1\")"
   ]
  },
  {
   "cell_type": "markdown",
   "metadata": {},
   "source": [
    "**Question 4.2.** Use your `timestamp_to_year` function and the `.apply` method to convert all of the timestamps in the `'published_date'` column of `ted_data` into their correct year. Do this without creating an additional column or reordering the existing columns. Assign the resulting DataFrame to the variable name `ted`."
   ]
  },
  {
   "cell_type": "code",
   "execution_count": 68,
   "metadata": {},
   "outputs": [
    {
     "data": {
      "text/html": [
       "<div>\n",
       "<style scoped>\n",
       "    .dataframe tbody tr th:only-of-type {\n",
       "        vertical-align: middle;\n",
       "    }\n",
       "\n",
       "    .dataframe tbody tr th {\n",
       "        vertical-align: top;\n",
       "    }\n",
       "\n",
       "    .dataframe thead th {\n",
       "        text-align: right;\n",
       "    }\n",
       "</style>\n",
       "<table border=\"1\" class=\"dataframe\">\n",
       "  <thead>\n",
       "    <tr style=\"text-align: right;\">\n",
       "      <th></th>\n",
       "      <th>comments</th>\n",
       "      <th>duration</th>\n",
       "      <th>event</th>\n",
       "      <th>main_speaker</th>\n",
       "      <th>title</th>\n",
       "      <th>published_date</th>\n",
       "      <th>ratings</th>\n",
       "      <th>views</th>\n",
       "    </tr>\n",
       "  </thead>\n",
       "  <tbody>\n",
       "    <tr>\n",
       "      <th>0</th>\n",
       "      <td>4553</td>\n",
       "      <td>1164</td>\n",
       "      <td>TED2006</td>\n",
       "      <td>Ken Robinson</td>\n",
       "      <td>Ken Robinson: Do schools kill creativity?</td>\n",
       "      <td>2006</td>\n",
       "      <td>[{'id': 7, 'name': 'Funny', 'count': 19645}, {...</td>\n",
       "      <td>47227110</td>\n",
       "    </tr>\n",
       "    <tr>\n",
       "      <th>1</th>\n",
       "      <td>265</td>\n",
       "      <td>977</td>\n",
       "      <td>TED2006</td>\n",
       "      <td>Al Gore</td>\n",
       "      <td>Al Gore: Averting the climate crisis</td>\n",
       "      <td>2006</td>\n",
       "      <td>[{'id': 7, 'name': 'Funny', 'count': 544}, {'i...</td>\n",
       "      <td>3200520</td>\n",
       "    </tr>\n",
       "    <tr>\n",
       "      <th>2</th>\n",
       "      <td>124</td>\n",
       "      <td>1286</td>\n",
       "      <td>TED2006</td>\n",
       "      <td>David Pogue</td>\n",
       "      <td>David Pogue: Simplicity sells</td>\n",
       "      <td>2006</td>\n",
       "      <td>[{'id': 7, 'name': 'Funny', 'count': 964}, {'i...</td>\n",
       "      <td>1636292</td>\n",
       "    </tr>\n",
       "    <tr>\n",
       "      <th>3</th>\n",
       "      <td>200</td>\n",
       "      <td>1116</td>\n",
       "      <td>TED2006</td>\n",
       "      <td>Majora Carter</td>\n",
       "      <td>Majora Carter: Greening the ghetto</td>\n",
       "      <td>2006</td>\n",
       "      <td>[{'id': 3, 'name': 'Courageous', 'count': 760}...</td>\n",
       "      <td>1697550</td>\n",
       "    </tr>\n",
       "    <tr>\n",
       "      <th>4</th>\n",
       "      <td>593</td>\n",
       "      <td>1190</td>\n",
       "      <td>TED2006</td>\n",
       "      <td>Hans Rosling</td>\n",
       "      <td>Hans Rosling: The best stats you've ever seen</td>\n",
       "      <td>2006</td>\n",
       "      <td>[{'id': 9, 'name': 'Ingenious', 'count': 3202}...</td>\n",
       "      <td>12005869</td>\n",
       "    </tr>\n",
       "    <tr>\n",
       "      <th>...</th>\n",
       "      <td>...</td>\n",
       "      <td>...</td>\n",
       "      <td>...</td>\n",
       "      <td>...</td>\n",
       "      <td>...</td>\n",
       "      <td>...</td>\n",
       "      <td>...</td>\n",
       "      <td>...</td>\n",
       "    </tr>\n",
       "    <tr>\n",
       "      <th>2545</th>\n",
       "      <td>17</td>\n",
       "      <td>476</td>\n",
       "      <td>TED2017</td>\n",
       "      <td>Duarte Geraldino</td>\n",
       "      <td>Duarte Geraldino: What we're missing in the de...</td>\n",
       "      <td>2017</td>\n",
       "      <td>[{'id': 3, 'name': 'Courageous', 'count': 24},...</td>\n",
       "      <td>450430</td>\n",
       "    </tr>\n",
       "    <tr>\n",
       "      <th>2546</th>\n",
       "      <td>6</td>\n",
       "      <td>290</td>\n",
       "      <td>TED2017</td>\n",
       "      <td>Armando Azua-Bustos</td>\n",
       "      <td>Armando Azua-Bustos: The most Martian place on...</td>\n",
       "      <td>2017</td>\n",
       "      <td>[{'id': 22, 'name': 'Fascinating', 'count': 32...</td>\n",
       "      <td>417470</td>\n",
       "    </tr>\n",
       "    <tr>\n",
       "      <th>2547</th>\n",
       "      <td>10</td>\n",
       "      <td>651</td>\n",
       "      <td>TED2017</td>\n",
       "      <td>Radhika Nagpal</td>\n",
       "      <td>Radhika Nagpal: What intelligent machines can ...</td>\n",
       "      <td>2017</td>\n",
       "      <td>[{'id': 1, 'name': 'Beautiful', 'count': 14}, ...</td>\n",
       "      <td>375647</td>\n",
       "    </tr>\n",
       "    <tr>\n",
       "      <th>2548</th>\n",
       "      <td>32</td>\n",
       "      <td>1100</td>\n",
       "      <td>TEDxMileHigh</td>\n",
       "      <td>Theo E.J. Wilson</td>\n",
       "      <td>Theo E.J. Wilson: A black man goes undercover ...</td>\n",
       "      <td>2017</td>\n",
       "      <td>[{'id': 11, 'name': 'Longwinded', 'count': 3},...</td>\n",
       "      <td>419309</td>\n",
       "    </tr>\n",
       "    <tr>\n",
       "      <th>2549</th>\n",
       "      <td>8</td>\n",
       "      <td>519</td>\n",
       "      <td>TED2017</td>\n",
       "      <td>Karoliina Korppoo</td>\n",
       "      <td>Karoliina Korppoo: How a video game might help...</td>\n",
       "      <td>2017</td>\n",
       "      <td>[{'id': 21, 'name': 'Unconvincing', 'count': 2...</td>\n",
       "      <td>391721</td>\n",
       "    </tr>\n",
       "  </tbody>\n",
       "</table>\n",
       "<p>2550 rows × 8 columns</p>\n",
       "</div>"
      ],
      "text/plain": [
       "      comments  duration         event         main_speaker  \\\n",
       "0         4553      1164       TED2006         Ken Robinson   \n",
       "1          265       977       TED2006              Al Gore   \n",
       "2          124      1286       TED2006          David Pogue   \n",
       "3          200      1116       TED2006        Majora Carter   \n",
       "4          593      1190       TED2006         Hans Rosling   \n",
       "...        ...       ...           ...                  ...   \n",
       "2545        17       476       TED2017     Duarte Geraldino   \n",
       "2546         6       290       TED2017  Armando Azua-Bustos   \n",
       "2547        10       651       TED2017       Radhika Nagpal   \n",
       "2548        32      1100  TEDxMileHigh     Theo E.J. Wilson   \n",
       "2549         8       519       TED2017    Karoliina Korppoo   \n",
       "\n",
       "                                                  title  published_date  \\\n",
       "0             Ken Robinson: Do schools kill creativity?            2006   \n",
       "1                  Al Gore: Averting the climate crisis            2006   \n",
       "2                         David Pogue: Simplicity sells            2006   \n",
       "3                    Majora Carter: Greening the ghetto            2006   \n",
       "4         Hans Rosling: The best stats you've ever seen            2006   \n",
       "...                                                 ...             ...   \n",
       "2545  Duarte Geraldino: What we're missing in the de...            2017   \n",
       "2546  Armando Azua-Bustos: The most Martian place on...            2017   \n",
       "2547  Radhika Nagpal: What intelligent machines can ...            2017   \n",
       "2548  Theo E.J. Wilson: A black man goes undercover ...            2017   \n",
       "2549  Karoliina Korppoo: How a video game might help...            2017   \n",
       "\n",
       "                                                ratings     views  \n",
       "0     [{'id': 7, 'name': 'Funny', 'count': 19645}, {...  47227110  \n",
       "1     [{'id': 7, 'name': 'Funny', 'count': 544}, {'i...   3200520  \n",
       "2     [{'id': 7, 'name': 'Funny', 'count': 964}, {'i...   1636292  \n",
       "3     [{'id': 3, 'name': 'Courageous', 'count': 760}...   1697550  \n",
       "4     [{'id': 9, 'name': 'Ingenious', 'count': 3202}...  12005869  \n",
       "...                                                 ...       ...  \n",
       "2545  [{'id': 3, 'name': 'Courageous', 'count': 24},...    450430  \n",
       "2546  [{'id': 22, 'name': 'Fascinating', 'count': 32...    417470  \n",
       "2547  [{'id': 1, 'name': 'Beautiful', 'count': 14}, ...    375647  \n",
       "2548  [{'id': 11, 'name': 'Longwinded', 'count': 3},...    419309  \n",
       "2549  [{'id': 21, 'name': 'Unconvincing', 'count': 2...    391721  \n",
       "\n",
       "[2550 rows x 8 columns]"
      ]
     },
     "execution_count": 68,
     "metadata": {},
     "output_type": "execute_result"
    }
   ],
   "source": [
    "ted = ted_data.assign(\n",
    "          published_date=ted_data.get('published_date').apply(timestamp_to_year)\n",
    "      )\n",
    "ted"
   ]
  },
  {
   "cell_type": "code",
   "execution_count": 69,
   "metadata": {
    "deletable": false,
    "editable": false
   },
   "outputs": [
    {
     "data": {
      "text/html": [
       "<p><strong><pre style='display: inline;'>q4_2</pre></strong> passed!</p>"
      ],
      "text/plain": [
       "q4_2 results: All test cases passed!"
      ]
     },
     "execution_count": 69,
     "metadata": {},
     "output_type": "execute_result"
    }
   ],
   "source": [
    "grader.check(\"q4_2\")"
   ]
  },
  {
   "cell_type": "markdown",
   "metadata": {},
   "source": [
    "🚨 **Important**: Now that we've changed the values in the `'published_date'` column, we'll use `ted` instead of `ted_data` from here on out."
   ]
  },
  {
   "cell_type": "markdown",
   "metadata": {},
   "source": [
    "**Question 4.3.** \n",
    "Notice that the `'title'` column of `ted_talks` includes the name of the speaker followed by the actual title of the TED talk. Define a function named `clean_title` that takes as input a string from the `'title'` column of `ted` and returns the title of the TED talk, without the speaker's name included. Example behavior is shown below.\n",
    "\n",
    "```py\n",
    ">>> clean_title('Al Gore: Averting the climate crisis')\n",
    "'Averting the climate crisis'\n",
    "```\n",
    "\n",
    "\n",
    "Once you have created the function, use the `.apply` method to apply the function to all elements of the `'title'` column in `ted`. Do not create a new column or a new DataFrame."
   ]
  },
  {
   "cell_type": "code",
   "execution_count": 70,
   "metadata": {},
   "outputs": [
    {
     "name": "stdout",
     "output_type": "stream",
     "text": [
      "Averting the climate crisis\n",
      "The best stats you've ever seen\n"
     ]
    }
   ],
   "source": [
    "def clean_title(title):\n",
    "    return ' '.join(title.replace(':', ' ').split()[2:-1]) + ' ' + title.split()[-1]\n",
    "    \n",
    "ted = (\n",
    "          ted\n",
    "          .assign(title=ted.get('title').apply(clean_title))\n",
    "      )\n",
    "    \n",
    "# Test cases for your own reference. Feel free to test out more!\n",
    "print(clean_title('Al Gore: Averting the climate crisis'))  # Should print 'Averting the climate crisis'\n",
    "print(clean_title('Hans Rosling: The best stats you\\'ve ever seen')) # Should print 'The best stats you've ever seen'"
   ]
  },
  {
   "cell_type": "code",
   "execution_count": 71,
   "metadata": {
    "deletable": false,
    "editable": false
   },
   "outputs": [
    {
     "data": {
      "text/html": [
       "<p><strong><pre style='display: inline;'>q4_3</pre></strong> passed!</p>"
      ],
      "text/plain": [
       "q4_3 results: All test cases passed!"
      ]
     },
     "execution_count": 71,
     "metadata": {},
     "output_type": "execute_result"
    }
   ],
   "source": [
    "grader.check(\"q4_3\")"
   ]
  },
  {
   "cell_type": "markdown",
   "metadata": {},
   "source": [
    "**Question 4.4.** We'll say a talk's title is a question if the character `'?'` appears anywhere in the title. Add a column to `ted` named `'is_question'` that contains the value `True` for talks whose titles are questions and `False` for talks whose titles aren't questions. Save the resulting DataFrame as `ted_with_question`; **don't** modify the current `ted` DataFrame, otherwise you may start to fail some test cases you're currently passing.\n",
    "\n",
    "**_Hint:_**  If you try and check whether a title contains `'?'` using the same method you used in Question 1.6, you'll run into an error. Instead of using just `'?'`, you'll need to use `'\\?'`. When using the Series method from Question 1.6, the `'?'` is interpreted as a special character; by using `'\\?'` instead, we're telling Python to find all titles that contain a literal question mark. (If you're curious, the technical term for this is 'escaping' the `'?'` character.)"
   ]
  },
  {
   "cell_type": "code",
   "execution_count": 72,
   "metadata": {},
   "outputs": [
    {
     "data": {
      "text/html": [
       "<div>\n",
       "<style scoped>\n",
       "    .dataframe tbody tr th:only-of-type {\n",
       "        vertical-align: middle;\n",
       "    }\n",
       "\n",
       "    .dataframe tbody tr th {\n",
       "        vertical-align: top;\n",
       "    }\n",
       "\n",
       "    .dataframe thead th {\n",
       "        text-align: right;\n",
       "    }\n",
       "</style>\n",
       "<table border=\"1\" class=\"dataframe\">\n",
       "  <thead>\n",
       "    <tr style=\"text-align: right;\">\n",
       "      <th></th>\n",
       "      <th>comments</th>\n",
       "      <th>duration</th>\n",
       "      <th>event</th>\n",
       "      <th>main_speaker</th>\n",
       "      <th>title</th>\n",
       "      <th>published_date</th>\n",
       "      <th>ratings</th>\n",
       "      <th>views</th>\n",
       "      <th>is_question</th>\n",
       "    </tr>\n",
       "  </thead>\n",
       "  <tbody>\n",
       "    <tr>\n",
       "      <th>0</th>\n",
       "      <td>4553</td>\n",
       "      <td>1164</td>\n",
       "      <td>TED2006</td>\n",
       "      <td>Ken Robinson</td>\n",
       "      <td>Do schools kill creativity?</td>\n",
       "      <td>2006</td>\n",
       "      <td>[{'id': 7, 'name': 'Funny', 'count': 19645}, {...</td>\n",
       "      <td>47227110</td>\n",
       "      <td>True</td>\n",
       "    </tr>\n",
       "    <tr>\n",
       "      <th>1</th>\n",
       "      <td>265</td>\n",
       "      <td>977</td>\n",
       "      <td>TED2006</td>\n",
       "      <td>Al Gore</td>\n",
       "      <td>Averting the climate crisis</td>\n",
       "      <td>2006</td>\n",
       "      <td>[{'id': 7, 'name': 'Funny', 'count': 544}, {'i...</td>\n",
       "      <td>3200520</td>\n",
       "      <td>False</td>\n",
       "    </tr>\n",
       "    <tr>\n",
       "      <th>2</th>\n",
       "      <td>124</td>\n",
       "      <td>1286</td>\n",
       "      <td>TED2006</td>\n",
       "      <td>David Pogue</td>\n",
       "      <td>Simplicity sells</td>\n",
       "      <td>2006</td>\n",
       "      <td>[{'id': 7, 'name': 'Funny', 'count': 964}, {'i...</td>\n",
       "      <td>1636292</td>\n",
       "      <td>False</td>\n",
       "    </tr>\n",
       "    <tr>\n",
       "      <th>3</th>\n",
       "      <td>200</td>\n",
       "      <td>1116</td>\n",
       "      <td>TED2006</td>\n",
       "      <td>Majora Carter</td>\n",
       "      <td>Greening the ghetto</td>\n",
       "      <td>2006</td>\n",
       "      <td>[{'id': 3, 'name': 'Courageous', 'count': 760}...</td>\n",
       "      <td>1697550</td>\n",
       "      <td>False</td>\n",
       "    </tr>\n",
       "    <tr>\n",
       "      <th>4</th>\n",
       "      <td>593</td>\n",
       "      <td>1190</td>\n",
       "      <td>TED2006</td>\n",
       "      <td>Hans Rosling</td>\n",
       "      <td>The best stats you've ever seen</td>\n",
       "      <td>2006</td>\n",
       "      <td>[{'id': 9, 'name': 'Ingenious', 'count': 3202}...</td>\n",
       "      <td>12005869</td>\n",
       "      <td>False</td>\n",
       "    </tr>\n",
       "    <tr>\n",
       "      <th>...</th>\n",
       "      <td>...</td>\n",
       "      <td>...</td>\n",
       "      <td>...</td>\n",
       "      <td>...</td>\n",
       "      <td>...</td>\n",
       "      <td>...</td>\n",
       "      <td>...</td>\n",
       "      <td>...</td>\n",
       "      <td>...</td>\n",
       "    </tr>\n",
       "    <tr>\n",
       "      <th>2545</th>\n",
       "      <td>17</td>\n",
       "      <td>476</td>\n",
       "      <td>TED2017</td>\n",
       "      <td>Duarte Geraldino</td>\n",
       "      <td>What we're missing in the debate about immigra...</td>\n",
       "      <td>2017</td>\n",
       "      <td>[{'id': 3, 'name': 'Courageous', 'count': 24},...</td>\n",
       "      <td>450430</td>\n",
       "      <td>False</td>\n",
       "    </tr>\n",
       "    <tr>\n",
       "      <th>2546</th>\n",
       "      <td>6</td>\n",
       "      <td>290</td>\n",
       "      <td>TED2017</td>\n",
       "      <td>Armando Azua-Bustos</td>\n",
       "      <td>The most Martian place on Earth</td>\n",
       "      <td>2017</td>\n",
       "      <td>[{'id': 22, 'name': 'Fascinating', 'count': 32...</td>\n",
       "      <td>417470</td>\n",
       "      <td>False</td>\n",
       "    </tr>\n",
       "    <tr>\n",
       "      <th>2547</th>\n",
       "      <td>10</td>\n",
       "      <td>651</td>\n",
       "      <td>TED2017</td>\n",
       "      <td>Radhika Nagpal</td>\n",
       "      <td>What intelligent machines can learn from a sch...</td>\n",
       "      <td>2017</td>\n",
       "      <td>[{'id': 1, 'name': 'Beautiful', 'count': 14}, ...</td>\n",
       "      <td>375647</td>\n",
       "      <td>False</td>\n",
       "    </tr>\n",
       "    <tr>\n",
       "      <th>2548</th>\n",
       "      <td>32</td>\n",
       "      <td>1100</td>\n",
       "      <td>TEDxMileHigh</td>\n",
       "      <td>Theo E.J. Wilson</td>\n",
       "      <td>Wilson A black man goes undercover in the alt-...</td>\n",
       "      <td>2017</td>\n",
       "      <td>[{'id': 11, 'name': 'Longwinded', 'count': 3},...</td>\n",
       "      <td>419309</td>\n",
       "      <td>False</td>\n",
       "    </tr>\n",
       "    <tr>\n",
       "      <th>2549</th>\n",
       "      <td>8</td>\n",
       "      <td>519</td>\n",
       "      <td>TED2017</td>\n",
       "      <td>Karoliina Korppoo</td>\n",
       "      <td>How a video game might help us build better ci...</td>\n",
       "      <td>2017</td>\n",
       "      <td>[{'id': 21, 'name': 'Unconvincing', 'count': 2...</td>\n",
       "      <td>391721</td>\n",
       "      <td>False</td>\n",
       "    </tr>\n",
       "  </tbody>\n",
       "</table>\n",
       "<p>2550 rows × 9 columns</p>\n",
       "</div>"
      ],
      "text/plain": [
       "      comments  duration         event         main_speaker  \\\n",
       "0         4553      1164       TED2006         Ken Robinson   \n",
       "1          265       977       TED2006              Al Gore   \n",
       "2          124      1286       TED2006          David Pogue   \n",
       "3          200      1116       TED2006        Majora Carter   \n",
       "4          593      1190       TED2006         Hans Rosling   \n",
       "...        ...       ...           ...                  ...   \n",
       "2545        17       476       TED2017     Duarte Geraldino   \n",
       "2546         6       290       TED2017  Armando Azua-Bustos   \n",
       "2547        10       651       TED2017       Radhika Nagpal   \n",
       "2548        32      1100  TEDxMileHigh     Theo E.J. Wilson   \n",
       "2549         8       519       TED2017    Karoliina Korppoo   \n",
       "\n",
       "                                                  title  published_date  \\\n",
       "0                           Do schools kill creativity?            2006   \n",
       "1                           Averting the climate crisis            2006   \n",
       "2                                      Simplicity sells            2006   \n",
       "3                                   Greening the ghetto            2006   \n",
       "4                       The best stats you've ever seen            2006   \n",
       "...                                                 ...             ...   \n",
       "2545  What we're missing in the debate about immigra...            2017   \n",
       "2546                    The most Martian place on Earth            2017   \n",
       "2547  What intelligent machines can learn from a sch...            2017   \n",
       "2548  Wilson A black man goes undercover in the alt-...            2017   \n",
       "2549  How a video game might help us build better ci...            2017   \n",
       "\n",
       "                                                ratings     views  is_question  \n",
       "0     [{'id': 7, 'name': 'Funny', 'count': 19645}, {...  47227110         True  \n",
       "1     [{'id': 7, 'name': 'Funny', 'count': 544}, {'i...   3200520        False  \n",
       "2     [{'id': 7, 'name': 'Funny', 'count': 964}, {'i...   1636292        False  \n",
       "3     [{'id': 3, 'name': 'Courageous', 'count': 760}...   1697550        False  \n",
       "4     [{'id': 9, 'name': 'Ingenious', 'count': 3202}...  12005869        False  \n",
       "...                                                 ...       ...          ...  \n",
       "2545  [{'id': 3, 'name': 'Courageous', 'count': 24},...    450430        False  \n",
       "2546  [{'id': 22, 'name': 'Fascinating', 'count': 32...    417470        False  \n",
       "2547  [{'id': 1, 'name': 'Beautiful', 'count': 14}, ...    375647        False  \n",
       "2548  [{'id': 11, 'name': 'Longwinded', 'count': 3},...    419309        False  \n",
       "2549  [{'id': 21, 'name': 'Unconvincing', 'count': 2...    391721        False  \n",
       "\n",
       "[2550 rows x 9 columns]"
      ]
     },
     "execution_count": 72,
     "metadata": {},
     "output_type": "execute_result"
    }
   ],
   "source": [
    "ted_with_question = ted.assign(\n",
    "    is_question=ted.get('title').str.contains('\\?')\n",
    ")\n",
    "ted_with_question\n"
   ]
  },
  {
   "cell_type": "code",
   "execution_count": 73,
   "metadata": {
    "deletable": false,
    "editable": false
   },
   "outputs": [
    {
     "data": {
      "text/html": [
       "<p><strong><pre style='display: inline;'>q4_4</pre></strong> passed!</p>"
      ],
      "text/plain": [
       "q4_4 results: All test cases passed!"
      ]
     },
     "execution_count": 73,
     "metadata": {},
     "output_type": "execute_result"
    }
   ],
   "source": [
    "grader.check(\"q4_4\")"
   ]
  },
  {
   "cell_type": "markdown",
   "metadata": {},
   "source": [
    "**Question 4.5.** Using `ted_with_question`, calculate the mean number of views for titles that are questions and for titles that are not questions. Store the result for titles with a question in a variable called `mean_views_with_question`, and the result for titles without a question in a variable called `mean_views_without_question`."
   ]
  },
  {
   "cell_type": "code",
   "execution_count": 74,
   "metadata": {},
   "outputs": [
    {
     "name": "stdout",
     "output_type": "stream",
     "text": [
      "Average views of talks with questions in the title: 1966803.3942307692\n",
      "Average views of talks without questions in the title: 1674450.6712211785\n"
     ]
    }
   ],
   "source": [
    "mean_views_with_question = ted_with_question[ted_with_question.get('is_question') == True].get('views').mean()\n",
    "mean_views_without_question = ted_with_question[ted_with_question.get('is_question') == False].get('views').mean()\n",
    "\n",
    "print('Average views of talks with questions in the title:', mean_views_with_question)\n",
    "print('Average views of talks without questions in the title:', mean_views_without_question)"
   ]
  },
  {
   "cell_type": "code",
   "execution_count": 75,
   "metadata": {
    "deletable": false,
    "editable": false
   },
   "outputs": [
    {
     "data": {
      "text/html": [
       "<p><strong><pre style='display: inline;'>q4_5</pre></strong> passed!</p>"
      ],
      "text/plain": [
       "q4_5 results: All test cases passed!"
      ]
     },
     "execution_count": 75,
     "metadata": {},
     "output_type": "execute_result"
    }
   ],
   "source": [
    "grader.check(\"q4_5\")"
   ]
  },
  {
   "cell_type": "markdown",
   "metadata": {},
   "source": [
    "**Question 4.6.** Let's look at the mean number of views per event. For the 20 events with lowest mean number of views, create a horizontal bar chart that displays the mean views for each event. Sort the bars in ascending order so that the event with the fewest mean views appears at the very top of the bar chart. \n",
    "\n",
    "Make sure **not to modify** the DataFrames `ted` or `ted_with_question` while creating your bar chart, otherwise you may fail some test cases you are currently passing.\n",
    "\n"
   ]
  },
  {
   "cell_type": "code",
   "execution_count": 76,
   "metadata": {},
   "outputs": [
    {
     "data": {
      "text/html": [
       "<div>\n",
       "<style scoped>\n",
       "    .dataframe tbody tr th:only-of-type {\n",
       "        vertical-align: middle;\n",
       "    }\n",
       "\n",
       "    .dataframe tbody tr th {\n",
       "        vertical-align: top;\n",
       "    }\n",
       "\n",
       "    .dataframe thead th {\n",
       "        text-align: right;\n",
       "    }\n",
       "</style>\n",
       "<table border=\"1\" class=\"dataframe\">\n",
       "  <thead>\n",
       "    <tr style=\"text-align: right;\">\n",
       "      <th></th>\n",
       "      <th>comments</th>\n",
       "      <th>duration</th>\n",
       "      <th>event</th>\n",
       "      <th>main_speaker</th>\n",
       "      <th>title</th>\n",
       "      <th>published_date</th>\n",
       "      <th>ratings</th>\n",
       "      <th>views</th>\n",
       "      <th>is_question</th>\n",
       "    </tr>\n",
       "  </thead>\n",
       "  <tbody>\n",
       "    <tr>\n",
       "      <th>0</th>\n",
       "      <td>4553</td>\n",
       "      <td>1164</td>\n",
       "      <td>TED2006</td>\n",
       "      <td>Ken Robinson</td>\n",
       "      <td>Do schools kill creativity?</td>\n",
       "      <td>2006</td>\n",
       "      <td>[{'id': 7, 'name': 'Funny', 'count': 19645}, {...</td>\n",
       "      <td>47227110</td>\n",
       "      <td>True</td>\n",
       "    </tr>\n",
       "    <tr>\n",
       "      <th>1</th>\n",
       "      <td>265</td>\n",
       "      <td>977</td>\n",
       "      <td>TED2006</td>\n",
       "      <td>Al Gore</td>\n",
       "      <td>Averting the climate crisis</td>\n",
       "      <td>2006</td>\n",
       "      <td>[{'id': 7, 'name': 'Funny', 'count': 544}, {'i...</td>\n",
       "      <td>3200520</td>\n",
       "      <td>False</td>\n",
       "    </tr>\n",
       "    <tr>\n",
       "      <th>2</th>\n",
       "      <td>124</td>\n",
       "      <td>1286</td>\n",
       "      <td>TED2006</td>\n",
       "      <td>David Pogue</td>\n",
       "      <td>Simplicity sells</td>\n",
       "      <td>2006</td>\n",
       "      <td>[{'id': 7, 'name': 'Funny', 'count': 964}, {'i...</td>\n",
       "      <td>1636292</td>\n",
       "      <td>False</td>\n",
       "    </tr>\n",
       "    <tr>\n",
       "      <th>3</th>\n",
       "      <td>200</td>\n",
       "      <td>1116</td>\n",
       "      <td>TED2006</td>\n",
       "      <td>Majora Carter</td>\n",
       "      <td>Greening the ghetto</td>\n",
       "      <td>2006</td>\n",
       "      <td>[{'id': 3, 'name': 'Courageous', 'count': 760}...</td>\n",
       "      <td>1697550</td>\n",
       "      <td>False</td>\n",
       "    </tr>\n",
       "    <tr>\n",
       "      <th>4</th>\n",
       "      <td>593</td>\n",
       "      <td>1190</td>\n",
       "      <td>TED2006</td>\n",
       "      <td>Hans Rosling</td>\n",
       "      <td>The best stats you've ever seen</td>\n",
       "      <td>2006</td>\n",
       "      <td>[{'id': 9, 'name': 'Ingenious', 'count': 3202}...</td>\n",
       "      <td>12005869</td>\n",
       "      <td>False</td>\n",
       "    </tr>\n",
       "    <tr>\n",
       "      <th>...</th>\n",
       "      <td>...</td>\n",
       "      <td>...</td>\n",
       "      <td>...</td>\n",
       "      <td>...</td>\n",
       "      <td>...</td>\n",
       "      <td>...</td>\n",
       "      <td>...</td>\n",
       "      <td>...</td>\n",
       "      <td>...</td>\n",
       "    </tr>\n",
       "    <tr>\n",
       "      <th>2545</th>\n",
       "      <td>17</td>\n",
       "      <td>476</td>\n",
       "      <td>TED2017</td>\n",
       "      <td>Duarte Geraldino</td>\n",
       "      <td>What we're missing in the debate about immigra...</td>\n",
       "      <td>2017</td>\n",
       "      <td>[{'id': 3, 'name': 'Courageous', 'count': 24},...</td>\n",
       "      <td>450430</td>\n",
       "      <td>False</td>\n",
       "    </tr>\n",
       "    <tr>\n",
       "      <th>2546</th>\n",
       "      <td>6</td>\n",
       "      <td>290</td>\n",
       "      <td>TED2017</td>\n",
       "      <td>Armando Azua-Bustos</td>\n",
       "      <td>The most Martian place on Earth</td>\n",
       "      <td>2017</td>\n",
       "      <td>[{'id': 22, 'name': 'Fascinating', 'count': 32...</td>\n",
       "      <td>417470</td>\n",
       "      <td>False</td>\n",
       "    </tr>\n",
       "    <tr>\n",
       "      <th>2547</th>\n",
       "      <td>10</td>\n",
       "      <td>651</td>\n",
       "      <td>TED2017</td>\n",
       "      <td>Radhika Nagpal</td>\n",
       "      <td>What intelligent machines can learn from a sch...</td>\n",
       "      <td>2017</td>\n",
       "      <td>[{'id': 1, 'name': 'Beautiful', 'count': 14}, ...</td>\n",
       "      <td>375647</td>\n",
       "      <td>False</td>\n",
       "    </tr>\n",
       "    <tr>\n",
       "      <th>2548</th>\n",
       "      <td>32</td>\n",
       "      <td>1100</td>\n",
       "      <td>TEDxMileHigh</td>\n",
       "      <td>Theo E.J. Wilson</td>\n",
       "      <td>Wilson A black man goes undercover in the alt-...</td>\n",
       "      <td>2017</td>\n",
       "      <td>[{'id': 11, 'name': 'Longwinded', 'count': 3},...</td>\n",
       "      <td>419309</td>\n",
       "      <td>False</td>\n",
       "    </tr>\n",
       "    <tr>\n",
       "      <th>2549</th>\n",
       "      <td>8</td>\n",
       "      <td>519</td>\n",
       "      <td>TED2017</td>\n",
       "      <td>Karoliina Korppoo</td>\n",
       "      <td>How a video game might help us build better ci...</td>\n",
       "      <td>2017</td>\n",
       "      <td>[{'id': 21, 'name': 'Unconvincing', 'count': 2...</td>\n",
       "      <td>391721</td>\n",
       "      <td>False</td>\n",
       "    </tr>\n",
       "  </tbody>\n",
       "</table>\n",
       "<p>2550 rows × 9 columns</p>\n",
       "</div>"
      ],
      "text/plain": [
       "      comments  duration         event         main_speaker  \\\n",
       "0         4553      1164       TED2006         Ken Robinson   \n",
       "1          265       977       TED2006              Al Gore   \n",
       "2          124      1286       TED2006          David Pogue   \n",
       "3          200      1116       TED2006        Majora Carter   \n",
       "4          593      1190       TED2006         Hans Rosling   \n",
       "...        ...       ...           ...                  ...   \n",
       "2545        17       476       TED2017     Duarte Geraldino   \n",
       "2546         6       290       TED2017  Armando Azua-Bustos   \n",
       "2547        10       651       TED2017       Radhika Nagpal   \n",
       "2548        32      1100  TEDxMileHigh     Theo E.J. Wilson   \n",
       "2549         8       519       TED2017    Karoliina Korppoo   \n",
       "\n",
       "                                                  title  published_date  \\\n",
       "0                           Do schools kill creativity?            2006   \n",
       "1                           Averting the climate crisis            2006   \n",
       "2                                      Simplicity sells            2006   \n",
       "3                                   Greening the ghetto            2006   \n",
       "4                       The best stats you've ever seen            2006   \n",
       "...                                                 ...             ...   \n",
       "2545  What we're missing in the debate about immigra...            2017   \n",
       "2546                    The most Martian place on Earth            2017   \n",
       "2547  What intelligent machines can learn from a sch...            2017   \n",
       "2548  Wilson A black man goes undercover in the alt-...            2017   \n",
       "2549  How a video game might help us build better ci...            2017   \n",
       "\n",
       "                                                ratings     views  is_question  \n",
       "0     [{'id': 7, 'name': 'Funny', 'count': 19645}, {...  47227110         True  \n",
       "1     [{'id': 7, 'name': 'Funny', 'count': 544}, {'i...   3200520        False  \n",
       "2     [{'id': 7, 'name': 'Funny', 'count': 964}, {'i...   1636292        False  \n",
       "3     [{'id': 3, 'name': 'Courageous', 'count': 760}...   1697550        False  \n",
       "4     [{'id': 9, 'name': 'Ingenious', 'count': 3202}...  12005869        False  \n",
       "...                                                 ...       ...          ...  \n",
       "2545  [{'id': 3, 'name': 'Courageous', 'count': 24},...    450430        False  \n",
       "2546  [{'id': 22, 'name': 'Fascinating', 'count': 32...    417470        False  \n",
       "2547  [{'id': 1, 'name': 'Beautiful', 'count': 14}, ...    375647        False  \n",
       "2548  [{'id': 11, 'name': 'Longwinded', 'count': 3},...    419309        False  \n",
       "2549  [{'id': 21, 'name': 'Unconvincing', 'count': 2...    391721        False  \n",
       "\n",
       "[2550 rows x 9 columns]"
      ]
     },
     "execution_count": 76,
     "metadata": {},
     "output_type": "execute_result"
    }
   ],
   "source": [
    "ted_with_question"
   ]
  },
  {
   "cell_type": "markdown",
   "metadata": {
    "deletable": false,
    "editable": false
   },
   "source": [
    "<!-- BEGIN QUESTION -->\n",
    "\n",
    "<!--\n",
    "BEGIN QUESTION\n",
    "name: q4_6\n",
    "manual: true\n",
    "\n",
    "-->"
   ]
  },
  {
   "cell_type": "code",
   "execution_count": 77,
   "metadata": {
    "scrolled": false
   },
   "outputs": [
    {
     "data": {
      "image/png": "[encoded data removed]",
      "text/plain": [
       "<Figure size 720x360 with 1 Axes>"
      ]
     },
     "metadata": {},
     "output_type": "display_data"
    }
   ],
   "source": [
    "# Create your bar chart here.\n",
    "(\n",
    "    ted_with_question\n",
    "    .groupby('event')\n",
    "    .mean()\n",
    "    .sort_values('views', ascending=False)\n",
    "    .iloc[:20]\n",
    "    .reset_index()\n",
    "    .plot(kind='barh', x='event', y='views')\n",
    ");\n"
   ]
  },
  {
   "cell_type": "markdown",
   "metadata": {},
   "source": [
    "<!-- END QUESTION -->\n",
    "\n",
    "\n",
    "\n",
    "So far, we haven't used the `'ratings'` column in `ted_with_question` at all for our analysis. The values in the `'ratings'` column appear to be formatted strangely:"
   ]
  },
  {
   "cell_type": "code",
   "execution_count": 78,
   "metadata": {},
   "outputs": [
    {
     "data": {
      "text/plain": [
       "\"[{'id': 7, 'name': 'Funny', 'count': 19645}, {'id': 1, 'name': 'Beautiful', 'count': 4573}, {'id': 9, 'name': 'Ingenious', 'count': 6073}, {'id': 3, 'name': 'Courageous', 'count': 3253}, {'id': 11, 'name': 'Longwinded', 'count': 387}, {'id': 2, 'name': 'Confusing', 'count': 242}, {'id': 8, 'name': 'Informative', 'count': 7346}, {'id': 22, 'name': 'Fascinating', 'count': 10581}, {'id': 21, 'name': 'Unconvincing', 'count': 300}, {'id': 24, 'name': 'Persuasive', 'count': 10704}, {'id': 23, 'name': 'Jaw-dropping', 'count': 4439}, {'id': 25, 'name': 'OK', 'count': 1174}, {'id': 26, 'name': 'Obnoxious', 'count': 209}, {'id': 10, 'name': 'Inspiring', 'count': 24924}]\""
      ]
     },
     "execution_count": 78,
     "metadata": {},
     "output_type": "execute_result"
    }
   ],
   "source": [
    "first_rating_string = (\n",
    "    ted_with_question\n",
    "    .get('ratings')\n",
    "    .iloc[0]\n",
    ")\n",
    "first_rating_string"
   ]
  },
  {
   "cell_type": "markdown",
   "metadata": {},
   "source": [
    "If we look closely, we see that each value in the `'ratings'` column looks like a list of dictionaries! While these values _look_ like lists, they are actually strings."
   ]
  },
  {
   "cell_type": "code",
   "execution_count": 79,
   "metadata": {},
   "outputs": [
    {
     "data": {
      "text/plain": [
       "str"
      ]
     },
     "execution_count": 79,
     "metadata": {},
     "output_type": "execute_result"
    }
   ],
   "source": [
    "type(first_rating_string)"
   ]
  },
  {
   "cell_type": "markdown",
   "metadata": {},
   "source": [
    "Conveniently, it turns out there's a function built into Python called `eval` that takes in a string that contains a Python expression and evaluates that expression. We use it below."
   ]
  },
  {
   "cell_type": "code",
   "execution_count": 80,
   "metadata": {},
   "outputs": [
    {
     "data": {
      "text/plain": [
       "array([5, 7, 9])"
      ]
     },
     "execution_count": 80,
     "metadata": {},
     "output_type": "execute_result"
    }
   ],
   "source": [
    "eval('np.array([1, 2, 3]) + np.array([4, 5, 6])')"
   ]
  },
  {
   "cell_type": "code",
   "execution_count": 81,
   "metadata": {},
   "outputs": [
    {
     "data": {
      "text/plain": [
       "2550"
      ]
     },
     "execution_count": 81,
     "metadata": {},
     "output_type": "execute_result"
    }
   ],
   "source": [
    "eval('ted.shape[0]')"
   ]
  },
  {
   "cell_type": "markdown",
   "metadata": {},
   "source": [
    "In the two examples above, `eval` seemed to make things more complicated, not less complicated. However, `eval` can help turn the values in the `'ratings'` column, which are strings (of lists, of dictionaries), to actual lists.\n",
    "\n",
    "For example:"
   ]
  },
  {
   "cell_type": "code",
   "execution_count": 82,
   "metadata": {},
   "outputs": [
    {
     "data": {
      "text/plain": [
       "[{'id': 7, 'name': 'Funny', 'count': 19645},\n",
       " {'id': 1, 'name': 'Beautiful', 'count': 4573},\n",
       " {'id': 9, 'name': 'Ingenious', 'count': 6073},\n",
       " {'id': 3, 'name': 'Courageous', 'count': 3253},\n",
       " {'id': 11, 'name': 'Longwinded', 'count': 387},\n",
       " {'id': 2, 'name': 'Confusing', 'count': 242},\n",
       " {'id': 8, 'name': 'Informative', 'count': 7346},\n",
       " {'id': 22, 'name': 'Fascinating', 'count': 10581},\n",
       " {'id': 21, 'name': 'Unconvincing', 'count': 300},\n",
       " {'id': 24, 'name': 'Persuasive', 'count': 10704},\n",
       " {'id': 23, 'name': 'Jaw-dropping', 'count': 4439},\n",
       " {'id': 25, 'name': 'OK', 'count': 1174},\n",
       " {'id': 26, 'name': 'Obnoxious', 'count': 209},\n",
       " {'id': 10, 'name': 'Inspiring', 'count': 24924}]"
      ]
     },
     "execution_count": 82,
     "metadata": {},
     "output_type": "execute_result"
    }
   ],
   "source": [
    "first_rating_list = eval(first_rating_string)\n",
    "first_rating_list"
   ]
  },
  {
   "cell_type": "code",
   "execution_count": 83,
   "metadata": {},
   "outputs": [
    {
     "data": {
      "text/plain": [
       "list"
      ]
     },
     "execution_count": 83,
     "metadata": {},
     "output_type": "execute_result"
    }
   ],
   "source": [
    "type(first_rating_list)"
   ]
  },
  {
   "cell_type": "markdown",
   "metadata": {},
   "source": [
    "Now it's a bit more clear how these lists are formatted. Each individual dictionary corresponds to a different tag that a video received, e.g. `'Funny'` or `'Persuasive'`. The value associated with the `'count'` key represents the number of votes, or ratings, that video received for the corresponding tag. For instance, the first talk in the dataset received 10704 votes for the `'Persuasive'` tag.\n",
    "\n",
    "Below, we've defined a function that takes in a single value from the `'ratings'` column and returns a single dictionary (not a list of dictionaries) corresponding to the most common tag for that video. You don't need to understand how the function works."
   ]
  },
  {
   "cell_type": "code",
   "execution_count": 84,
   "metadata": {},
   "outputs": [],
   "source": [
    "def most_common_tag_dict(rating_str):\n",
    "    rating_list = eval(rating_str)\n",
    "    rating_list_sorted = sorted(rating_list, key=lambda x: x['count'])\n",
    "    return rating_list_sorted[-1]"
   ]
  },
  {
   "cell_type": "markdown",
   "metadata": {},
   "source": [
    "For example, in the string below, the tag with the most votes is `'Inspiring'`:"
   ]
  },
  {
   "cell_type": "code",
   "execution_count": 85,
   "metadata": {},
   "outputs": [
    {
     "data": {
      "text/plain": [
       "\"[{'id': 7, 'name': 'Funny', 'count': 19645}, {'id': 1, 'name': 'Beautiful', 'count': 4573}, {'id': 9, 'name': 'Ingenious', 'count': 6073}, {'id': 3, 'name': 'Courageous', 'count': 3253}, {'id': 11, 'name': 'Longwinded', 'count': 387}, {'id': 2, 'name': 'Confusing', 'count': 242}, {'id': 8, 'name': 'Informative', 'count': 7346}, {'id': 22, 'name': 'Fascinating', 'count': 10581}, {'id': 21, 'name': 'Unconvincing', 'count': 300}, {'id': 24, 'name': 'Persuasive', 'count': 10704}, {'id': 23, 'name': 'Jaw-dropping', 'count': 4439}, {'id': 25, 'name': 'OK', 'count': 1174}, {'id': 26, 'name': 'Obnoxious', 'count': 209}, {'id': 10, 'name': 'Inspiring', 'count': 24924}]\""
      ]
     },
     "execution_count": 85,
     "metadata": {},
     "output_type": "execute_result"
    }
   ],
   "source": [
    "first_rating_string"
   ]
  },
  {
   "cell_type": "markdown",
   "metadata": {},
   "source": [
    "And so:"
   ]
  },
  {
   "cell_type": "code",
   "execution_count": 86,
   "metadata": {},
   "outputs": [
    {
     "data": {
      "text/plain": [
       "{'id': 10, 'name': 'Inspiring', 'count': 24924}"
      ]
     },
     "execution_count": 86,
     "metadata": {},
     "output_type": "execute_result"
    }
   ],
   "source": [
    "most_common_tag_dict(first_rating_string)"
   ]
  },
  {
   "cell_type": "markdown",
   "metadata": {},
   "source": [
    "**Question 4.7.** Complete the implementation of the function `most_common_tag_name`, which takes in a value from the `'ratings'` column of `ted_with_question` and returns the name of the most common tag as a string. For instance, `most_common_tag_name(first_rating_string)` should return `'Inspiring'`.\n",
    "\n",
    "Then, assign `ted_final` to a DataFrame with all of the same columns as `ted_with_question`, with an additional column named `'most_common_tag'` containing the most common tag name for each talk.\n",
    "\n",
    "**_Hints:_** \n",
    "- Most of the work has already been done for you – you should use `most_common_tag_dict` in your implementation of `most_common_tag_name`.\n",
    "- Dictionaries were introduced just before Question 2.4. Reviewing that part of the notebook will be helpful if you're stuck."
   ]
  },
  {
   "cell_type": "code",
   "execution_count": 87,
   "metadata": {},
   "outputs": [
    {
     "data": {
      "text/html": [
       "<div>\n",
       "<style scoped>\n",
       "    .dataframe tbody tr th:only-of-type {\n",
       "        vertical-align: middle;\n",
       "    }\n",
       "\n",
       "    .dataframe tbody tr th {\n",
       "        vertical-align: top;\n",
       "    }\n",
       "\n",
       "    .dataframe thead th {\n",
       "        text-align: right;\n",
       "    }\n",
       "</style>\n",
       "<table border=\"1\" class=\"dataframe\">\n",
       "  <thead>\n",
       "    <tr style=\"text-align: right;\">\n",
       "      <th></th>\n",
       "      <th>comments</th>\n",
       "      <th>duration</th>\n",
       "      <th>event</th>\n",
       "      <th>main_speaker</th>\n",
       "      <th>title</th>\n",
       "      <th>published_date</th>\n",
       "      <th>ratings</th>\n",
       "      <th>views</th>\n",
       "      <th>is_question</th>\n",
       "      <th>most_common_tag</th>\n",
       "    </tr>\n",
       "  </thead>\n",
       "  <tbody>\n",
       "    <tr>\n",
       "      <th>0</th>\n",
       "      <td>4553</td>\n",
       "      <td>1164</td>\n",
       "      <td>TED2006</td>\n",
       "      <td>Ken Robinson</td>\n",
       "      <td>Do schools kill creativity?</td>\n",
       "      <td>2006</td>\n",
       "      <td>[{'id': 7, 'name': 'Funny', 'count': 19645}, {...</td>\n",
       "      <td>47227110</td>\n",
       "      <td>True</td>\n",
       "      <td>Inspiring</td>\n",
       "    </tr>\n",
       "    <tr>\n",
       "      <th>1</th>\n",
       "      <td>265</td>\n",
       "      <td>977</td>\n",
       "      <td>TED2006</td>\n",
       "      <td>Al Gore</td>\n",
       "      <td>Averting the climate crisis</td>\n",
       "      <td>2006</td>\n",
       "      <td>[{'id': 7, 'name': 'Funny', 'count': 544}, {'i...</td>\n",
       "      <td>3200520</td>\n",
       "      <td>False</td>\n",
       "      <td>Funny</td>\n",
       "    </tr>\n",
       "    <tr>\n",
       "      <th>2</th>\n",
       "      <td>124</td>\n",
       "      <td>1286</td>\n",
       "      <td>TED2006</td>\n",
       "      <td>David Pogue</td>\n",
       "      <td>Simplicity sells</td>\n",
       "      <td>2006</td>\n",
       "      <td>[{'id': 7, 'name': 'Funny', 'count': 964}, {'i...</td>\n",
       "      <td>1636292</td>\n",
       "      <td>False</td>\n",
       "      <td>Funny</td>\n",
       "    </tr>\n",
       "    <tr>\n",
       "      <th>3</th>\n",
       "      <td>200</td>\n",
       "      <td>1116</td>\n",
       "      <td>TED2006</td>\n",
       "      <td>Majora Carter</td>\n",
       "      <td>Greening the ghetto</td>\n",
       "      <td>2006</td>\n",
       "      <td>[{'id': 3, 'name': 'Courageous', 'count': 760}...</td>\n",
       "      <td>1697550</td>\n",
       "      <td>False</td>\n",
       "      <td>Inspiring</td>\n",
       "    </tr>\n",
       "    <tr>\n",
       "      <th>4</th>\n",
       "      <td>593</td>\n",
       "      <td>1190</td>\n",
       "      <td>TED2006</td>\n",
       "      <td>Hans Rosling</td>\n",
       "      <td>The best stats you've ever seen</td>\n",
       "      <td>2006</td>\n",
       "      <td>[{'id': 9, 'name': 'Ingenious', 'count': 3202}...</td>\n",
       "      <td>12005869</td>\n",
       "      <td>False</td>\n",
       "      <td>Informative</td>\n",
       "    </tr>\n",
       "    <tr>\n",
       "      <th>...</th>\n",
       "      <td>...</td>\n",
       "      <td>...</td>\n",
       "      <td>...</td>\n",
       "      <td>...</td>\n",
       "      <td>...</td>\n",
       "      <td>...</td>\n",
       "      <td>...</td>\n",
       "      <td>...</td>\n",
       "      <td>...</td>\n",
       "      <td>...</td>\n",
       "    </tr>\n",
       "    <tr>\n",
       "      <th>2545</th>\n",
       "      <td>17</td>\n",
       "      <td>476</td>\n",
       "      <td>TED2017</td>\n",
       "      <td>Duarte Geraldino</td>\n",
       "      <td>What we're missing in the debate about immigra...</td>\n",
       "      <td>2017</td>\n",
       "      <td>[{'id': 3, 'name': 'Courageous', 'count': 24},...</td>\n",
       "      <td>450430</td>\n",
       "      <td>False</td>\n",
       "      <td>Informative</td>\n",
       "    </tr>\n",
       "    <tr>\n",
       "      <th>2546</th>\n",
       "      <td>6</td>\n",
       "      <td>290</td>\n",
       "      <td>TED2017</td>\n",
       "      <td>Armando Azua-Bustos</td>\n",
       "      <td>The most Martian place on Earth</td>\n",
       "      <td>2017</td>\n",
       "      <td>[{'id': 22, 'name': 'Fascinating', 'count': 32...</td>\n",
       "      <td>417470</td>\n",
       "      <td>False</td>\n",
       "      <td>Informative</td>\n",
       "    </tr>\n",
       "    <tr>\n",
       "      <th>2547</th>\n",
       "      <td>10</td>\n",
       "      <td>651</td>\n",
       "      <td>TED2017</td>\n",
       "      <td>Radhika Nagpal</td>\n",
       "      <td>What intelligent machines can learn from a sch...</td>\n",
       "      <td>2017</td>\n",
       "      <td>[{'id': 1, 'name': 'Beautiful', 'count': 14}, ...</td>\n",
       "      <td>375647</td>\n",
       "      <td>False</td>\n",
       "      <td>Informative</td>\n",
       "    </tr>\n",
       "    <tr>\n",
       "      <th>2548</th>\n",
       "      <td>32</td>\n",
       "      <td>1100</td>\n",
       "      <td>TEDxMileHigh</td>\n",
       "      <td>Theo E.J. Wilson</td>\n",
       "      <td>Wilson A black man goes undercover in the alt-...</td>\n",
       "      <td>2017</td>\n",
       "      <td>[{'id': 11, 'name': 'Longwinded', 'count': 3},...</td>\n",
       "      <td>419309</td>\n",
       "      <td>False</td>\n",
       "      <td>Inspiring</td>\n",
       "    </tr>\n",
       "    <tr>\n",
       "      <th>2549</th>\n",
       "      <td>8</td>\n",
       "      <td>519</td>\n",
       "      <td>TED2017</td>\n",
       "      <td>Karoliina Korppoo</td>\n",
       "      <td>How a video game might help us build better ci...</td>\n",
       "      <td>2017</td>\n",
       "      <td>[{'id': 21, 'name': 'Unconvincing', 'count': 2...</td>\n",
       "      <td>391721</td>\n",
       "      <td>False</td>\n",
       "      <td>Inspiring</td>\n",
       "    </tr>\n",
       "  </tbody>\n",
       "</table>\n",
       "<p>2550 rows × 10 columns</p>\n",
       "</div>"
      ],
      "text/plain": [
       "      comments  duration         event         main_speaker  \\\n",
       "0         4553      1164       TED2006         Ken Robinson   \n",
       "1          265       977       TED2006              Al Gore   \n",
       "2          124      1286       TED2006          David Pogue   \n",
       "3          200      1116       TED2006        Majora Carter   \n",
       "4          593      1190       TED2006         Hans Rosling   \n",
       "...        ...       ...           ...                  ...   \n",
       "2545        17       476       TED2017     Duarte Geraldino   \n",
       "2546         6       290       TED2017  Armando Azua-Bustos   \n",
       "2547        10       651       TED2017       Radhika Nagpal   \n",
       "2548        32      1100  TEDxMileHigh     Theo E.J. Wilson   \n",
       "2549         8       519       TED2017    Karoliina Korppoo   \n",
       "\n",
       "                                                  title  published_date  \\\n",
       "0                           Do schools kill creativity?            2006   \n",
       "1                           Averting the climate crisis            2006   \n",
       "2                                      Simplicity sells            2006   \n",
       "3                                   Greening the ghetto            2006   \n",
       "4                       The best stats you've ever seen            2006   \n",
       "...                                                 ...             ...   \n",
       "2545  What we're missing in the debate about immigra...            2017   \n",
       "2546                    The most Martian place on Earth            2017   \n",
       "2547  What intelligent machines can learn from a sch...            2017   \n",
       "2548  Wilson A black man goes undercover in the alt-...            2017   \n",
       "2549  How a video game might help us build better ci...            2017   \n",
       "\n",
       "                                                ratings     views  \\\n",
       "0     [{'id': 7, 'name': 'Funny', 'count': 19645}, {...  47227110   \n",
       "1     [{'id': 7, 'name': 'Funny', 'count': 544}, {'i...   3200520   \n",
       "2     [{'id': 7, 'name': 'Funny', 'count': 964}, {'i...   1636292   \n",
       "3     [{'id': 3, 'name': 'Courageous', 'count': 760}...   1697550   \n",
       "4     [{'id': 9, 'name': 'Ingenious', 'count': 3202}...  12005869   \n",
       "...                                                 ...       ...   \n",
       "2545  [{'id': 3, 'name': 'Courageous', 'count': 24},...    450430   \n",
       "2546  [{'id': 22, 'name': 'Fascinating', 'count': 32...    417470   \n",
       "2547  [{'id': 1, 'name': 'Beautiful', 'count': 14}, ...    375647   \n",
       "2548  [{'id': 11, 'name': 'Longwinded', 'count': 3},...    419309   \n",
       "2549  [{'id': 21, 'name': 'Unconvincing', 'count': 2...    391721   \n",
       "\n",
       "      is_question most_common_tag  \n",
       "0            True       Inspiring  \n",
       "1           False           Funny  \n",
       "2           False           Funny  \n",
       "3           False       Inspiring  \n",
       "4           False     Informative  \n",
       "...           ...             ...  \n",
       "2545        False     Informative  \n",
       "2546        False     Informative  \n",
       "2547        False     Informative  \n",
       "2548        False       Inspiring  \n",
       "2549        False       Inspiring  \n",
       "\n",
       "[2550 rows x 10 columns]"
      ]
     },
     "execution_count": 87,
     "metadata": {},
     "output_type": "execute_result"
    }
   ],
   "source": [
    "def most_common_tag_name(rating_string):\n",
    "    return most_common_tag_dict(rating_string)['name']\n",
    "    \n",
    "ted_final = ted_with_question.assign(most_common_tag=ted_with_question.get('ratings').apply(most_common_tag_name))\n",
    "ted_final"
   ]
  },
  {
   "cell_type": "code",
   "execution_count": 88,
   "metadata": {
    "deletable": false,
    "editable": false
   },
   "outputs": [
    {
     "data": {
      "text/html": [
       "<p><strong><pre style='display: inline;'>q4_7</pre></strong> passed!</p>"
      ],
      "text/plain": [
       "q4_7 results: All test cases passed!"
      ]
     },
     "execution_count": 88,
     "metadata": {},
     "output_type": "execute_result"
    }
   ],
   "source": [
    "grader.check(\"q4_7\")"
   ]
  },
  {
   "cell_type": "markdown",
   "metadata": {},
   "source": [
    "**Question 4.8.** Use `ted_final` to create a plot that depicts the average number of views for all videos with each `'most_common_tag'`. \n",
    "\n",
    "Then, use your plot to quickly determine which `'most_common_tag'` gets the most views, on average. Save your result as `people_love`.  \n",
    "\n",
    "For this question, do not use `babypandas` methods to find `people_love`. Instead, you must manually type in the name of the tag after looking at the plot you created."
   ]
  },
  {
   "cell_type": "code",
   "execution_count": 89,
   "metadata": {
    "scrolled": false
   },
   "outputs": [
    {
     "data": {
      "image/png": "[encoded data removed]",
      "text/plain": [
       "<Figure size 720x360 with 1 Axes>"
      ]
     },
     "metadata": {},
     "output_type": "display_data"
    }
   ],
   "source": [
    "# Create your plot here.\n",
    "ted_final.groupby('most_common_tag').mean().plot(kind='bar', y='views');"
   ]
  },
  {
   "cell_type": "code",
   "execution_count": 90,
   "metadata": {},
   "outputs": [
    {
     "data": {
      "text/plain": [
       "'Jaw-dropping'"
      ]
     },
     "execution_count": 90,
     "metadata": {},
     "output_type": "execute_result"
    }
   ],
   "source": [
    "people_love = 'Jaw-dropping'\n",
    "people_love"
   ]
  },
  {
   "cell_type": "code",
   "execution_count": 91,
   "metadata": {
    "deletable": false,
    "editable": false
   },
   "outputs": [
    {
     "data": {
      "text/html": [
       "<p><strong><pre style='display: inline;'>q4_8</pre></strong> passed!</p>"
      ],
      "text/plain": [
       "q4_8 results: All test cases passed!"
      ]
     },
     "execution_count": 91,
     "metadata": {},
     "output_type": "execute_result"
    }
   ],
   "source": [
    "grader.check(\"q4_8\")"
   ]
  },
  {
   "cell_type": "markdown",
   "metadata": {},
   "source": [
    "<div class='alert alert-block alert-danger'>\n",
    "    In this question, we used the Python <code>eval</code> function out of necessity. In general, it's a good idea to <b>avoid</b> the <code>eval</code> function. This is because it's possible to call it on an input that looks safe, but contains malicious code. If you're really curious, watch starting around 9 minutes in <a href='https://podcast.ucsd.edu/watch/wi23/dsc80_a00/15'>this video</a> – you can see an example from another data science course where we call the <code>eval</code> function and lose all of our files! 😱\n",
    "</div>"
   ]
  },
  {
   "cell_type": "markdown",
   "metadata": {},
   "source": [
    "## 5. Final Stretch 🧘‍♀️"
   ]
  },
  {
   "cell_type": "markdown",
   "metadata": {},
   "source": [
    "Suppose we have a DataFrame named `data` with two numerical columns, `'x'` and `'y'`. Consider the following scatter plot, which was generated by calling `data.plot(kind='scatter', x='x', y='y')`:\n",
    "\n",
    "<img src='images/q4_scatter_plot.png' width=400/>\n",
    "\n",
    "Now consider these two histograms:\n",
    "\n",
    "<center>\n",
    "    <table><tr>\n",
    "        <td><center><b>Histogram A</b><br> <img src='images/q4_histogram_one.png' width=400></center> </td>\n",
    "        <td><center><b>Histogram B</b><br> <img src='images/q4_histogram_two.png' width=400></center> </td>\n",
    "    </tr></table>\n",
    "</center>"
   ]
  },
  {
   "cell_type": "markdown",
   "metadata": {},
   "source": [
    "**Question 5.1.** Which of the following lines of code generated **Histogram B**? Assign `which_code` to either 1, 2, 3, or 4.\n",
    " \n",
    " \n",
    " 1. `data.plot(kind='hist', density=True, y='x')`\n",
    " 2. `data.plot(kind='hist', density=False, y='x')`\n",
    " 3. `data.plot(kind='hist', density=True, y='y')`\n",
    " 4. `data.plot(kind='hist', density=False, y='y')` "
   ]
  },
  {
   "cell_type": "code",
   "execution_count": 92,
   "metadata": {},
   "outputs": [],
   "source": [
    "which_code = 3"
   ]
  },
  {
   "cell_type": "code",
   "execution_count": 93,
   "metadata": {
    "deletable": false,
    "editable": false
   },
   "outputs": [
    {
     "data": {
      "text/html": [
       "<p><strong><pre style='display: inline;'>q5_1</pre></strong> passed!</p>"
      ],
      "text/plain": [
       "q5_1 results: All test cases passed!"
      ]
     },
     "execution_count": 93,
     "metadata": {},
     "output_type": "execute_result"
    }
   ],
   "source": [
    "grader.check(\"q5_1\")"
   ]
  },
  {
   "cell_type": "markdown",
   "metadata": {},
   "source": [
    "**Question 5.2.** Suppose we run this block of code:\n",
    "\n",
    "```py\n",
    "new_data = bpd.DataFrame().assign(\n",
    "    x = data.get('x') / 4,\n",
    "    y = data.get('y')\n",
    ")\n",
    "```\n",
    "    \n",
    "We then run \n",
    "\n",
    "```py\n",
    "new_data.plot(kind='hist', density=True, y='x')\n",
    "```\n",
    "\n",
    "How will this histogram look compared to the histogram created by \n",
    "\n",
    "```py\n",
    "data.plot(kind='hist', density=True, y='x')\n",
    "```\n",
    "\n",
    "assuming both histograms are drawn on the same axes? Assign `histogram_difference` to either 1, 2, 3, or 4, corresponding to your choice.\n",
    "\n",
    "\n",
    "1. The `new_data` histogram will be narrower and shorter than the `data` histogram.\n",
    "2. The `new_data` histogram will be wider and shorter than the `data` histogram.\n",
    "3. The `new_data` histogram will be narrower and taller than the `data` histogram.\n",
    "4. The `new_data` histogram will be wider and taller than the `data` histogram.\n",
    "\n",
    "\n",
    "\n",
    "**_Hint:_** Look at the end of [Lecture 7](https://dsc10.com/resources/lectures/lec07/lec07.html#Plotting-overlaid-histograms) for an example of two histograms drawn on the same axes."
   ]
  },
  {
   "cell_type": "code",
   "execution_count": 94,
   "metadata": {},
   "outputs": [],
   "source": [
    "histogram_difference = 3"
   ]
  },
  {
   "cell_type": "code",
   "execution_count": 95,
   "metadata": {
    "deletable": false,
    "editable": false
   },
   "outputs": [
    {
     "data": {
      "text/html": [
       "<p><strong><pre style='display: inline;'>q5_2</pre></strong> passed!</p>"
      ],
      "text/plain": [
       "q5_2 results: All test cases passed!"
      ]
     },
     "execution_count": 95,
     "metadata": {},
     "output_type": "execute_result"
    }
   ],
   "source": [
    "grader.check(\"q5_2\")"
   ]
  },
  {
   "cell_type": "markdown",
   "metadata": {},
   "source": [
    "**Question 5.3.** Below, we show Histogram A again.\n",
    "\n",
    "<img src='./images/q4_histogram_one.png' width=400/>\n",
    "\n",
    "What **percent** of values in Histogram A are between -5 (inclusive) and -3 (exclusive)? While we cannot answer this question exactly since we do not know where the bins start and end, we can still approximate the answer. Assign the variable `percent_between` to a number 1 through 5, corresponding to the closest answer.\n",
    "\n",
    "1. 22%\n",
    "1. 27%\n",
    "1. 34%\n",
    "1. 40%\n",
    "1. 48%"
   ]
  },
  {
   "cell_type": "code",
   "execution_count": 96,
   "metadata": {},
   "outputs": [],
   "source": [
    "percent_between = 4 "
   ]
  },
  {
   "cell_type": "code",
   "execution_count": 97,
   "metadata": {
    "deletable": false,
    "editable": false
   },
   "outputs": [
    {
     "data": {
      "text/html": [
       "<p><strong><pre style='display: inline;'>q5_3</pre></strong> passed!</p>"
      ],
      "text/plain": [
       "q5_3 results: All test cases passed!"
      ]
     },
     "execution_count": 97,
     "metadata": {},
     "output_type": "execute_result"
    }
   ],
   "source": [
    "grader.check(\"q5_3\")"
   ]
  },
  {
   "cell_type": "markdown",
   "metadata": {},
   "source": [
    "## Finish Line: Almost there, but make sure to follow the steps below to submit! 🏁\n",
    "\n",
    "**_Citations:_** Did you use any generative artificial intelligence tools to assist you on this assignment? If so, please state, for each tool you used, the name of the tool (ex. ChatGPT) and the problem(s) in this assignment where you used the tool for help."
   ]
  },
  {
   "cell_type": "markdown",
   "metadata": {},
   "source": [
    "<hr style='color:Maroon;background-color:Maroon;border:0 none; height: 3px;'>\n",
    "\n",
    "Please cite tools here.\n",
    "\n",
    "<hr style='color:Maroon;background-color:Maroon;border:0 none; height: 3px;'>"
   ]
  },
  {
   "cell_type": "markdown",
   "metadata": {},
   "source": [
    "To submit your assignment:\n",
    "\n",
    "1. Select `Kernel -> Restart & Run All` to ensure that you have executed all cells, including the test cells. \n",
    "1. Read through the notebook to make sure all cells ran and all tests passed.\n",
    "1. Run the cell below to run all tests, and make sure that they all pass.\n",
    "1. Download your notebook using `File -> Download as -> Notebook (.ipynb)`, then upload your notebook to Gradescope.\n",
    "1. Stick around while the Gradescope autograder grades your work. Make sure you see that all tests have passed on Gradescope.\n",
    "1. Check that you have a confirmation email from Gradescope and save it as proof of your submission. \n",
    "\n",
    "With homeworks, unlike with labs, the grade you see on Gradescope is **not your final score**. We will run correctness tests after the assignment's due date has passed."
   ]
  },
  {
   "cell_type": "code",
   "execution_count": 98,
   "metadata": {},
   "outputs": [
    {
     "data": {
      "text/plain": [
       "q1_1 results: All test cases passed!\n",
       "\n",
       "q1_2 results: All test cases passed!\n",
       "\n",
       "q1_3 results: All test cases passed!\n",
       "\n",
       "q1_4 results: All test cases passed!\n",
       "\n",
       "q1_5 results: All test cases passed!\n",
       "\n",
       "q1_6 results: All test cases passed!\n",
       "\n",
       "q1_7 results: All test cases passed!\n",
       "\n",
       "q2_1 results: All test cases passed!\n",
       "\n",
       "q2_2 results: All test cases passed!\n",
       "\n",
       "q2_4 results: All test cases passed!\n",
       "\n",
       "q2_5 results: All test cases passed!\n",
       "\n",
       "q2_6 results: All test cases passed!\n",
       "\n",
       "q2_7 results: All test cases passed!\n",
       "\n",
       "q3_1 results: All test cases passed!\n",
       "\n",
       "q3_2 results: All test cases passed!\n",
       "\n",
       "q3_3 results: All test cases passed!\n",
       "\n",
       "q3_5 results: All test cases passed!\n",
       "\n",
       "q3_7 results: All test cases passed!\n",
       "\n",
       "q4_1 results: All test cases passed!\n",
       "\n",
       "q4_2 results: All test cases passed!\n",
       "\n",
       "q4_3 results: All test cases passed!\n",
       "\n",
       "q4_4 results: All test cases passed!\n",
       "\n",
       "q4_5 results: All test cases passed!\n",
       "\n",
       "q4_7 results: All test cases passed!\n",
       "\n",
       "q4_8 results: All test cases passed!\n",
       "\n",
       "q5_1 results: All test cases passed!\n",
       "\n",
       "q5_2 results: All test cases passed!\n",
       "\n",
       "q5_3 results: All test cases passed!"
      ]
     },
     "execution_count": 98,
     "metadata": {},
     "output_type": "execute_result"
    }
   ],
   "source": [
    "grader.check_all()"
   ]
  },
  {
   "cell_type": "code",
   "execution_count": null,
   "metadata": {},
   "outputs": [],
   "source": []
  }
 ],
 "metadata": {
  "kernelspec": {
   "display_name": "Python 3 (ipykernel)",
   "language": "python",
   "name": "python3"
  },
  "language_info": {
   "codemirror_mode": {
    "name": "ipython",
    "version": 3
   },
   "file_extension": ".py",
   "mimetype": "text/x-python",
   "name": "python",
   "nbconvert_exporter": "python",
   "pygments_lexer": "ipython3",
   "version": "3.9.5"
  },
  "toc": {
   "base_numbering": 1,
   "nav_menu": {},
   "number_sections": true,
   "sideBar": true,
   "skip_h1_title": false,
   "title_cell": "Table of Contents",
   "title_sidebar": "Contents",
   "toc_cell": false,
   "toc_position": {},
   "toc_section_display": true,
   "toc_window_display": false
  }
 },
 "nbformat": 4,
 "nbformat_minor": 4
}
