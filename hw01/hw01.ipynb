{
 "cells": [
  {
   "cell_type": "markdown",
   "metadata": {},
   "source": [
    "# Homework 1: Basic Python, Arrays, and DataFrames\n",
    "\n",
    "## Due Saturday, October 14th at 11:59PM\n",
    "\n",
    "Welcome to Homework 1! This week's homework will cover basic Python, arrays, and DataFrames. You can find additional help on these topics in [Chapter 1](https://www.inferentialthinking.com/chapters/01/what-is-data-science.html) of Computational and Inferential Thinking and [BPD 1-11](https://notes.dsc10.com/01-getting_started/tools.html) in the `babypandas` notes.\n"
   ]
  },
  {
   "cell_type": "markdown",
   "metadata": {},
   "source": [
    "### Instructions\n",
    "\n",
    "Remember to start early and submit often. You are given six slip days throughout the quarter to extend deadlines. See the syllabus for more details. With the exception of using slip days, late work will not be accepted unless you have made special arrangements with your instructor.\n",
    "\n",
    "**Important**: For homeworks, the `otter` tests don't usually tell you that your answer is correct. More often, they help catch careless mistakes. It's up to you to ensure that your answer is correct. If you're not sure, ask someone (not for the answer, but for some guidance about your approach). These are great questions for office hours (the schedule can be found [here](https://dsc10.com/calendar)) or Ed. Directly sharing answers is not okay, but discussing problems with the course staff or with other students is encouraged. "
   ]
  },
  {
   "cell_type": "code",
   "execution_count": 1,
   "metadata": {},
   "outputs": [],
   "source": [
    "# Please don't change this cell, but do make sure to run it.\n",
    "import babypandas as bpd\n",
    "import matplotlib.pyplot as plt\n",
    "import numpy as np\n",
    "import otter\n",
    "grader = otter.Notebook()\n",
    "\n",
    "plt.style.use('ggplot')"
   ]
  },
  {
   "cell_type": "markdown",
   "metadata": {},
   "source": [
    "## 1. Characters in Peter Pan 👦🏼👱🏻‍♀️🧚👴🏻"
   ]
  },
  {
   "cell_type": "markdown",
   "metadata": {},
   "source": [
    "In Lecture 1, we counted the number of times that the characters Amy, Beth, Jo, Meg, and Laurie were named in each chapter of the classic book _Little Women_. In this question, we'll look at another classic book – _Peter Pan (1911)_ by J. M. Barrie. In 1991, the copyright protections of the original book (but not the movies!) expired, and so sites like Project Gutenberg are able to post copies of the book without violating any copyright laws. Click [here](https://www.gutenberg.org/files/16/16-h/16-h.htm) to read an eBook of the original novel."
   ]
  },
  {
   "cell_type": "markdown",
   "metadata": {},
   "source": [
    "<center><img src=images/peter-pan-illustration.png width=350>(<a href=\"https://en.wikipedia.org/wiki/Peter_and_Wendy\">source</a>)</center>"
   ]
  },
  {
   "cell_type": "markdown",
   "metadata": {},
   "source": [
    "Four of the main characters in _Peter Pan_ are Peter Pan (👦🏼), Wendy Darling (👱🏻‍♀️), Tinker Bell (🧚), and Mr. Smee \n",
    "(👴🏻).\n",
    "\n",
    "Below, we've written code that shows the number of mentions of each of these four characters in the first 12 chapters of the book. However, instead of displaying this information in a line chart, as was done in Lecture 1, we will use a bar chart.\n",
    "\n",
    "Run the cell below to generate this bar chart of the first 12 chapters. This cell contains code that hasn't yet been covered in the course. It isn't expected that you'll understand the code, but you should be able to interpret the bar chart it generates. The questions below can all be answered from the bar chart alone! It may help to open another copy of the notebook in a new tab so you can easily refer to the bar chart throughout this question."
   ]
  },
  {
   "cell_type": "code",
   "execution_count": 2,
   "metadata": {
    "tags": []
   },
   "outputs": [
    {
     "data": {
      "image/png": "[encoded data removed]",
      "text/plain": [
       "<Figure size 1008x576 with 1 Axes>"
      ]
     },
     "metadata": {},
     "output_type": "display_data"
    }
   ],
   "source": [
    "# Open the book and split it into chapters.\n",
    "book_file = 'data/peter-and-wendy.txt'\n",
    "raw_book = open(book_file, encoding=\"utf-8\").read()\n",
    "end_pos = raw_book.index('Chapter XIII')\n",
    "chapters = raw_book[:end_pos].split('Chapter ')[1:]\n",
    "\n",
    "# Find the number of words in each chapter.\n",
    "chapter_lengths = (np.array([len(c.split(' ')) for c in chapters]) / 100)\n",
    "# Find the number of mentions per 100 words for each character and chapter.\n",
    "characters = bpd.DataFrame().assign(\n",
    "    Chapter=np.arange(1, 13),\n",
    "    Peter=np.char.count(chapters, 'Peter') / chapter_lengths,\n",
    "    Wendy=np.char.count(chapters, 'Wendy') / chapter_lengths,\n",
    "    Tinker_Bell=np.char.count(chapters, 'Tinker Bell') / chapter_lengths,\n",
    "    Smee=np.char.count(chapters, 'Smee') / chapter_lengths\n",
    ")\n",
    "\n",
    "characters.plot(kind='bar', x='Chapter', figsize=(14, 8))\n",
    "plt.ylabel('Mentions per 100 words in chapter');"
   ]
  },
  {
   "cell_type": "code",
   "execution_count": 3,
   "metadata": {},
   "outputs": [
    {
     "data": {
      "text/html": [
       "<div>\n",
       "<style scoped>\n",
       "    .dataframe tbody tr th:only-of-type {\n",
       "        vertical-align: middle;\n",
       "    }\n",
       "\n",
       "    .dataframe tbody tr th {\n",
       "        vertical-align: top;\n",
       "    }\n",
       "\n",
       "    .dataframe thead th {\n",
       "        text-align: right;\n",
       "    }\n",
       "</style>\n",
       "<table border=\"1\" class=\"dataframe\">\n",
       "  <thead>\n",
       "    <tr style=\"text-align: right;\">\n",
       "      <th></th>\n",
       "      <th>Chapter</th>\n",
       "      <th>Peter</th>\n",
       "      <th>Wendy</th>\n",
       "      <th>Tinker_Bell</th>\n",
       "      <th>Smee</th>\n",
       "    </tr>\n",
       "  </thead>\n",
       "  <tbody>\n",
       "    <tr>\n",
       "      <th>0</th>\n",
       "      <td>1</td>\n",
       "      <td>9.0</td>\n",
       "      <td>28.0</td>\n",
       "      <td>0.0</td>\n",
       "      <td>0.0</td>\n",
       "    </tr>\n",
       "    <tr>\n",
       "      <th>1</th>\n",
       "      <td>2</td>\n",
       "      <td>4.0</td>\n",
       "      <td>16.0</td>\n",
       "      <td>0.0</td>\n",
       "      <td>0.0</td>\n",
       "    </tr>\n",
       "    <tr>\n",
       "      <th>2</th>\n",
       "      <td>3</td>\n",
       "      <td>56.0</td>\n",
       "      <td>50.0</td>\n",
       "      <td>7.0</td>\n",
       "      <td>0.0</td>\n",
       "    </tr>\n",
       "    <tr>\n",
       "      <th>3</th>\n",
       "      <td>4</td>\n",
       "      <td>31.0</td>\n",
       "      <td>29.0</td>\n",
       "      <td>3.0</td>\n",
       "      <td>0.0</td>\n",
       "    </tr>\n",
       "    <tr>\n",
       "      <th>4</th>\n",
       "      <td>5</td>\n",
       "      <td>24.0</td>\n",
       "      <td>6.0</td>\n",
       "      <td>2.0</td>\n",
       "      <td>17.0</td>\n",
       "    </tr>\n",
       "    <tr>\n",
       "      <th>...</th>\n",
       "      <td>...</td>\n",
       "      <td>...</td>\n",
       "      <td>...</td>\n",
       "      <td>...</td>\n",
       "      <td>...</td>\n",
       "    </tr>\n",
       "    <tr>\n",
       "      <th>7</th>\n",
       "      <td>8</td>\n",
       "      <td>34.0</td>\n",
       "      <td>28.0</td>\n",
       "      <td>0.0</td>\n",
       "      <td>20.0</td>\n",
       "    </tr>\n",
       "    <tr>\n",
       "      <th>8</th>\n",
       "      <td>9</td>\n",
       "      <td>13.0</td>\n",
       "      <td>2.0</td>\n",
       "      <td>0.0</td>\n",
       "      <td>0.0</td>\n",
       "    </tr>\n",
       "    <tr>\n",
       "      <th>9</th>\n",
       "      <td>10</td>\n",
       "      <td>26.0</td>\n",
       "      <td>27.0</td>\n",
       "      <td>3.0</td>\n",
       "      <td>0.0</td>\n",
       "    </tr>\n",
       "    <tr>\n",
       "      <th>10</th>\n",
       "      <td>11</td>\n",
       "      <td>30.0</td>\n",
       "      <td>30.0</td>\n",
       "      <td>2.0</td>\n",
       "      <td>0.0</td>\n",
       "    </tr>\n",
       "    <tr>\n",
       "      <th>11</th>\n",
       "      <td>12</td>\n",
       "      <td>8.0</td>\n",
       "      <td>1.0</td>\n",
       "      <td>0.0</td>\n",
       "      <td>3.0</td>\n",
       "    </tr>\n",
       "  </tbody>\n",
       "</table>\n",
       "<p>12 rows × 5 columns</p>\n",
       "</div>"
      ],
      "text/plain": [
       "    Chapter  Peter  Wendy  Tinker_Bell  Smee\n",
       "0         1    9.0   28.0          0.0   0.0\n",
       "1         2    4.0   16.0          0.0   0.0\n",
       "2         3   56.0   50.0          7.0   0.0\n",
       "3         4   31.0   29.0          3.0   0.0\n",
       "4         5   24.0    6.0          2.0  17.0\n",
       "..      ...    ...    ...          ...   ...\n",
       "7         8   34.0   28.0          0.0  20.0\n",
       "8         9   13.0    2.0          0.0   0.0\n",
       "9        10   26.0   27.0          3.0   0.0\n",
       "10       11   30.0   30.0          2.0   0.0\n",
       "11       12    8.0    1.0          0.0   3.0\n",
       "\n",
       "[12 rows x 5 columns]"
      ]
     },
     "execution_count": 3,
     "metadata": {},
     "output_type": "execute_result"
    }
   ],
   "source": [
    "# Creating a DataFrame of number of mentions per Chapter\n",
    "\n",
    "# Creating arrays of the percent of mentions per chapter and multiply \\\n",
    "# by the number of \n",
    "p = np.array(characters.get('Peter')) * chapter_lengths\n",
    "w = np.array(characters.get('Wendy')) * chapter_lengths\n",
    "tb = np.array(characters.get('Tinker_Bell')) * chapter_lengths\n",
    "s = np.array(characters.get('Smee')) * chapter_lengths\n",
    "\n",
    "mentions_per_chapter = bpd.DataFrame().assign(\n",
    "    Chapter = np.arange(1, 13),\n",
    "    Peter = p,\n",
    "    Wendy = w,\n",
    "    Tinker_Bell = tb,\n",
    "    Smee = s\n",
    ")\n",
    "\n",
    "mentions_per_chapter"
   ]
  },
  {
   "cell_type": "markdown",
   "metadata": {},
   "source": [
    "Looking at the bar chart, we see that the height of the bar for Peter in Chapter 1 is 0.27 and the y-axis of this graph is “Mentions per 100 words in chapter”;  this means that 0.27 of every 100 words in Chapter 1 are `\"Peter\"`. In other words, $0.27\\%$ of the words in Chapter 1 are `\"Peter\"`."
   ]
  },
  {
   "cell_type": "markdown",
   "metadata": {},
   "source": [
    "**Question 1.1.**  The following sentences are the very first time Peter Pan, Tinker Bell, and Mr. Smee are mentioned in the book, respectively:\n",
    "\n",
    "> There never was a simpler happier family until the coming of Peter Pan.\n",
    "\n",
    ">  It was a girl called Tinker Bell exquisitely gowned in a skeleton leaf.\n",
    "\n",
    "> The boat drew nearer. It was the pirate dinghy, with three figures in her, Smee and Starkey, and the third a captive, no other than Tiger Lily. \n",
    "\n",
    "Which chapters are each of these sentences from? Assign the variables `peter_debut`, `tinker_bell_debut`, `smee_debut` to an integer between 1 and 12."
   ]
  },
  {
   "cell_type": "code",
   "execution_count": 4,
   "metadata": {
    "tags": []
   },
   "outputs": [],
   "source": [
    "peter_debut = 1\n",
    "tinker_bell_debut = 3\n",
    "smee_debut = 5"
   ]
  },
  {
   "cell_type": "code",
   "execution_count": 5,
   "metadata": {
    "deletable": false,
    "editable": false
   },
   "outputs": [
    {
     "data": {
      "text/html": [
       "<p><strong><pre style='display: inline;'>q1_1</pre></strong> passed!</p>"
      ],
      "text/plain": [
       "q1_1 results: All test cases passed!"
      ]
     },
     "execution_count": 5,
     "metadata": {},
     "output_type": "execute_result"
    }
   ],
   "source": [
    "grader.check(\"q1_1\")"
   ]
  },
  {
   "cell_type": "markdown",
   "metadata": {},
   "source": [
    "**Question 1.2.** Wendy is mentioned 28 times in Chapter 8. How many times is Peter mentioned in Chapter 8? Assign the variable `peter_mentioned` to 1, 2, 3, 4, or 5 corresponding to the answer choices below. Remember to input your answer as either **1, 2, 3, 4, or 5, corresponding to the option numbers below, and not to the number of times Peter is mentioned.** For example, if you think Peter is mentioned 44 times, you should set `peter_mentioned` to 5, not 44.\n",
    "\n",
    "1. 28 times\n",
    "1. 30 times\n",
    "1. 34 times\n",
    "1. 40 times\n",
    "1. 44 times"
   ]
  },
  {
   "cell_type": "code",
   "execution_count": 6,
   "metadata": {
    "tags": []
   },
   "outputs": [],
   "source": [
    "peter_mentioned = 3"
   ]
  },
  {
   "cell_type": "code",
   "execution_count": 7,
   "metadata": {
    "deletable": false,
    "editable": false
   },
   "outputs": [
    {
     "data": {
      "text/html": [
       "<p><strong><pre style='display: inline;'>q1_2</pre></strong> passed!</p>"
      ],
      "text/plain": [
       "q1_2 results: All test cases passed!"
      ]
     },
     "execution_count": 7,
     "metadata": {},
     "output_type": "execute_result"
    }
   ],
   "source": [
    "grader.check(\"q1_2\")"
   ]
  },
  {
   "cell_type": "markdown",
   "metadata": {},
   "source": [
    "**Question 1.3.** Chapter 3 is quite long, as its the chapter when Peter tells Wendy that he ran away from his parents. For reference, Chapter 6 is 2369 words long while Chapter 3 is 3931 words long. Based on this information and the plot, which of the following is correct? Assign the variable `pp_part3` to 1, 2, 3, or 4.\n",
    "\n",
    "1. Peter is mentioned more times in Chapter 3 than in Chapter 6. Tinker Bell is mentioned more times in Chapter 3 than in Chapter 6.\n",
    "1. Peter is mentioned more times in Chapter 3 than in Chapter 6. Tinker Bell is mentioned fewer times in Chapter 3 than in Chapter 6.\n",
    "1. Peter is mentioned fewer times in Chapter 3 than in Chapter 6. Tinker Bell is mentioned more times in Chapter 3 than in Chapter 6.\n",
    "1. Peter is mentioned fewer times in Chapter 3 than in Chapter 6. Tinker Bell is mentioned fewer times in Chapter 3 than in Chapter 6."
   ]
  },
  {
   "cell_type": "code",
   "execution_count": 8,
   "metadata": {
    "tags": []
   },
   "outputs": [],
   "source": [
    "# mentions_per_chapter.get('Peter').iloc[5] 46 56\n",
    "# mentions_per_chapter.get('Tinker_Bell').iloc[5] 4 7\n",
    "\n",
    "pp_part3 = 1\n"
   ]
  },
  {
   "cell_type": "code",
   "execution_count": 9,
   "metadata": {
    "deletable": false,
    "editable": false
   },
   "outputs": [
    {
     "data": {
      "text/html": [
       "<p><strong><pre style='display: inline;'>q1_3</pre></strong> passed!</p>"
      ],
      "text/plain": [
       "q1_3 results: All test cases passed!"
      ]
     },
     "execution_count": 9,
     "metadata": {},
     "output_type": "execute_result"
    }
   ],
   "source": [
    "grader.check(\"q1_3\")"
   ]
  },
  {
   "cell_type": "markdown",
   "metadata": {},
   "source": [
    "**Question 1.4.** Which of the following is a valid conclusion we can make based off of the above plot alone? Assign `pp_part4` to 1, 2, 3, 4, or 5. There is only one correct answer.\n",
    "\n",
    "1. Wendy is mentioned more times in Chapter 10 than she is in Chapter 11.\n",
    "\n",
    "1. Mr. Smee is mentioned more in Chapter 8 than any other chapter.\n",
    "\n",
    "1. Tinker Bell is mentioned roughly the same number of times in Chapters 6 and 10.\n",
    "\n",
    "1. Tinker Bell is mentioned less in Chapter 5 than any other chapter.\n",
    "\n",
    "1. Peter and Wendy are mentioned roughly the same number of times in Chapter 11."
   ]
  },
  {
   "cell_type": "code",
   "execution_count": 10,
   "metadata": {
    "tags": []
   },
   "outputs": [],
   "source": [
    "pp_part4 = 2\n"
   ]
  },
  {
   "cell_type": "code",
   "execution_count": 11,
   "metadata": {
    "deletable": false,
    "editable": false
   },
   "outputs": [
    {
     "data": {
      "text/html": [
       "<p><strong><pre style='display: inline;'>q1_4</pre></strong> passed!</p>"
      ],
      "text/plain": [
       "q1_4 results: All test cases passed!"
      ]
     },
     "execution_count": 11,
     "metadata": {},
     "output_type": "execute_result"
    }
   ],
   "source": [
    "grader.check(\"q1_4\")"
   ]
  },
  {
   "cell_type": "markdown",
   "metadata": {},
   "source": [
    "**_Note:_**  The tests in this section only check that you set each variable to a number in the correct range. Unlike in labs, tests in homeworks **do not** check that you answered correctly; they only check that your answer is *reasonable*, or in the correct format. To put it another way: all of your tests might pass, but that doesn't mean you'll get full credit – some of your answers may still be wrong. It's up to you to make sure that they're right!"
   ]
  },
  {
   "cell_type": "markdown",
   "metadata": {},
   "source": [
    "## 2. Python Basics 🐍"
   ]
  },
  {
   "cell_type": "markdown",
   "metadata": {},
   "source": [
    "**Question 2.1.** When you run the following cell, Python produces a cryptic error message."
   ]
  },
  {
   "cell_type": "code",
   "execution_count": 12,
   "metadata": {
    "tags": []
   },
   "outputs": [],
   "source": [
    "# 2023 = 2025 - 2.0"
   ]
  },
  {
   "cell_type": "markdown",
   "metadata": {},
   "source": [
    "Choose the best explanation of what's wrong with the code, and then assign 1, 2, 3, or 4 to `basics_part1` below to indicate your answer.\n",
    "\n",
    "1. The left hand side is an `int`, while the right hand side is a `float`. The left side should be `2023.0` isntead.\n",
    "\n",
    "1. The result should be written after the calculation. It should be `2025 - 2.0 = 2023`.\n",
    "\n",
    "1. Python is not able to subtract a `float` from an `int` because they are of different data types.\n",
    "\n",
    "1. This is trying to create a variable named `2023`, which doesn't make sense because `2023` is a number.\n"
   ]
  },
  {
   "cell_type": "markdown",
   "metadata": {},
   "source": [
    "<font color=red>**🚨 Important: Once you have finished this question, \"comment\"  out the above code cell out by replacing it with `# 2023 = 2025 - 2.0`. This will prevent the error message from appearing when your notebook is graded.**</font>"
   ]
  },
  {
   "cell_type": "code",
   "execution_count": 13,
   "metadata": {
    "tags": []
   },
   "outputs": [],
   "source": [
    "basics_part1 = 1"
   ]
  },
  {
   "cell_type": "code",
   "execution_count": 14,
   "metadata": {
    "deletable": false,
    "editable": false
   },
   "outputs": [
    {
     "data": {
      "text/html": [
       "<p><strong><pre style='display: inline;'>q2_1</pre></strong> passed!</p>"
      ],
      "text/plain": [
       "q2_1 results: All test cases passed!"
      ]
     },
     "execution_count": 14,
     "metadata": {},
     "output_type": "execute_result"
    }
   ],
   "source": [
    "grader.check(\"q2_1\")"
   ]
  },
  {
   "cell_type": "markdown",
   "metadata": {},
   "source": [
    "**Question 2.2.** Consider the following poorly-written code."
   ]
  },
  {
   "cell_type": "code",
   "execution_count": 15,
   "metadata": {
    "tags": []
   },
   "outputs": [],
   "source": [
    "two = 2\n",
    "three = 3\n",
    "two = two + three\n",
    "two = two * three\n",
    "two = two * two\n",
    "two = -two"
   ]
  },
  {
   "cell_type": "markdown",
   "metadata": {},
   "source": [
    "As this code executes, what values does the variable `two` take on? Assign 1, 2, 3, or 4 to `basics_part2` to indicate your answer.\n",
    "\n",
    "1. The variable `two` takes on the values 2, 5, 6, 4, -4.\n",
    "\n",
    "2. The variable `two` takes on the values 2, 5, 15, 225, -225.\n",
    "\n",
    "3. The variable `two` takes on the values 2, 5, 6, 12, -12.\n",
    "\n",
    "4. The variable `two` takes on the values 2, 5, 12, 144, -144."
   ]
  },
  {
   "cell_type": "code",
   "execution_count": 16,
   "metadata": {},
   "outputs": [],
   "source": [
    "basics_part2 = 2"
   ]
  },
  {
   "cell_type": "code",
   "execution_count": 17,
   "metadata": {
    "deletable": false,
    "editable": false
   },
   "outputs": [
    {
     "data": {
      "text/html": [
       "<p><strong><pre style='display: inline;'>q2_2</pre></strong> passed!</p>"
      ],
      "text/plain": [
       "q2_2 results: All test cases passed!"
      ]
     },
     "execution_count": 17,
     "metadata": {},
     "output_type": "execute_result"
    }
   ],
   "source": [
    "grader.check(\"q2_2\")"
   ]
  },
  {
   "cell_type": "markdown",
   "metadata": {},
   "source": [
    "## 3. Road Trip   🚘 "
   ]
  },
  {
   "cell_type": "markdown",
   "metadata": {},
   "source": [
    "This summer, you went on a road trip with your friend Bill. Now, you want to perform some calculations on data you gathered throughout your journey. Answer the questions below, using Python to perform all the intermediate calculations, such as adding, squaring, and dividing.\n",
    "\n",
    "Note that the `math` package has not been imported. You don't need it for this question, and **you should not import it**, otherwise the autograder may produce an error.\n",
    "\n",
    "**Question 3.1.** On the first day of the trip, Bill drove the car at three different speeds, for varying lengths of time, as shown below:\n",
    "\n",
    "| Journey | Speed (miles per hour) | Time (hours)|\n",
    "| --- | --- | --- |\n",
    "| Part 1 | 56 | 3 |\n",
    "| Part 2 | 44 | 4 |\n",
    "| Part 3 | 80 | 2 |\n",
    "\n",
    "Bill was lucky to avoid a ticket in the last part of the journey!\n",
    "\n",
    "Using this information, calculate the average speed, in miles per hour, at which Bill drove the car that day, and assign your answer to the variable `means_part1`. Recall from math and physics that the average speed is the total distance driven divided by the total time taken."
   ]
  },
  {
   "cell_type": "code",
   "execution_count": 18,
   "metadata": {
    "tags": []
   },
   "outputs": [
    {
     "data": {
      "text/plain": [
       "56.0"
      ]
     },
     "execution_count": 18,
     "metadata": {},
     "output_type": "execute_result"
    }
   ],
   "source": [
    "# Feel free to define intermediate variables to use in your solution.\n",
    "\n",
    "total_distance = sum([56 * 3, 44 * 4, 80 * 2])\n",
    "total_time = sum([3, 4, 2])\n",
    "means_part1 = total_distance / total_time\n",
    "means_part1"
   ]
  },
  {
   "cell_type": "code",
   "execution_count": 19,
   "metadata": {
    "deletable": false,
    "editable": false
   },
   "outputs": [
    {
     "data": {
      "text/html": [
       "<p><strong><pre style='display: inline;'>q3_1</pre></strong> passed!</p>"
      ],
      "text/plain": [
       "q3_1 results: All test cases passed!"
      ]
     },
     "execution_count": 19,
     "metadata": {},
     "output_type": "execute_result"
    }
   ],
   "source": [
    "grader.check(\"q3_1\")"
   ]
  },
  {
   "cell_type": "markdown",
   "metadata": {},
   "source": [
    "**Question 3.2.** On the second day of the trip, Bill drove the car three times again, but this time at the speeds and distances seen below:\n",
    "\n",
    "| Journey | Speed (miles per hour) | Distance (miles)|\n",
    "| --- | --- | --- |\n",
    "| Part 1 | 56 | 3 |\n",
    "| Part 2 | 44 | 4 |\n",
    "| Part 3 | 80 | 2 |\n",
    "\n",
    "Using this information, calculate the average speed, in miles per hour, at which Bill drove the car that day, and assign your answer to the variable `means_part2`. \n",
    "\n",
    "Note that the third column is **`'Distance (miles)'`, not `'Time (hours)'`**. Unlike in Question 3.1, you aren't given the amount of time that each part of the journey took; you need to compute these times yourself. To calculate the time taken for each part of the journey, divide the distance for that part by the speed for that part. Finally, add up the times for the three parts of the trip to find the total time."
   ]
  },
  {
   "cell_type": "code",
   "execution_count": 20,
   "metadata": {
    "tags": []
   },
   "outputs": [
    {
     "data": {
      "text/plain": [
       "53.10344827586207"
      ]
     },
     "execution_count": 20,
     "metadata": {},
     "output_type": "execute_result"
    }
   ],
   "source": [
    "# Feel free to define intermediate variables to use in your solution.\n",
    "\n",
    "\n",
    "total_distance2 = sum([3, 4, 2])\n",
    "total_time2 = sum([3 / 56, 4 / 44, 2 / 80])\n",
    "\n",
    "means_part2 = total_distance2 / total_time2\n",
    "means_part2"
   ]
  },
  {
   "cell_type": "code",
   "execution_count": 21,
   "metadata": {
    "deletable": false,
    "editable": false
   },
   "outputs": [
    {
     "data": {
      "text/html": [
       "<p><strong><pre style='display: inline;'>q3_2</pre></strong> passed!</p>"
      ],
      "text/plain": [
       "q3_2 results: All test cases passed!"
      ]
     },
     "execution_count": 21,
     "metadata": {},
     "output_type": "execute_result"
    }
   ],
   "source": [
    "grader.check(\"q3_2\")"
   ]
  },
  {
   "cell_type": "markdown",
   "metadata": {},
   "source": [
    "**Question 3.3.** On the way back home, Bill stopped at a pet store to buy an aquarium. The only one available was a rectangular tank, which unfortunately didn't fit in the car because of your suitcases. This tank had a height of 56 inches, a width of 44 inches, and a length of 80 inches. \n",
    "\n",
    "Bill thought that the aquarium would have fit in the car with all your suitcases if it had the same volume, but was shaped as a cube instead. What would the length of each side of such an aquarium be in inches? Save your answer in the variable `means_part3`."
   ]
  },
  {
   "cell_type": "code",
   "execution_count": 22,
   "metadata": {},
   "outputs": [
    {
     "data": {
      "text/plain": [
       "58.19829079033164"
      ]
     },
     "execution_count": 22,
     "metadata": {},
     "output_type": "execute_result"
    }
   ],
   "source": [
    "# Feel free to define intermediate variables to use in your solution.\n",
    "\n",
    "height = 56\n",
    "width = 44\n",
    "length = 80\n",
    "\n",
    "means_part3 = (height * width * length) ** (1 / 3)\n",
    "means_part3"
   ]
  },
  {
   "cell_type": "code",
   "execution_count": 23,
   "metadata": {
    "deletable": false,
    "editable": false
   },
   "outputs": [
    {
     "data": {
      "text/html": [
       "<p><strong><pre style='display: inline;'>q3_3</pre></strong> passed!</p>"
      ],
      "text/plain": [
       "q3_3 results: All test cases passed!"
      ]
     },
     "execution_count": 23,
     "metadata": {},
     "output_type": "execute_result"
    }
   ],
   "source": [
    "grader.check(\"q3_3\")"
   ]
  },
  {
   "cell_type": "markdown",
   "metadata": {},
   "source": [
    "In this problem, though you calculated three different quantities in three different ways, all of your results are actually considered **means**, of various kinds!\n",
    "\n",
    "In Question 3.1., given $n$ values $x_1, x_2, ..., x_n$, you found an *arithmetic mean*, using the formula\n",
    "\n",
    "$${x_1+x_2+...+x_n \\over n},$$\n",
    "\n",
    "where the numerator represented total distance and the denominator represented total time. An arithmetic mean is the usual type of mean or average you're used to seeing. It turns out that you actually computed a more sophisticated arithmetic mean, known as a _weighted arithmetic mean_, \n",
    "\n",
    "$$\\frac{w_1 x_1 + w_2 x_2 + ... + w_n x_n}{w_1 + w_2 + ... + w_n},$$\n",
    "\n",
    "where the weights $w_1, w_2, w_3$ were the times travelled in each part of the journey.\n",
    "\n",
    "In Question 3.2., given  $n$ values $x_1, x_2, ..., x_n$, you found a *harmonic mean*, using the formula\n",
    "\n",
    "$${n \\over {{1 \\over x_1}+{1 \\over x_2}+ ... + {1 \\over x_n}}},$$ \n",
    "\n",
    "\n",
    "where the numerator represented total distance and the denominator represented total time. To calculate the total time, you needed to sum the time taken for each part of the trip, calculated using the fact that time is distance over speed. Again, it turns out that you actually computed the _weighted harmonic mean_, but this time the weights were the distances travelled. If you're curious, see the formula [here](https://en.wikipedia.org/wiki/Harmonic_mean#Weighted_harmonic_mean).\n",
    "\n",
    "Finally in Question 3.3., given $n$ values $x_1, x_2, ..., x_n$, you found a *geometric mean*, using the formula \n",
    "\n",
    "$${\\sqrt[n]{x_1 \\cdot x_2 \\cdot ... \\cdot x_n}},$$ \n",
    "\n",
    "where each value represented a dimension of the rectangular tank. \n",
    "\n",
    "As you can see, there are many different notions of the mean. You'll learn about some of them if you take DSC 40A!"
   ]
  },
  {
   "cell_type": "markdown",
   "metadata": {},
   "source": [
    "## 4. Social Media Usage Among Communities 📱"
   ]
  },
  {
   "cell_type": "markdown",
   "metadata": {},
   "source": [
    "In this problem, we want to compare and contrast social media usage among Americans who live in different types of communities (urban, suburban, and rural). The data below comes from [Pew Research Center's 2021 Social Media Fact Sheet](https://www.pewresearch.org/internet/fact-sheet/social-media/?tabId=tab-c14683cb-c4f4-41d0-a635-52c4eeae0245). It shows what percent of residents of each type of community use Facebook, Instagram, and LinkedIn.\n",
    "\n",
    "| Percent of community using platform       | Urban  | Suburban  | Rural |\n",
    "|-------------------------------------------|-------------|-----------|-----------|\n",
    "| Facebook        | 70 | 70 | 67 | \n",
    "| Instagram       | 45 | 41 | 25 | \n",
    "| LinkedIn    | 30 | 33  | 15 | \n",
    "\n",
    "We define the **dissimilarity** between two communities as the largest absolute difference between their three respective usage percentages.\n",
    "\n",
    "To better understand dissimilarity, consider the following hypothetical situation, where we compare the social media usage in community A and community B. Suppose:\n",
    "* Community A's *usage of Facebook* is **10 percent more** than community B's.\n",
    "* Community A's *usage of Instagram* is **3 percent less** than community B's.\n",
    "* Community A's *usage of LinkedIn* is **7 percent less** than community B's.\n",
    "\n",
    "Then, we would say the dissimilarity between community A and community B is 10, since 10 is larger than both 3 and 7."
   ]
  },
  {
   "cell_type": "code",
   "execution_count": 24,
   "metadata": {},
   "outputs": [
    {
     "data": {
      "text/html": [
       "<div>\n",
       "<style scoped>\n",
       "    .dataframe tbody tr th:only-of-type {\n",
       "        vertical-align: middle;\n",
       "    }\n",
       "\n",
       "    .dataframe tbody tr th {\n",
       "        vertical-align: top;\n",
       "    }\n",
       "\n",
       "    .dataframe thead th {\n",
       "        text-align: right;\n",
       "    }\n",
       "</style>\n",
       "<table border=\"1\" class=\"dataframe\">\n",
       "  <thead>\n",
       "    <tr style=\"text-align: right;\">\n",
       "      <th></th>\n",
       "      <th>Urban</th>\n",
       "      <th>Suburban</th>\n",
       "      <th>Rural</th>\n",
       "    </tr>\n",
       "    <tr>\n",
       "      <th>Platform</th>\n",
       "      <th></th>\n",
       "      <th></th>\n",
       "      <th></th>\n",
       "    </tr>\n",
       "  </thead>\n",
       "  <tbody>\n",
       "    <tr>\n",
       "      <th>Facebook</th>\n",
       "      <td>70</td>\n",
       "      <td>70</td>\n",
       "      <td>67</td>\n",
       "    </tr>\n",
       "    <tr>\n",
       "      <th>Instagram</th>\n",
       "      <td>45</td>\n",
       "      <td>41</td>\n",
       "      <td>25</td>\n",
       "    </tr>\n",
       "    <tr>\n",
       "      <th>LinkedIn</th>\n",
       "      <td>30</td>\n",
       "      <td>33</td>\n",
       "      <td>15</td>\n",
       "    </tr>\n",
       "  </tbody>\n",
       "</table>\n",
       "</div>"
      ],
      "text/plain": [
       "           Urban  Suburban  Rural\n",
       "Platform                         \n",
       "Facebook      70        70     67\n",
       "Instagram     45        41     25\n",
       "LinkedIn      30        33     15"
      ]
     },
     "execution_count": 24,
     "metadata": {},
     "output_type": "execute_result"
    }
   ],
   "source": [
    "# Creating a DataFrame of the Social Media's and their community \n",
    "\n",
    "dissimilarity_chart = bpd.DataFrame().assign(\n",
    "    Platform = np.array([\"Facebook\", \"Instagram\", \"LinkedIn\"]),\n",
    "    Urban = np.array([70, 45, 30]),\n",
    "    Suburban = np.array([70, 41, 33]),\n",
    "    Rural = np.array([67,25, 15])\n",
    ")\n",
    "\n",
    "dissimilarity_chart_2 = dissimilarity_chart.set_index('Platform')\n",
    "\n",
    "dissimilarity_chart_2"
   ]
  },
  {
   "cell_type": "code",
   "execution_count": 25,
   "metadata": {},
   "outputs": [],
   "source": [
    "# Function to calculate the dissimilarity between two communities\n",
    "\n",
    "# Parameters: data frame of communities, string name of first community, string name of second community\n",
    "def get_dissimilarity(data_frame, community_1, community_2):\n",
    "    # Create an array calculating in the dissimilarity\n",
    "    return np.array([abs((data_frame.get(community_1).iloc[0]-data_frame.get(community_2).iloc[0])), \\\n",
    "                     abs((data_frame.get(community_1).iloc[1]-data_frame.get(community_2).iloc[1])), \\\n",
    "                     abs((data_frame.get(community_1).iloc[2]-data_frame.get(community_2).iloc[2]))]).max()\n",
    "                              \n",
    "                              "
   ]
  },
  {
   "cell_type": "markdown",
   "metadata": {},
   "source": [
    "**Question 4.1.** \n",
    "Using this method, compute the dissimilarity between urban and suburban communities.  Assign the result to the variable `dissimilarity`. Use a single expression (a single line of code) to compute the answer. Let Python perform all the arithmetic (like subtracting) rather than simplifying the expression yourself. \n",
    "\n",
    "**_Hint:_**  The built-in `abs` function computes absolute values. "
   ]
  },
  {
   "cell_type": "code",
   "execution_count": 26,
   "metadata": {
    "tags": []
   },
   "outputs": [
    {
     "data": {
      "text/plain": [
       "4"
      ]
     },
     "execution_count": 26,
     "metadata": {},
     "output_type": "execute_result"
    }
   ],
   "source": [
    "dissimilarity = get_dissimilarity(dissimilarity_chart_2,'Urban', 'Suburban')\n",
    "dissimilarity"
   ]
  },
  {
   "cell_type": "code",
   "execution_count": 27,
   "metadata": {
    "deletable": false,
    "editable": false
   },
   "outputs": [
    {
     "data": {
      "text/html": [
       "<p><strong><pre style='display: inline;'>q4_1</pre></strong> passed!</p>"
      ],
      "text/plain": [
       "q4_1 results: All test cases passed!"
      ]
     },
     "execution_count": 27,
     "metadata": {},
     "output_type": "execute_result"
    }
   ],
   "source": [
    "grader.check(\"q4_1\")"
   ]
  },
  {
   "cell_type": "markdown",
   "metadata": {},
   "source": [
    "**Question 4.2.** Which pair of communities is **most** dissimilar, according to this measurement? Assign either 1, 2, or 3 to the variable `most_dissimilar` below. Check whether your answer matches up with your intuition.\n",
    "\n",
    "1. urban and suburban communities\n",
    "1. suburban and rural communities\n",
    "1. urban and rural communities"
   ]
  },
  {
   "cell_type": "code",
   "execution_count": 28,
   "metadata": {
    "tags": []
   },
   "outputs": [
    {
     "data": {
      "text/plain": [
       "3"
      ]
     },
     "execution_count": 28,
     "metadata": {},
     "output_type": "execute_result"
    }
   ],
   "source": [
    "d1 = get_dissimilarity(dissimilarity_chart_2, 'Urban', 'Suburban')\n",
    "d1 # 4\n",
    "d2 = get_dissimilarity(dissimilarity_chart_2, 'Suburban', 'Rural')\n",
    "d2 # 18\n",
    "d3 = get_dissimilarity(dissimilarity_chart_2, 'Urban', 'Rural')\n",
    "d3 # 20\n",
    "\n",
    "most_dissimilar = 3\n",
    "most_dissimilar\n"
   ]
  },
  {
   "cell_type": "code",
   "execution_count": 29,
   "metadata": {
    "deletable": false,
    "editable": false
   },
   "outputs": [
    {
     "data": {
      "text/html": [
       "<p><strong><pre style='display: inline;'>q4_2</pre></strong> passed!</p>"
      ],
      "text/plain": [
       "q4_2 results: All test cases passed!"
      ]
     },
     "execution_count": 29,
     "metadata": {},
     "output_type": "execute_result"
    }
   ],
   "source": [
    "grader.check(\"q4_2\")"
   ]
  },
  {
   "cell_type": "markdown",
   "metadata": {},
   "source": [
    "**Question 4.3.** It turns out that if we eliminated a certain one of the three social media percentages in the table (for example, getting rid of the Instagram row) and recalculated dissimilarities based on the remaining two percentages only, we would find the dissimilarity between each pair of communities to be the same as if we had used all three percentages. In other words, one of the three rows of the table ends up not factoring into the calculation for dissimilarity, for all three pairs of communities.\n",
    "\n",
    "Which percentage can be eliminated without changing the dissimilarity of any pair of communities in the table? Assign either 1, 2, or 3 to the variable `disposable` below.\n",
    "\n",
    "1. Facebook\n",
    "1. Instagram\n",
    "1. LinkedIn"
   ]
  },
  {
   "cell_type": "code",
   "execution_count": 30,
   "metadata": {},
   "outputs": [
    {
     "data": {
      "text/html": [
       "<div>\n",
       "<style scoped>\n",
       "    .dataframe tbody tr th:only-of-type {\n",
       "        vertical-align: middle;\n",
       "    }\n",
       "\n",
       "    .dataframe tbody tr th {\n",
       "        vertical-align: top;\n",
       "    }\n",
       "\n",
       "    .dataframe thead th {\n",
       "        text-align: right;\n",
       "    }\n",
       "</style>\n",
       "<table border=\"1\" class=\"dataframe\">\n",
       "  <thead>\n",
       "    <tr style=\"text-align: right;\">\n",
       "      <th></th>\n",
       "      <th>Urban</th>\n",
       "      <th>Suburban</th>\n",
       "      <th>Rural</th>\n",
       "    </tr>\n",
       "    <tr>\n",
       "      <th>Platform</th>\n",
       "      <th></th>\n",
       "      <th></th>\n",
       "      <th></th>\n",
       "    </tr>\n",
       "  </thead>\n",
       "  <tbody>\n",
       "    <tr>\n",
       "      <th>Facebook</th>\n",
       "      <td>70</td>\n",
       "      <td>70</td>\n",
       "      <td>67</td>\n",
       "    </tr>\n",
       "    <tr>\n",
       "      <th>Instagram</th>\n",
       "      <td>45</td>\n",
       "      <td>41</td>\n",
       "      <td>25</td>\n",
       "    </tr>\n",
       "  </tbody>\n",
       "</table>\n",
       "</div>"
      ],
      "text/plain": [
       "           Urban  Suburban  Rural\n",
       "Platform                         \n",
       "Facebook      70        70     67\n",
       "Instagram     45        41     25"
      ]
     },
     "execution_count": 30,
     "metadata": {},
     "output_type": "execute_result"
    }
   ],
   "source": [
    "# Creating a DataFrame of the Social Media's and their community \n",
    "# Removing a Social Media\n",
    "\n",
    "dissimilarity_chart_short = bpd.DataFrame().assign(\n",
    "    Platform = np.array([\"Facebook\", \"Instagram\"]), \n",
    "    Urban = np.array([70, 45]),\n",
    "    Suburban = np.array([70, 41]), \n",
    "    Rural = np.array([67, 25]) \n",
    ")\n",
    "\n",
    "dissimilarity_chart_3 = dissimilarity_chart_short.set_index('Platform')\n",
    "\n",
    "dissimilarity_chart_3         "
   ]
  },
  {
   "cell_type": "code",
   "execution_count": 31,
   "metadata": {},
   "outputs": [],
   "source": [
    "# Function to calculate the dissimilarity between two communities\n",
    "# Getting rid of a Social Media\n",
    "\n",
    "# Parameters: data frame of communities, string name of first community, string name of second community\n",
    "def get_dissimilarity_2(data_frame, community_1, community_2):\n",
    "    # Create an array calculating in the dissimilarity\n",
    "    return np.array([abs((data_frame.get(community_1).iloc[0]-data_frame.get(community_2).iloc[0])), \\\n",
    "                     abs((data_frame.get(community_1).iloc[1]-data_frame.get(community_2).iloc[1]))]).max()\n",
    "                              \n",
    "                              "
   ]
  },
  {
   "cell_type": "code",
   "execution_count": 32,
   "metadata": {
    "tags": []
   },
   "outputs": [
    {
     "data": {
      "text/plain": [
       "3"
      ]
     },
     "execution_count": 32,
     "metadata": {},
     "output_type": "execute_result"
    }
   ],
   "source": [
    "e1 = get_dissimilarity_2(dissimilarity_chart_3, 'Urban', 'Rural')\n",
    "e1\n",
    "\n",
    "disposable = 3\n",
    "disposable"
   ]
  },
  {
   "cell_type": "code",
   "execution_count": 33,
   "metadata": {
    "deletable": false,
    "editable": false
   },
   "outputs": [
    {
     "data": {
      "text/html": [
       "<p><strong><pre style='display: inline;'>q4_3</pre></strong> passed!</p>"
      ],
      "text/plain": [
       "q4_3 results: All test cases passed!"
      ]
     },
     "execution_count": 33,
     "metadata": {},
     "output_type": "execute_result"
    }
   ],
   "source": [
    "grader.check(\"q4_3\")"
   ]
  },
  {
   "cell_type": "markdown",
   "metadata": {},
   "source": [
    "## 5. Arrays 🗃️"
   ]
  },
  {
   "cell_type": "markdown",
   "metadata": {},
   "source": [
    "**Question 5.1.** Make an array called `quirky_numbers` containing the following numbers (in the given order):\n",
    "\n",
    "1. The square root of 45\n",
    "2. 88 degrees, in radians\n",
    "3. $2^3 + 7^8$\n",
    "4. The mathematical constant $e$ divided by 2 (that is, $\\frac{e}{2}$)\n",
    "5. The base 10 logarithm of 22\n",
    "\n",
    "**_Hint:_**  Check out the functions constants available in the `numpy` module, which has been imported as `np`. If you're unsure of what function to use, a quick Google search should do the trick.  Do **not** import `math` or any other modules. \n",
    "\n",
    "**_Note:_**  In this problem, as with all others, we'll only check that your answer is correct. There may be several valid ways to produce the correct answer."
   ]
  },
  {
   "cell_type": "code",
   "execution_count": 34,
   "metadata": {
    "scrolled": true,
    "tags": []
   },
   "outputs": [
    {
     "data": {
      "text/plain": [
       "array([2.25000000e+01, 1.53588974e+00, 5.76480900e+06, 1.35914091e+00,\n",
       "       1.34242268e+00])"
      ]
     },
     "execution_count": 34,
     "metadata": {},
     "output_type": "execute_result"
    }
   ],
   "source": [
    "quirky_numbers = np.array([45 ** 1 / 2, 88 * np.pi / 180, 2 ** 3 + 7 ** 8, np.e / 2, np.log10(22)])\n",
    "quirky_numbers"
   ]
  },
  {
   "cell_type": "code",
   "execution_count": 35,
   "metadata": {
    "deletable": false,
    "editable": false
   },
   "outputs": [
    {
     "data": {
      "text/html": [
       "<p><strong><pre style='display: inline;'>q5_1</pre></strong> passed!</p>"
      ],
      "text/plain": [
       "q5_1 results: All test cases passed!"
      ]
     },
     "execution_count": 35,
     "metadata": {},
     "output_type": "execute_result"
    }
   ],
   "source": [
    "grader.check(\"q5_1\")"
   ]
  },
  {
   "cell_type": "markdown",
   "metadata": {
    "deletable": false,
    "editable": false
   },
   "source": [
    "**Question 5.2.** Make an array called `likes` containing the following three strings, in the specified order:\n",
    "- `'I like eating'`\n",
    "- `'art'`\n",
    "- `'and bananas.'`\n",
    "\n",
    "<!--\n",
    "BEGIN QUESTION\n",
    "name: q5_2\n",
    "-->"
   ]
  },
  {
   "cell_type": "code",
   "execution_count": 36,
   "metadata": {
    "tags": []
   },
   "outputs": [
    {
     "data": {
      "text/plain": [
       "array(['I like eating', 'art', 'and bananas.'], dtype='<U13')"
      ]
     },
     "execution_count": 36,
     "metadata": {},
     "output_type": "execute_result"
    }
   ],
   "source": [
    "likes = np.array (['I like eating', 'art', 'and bananas.'])\n",
    "likes"
   ]
  },
  {
   "cell_type": "code",
   "execution_count": 37,
   "metadata": {
    "deletable": false,
    "editable": false
   },
   "outputs": [
    {
     "data": {
      "text/html": [
       "<p><strong><pre style='display: inline;'>q5_2</pre></strong> passed!</p>"
      ],
      "text/plain": [
       "q5_2 results: All test cases passed!"
      ]
     },
     "execution_count": 37,
     "metadata": {},
     "output_type": "execute_result"
    }
   ],
   "source": [
    "grader.check(\"q5_2\")"
   ]
  },
  {
   "cell_type": "markdown",
   "metadata": {},
   "source": [
    "<center><img src=images/banana.jpg width=300><a href=\"https://www.nbcnews.com/news/us-news/man-who-ate-120-000-art-banana-said-he-would-n1098391\">NYC artist who ate $120K banana off wall at Miami gallery says he would do it again</a></center>\n",
    "\n",
    "\n",
    "In [Lecture 3](https://dsc10.com/resources/lectures/lec03/lec03.html#String-methods), we looked at several string methods, like `upper` and `replace`. Strings have another method that we haven't seen yet, called `join`. `join` takes one argument, an array of strings, and it returns a single string. Specifically, `some_string.join(some_array)` evaluates to a new string consisting of all of elements in `some_array`, with `some_string` inserted in between each element.\n",
    "\n",
    "For example, `'-'.join(np.array(['call', '858', '534', '2230']))` evaluates to `'call-858-534-2230'`.\n",
    "\n",
    "**Question 5.3.** Use the array `likes` and the method `join` to make two strings:\n",
    "\n",
    "1. `'I like eating, art, and bananas.'` (call this one `by_comma`)\n",
    "1. `'I like eating art and bananas.'` (call this one `by_space`)"
   ]
  },
  {
   "cell_type": "code",
   "execution_count": 38,
   "metadata": {
    "scrolled": true,
    "tags": []
   },
   "outputs": [
    {
     "name": "stdout",
     "output_type": "stream",
     "text": [
      "I like eating, art, and bananas.\n",
      "I like eating art and bananas.\n"
     ]
    }
   ],
   "source": [
    "by_comma = \", \".join(likes)\n",
    "by_space = \" \".join(likes)\n",
    "\n",
    "# Don't change the lines below.\n",
    "print(by_comma)\n",
    "print(by_space)"
   ]
  },
  {
   "cell_type": "code",
   "execution_count": 39,
   "metadata": {
    "deletable": false,
    "editable": false
   },
   "outputs": [
    {
     "data": {
      "text/html": [
       "<p><strong><pre style='display: inline;'>q5_3</pre></strong> passed!</p>"
      ],
      "text/plain": [
       "q5_3 results: All test cases passed!"
      ]
     },
     "execution_count": 39,
     "metadata": {},
     "output_type": "execute_result"
    }
   ],
   "source": [
    "grader.check(\"q5_3\")"
   ]
  },
  {
   "cell_type": "markdown",
   "metadata": {},
   "source": [
    "Now let's get some practice accessing individual elements of arrays.  In Python (and in many programming languages), elements are accessed by *integer position*, with the position of the first element being zero. That's probably not the way you learned to count, so it's easy to get mixed up here. Be careful!"
   ]
  },
  {
   "cell_type": "markdown",
   "metadata": {},
   "source": [
    "**Question 5.4.** The cell below creates an array of strings."
   ]
  },
  {
   "cell_type": "code",
   "execution_count": 40,
   "metadata": {
    "scrolled": true,
    "tags": []
   },
   "outputs": [
    {
     "data": {
      "text/plain": [
       "array(['flowers', '🌼', '🌸', '🌻', 'dog', '🐶', 'cat', '🐈'], dtype='<U7')"
      ]
     },
     "execution_count": 40,
     "metadata": {},
     "output_type": "execute_result"
    }
   ],
   "source": [
    "some_strings = np.array(['flowers', '🌼', '🌸', '🌻', 'dog', '🐶', 'cat', '🐈'])\n",
    "some_strings"
   ]
  },
  {
   "cell_type": "markdown",
   "metadata": {},
   "source": [
    "What is the integer position of `'🌻'` in the array? You can just type in the answer, which should be of type `int`. This is a conceptual question, not a coding question.\n",
    "\n",
    "**_Note:_**  Your answer should be a **positive** integer!"
   ]
  },
  {
   "cell_type": "code",
   "execution_count": 41,
   "metadata": {
    "tags": []
   },
   "outputs": [
    {
     "data": {
      "text/plain": [
       "3"
      ]
     },
     "execution_count": 41,
     "metadata": {},
     "output_type": "execute_result"
    }
   ],
   "source": [
    "sunflower_position = 3\n",
    "sunflower_position"
   ]
  },
  {
   "cell_type": "code",
   "execution_count": 42,
   "metadata": {
    "deletable": false,
    "editable": false
   },
   "outputs": [
    {
     "data": {
      "text/html": [
       "<p><strong><pre style='display: inline;'>q5_4</pre></strong> passed!</p>"
      ],
      "text/plain": [
       "q5_4 results: All test cases passed!"
      ]
     },
     "execution_count": 42,
     "metadata": {},
     "output_type": "execute_result"
    }
   ],
   "source": [
    "grader.check(\"q5_4\")"
   ]
  },
  {
   "cell_type": "markdown",
   "metadata": {},
   "source": [
    "**Question 5.5.** Suppose you have an array with 350 elements. What is the integer position of the ninth-to-last element in this array? You can just type in the answer, which should be of type `int`. This is a conceptual question, not a coding question.\n",
    "\n",
    "**_Note:_**  Again, your answer should be a **positive** integer!"
   ]
  },
  {
   "cell_type": "code",
   "execution_count": 43,
   "metadata": {
    "tags": []
   },
   "outputs": [
    {
     "data": {
      "text/plain": [
       "340"
      ]
     },
     "execution_count": 43,
     "metadata": {},
     "output_type": "execute_result"
    }
   ],
   "source": [
    "ninth_last_position = 340\n",
    "ninth_last_position"
   ]
  },
  {
   "cell_type": "code",
   "execution_count": 44,
   "metadata": {
    "deletable": false,
    "editable": false
   },
   "outputs": [
    {
     "data": {
      "text/html": [
       "<p><strong><pre style='display: inline;'>q5_5</pre></strong> passed!</p>"
      ],
      "text/plain": [
       "q5_5 results: All test cases passed!"
      ]
     },
     "execution_count": 44,
     "metadata": {},
     "output_type": "execute_result"
    }
   ],
   "source": [
    "grader.check(\"q5_5\")"
   ]
  },
  {
   "cell_type": "markdown",
   "metadata": {},
   "source": [
    "**Question 5.6.** Suppose you have an array with 663 elements. At what integer position is the middle element of this array? You can just type in the answer, which should be of type `int`. This is a conceptual question, not a coding question.\n",
    "\n",
    "**_Note:_**  Again, your answer should be a **positive** integer!"
   ]
  },
  {
   "cell_type": "code",
   "execution_count": 45,
   "metadata": {
    "tags": []
   },
   "outputs": [
    {
     "data": {
      "text/plain": [
       "331"
      ]
     },
     "execution_count": 45,
     "metadata": {},
     "output_type": "execute_result"
    }
   ],
   "source": [
    "mid_position = 331\n",
    "mid_position"
   ]
  },
  {
   "cell_type": "code",
   "execution_count": 46,
   "metadata": {
    "deletable": false,
    "editable": false
   },
   "outputs": [
    {
     "data": {
      "text/html": [
       "<p><strong><pre style='display: inline;'>q5_6</pre></strong> passed!</p>"
      ],
      "text/plain": [
       "q5_6 results: All test cases passed!"
      ]
     },
     "execution_count": 46,
     "metadata": {},
     "output_type": "execute_result"
    }
   ],
   "source": [
    "grader.check(\"q5_6\")"
   ]
  },
  {
   "cell_type": "markdown",
   "metadata": {},
   "source": [
    "By the way, it's also possible to use negative integer positions to access elements in an array, which can be easier than using positive integer positions sometimes.  If a position is negative, you count from the end of the array rather than from the beginning. Position -1 corresponds to the last element, -2 corresponds to the second-to-last element, and so on. For instance, to find the third-to-last element of `some_strings`, we could use:"
   ]
  },
  {
   "cell_type": "code",
   "execution_count": 47,
   "metadata": {
    "scrolled": true,
    "tags": []
   },
   "outputs": [
    {
     "data": {
      "text/plain": [
       "'🐶'"
      ]
     },
     "execution_count": 47,
     "metadata": {},
     "output_type": "execute_result"
    }
   ],
   "source": [
    "some_strings[-3]"
   ]
  },
  {
   "cell_type": "markdown",
   "metadata": {},
   "source": [
    "## 6. Unisex Names ⚥"
   ]
  },
  {
   "cell_type": "markdown",
   "metadata": {},
   "source": [
    "The table below shows data on the eight most common unisex names in America. The data originally comes from the Social Security Administration, but it was compiled and curated by FiveThirtyEight for their 2015 article [The Most Common Unisex Names In America: Is Yours One Of Them?](https://fivethirtyeight.com/features/there-are-922-unisex-names-in-america-is-yours-one-of-them/).\n",
    "\n",
    "For each name in the table below, we have the `'Count'`, which estimates the number of living people with that name, and the `'Male Share'`, or the proportion of people with that name who are male. Throughout this problem, we'll use *male* to mean assigned male at birth and *female* to mean assigned female at birth. We will assume that each person fits into exactly one of these two categories. \n",
    "\n",
    "|Name|Count|Male Share|\n",
    "|---|---|---|\n",
    "|Casey|177000|0.5843|\n",
    "|Riley|155000|0.5076|\n",
    "|Jessie|136000|0.4778|\n",
    "|Jackie|133000|0.4211|\n",
    "|Avery|122000|0.3352|\n",
    "|Jaime|110000|0.5617|\n",
    "|Peyton|95000|0.4337|\n",
    "|Kerry|89000|0.4839|\n",
    "\n",
    "In this question, we'll be working with the data from the `'Count'` and `'Male Share'` columns as *arrays* named `count` and `male_share`, respectively. Here are those arrays:"
   ]
  },
  {
   "cell_type": "code",
   "execution_count": 48,
   "metadata": {
    "scrolled": true
   },
   "outputs": [
    {
     "data": {
      "text/plain": [
       "array([177000, 155000, 136000, 133000, 122000, 110000,  95000,  89000])"
      ]
     },
     "execution_count": 48,
     "metadata": {},
     "output_type": "execute_result"
    }
   ],
   "source": [
    "count = np.array([177000, 155000, 136000, 133000, 122000, 110000, 95000, 89000])\n",
    "count"
   ]
  },
  {
   "cell_type": "code",
   "execution_count": 49,
   "metadata": {},
   "outputs": [
    {
     "data": {
      "text/plain": [
       "array([0.5843, 0.5076, 0.4778, 0.4211, 0.3352, 0.5617, 0.4337, 0.4839])"
      ]
     },
     "execution_count": 49,
     "metadata": {},
     "output_type": "execute_result"
    }
   ],
   "source": [
    "male_share = np.array([0.5843, 0.5076, 0.4778, 0.4211, 0.3352, 0.5617, 0.4337, 0.4839]) \n",
    "male_share"
   ]
  },
  {
   "cell_type": "code",
   "execution_count": 50,
   "metadata": {},
   "outputs": [
    {
     "data": {
      "text/html": [
       "<div>\n",
       "<style scoped>\n",
       "    .dataframe tbody tr th:only-of-type {\n",
       "        vertical-align: middle;\n",
       "    }\n",
       "\n",
       "    .dataframe tbody tr th {\n",
       "        vertical-align: top;\n",
       "    }\n",
       "\n",
       "    .dataframe thead th {\n",
       "        text-align: right;\n",
       "    }\n",
       "</style>\n",
       "<table border=\"1\" class=\"dataframe\">\n",
       "  <thead>\n",
       "    <tr style=\"text-align: right;\">\n",
       "      <th></th>\n",
       "      <th>Count</th>\n",
       "      <th>Male_Share</th>\n",
       "    </tr>\n",
       "    <tr>\n",
       "      <th>Name</th>\n",
       "      <th></th>\n",
       "      <th></th>\n",
       "    </tr>\n",
       "  </thead>\n",
       "  <tbody>\n",
       "    <tr>\n",
       "      <th>Casey</th>\n",
       "      <td>177000</td>\n",
       "      <td>0.5843</td>\n",
       "    </tr>\n",
       "    <tr>\n",
       "      <th>Riley</th>\n",
       "      <td>155000</td>\n",
       "      <td>0.5076</td>\n",
       "    </tr>\n",
       "    <tr>\n",
       "      <th>Jessie</th>\n",
       "      <td>136000</td>\n",
       "      <td>0.4778</td>\n",
       "    </tr>\n",
       "    <tr>\n",
       "      <th>Jackie</th>\n",
       "      <td>133000</td>\n",
       "      <td>0.4211</td>\n",
       "    </tr>\n",
       "    <tr>\n",
       "      <th>Avery</th>\n",
       "      <td>122000</td>\n",
       "      <td>0.3352</td>\n",
       "    </tr>\n",
       "    <tr>\n",
       "      <th>Jaime</th>\n",
       "      <td>110000</td>\n",
       "      <td>0.5617</td>\n",
       "    </tr>\n",
       "    <tr>\n",
       "      <th>Peyton</th>\n",
       "      <td>95000</td>\n",
       "      <td>0.4337</td>\n",
       "    </tr>\n",
       "    <tr>\n",
       "      <th>Kerry</th>\n",
       "      <td>89000</td>\n",
       "      <td>0.4839</td>\n",
       "    </tr>\n",
       "  </tbody>\n",
       "</table>\n",
       "</div>"
      ],
      "text/plain": [
       "         Count  Male_Share\n",
       "Name                      \n",
       "Casey   177000      0.5843\n",
       "Riley   155000      0.5076\n",
       "Jessie  136000      0.4778\n",
       "Jackie  133000      0.4211\n",
       "Avery   122000      0.3352\n",
       "Jaime   110000      0.5617\n",
       "Peyton   95000      0.4337\n",
       "Kerry    89000      0.4839"
      ]
     },
     "execution_count": 50,
     "metadata": {},
     "output_type": "execute_result"
    }
   ],
   "source": [
    "names = bpd.DataFrame().assign(\n",
    "    Name = np.array([\"Casey\", \"Riley\", \"Jessie\", \"Jackie\", 'Avery', 'Jaime', 'Peyton', 'Kerry']),\n",
    "    Count = count,\n",
    "    Male_Share = male_share\n",
    ").set_index(\"Name\")\n",
    "names"
   ]
  },
  {
   "cell_type": "markdown",
   "metadata": {},
   "source": [
    "Remember, the `numpy` package (`np` for short) provides many handy functions for working with arrays. These are specifically designed to work with arrays and are faster than using Python's built-in functions. \n",
    "\n",
    "Some frequently used array functions are `np.min`, `np.max`, `np.sum`, `np.abs`, and `np.round`. There are many more, which you can browse by typing `np.` into a code cell and hitting the *tab* key. These are all in addition to array methods, which we access using dot notation. (For instance, both `arr.max()` and `np.max(arr)` return the largest element in the array `arr`.)"
   ]
  },
  {
   "cell_type": "markdown",
   "metadata": {},
   "source": [
    "**Question 6.1.** What proportion of people with each name are female? Store the female share proportions for each name in a new array called `female_share`. "
   ]
  },
  {
   "cell_type": "code",
   "execution_count": 51,
   "metadata": {},
   "outputs": [
    {
     "data": {
      "text/plain": [
       "array([0.4157, 0.4924, 0.5222, 0.5789, 0.6648, 0.4383, 0.5663, 0.5161])"
      ]
     },
     "execution_count": 51,
     "metadata": {},
     "output_type": "execute_result"
    }
   ],
   "source": [
    "female_share = np.array([1-0.5843,1-0.5076, 1-0.4778, 1-0.4211, 1-0.3352, 1-0.5617, 1-0.4337, 1-0.4839])\n",
    "female_share"
   ]
  },
  {
   "cell_type": "code",
   "execution_count": 52,
   "metadata": {
    "deletable": false,
    "editable": false
   },
   "outputs": [
    {
     "data": {
      "text/html": [
       "<p><strong><pre style='display: inline;'>q6_1</pre></strong> passed!</p>"
      ],
      "text/plain": [
       "q6_1 results: All test cases passed!"
      ]
     },
     "execution_count": 52,
     "metadata": {},
     "output_type": "execute_result"
    }
   ],
   "source": [
    "grader.check(\"q6_1\")"
   ]
  },
  {
   "cell_type": "markdown",
   "metadata": {},
   "source": [
    "**Question 6.2.** Now let's find the gap between the male and female shares for each name. Use `male_share` and `female_share` to create an array called `gaps` containing the absolute differences between the male share and female share for each name."
   ]
  },
  {
   "cell_type": "code",
   "execution_count": 53,
   "metadata": {},
   "outputs": [
    {
     "data": {
      "text/plain": [
       "array([0.1686, 0.0152, 0.0444, 0.1578, 0.3296, 0.1234, 0.1326, 0.0322])"
      ]
     },
     "execution_count": 53,
     "metadata": {},
     "output_type": "execute_result"
    }
   ],
   "source": [
    "gaps = abs(male_share - female_share)\n",
    "gaps"
   ]
  },
  {
   "cell_type": "code",
   "execution_count": 54,
   "metadata": {
    "deletable": false,
    "editable": false
   },
   "outputs": [
    {
     "data": {
      "text/html": [
       "<p><strong><pre style='display: inline;'>q6_2</pre></strong> passed!</p>"
      ],
      "text/plain": [
       "q6_2 results: All test cases passed!"
      ]
     },
     "execution_count": 54,
     "metadata": {},
     "output_type": "execute_result"
    }
   ],
   "source": [
    "grader.check(\"q6_2\")"
   ]
  },
  {
   "cell_type": "markdown",
   "metadata": {},
   "source": [
    "**Question 6.3.** Now, find the gap between the male and female shares for each name, but this time, you're only allowed to use the variable `male_share`. You may not use `female_share`. Create an array called `gaps_again` containing the absolute differences between the male share and female share for each name. The answer will be the same as the last question, but your code should be different."
   ]
  },
  {
   "cell_type": "code",
   "execution_count": 55,
   "metadata": {},
   "outputs": [
    {
     "data": {
      "text/plain": [
       "array([0.1686, 0.0152, 0.0444, 0.1578, 0.3296, 0.1234, 0.1326, 0.0322])"
      ]
     },
     "execution_count": 55,
     "metadata": {},
     "output_type": "execute_result"
    }
   ],
   "source": [
    "gaps_again = abs(male_share - np.array([1-0.5843,1-0.5076, 1-0.4778, 1-0.4211, 1-0.3352, 1-0.5617, 1-0.4337, 1-0.4839]))\n",
    "gaps_again"
   ]
  },
  {
   "cell_type": "code",
   "execution_count": 56,
   "metadata": {
    "deletable": false,
    "editable": false
   },
   "outputs": [
    {
     "data": {
      "text/html": [
       "<p><strong><pre style='display: inline;'>q6_3</pre></strong> passed!</p>"
      ],
      "text/plain": [
       "q6_3 results: All test cases passed!"
      ]
     },
     "execution_count": 56,
     "metadata": {},
     "output_type": "execute_result"
    }
   ],
   "source": [
    "grader.check(\"q6_3\")"
   ]
  },
  {
   "cell_type": "markdown",
   "metadata": {},
   "source": [
    "**Question 6.4.** You might say that the most unisex name is the one with the smallest gap. Find the smallest value in the `gaps` array and save it as `smallest_gap`. Referring back to the table, try to figure out which name that is!"
   ]
  },
  {
   "cell_type": "code",
   "execution_count": 57,
   "metadata": {},
   "outputs": [
    {
     "data": {
      "text/plain": [
       "0.015200000000000102"
      ]
     },
     "execution_count": 57,
     "metadata": {},
     "output_type": "execute_result"
    }
   ],
   "source": [
    "smallest_gap = gaps.min()\n",
    "smallest_gap"
   ]
  },
  {
   "cell_type": "code",
   "execution_count": 58,
   "metadata": {
    "deletable": false,
    "editable": false
   },
   "outputs": [
    {
     "data": {
      "text/html": [
       "<p><strong><pre style='display: inline;'>q6_4</pre></strong> passed!</p>"
      ],
      "text/plain": [
       "q6_4 results: All test cases passed!"
      ]
     },
     "execution_count": 58,
     "metadata": {},
     "output_type": "execute_result"
    }
   ],
   "source": [
    "grader.check(\"q6_4\")"
   ]
  },
  {
   "cell_type": "markdown",
   "metadata": {},
   "source": [
    "**Question 6.5.** Recall that the `count` array contains the estimated number of people with each name. Create an array called `male_count` containing the estimated number of males with each name, and another called `female_count` containing the estimated number of females with each name. Make sure to round each value to the nearest whole number."
   ]
  },
  {
   "cell_type": "code",
   "execution_count": 59,
   "metadata": {
    "scrolled": true
   },
   "outputs": [
    {
     "name": "stdout",
     "output_type": "stream",
     "text": [
      "male_count:  [103421  78678  64980  56006  40894  61787  41201  43067] \n",
      "female_count:  [73578 76321 71019 76993 81105 48213 53798 45932]\n"
     ]
    }
   ],
   "source": [
    "male_count = np.array(count * male_share, dtype='i')\n",
    "female_count = np.array(count * female_share, dtype='i')\n",
    "print('male_count: ', male_count, '\\nfemale_count: ', female_count) # Don't change this line!"
   ]
  },
  {
   "cell_type": "code",
   "execution_count": 60,
   "metadata": {
    "deletable": false,
    "editable": false
   },
   "outputs": [
    {
     "data": {
      "text/html": [
       "<p><strong><pre style='display: inline;'>q6_5</pre></strong> passed!</p>"
      ],
      "text/plain": [
       "q6_5 results: All test cases passed!"
      ]
     },
     "execution_count": 60,
     "metadata": {},
     "output_type": "execute_result"
    }
   ],
   "source": [
    "grader.check(\"q6_5\")"
   ]
  },
  {
   "cell_type": "markdown",
   "metadata": {},
   "source": [
    "**Question 6.6.** In Question 6.4, we explored one way of defining the most unisex name. In this question, we'll look at another way.\n",
    "\n",
    "You might say that the most unisex name is the one for which the number of males with that name is closest to the number of females with that name. Assign `smallest_diff` to the smallest absolute difference between the number of males and number of females, among the given names. Referring back to the table, try to figure out which name that is!"
   ]
  },
  {
   "cell_type": "code",
   "execution_count": 61,
   "metadata": {},
   "outputs": [
    {
     "data": {
      "text/plain": [
       "2357"
      ]
     },
     "execution_count": 61,
     "metadata": {},
     "output_type": "execute_result"
    }
   ],
   "source": [
    "smallest_diff = abs(male_count-female_count).min()\n",
    "smallest_diff"
   ]
  },
  {
   "cell_type": "code",
   "execution_count": 62,
   "metadata": {
    "deletable": false,
    "editable": false
   },
   "outputs": [
    {
     "data": {
      "text/html": [
       "<p><strong><pre style='display: inline;'>q6_6</pre></strong> passed!</p>"
      ],
      "text/plain": [
       "q6_6 results: All test cases passed!"
      ]
     },
     "execution_count": 62,
     "metadata": {},
     "output_type": "execute_result"
    }
   ],
   "source": [
    "grader.check(\"q6_6\")"
   ]
  },
  {
   "cell_type": "markdown",
   "metadata": {},
   "source": [
    "**Question 6.7.** Perhaps instead of working with proportions as we've done here, you prefer to work with percentages. Create an array called `male_percentage` that contains the percentage of people with each name who are male. Similarly, create an array `female_percentage` with the percentage of people with each name who are female. Round each percentage to two decimal places."
   ]
  },
  {
   "cell_type": "code",
   "execution_count": 63,
   "metadata": {},
   "outputs": [
    {
     "name": "stdout",
     "output_type": "stream",
     "text": [
      "male_percentage:  [0.58 0.51 0.48 0.42 0.34 0.56 0.43 0.48] \n",
      "female_percentage:  [0.42 0.49 0.52 0.58 0.66 0.44 0.57 0.52]\n"
     ]
    }
   ],
   "source": [
    "male_percentage = np.around(male_count / count, decimals=2)\n",
    "female_percentage = np.around(female_count / count, decimals=2)\n",
    "print('male_percentage: ', male_percentage, '\\nfemale_percentage: ', female_percentage) # Don't change this line!"
   ]
  },
  {
   "cell_type": "code",
   "execution_count": 64,
   "metadata": {
    "deletable": false,
    "editable": false
   },
   "outputs": [
    {
     "data": {
      "text/html": [
       "<p><strong><pre style='display: inline;'>q6_7</pre></strong> passed!</p>"
      ],
      "text/plain": [
       "q6_7 results: All test cases passed!"
      ]
     },
     "execution_count": 64,
     "metadata": {},
     "output_type": "execute_result"
    }
   ],
   "source": [
    "grader.check(\"q6_7\")"
   ]
  },
  {
   "cell_type": "markdown",
   "metadata": {},
   "source": [
    "## 7. World Cup 🌎⚽"
   ]
  },
  {
   "cell_type": "markdown",
   "metadata": {},
   "source": [
    "The Federale Internationale de Football Association (FIFA) is the international governing body of soccer (or football, depending where you're from). FIFA has 209 member countries, making it one of the most respected sports organizations in the world. The organization has hosted an international tournament, called the World Cup, every four years since 1930, except for during WWII. The most recent one took place in 2022 in Qatar. \n",
    "\n",
    "<img src=\"images/messi.jpeg\" width=60%>\n",
    "\n",
    "The file `world_cup.csv` in the `data/` directory contains information about every World Cup tournament that has ever taken place. Its columns are described below.\n",
    "\n",
    "| Column      | Description |\n",
    "| ----------- | ----------- |\n",
    "| `'Year'`      | Year of World Cup     |\n",
    "| `'Host'`   | Name of host country        |\n",
    "| `'Total Attendance'` | Total number of people in attendance across all matches  |\n",
    "| `'Matches'` | Total number of matches played |\n",
    "| `'Teams'` | The  total number of teams that competed in the World Cup |\n",
    "| `'First'` | Winner of the World Cup |\n",
    "| `'Second'` | The team in second place | \n",
    "| `'Third'` | The team in third place|\n",
    "| `'Fourth'` | The team in fourth place |"
   ]
  },
  {
   "cell_type": "markdown",
   "metadata": {},
   "source": [
    "**Question 7.1.** Read this file into a DataFrame called `world_cup`. "
   ]
  },
  {
   "cell_type": "code",
   "execution_count": 65,
   "metadata": {},
   "outputs": [
    {
     "data": {
      "text/html": [
       "<div>\n",
       "<style scoped>\n",
       "    .dataframe tbody tr th:only-of-type {\n",
       "        vertical-align: middle;\n",
       "    }\n",
       "\n",
       "    .dataframe tbody tr th {\n",
       "        vertical-align: top;\n",
       "    }\n",
       "\n",
       "    .dataframe thead th {\n",
       "        text-align: right;\n",
       "    }\n",
       "</style>\n",
       "<table border=\"1\" class=\"dataframe\">\n",
       "  <thead>\n",
       "    <tr style=\"text-align: right;\">\n",
       "      <th></th>\n",
       "      <th>Year</th>\n",
       "      <th>Host</th>\n",
       "      <th>Total Attendance</th>\n",
       "      <th>Matches</th>\n",
       "      <th>Teams</th>\n",
       "      <th>First</th>\n",
       "      <th>Second</th>\n",
       "      <th>Third</th>\n",
       "      <th>Fourth</th>\n",
       "    </tr>\n",
       "  </thead>\n",
       "  <tbody>\n",
       "    <tr>\n",
       "      <th>0</th>\n",
       "      <td>1930</td>\n",
       "      <td>Uruguay</td>\n",
       "      <td>590549</td>\n",
       "      <td>18</td>\n",
       "      <td>13</td>\n",
       "      <td>Uruguay</td>\n",
       "      <td>Argentina</td>\n",
       "      <td>United States</td>\n",
       "      <td>Yugoslavia</td>\n",
       "    </tr>\n",
       "    <tr>\n",
       "      <th>1</th>\n",
       "      <td>1934</td>\n",
       "      <td>Italy</td>\n",
       "      <td>363000</td>\n",
       "      <td>17</td>\n",
       "      <td>16</td>\n",
       "      <td>Italy</td>\n",
       "      <td>Czechoslovakia</td>\n",
       "      <td>Germany</td>\n",
       "      <td>Austria</td>\n",
       "    </tr>\n",
       "    <tr>\n",
       "      <th>2</th>\n",
       "      <td>1938</td>\n",
       "      <td>France</td>\n",
       "      <td>375700</td>\n",
       "      <td>18</td>\n",
       "      <td>15</td>\n",
       "      <td>Italy</td>\n",
       "      <td>Hungary</td>\n",
       "      <td>Brazil</td>\n",
       "      <td>Sweden</td>\n",
       "    </tr>\n",
       "    <tr>\n",
       "      <th>3</th>\n",
       "      <td>1950</td>\n",
       "      <td>Brazil</td>\n",
       "      <td>1045246</td>\n",
       "      <td>22</td>\n",
       "      <td>13</td>\n",
       "      <td>Uruguay</td>\n",
       "      <td>Brazil</td>\n",
       "      <td>Sweden</td>\n",
       "      <td>Spain</td>\n",
       "    </tr>\n",
       "    <tr>\n",
       "      <th>4</th>\n",
       "      <td>1954</td>\n",
       "      <td>Switzerland</td>\n",
       "      <td>768607</td>\n",
       "      <td>26</td>\n",
       "      <td>16</td>\n",
       "      <td>West Germany</td>\n",
       "      <td>Hungary</td>\n",
       "      <td>Austria</td>\n",
       "      <td>Uruguay</td>\n",
       "    </tr>\n",
       "    <tr>\n",
       "      <th>...</th>\n",
       "      <td>...</td>\n",
       "      <td>...</td>\n",
       "      <td>...</td>\n",
       "      <td>...</td>\n",
       "      <td>...</td>\n",
       "      <td>...</td>\n",
       "      <td>...</td>\n",
       "      <td>...</td>\n",
       "      <td>...</td>\n",
       "    </tr>\n",
       "    <tr>\n",
       "      <th>17</th>\n",
       "      <td>2006</td>\n",
       "      <td>Germany</td>\n",
       "      <td>3359439</td>\n",
       "      <td>64</td>\n",
       "      <td>32</td>\n",
       "      <td>Italy</td>\n",
       "      <td>France</td>\n",
       "      <td>Germany</td>\n",
       "      <td>Portugal</td>\n",
       "    </tr>\n",
       "    <tr>\n",
       "      <th>18</th>\n",
       "      <td>2010</td>\n",
       "      <td>South Africa</td>\n",
       "      <td>3178856</td>\n",
       "      <td>64</td>\n",
       "      <td>32</td>\n",
       "      <td>Spain</td>\n",
       "      <td>Netherlands</td>\n",
       "      <td>Germany</td>\n",
       "      <td>Uruguay</td>\n",
       "    </tr>\n",
       "    <tr>\n",
       "      <th>19</th>\n",
       "      <td>2014</td>\n",
       "      <td>Brazil</td>\n",
       "      <td>3429873</td>\n",
       "      <td>64</td>\n",
       "      <td>32</td>\n",
       "      <td>Germany</td>\n",
       "      <td>Argentina</td>\n",
       "      <td>Netherlands</td>\n",
       "      <td>Brazil</td>\n",
       "    </tr>\n",
       "    <tr>\n",
       "      <th>20</th>\n",
       "      <td>2018</td>\n",
       "      <td>Russia</td>\n",
       "      <td>3031768</td>\n",
       "      <td>64</td>\n",
       "      <td>32</td>\n",
       "      <td>France</td>\n",
       "      <td>Croatia</td>\n",
       "      <td>Belgium</td>\n",
       "      <td>England</td>\n",
       "    </tr>\n",
       "    <tr>\n",
       "      <th>21</th>\n",
       "      <td>2022</td>\n",
       "      <td>Qatar</td>\n",
       "      <td>3404252</td>\n",
       "      <td>64</td>\n",
       "      <td>32</td>\n",
       "      <td>Argentina</td>\n",
       "      <td>France</td>\n",
       "      <td>Croatia</td>\n",
       "      <td>Morocco</td>\n",
       "    </tr>\n",
       "  </tbody>\n",
       "</table>\n",
       "<p>22 rows × 9 columns</p>\n",
       "</div>"
      ],
      "text/plain": [
       "    Year          Host  Total Attendance  Matches  Teams         First  \\\n",
       "0   1930       Uruguay            590549       18     13       Uruguay   \n",
       "1   1934         Italy            363000       17     16         Italy   \n",
       "2   1938        France            375700       18     15         Italy   \n",
       "3   1950        Brazil           1045246       22     13       Uruguay   \n",
       "4   1954   Switzerland            768607       26     16  West Germany   \n",
       "..   ...           ...               ...      ...    ...           ...   \n",
       "17  2006       Germany           3359439       64     32         Italy   \n",
       "18  2010  South Africa           3178856       64     32         Spain   \n",
       "19  2014        Brazil           3429873       64     32       Germany   \n",
       "20  2018        Russia           3031768       64     32        France   \n",
       "21  2022         Qatar           3404252       64     32     Argentina   \n",
       "\n",
       "            Second          Third      Fourth  \n",
       "0        Argentina  United States  Yugoslavia  \n",
       "1   Czechoslovakia        Germany     Austria  \n",
       "2          Hungary         Brazil      Sweden  \n",
       "3           Brazil         Sweden       Spain  \n",
       "4          Hungary        Austria     Uruguay  \n",
       "..             ...            ...         ...  \n",
       "17          France        Germany    Portugal  \n",
       "18     Netherlands        Germany     Uruguay  \n",
       "19       Argentina    Netherlands      Brazil  \n",
       "20         Croatia        Belgium     England  \n",
       "21          France        Croatia     Morocco  \n",
       "\n",
       "[22 rows x 9 columns]"
      ]
     },
     "execution_count": 65,
     "metadata": {},
     "output_type": "execute_result"
    }
   ],
   "source": [
    "world_cup = bpd.read_csv('data/world_cup.csv')\n",
    "world_cup"
   ]
  },
  {
   "cell_type": "code",
   "execution_count": 66,
   "metadata": {
    "deletable": false,
    "editable": false
   },
   "outputs": [
    {
     "data": {
      "text/html": [
       "<p><strong><pre style='display: inline;'>q7_1</pre></strong> passed!</p>"
      ],
      "text/plain": [
       "q7_1 results: All test cases passed!"
      ]
     },
     "execution_count": 66,
     "metadata": {},
     "output_type": "execute_result"
    }
   ],
   "source": [
    "grader.check(\"q7_1\")"
   ]
  },
  {
   "cell_type": "markdown",
   "metadata": {},
   "source": [
    "**Question 7.2.** Add a column to `world_cup` called `'Average_Attendance'` that contains the average number of attendees per match in each World Cup tournament. Do not round."
   ]
  },
  {
   "cell_type": "code",
   "execution_count": 67,
   "metadata": {},
   "outputs": [
    {
     "data": {
      "text/html": [
       "<div>\n",
       "<style scoped>\n",
       "    .dataframe tbody tr th:only-of-type {\n",
       "        vertical-align: middle;\n",
       "    }\n",
       "\n",
       "    .dataframe tbody tr th {\n",
       "        vertical-align: top;\n",
       "    }\n",
       "\n",
       "    .dataframe thead th {\n",
       "        text-align: right;\n",
       "    }\n",
       "</style>\n",
       "<table border=\"1\" class=\"dataframe\">\n",
       "  <thead>\n",
       "    <tr style=\"text-align: right;\">\n",
       "      <th></th>\n",
       "      <th>Year</th>\n",
       "      <th>Host</th>\n",
       "      <th>Total Attendance</th>\n",
       "      <th>Matches</th>\n",
       "      <th>Teams</th>\n",
       "      <th>First</th>\n",
       "      <th>Second</th>\n",
       "      <th>Third</th>\n",
       "      <th>Fourth</th>\n",
       "      <th>Average_Attendance</th>\n",
       "    </tr>\n",
       "  </thead>\n",
       "  <tbody>\n",
       "    <tr>\n",
       "      <th>0</th>\n",
       "      <td>1930</td>\n",
       "      <td>Uruguay</td>\n",
       "      <td>590549</td>\n",
       "      <td>18</td>\n",
       "      <td>13</td>\n",
       "      <td>Uruguay</td>\n",
       "      <td>Argentina</td>\n",
       "      <td>United States</td>\n",
       "      <td>Yugoslavia</td>\n",
       "      <td>32808.277778</td>\n",
       "    </tr>\n",
       "    <tr>\n",
       "      <th>1</th>\n",
       "      <td>1934</td>\n",
       "      <td>Italy</td>\n",
       "      <td>363000</td>\n",
       "      <td>17</td>\n",
       "      <td>16</td>\n",
       "      <td>Italy</td>\n",
       "      <td>Czechoslovakia</td>\n",
       "      <td>Germany</td>\n",
       "      <td>Austria</td>\n",
       "      <td>21352.941176</td>\n",
       "    </tr>\n",
       "    <tr>\n",
       "      <th>2</th>\n",
       "      <td>1938</td>\n",
       "      <td>France</td>\n",
       "      <td>375700</td>\n",
       "      <td>18</td>\n",
       "      <td>15</td>\n",
       "      <td>Italy</td>\n",
       "      <td>Hungary</td>\n",
       "      <td>Brazil</td>\n",
       "      <td>Sweden</td>\n",
       "      <td>20872.222222</td>\n",
       "    </tr>\n",
       "    <tr>\n",
       "      <th>3</th>\n",
       "      <td>1950</td>\n",
       "      <td>Brazil</td>\n",
       "      <td>1045246</td>\n",
       "      <td>22</td>\n",
       "      <td>13</td>\n",
       "      <td>Uruguay</td>\n",
       "      <td>Brazil</td>\n",
       "      <td>Sweden</td>\n",
       "      <td>Spain</td>\n",
       "      <td>47511.181818</td>\n",
       "    </tr>\n",
       "    <tr>\n",
       "      <th>4</th>\n",
       "      <td>1954</td>\n",
       "      <td>Switzerland</td>\n",
       "      <td>768607</td>\n",
       "      <td>26</td>\n",
       "      <td>16</td>\n",
       "      <td>West Germany</td>\n",
       "      <td>Hungary</td>\n",
       "      <td>Austria</td>\n",
       "      <td>Uruguay</td>\n",
       "      <td>29561.807692</td>\n",
       "    </tr>\n",
       "    <tr>\n",
       "      <th>...</th>\n",
       "      <td>...</td>\n",
       "      <td>...</td>\n",
       "      <td>...</td>\n",
       "      <td>...</td>\n",
       "      <td>...</td>\n",
       "      <td>...</td>\n",
       "      <td>...</td>\n",
       "      <td>...</td>\n",
       "      <td>...</td>\n",
       "      <td>...</td>\n",
       "    </tr>\n",
       "    <tr>\n",
       "      <th>17</th>\n",
       "      <td>2006</td>\n",
       "      <td>Germany</td>\n",
       "      <td>3359439</td>\n",
       "      <td>64</td>\n",
       "      <td>32</td>\n",
       "      <td>Italy</td>\n",
       "      <td>France</td>\n",
       "      <td>Germany</td>\n",
       "      <td>Portugal</td>\n",
       "      <td>52491.234375</td>\n",
       "    </tr>\n",
       "    <tr>\n",
       "      <th>18</th>\n",
       "      <td>2010</td>\n",
       "      <td>South Africa</td>\n",
       "      <td>3178856</td>\n",
       "      <td>64</td>\n",
       "      <td>32</td>\n",
       "      <td>Spain</td>\n",
       "      <td>Netherlands</td>\n",
       "      <td>Germany</td>\n",
       "      <td>Uruguay</td>\n",
       "      <td>49669.625000</td>\n",
       "    </tr>\n",
       "    <tr>\n",
       "      <th>19</th>\n",
       "      <td>2014</td>\n",
       "      <td>Brazil</td>\n",
       "      <td>3429873</td>\n",
       "      <td>64</td>\n",
       "      <td>32</td>\n",
       "      <td>Germany</td>\n",
       "      <td>Argentina</td>\n",
       "      <td>Netherlands</td>\n",
       "      <td>Brazil</td>\n",
       "      <td>53591.765625</td>\n",
       "    </tr>\n",
       "    <tr>\n",
       "      <th>20</th>\n",
       "      <td>2018</td>\n",
       "      <td>Russia</td>\n",
       "      <td>3031768</td>\n",
       "      <td>64</td>\n",
       "      <td>32</td>\n",
       "      <td>France</td>\n",
       "      <td>Croatia</td>\n",
       "      <td>Belgium</td>\n",
       "      <td>England</td>\n",
       "      <td>47371.375000</td>\n",
       "    </tr>\n",
       "    <tr>\n",
       "      <th>21</th>\n",
       "      <td>2022</td>\n",
       "      <td>Qatar</td>\n",
       "      <td>3404252</td>\n",
       "      <td>64</td>\n",
       "      <td>32</td>\n",
       "      <td>Argentina</td>\n",
       "      <td>France</td>\n",
       "      <td>Croatia</td>\n",
       "      <td>Morocco</td>\n",
       "      <td>53191.437500</td>\n",
       "    </tr>\n",
       "  </tbody>\n",
       "</table>\n",
       "<p>22 rows × 10 columns</p>\n",
       "</div>"
      ],
      "text/plain": [
       "    Year          Host  Total Attendance  Matches  Teams         First  \\\n",
       "0   1930       Uruguay            590549       18     13       Uruguay   \n",
       "1   1934         Italy            363000       17     16         Italy   \n",
       "2   1938        France            375700       18     15         Italy   \n",
       "3   1950        Brazil           1045246       22     13       Uruguay   \n",
       "4   1954   Switzerland            768607       26     16  West Germany   \n",
       "..   ...           ...               ...      ...    ...           ...   \n",
       "17  2006       Germany           3359439       64     32         Italy   \n",
       "18  2010  South Africa           3178856       64     32         Spain   \n",
       "19  2014        Brazil           3429873       64     32       Germany   \n",
       "20  2018        Russia           3031768       64     32        France   \n",
       "21  2022         Qatar           3404252       64     32     Argentina   \n",
       "\n",
       "            Second          Third      Fourth  Average_Attendance  \n",
       "0        Argentina  United States  Yugoslavia        32808.277778  \n",
       "1   Czechoslovakia        Germany     Austria        21352.941176  \n",
       "2          Hungary         Brazil      Sweden        20872.222222  \n",
       "3           Brazil         Sweden       Spain        47511.181818  \n",
       "4          Hungary        Austria     Uruguay        29561.807692  \n",
       "..             ...            ...         ...                 ...  \n",
       "17          France        Germany    Portugal        52491.234375  \n",
       "18     Netherlands        Germany     Uruguay        49669.625000  \n",
       "19       Argentina    Netherlands      Brazil        53591.765625  \n",
       "20         Croatia        Belgium     England        47371.375000  \n",
       "21          France        Croatia     Morocco        53191.437500  \n",
       "\n",
       "[22 rows x 10 columns]"
      ]
     },
     "execution_count": 67,
     "metadata": {},
     "output_type": "execute_result"
    }
   ],
   "source": [
    "world_cup = world_cup.assign(\n",
    "    Average_Attendance=world_cup.get(\"Total Attendance\")/world_cup.get(\"Matches\")\n",
    ")\n",
    "world_cup"
   ]
  },
  {
   "cell_type": "code",
   "execution_count": 68,
   "metadata": {
    "deletable": false,
    "editable": false
   },
   "outputs": [
    {
     "data": {
      "text/html": [
       "<p><strong><pre style='display: inline;'>q7_2</pre></strong> passed!</p>"
      ],
      "text/plain": [
       "q7_2 results: All test cases passed!"
      ]
     },
     "execution_count": 68,
     "metadata": {},
     "output_type": "execute_result"
    }
   ],
   "source": [
    "grader.check(\"q7_2\")"
   ]
  },
  {
   "cell_type": "markdown",
   "metadata": {},
   "source": [
    "**Question 7.3.** Create a new DataFrame, `world_cup_by_year`, by setting the index of `world_cup` to `'Year'`. Don't change `world_cup`."
   ]
  },
  {
   "cell_type": "code",
   "execution_count": 69,
   "metadata": {
    "scrolled": true
   },
   "outputs": [
    {
     "data": {
      "text/html": [
       "<div>\n",
       "<style scoped>\n",
       "    .dataframe tbody tr th:only-of-type {\n",
       "        vertical-align: middle;\n",
       "    }\n",
       "\n",
       "    .dataframe tbody tr th {\n",
       "        vertical-align: top;\n",
       "    }\n",
       "\n",
       "    .dataframe thead th {\n",
       "        text-align: right;\n",
       "    }\n",
       "</style>\n",
       "<table border=\"1\" class=\"dataframe\">\n",
       "  <thead>\n",
       "    <tr style=\"text-align: right;\">\n",
       "      <th></th>\n",
       "      <th>Host</th>\n",
       "      <th>Total Attendance</th>\n",
       "      <th>Matches</th>\n",
       "      <th>Teams</th>\n",
       "      <th>First</th>\n",
       "      <th>Second</th>\n",
       "      <th>Third</th>\n",
       "      <th>Fourth</th>\n",
       "      <th>Average_Attendance</th>\n",
       "    </tr>\n",
       "    <tr>\n",
       "      <th>Year</th>\n",
       "      <th></th>\n",
       "      <th></th>\n",
       "      <th></th>\n",
       "      <th></th>\n",
       "      <th></th>\n",
       "      <th></th>\n",
       "      <th></th>\n",
       "      <th></th>\n",
       "      <th></th>\n",
       "    </tr>\n",
       "  </thead>\n",
       "  <tbody>\n",
       "    <tr>\n",
       "      <th>1930</th>\n",
       "      <td>Uruguay</td>\n",
       "      <td>590549</td>\n",
       "      <td>18</td>\n",
       "      <td>13</td>\n",
       "      <td>Uruguay</td>\n",
       "      <td>Argentina</td>\n",
       "      <td>United States</td>\n",
       "      <td>Yugoslavia</td>\n",
       "      <td>32808.277778</td>\n",
       "    </tr>\n",
       "    <tr>\n",
       "      <th>1934</th>\n",
       "      <td>Italy</td>\n",
       "      <td>363000</td>\n",
       "      <td>17</td>\n",
       "      <td>16</td>\n",
       "      <td>Italy</td>\n",
       "      <td>Czechoslovakia</td>\n",
       "      <td>Germany</td>\n",
       "      <td>Austria</td>\n",
       "      <td>21352.941176</td>\n",
       "    </tr>\n",
       "    <tr>\n",
       "      <th>1938</th>\n",
       "      <td>France</td>\n",
       "      <td>375700</td>\n",
       "      <td>18</td>\n",
       "      <td>15</td>\n",
       "      <td>Italy</td>\n",
       "      <td>Hungary</td>\n",
       "      <td>Brazil</td>\n",
       "      <td>Sweden</td>\n",
       "      <td>20872.222222</td>\n",
       "    </tr>\n",
       "    <tr>\n",
       "      <th>1950</th>\n",
       "      <td>Brazil</td>\n",
       "      <td>1045246</td>\n",
       "      <td>22</td>\n",
       "      <td>13</td>\n",
       "      <td>Uruguay</td>\n",
       "      <td>Brazil</td>\n",
       "      <td>Sweden</td>\n",
       "      <td>Spain</td>\n",
       "      <td>47511.181818</td>\n",
       "    </tr>\n",
       "    <tr>\n",
       "      <th>1954</th>\n",
       "      <td>Switzerland</td>\n",
       "      <td>768607</td>\n",
       "      <td>26</td>\n",
       "      <td>16</td>\n",
       "      <td>West Germany</td>\n",
       "      <td>Hungary</td>\n",
       "      <td>Austria</td>\n",
       "      <td>Uruguay</td>\n",
       "      <td>29561.807692</td>\n",
       "    </tr>\n",
       "    <tr>\n",
       "      <th>...</th>\n",
       "      <td>...</td>\n",
       "      <td>...</td>\n",
       "      <td>...</td>\n",
       "      <td>...</td>\n",
       "      <td>...</td>\n",
       "      <td>...</td>\n",
       "      <td>...</td>\n",
       "      <td>...</td>\n",
       "      <td>...</td>\n",
       "    </tr>\n",
       "    <tr>\n",
       "      <th>2006</th>\n",
       "      <td>Germany</td>\n",
       "      <td>3359439</td>\n",
       "      <td>64</td>\n",
       "      <td>32</td>\n",
       "      <td>Italy</td>\n",
       "      <td>France</td>\n",
       "      <td>Germany</td>\n",
       "      <td>Portugal</td>\n",
       "      <td>52491.234375</td>\n",
       "    </tr>\n",
       "    <tr>\n",
       "      <th>2010</th>\n",
       "      <td>South Africa</td>\n",
       "      <td>3178856</td>\n",
       "      <td>64</td>\n",
       "      <td>32</td>\n",
       "      <td>Spain</td>\n",
       "      <td>Netherlands</td>\n",
       "      <td>Germany</td>\n",
       "      <td>Uruguay</td>\n",
       "      <td>49669.625000</td>\n",
       "    </tr>\n",
       "    <tr>\n",
       "      <th>2014</th>\n",
       "      <td>Brazil</td>\n",
       "      <td>3429873</td>\n",
       "      <td>64</td>\n",
       "      <td>32</td>\n",
       "      <td>Germany</td>\n",
       "      <td>Argentina</td>\n",
       "      <td>Netherlands</td>\n",
       "      <td>Brazil</td>\n",
       "      <td>53591.765625</td>\n",
       "    </tr>\n",
       "    <tr>\n",
       "      <th>2018</th>\n",
       "      <td>Russia</td>\n",
       "      <td>3031768</td>\n",
       "      <td>64</td>\n",
       "      <td>32</td>\n",
       "      <td>France</td>\n",
       "      <td>Croatia</td>\n",
       "      <td>Belgium</td>\n",
       "      <td>England</td>\n",
       "      <td>47371.375000</td>\n",
       "    </tr>\n",
       "    <tr>\n",
       "      <th>2022</th>\n",
       "      <td>Qatar</td>\n",
       "      <td>3404252</td>\n",
       "      <td>64</td>\n",
       "      <td>32</td>\n",
       "      <td>Argentina</td>\n",
       "      <td>France</td>\n",
       "      <td>Croatia</td>\n",
       "      <td>Morocco</td>\n",
       "      <td>53191.437500</td>\n",
       "    </tr>\n",
       "  </tbody>\n",
       "</table>\n",
       "<p>22 rows × 9 columns</p>\n",
       "</div>"
      ],
      "text/plain": [
       "              Host  Total Attendance  Matches  Teams         First  \\\n",
       "Year                                                                 \n",
       "1930       Uruguay            590549       18     13       Uruguay   \n",
       "1934         Italy            363000       17     16         Italy   \n",
       "1938        France            375700       18     15         Italy   \n",
       "1950        Brazil           1045246       22     13       Uruguay   \n",
       "1954   Switzerland            768607       26     16  West Germany   \n",
       "...            ...               ...      ...    ...           ...   \n",
       "2006       Germany           3359439       64     32         Italy   \n",
       "2010  South Africa           3178856       64     32         Spain   \n",
       "2014        Brazil           3429873       64     32       Germany   \n",
       "2018        Russia           3031768       64     32        France   \n",
       "2022         Qatar           3404252       64     32     Argentina   \n",
       "\n",
       "              Second          Third      Fourth  Average_Attendance  \n",
       "Year                                                                 \n",
       "1930       Argentina  United States  Yugoslavia        32808.277778  \n",
       "1934  Czechoslovakia        Germany     Austria        21352.941176  \n",
       "1938         Hungary         Brazil      Sweden        20872.222222  \n",
       "1950          Brazil         Sweden       Spain        47511.181818  \n",
       "1954         Hungary        Austria     Uruguay        29561.807692  \n",
       "...              ...            ...         ...                 ...  \n",
       "2006          France        Germany    Portugal        52491.234375  \n",
       "2010     Netherlands        Germany     Uruguay        49669.625000  \n",
       "2014       Argentina    Netherlands      Brazil        53591.765625  \n",
       "2018         Croatia        Belgium     England        47371.375000  \n",
       "2022          France        Croatia     Morocco        53191.437500  \n",
       "\n",
       "[22 rows x 9 columns]"
      ]
     },
     "execution_count": 69,
     "metadata": {},
     "output_type": "execute_result"
    }
   ],
   "source": [
    "world_cup_by_year = world_cup.set_index(\"Year\")\n",
    "world_cup_by_year"
   ]
  },
  {
   "cell_type": "code",
   "execution_count": 70,
   "metadata": {
    "deletable": false,
    "editable": false
   },
   "outputs": [
    {
     "data": {
      "text/html": [
       "<p><strong><pre style='display: inline;'>q7_3</pre></strong> passed!</p>"
      ],
      "text/plain": [
       "q7_3 results: All test cases passed!"
      ]
     },
     "execution_count": 70,
     "metadata": {},
     "output_type": "execute_result"
    }
   ],
   "source": [
    "grader.check(\"q7_3\")"
   ]
  },
  {
   "cell_type": "markdown",
   "metadata": {},
   "source": [
    "You should think about why we've chosen to set the index to `'Year'`, instead of any other column."
   ]
  },
  {
   "cell_type": "markdown",
   "metadata": {},
   "source": [
    "**Question 7.4.** Ashley was born in 2002. Where was the World Cup held that year, and who won? Assign your results to `location_02` and `winner_02`, respectively.\n",
    "\n",
    "Don't type in the answers by hand; get Python to extract this information for you."
   ]
  },
  {
   "cell_type": "code",
   "execution_count": 71,
   "metadata": {},
   "outputs": [
    {
     "name": "stdout",
     "output_type": "stream",
     "text": [
      "Location(s): South Korea Japan\n",
      "Winner: Brazil\n"
     ]
    }
   ],
   "source": [
    "location_02 = world_cup_by_year.get('Host').loc[2002]\n",
    "winner_02 = world_cup_by_year.get('First').loc[2002]\n",
    "\n",
    "# Don't change the lines below.\n",
    "print('Location(s):', location_02)\n",
    "print('Winner:', winner_02)"
   ]
  },
  {
   "cell_type": "code",
   "execution_count": 72,
   "metadata": {
    "deletable": false,
    "editable": false
   },
   "outputs": [
    {
     "data": {
      "text/html": [
       "<p><strong><pre style='display: inline;'>q7_4</pre></strong> passed!</p>"
      ],
      "text/plain": [
       "q7_4 results: All test cases passed!"
      ]
     },
     "execution_count": 72,
     "metadata": {},
     "output_type": "execute_result"
    }
   ],
   "source": [
    "grader.check(\"q7_4\")"
   ]
  },
  {
   "cell_type": "markdown",
   "metadata": {},
   "source": [
    "**Question 7.5.** Since the first tournament in 1930, more and more countries have joined FIFA, which means more matches are played in each tournament. Using DataFrame operations, find the number of World Cup tournaments that had more than 50 matches. Assign the number of such tournaments to `over_50_matches`. "
   ]
  },
  {
   "cell_type": "code",
   "execution_count": 73,
   "metadata": {},
   "outputs": [
    {
     "data": {
      "text/plain": [
       "11"
      ]
     },
     "execution_count": 73,
     "metadata": {},
     "output_type": "execute_result"
    }
   ],
   "source": [
    "over_50_matches = world_cup_by_year[world_cup_by_year.get('Matches') > 50].shape[0]\n",
    "over_50_matches"
   ]
  },
  {
   "cell_type": "code",
   "execution_count": 74,
   "metadata": {
    "deletable": false,
    "editable": false
   },
   "outputs": [
    {
     "data": {
      "text/html": [
       "<p><strong><pre style='display: inline;'>q7_5</pre></strong> passed!</p>"
      ],
      "text/plain": [
       "q7_5 results: All test cases passed!"
      ]
     },
     "execution_count": 74,
     "metadata": {},
     "output_type": "execute_result"
    }
   ],
   "source": [
    "grader.check(\"q7_5\")"
   ]
  },
  {
   "cell_type": "markdown",
   "metadata": {},
   "source": [
    "**Question 7.6.** Assign `tenth_highest_attendance` to the tenth highest total attendance of all World Cup tournaments. Assign `tenth_highest_year` to the year in which this attendance occurred.\n",
    "\n",
    "Again, don't type in these values by hand; get Python to extract this information for you.\n",
    "\n",
    "**_Note:_** Remember that you can perform intermediate steps in the lines before `tenth_highest_attendance` and `tenth_highest_year`."
   ]
  },
  {
   "cell_type": "code",
   "execution_count": 75,
   "metadata": {
    "scrolled": true
   },
   "outputs": [
    {
     "name": "stdout",
     "output_type": "stream",
     "text": [
      "Attendance: 2394031\n",
      "Year: 1986\n"
     ]
    }
   ],
   "source": [
    "tenth_highest_attendance = world_cup_by_year.sort_values('Total Attendance', ascending=False).get(\"Total Attendance\").iloc[9]\n",
    "tenth_highest_year = world_cup.sort_values('Total Attendance', ascending=False).get(\"Year\").iloc[9]\n",
    "\n",
    "# Don't change the lines below.\n",
    "print('Attendance:', tenth_highest_attendance)\n",
    "print('Year:', tenth_highest_year)"
   ]
  },
  {
   "cell_type": "code",
   "execution_count": 76,
   "metadata": {
    "deletable": false,
    "editable": false
   },
   "outputs": [
    {
     "data": {
      "text/html": [
       "<p><strong><pre style='display: inline;'>q7_6</pre></strong> passed!</p>"
      ],
      "text/plain": [
       "q7_6 results: All test cases passed!"
      ]
     },
     "execution_count": 76,
     "metadata": {},
     "output_type": "execute_result"
    }
   ],
   "source": [
    "grader.check(\"q7_6\")"
   ]
  },
  {
   "cell_type": "markdown",
   "metadata": {},
   "source": [
    "**Question 7.7.** There are two countries tied for having hosted the most tournaments, France and Italy, having hosted 2 times each. \n",
    "\n",
    "Find out which country was a more popular host, by finding the sum of the `'Total Attendance'` for each country, for the two times it was a host. Assign these totals to `france_total_attendance` and `italy_total_attendance`."
   ]
  },
  {
   "cell_type": "code",
   "execution_count": 77,
   "metadata": {},
   "outputs": [
    {
     "name": "stdout",
     "output_type": "stream",
     "text": [
      "France: 3160800\n",
      "Italy:  2879215\n"
     ]
    }
   ],
   "source": [
    "france_total_attendance = world_cup.groupby(\"Host\").sum().get(\"Total Attendance\").loc[\"France\"]\n",
    "italy_total_attendance = world_cup.groupby(\"Host\").sum().get(\"Total Attendance\").loc[\"Italy\"]\n",
    "\n",
    "# Don't change the lines below.\n",
    "print('France:', france_total_attendance)\n",
    "print('Italy: ', italy_total_attendance)"
   ]
  },
  {
   "cell_type": "code",
   "execution_count": 78,
   "metadata": {
    "deletable": false,
    "editable": false
   },
   "outputs": [
    {
     "data": {
      "text/html": [
       "<p><strong><pre style='display: inline;'>q7_7</pre></strong> passed!</p>"
      ],
      "text/plain": [
       "q7_7 results: All test cases passed!"
      ]
     },
     "execution_count": 78,
     "metadata": {},
     "output_type": "execute_result"
    }
   ],
   "source": [
    "grader.check(\"q7_7\")"
   ]
  },
  {
   "cell_type": "markdown",
   "metadata": {},
   "source": [
    "**Question 7.8.** Now find out which country was the most popular host overall by finding the sum of the `'Total Attendance'` for each country that has ever hosted a World Cup tournament. Assign the name of the host country with the greatest total attendance across all World Cups to `most_popular_host`.\n",
    "\n",
    "**_Hint:_** Our solution for this question used only one line of code (thanks, `groupby`)!"
   ]
  },
  {
   "cell_type": "code",
   "execution_count": 79,
   "metadata": {},
   "outputs": [
    {
     "data": {
      "text/plain": [
       "'Brazil'"
      ]
     },
     "execution_count": 79,
     "metadata": {},
     "output_type": "execute_result"
    }
   ],
   "source": [
    "most_popular_host = world_cup.groupby(\"Host\").sum().sort_values(\"Total Attendance\", ascending=False) \\\n",
    "                    .get(\"Total Attendance\").index[0]\n",
    "    \n",
    "most_popular_host"
   ]
  },
  {
   "cell_type": "code",
   "execution_count": 80,
   "metadata": {
    "deletable": false,
    "editable": false
   },
   "outputs": [
    {
     "data": {
      "text/html": [
       "<p><strong><pre style='display: inline;'>q7_8</pre></strong> passed!</p>"
      ],
      "text/plain": [
       "q7_8 results: All test cases passed!"
      ]
     },
     "execution_count": 80,
     "metadata": {},
     "output_type": "execute_result"
    }
   ],
   "source": [
    "grader.check(\"q7_8\")"
   ]
  },
  {
   "cell_type": "markdown",
   "metadata": {},
   "source": [
    "**Question 7.9.** Determine which country won the World Cup championship the most number of times (i.e. the country that came in first the most number of times). Assign this country to `most_frequent_winner`, and the number of times this country won to `win_count`.\n",
    "\n",
    "Again, don't type in these values by hand; get Python to extract this information for you."
   ]
  },
  {
   "cell_type": "code",
   "execution_count": 81,
   "metadata": {},
   "outputs": [
    {
     "name": "stdout",
     "output_type": "stream",
     "text": [
      "Most frequent winner: Brazil\n",
      "Number of World Cup championships:  5\n"
     ]
    }
   ],
   "source": [
    "most_frequent_winner = world_cup.groupby(\"First\").count().sort_values('Year', ascending=False).index[0]\n",
    "win_count = world_cup.groupby('First').count().sort_values('Year', ascending=False).get(\"Year\").iloc[0]\n",
    "\n",
    "# Don't change the lines below.\n",
    "print('Most frequent winner:', most_frequent_winner)\n",
    "print('Number of World Cup championships: ', win_count)"
   ]
  },
  {
   "cell_type": "code",
   "execution_count": 82,
   "metadata": {
    "deletable": false,
    "editable": false
   },
   "outputs": [
    {
     "data": {
      "text/html": [
       "<p><strong><pre style='display: inline;'>q7_9</pre></strong> passed!</p>"
      ],
      "text/plain": [
       "q7_9 results: All test cases passed!"
      ]
     },
     "execution_count": 82,
     "metadata": {},
     "output_type": "execute_result"
    }
   ],
   "source": [
    "grader.check(\"q7_9\")"
   ]
  },
  {
   "cell_type": "markdown",
   "metadata": {},
   "source": [
    "## Finish Line: Almost there, but make sure to follow the steps below to submit! 🏁\n",
    "\n",
    "**_Citations:_** Did you use any generative artificial intelligence tools to assist you on this assignment? If so, please state, for each tool you used, the name of the tool (ex. ChatGPT) and the problem(s) in this assignment where you used the tool for help."
   ]
  },
  {
   "cell_type": "markdown",
   "metadata": {},
   "source": [
    "<hr style=\"color:Maroon;background-color:Maroon;border:0 none; height: 3px;\">\n",
    "\n",
    "Please cite tools here.\n",
    "\n",
    "<hr style=\"color:Maroon;background-color:Maroon;border:0 none; height: 3px;\">"
   ]
  },
  {
   "cell_type": "markdown",
   "metadata": {},
   "source": [
    "To submit your assignment:\n",
    "\n",
    "1. Make sure to comment out the code in Question 2.1 that causes an error.\n",
    "1. Select `Kernel -> Restart & Run All` to ensure that you have executed all cells, including the test cells. \n",
    "1. Read through the notebook to make sure all cells ran and all tests passed.\n",
    "1. Run the cell below to run all tests, and make sure that they all pass.\n",
    "1. Download your notebook using `File -> Download as -> Notebook (.ipynb)`, then upload your notebook to Gradescope.\n",
    "1. Stick around while the Gradescope autograder grades your work. Make sure you see that all tests have passed on Gradescope.\n",
    "1. Check that you have a confirmation email from Gradescope and save it as proof of your submission. \n",
    "\n",
    "With homeworks, unlike with labs, the grade you see on Gradescope is **not your final score**. We will run correctness tests after the assignment's due date has passed."
   ]
  },
  {
   "cell_type": "code",
   "execution_count": 83,
   "metadata": {},
   "outputs": [
    {
     "data": {
      "text/plain": [
       "q1_1 results: All test cases passed!\n",
       "\n",
       "q1_2 results: All test cases passed!\n",
       "\n",
       "q1_3 results: All test cases passed!\n",
       "\n",
       "q1_4 results: All test cases passed!\n",
       "\n",
       "q2_1 results: All test cases passed!\n",
       "\n",
       "q2_2 results: All test cases passed!\n",
       "\n",
       "q3_1 results: All test cases passed!\n",
       "\n",
       "q3_2 results: All test cases passed!\n",
       "\n",
       "q3_3 results: All test cases passed!\n",
       "\n",
       "q4_1 results: All test cases passed!\n",
       "\n",
       "q4_2 results: All test cases passed!\n",
       "\n",
       "q4_3 results: All test cases passed!\n",
       "\n",
       "q5_1 results: All test cases passed!\n",
       "\n",
       "q5_2 results: All test cases passed!\n",
       "\n",
       "q5_3 results: All test cases passed!\n",
       "\n",
       "q5_4 results: All test cases passed!\n",
       "\n",
       "q5_5 results: All test cases passed!\n",
       "\n",
       "q5_6 results: All test cases passed!\n",
       "\n",
       "q6_1 results: All test cases passed!\n",
       "\n",
       "q6_2 results: All test cases passed!\n",
       "\n",
       "q6_3 results: All test cases passed!\n",
       "\n",
       "q6_4 results: All test cases passed!\n",
       "\n",
       "q6_5 results: All test cases passed!\n",
       "\n",
       "q6_6 results: All test cases passed!\n",
       "\n",
       "q6_7 results: All test cases passed!\n",
       "\n",
       "q7_1 results: All test cases passed!\n",
       "\n",
       "q7_2 results: All test cases passed!\n",
       "\n",
       "q7_3 results: All test cases passed!\n",
       "\n",
       "q7_4 results: All test cases passed!\n",
       "\n",
       "q7_5 results: All test cases passed!\n",
       "\n",
       "q7_6 results: All test cases passed!\n",
       "\n",
       "q7_7 results: All test cases passed!\n",
       "\n",
       "q7_8 results: All test cases passed!\n",
       "\n",
       "q7_9 results: All test cases passed!"
      ]
     },
     "execution_count": 83,
     "metadata": {},
     "output_type": "execute_result"
    }
   ],
   "source": [
    "grader.check_all()"
   ]
  },
  {
   "cell_type": "code",
   "execution_count": null,
   "metadata": {},
   "outputs": [],
   "source": []
  }
 ],
 "metadata": {
  "kernelspec": {
   "display_name": "Python 3 (ipykernel)",
   "language": "python",
   "name": "python3"
  },
  "language_info": {
   "codemirror_mode": {
    "name": "ipython",
    "version": 3
   },
   "file_extension": ".py",
   "mimetype": "text/x-python",
   "name": "python",
   "nbconvert_exporter": "python",
   "pygments_lexer": "ipython3",
   "version": "3.9.5"
  }
 },
 "nbformat": 4,
 "nbformat_minor": 4
}
