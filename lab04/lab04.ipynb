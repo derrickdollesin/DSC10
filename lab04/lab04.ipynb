{
 "cells": [
  {
   "cell_type": "markdown",
   "metadata": {},
   "source": [
    "# Lab 4: Simulation, Sampling, and Bootstrapping\n",
    "\n",
    "## Due Thursday, November 9th at 11:59PM\n",
    "\n",
    "Welcome to Lab 4! This covers the topics listed below. Click the links to read about these topics in the textbook.\n",
    "\n",
    "- Simulation (see [CIT 9.3](https://inferentialthinking.com/chapters/09/3/Simulation.html))\n",
    "- Sampling (see [CIT 10](https://inferentialthinking.com/chapters/10/Sampling_and_Empirical_Distributions.html))\n",
    "- Bootstrapping (see [CIT 13](https://inferentialthinking.com/chapters/13/Estimation.html))\n",
    "\n",
    "You should complete this entire lab so that all tests pass and submit it to Gradescope by 11:59PM on the due date."
   ]
  },
  {
   "cell_type": "code",
   "execution_count": 1,
   "metadata": {},
   "outputs": [],
   "source": [
    "import numpy as np\n",
    "import babypandas as bpd\n",
    "import math\n",
    "\n",
    "import matplotlib.pyplot as plt\n",
    "plt.style.use('ggplot')\n",
    "plt.rcParams['figure.figsize'] = (10, 5)\n",
    "\n",
    "import otter\n",
    "grader = otter.Notebook()\n",
    "\n",
    "from IPython.display import YouTubeVideo, IFrame\n",
    "\n",
    "def show_bootstrapping_slides():\n",
    "    src = \"https://docs.google.com/presentation/d/e/2PACX-1vS_iYHJYXSVMMZ-YQVFwMEFR6EFN3FDSAvaMyUm-YJfLQgRMTHm3vI-wWJJ5999eFJq70nWp2hyItZg/embed?start=false&loop=false&delayms=3000&rm=minimal\"\n",
    "    width = 600\n",
    "    height = 320\n",
    "    display(IFrame(src, width, height))"
   ]
  },
  {
   "cell_type": "markdown",
   "metadata": {},
   "source": [
    "## 0. Mid-Quarter Survey\n",
    "\n",
    "We'd like to hear from you on how DSC 10 has been going so far this quarter. To do so, we've put together a survey that asks you to provide feedback on all aspects of the course. You can provide as much or as little detail as you'd like. \n",
    "\n",
    "This survey is entirely anonymous, though you are free to leave your name and email if you want. The responses to the survey will be visible to both course staff and the Data Science Student Representatives. There will also be a question at the end of the survey that will allow you to provide feedback on the DSC program as a whole.\n",
    "\n",
    "<center><h3>Click <a href=\"https://docs.google.com/forms/d/e/1FAIpQLSenMue3wGwX7OVIE0RMJ4OFzMtg0YG3T2PqXikcB7594ij5kg/viewform\">here</a> to access the survey.</h3></center>\n",
    "\n",
    "**If at least 80% of the class fills out this survey by Saturday, November 11th at 11:59PM, everyone will earn 2 additional points on the Midterm Exam!**"
   ]
  },
  {
   "cell_type": "markdown",
   "metadata": {},
   "source": [
    "## 1. Dungeons and Dragons 🐉\n",
    "\n",
    "In the fantasy role-playing game Dungeons & Dragons, each player takes on the role of a certain character.\n",
    "\n",
    "To perform an action, a player rolls a 20-sided die, adds a \"modifier\" number to the roll, and compares the total to a threshold for success.  The value of the modifier depends on the player's character's competence in performing the action.\n",
    "\n",
    "Throughout this question, we'll work with the following concrete example. Suppose Ashley's character, a barbarian warrior named Wulfgar, is trying to knock down a heavy door.  Ashley rolls a 20-sided die, adds a modifier of 9 to the result (because her character is good at knocking down doors), and succeeds in knocking down the door if the total is at least 16.\n",
    "\n",
    "**Question 1.1.** Write code that simulates this procedure.  Compute three values: \n",
    "- the result of Ashley's 20-sided die roll (`roll_result`), \n",
    "- the result of her roll plus Wulfgar's modifier of 9 (`modified_result`), and \n",
    "- a Boolean value indicating whether the action succeeded (`action_succeeded`).  \n",
    "\n",
    "**Do not fill in any of the results manually**; the entire simulation should happen in code.\n",
    "\n",
    "***Hint:*** A roll of a 20-sided die is a number chosen uniformly from the array `np.array([1, 2, 3, 4, ..., 20])`. You can store these possibilities in `possible_rolls`.  So a roll of a 20-sided die *plus 9* is a number chosen uniformly from that array, plus 9."
   ]
  },
  {
   "cell_type": "code",
   "execution_count": 2,
   "metadata": {},
   "outputs": [
    {
     "name": "stdout",
     "output_type": "stream",
     "text": [
      "On a modified roll of 23, Ashley's action succeeded.\n"
     ]
    }
   ],
   "source": [
    "roll_result = np.random.choice(20) + 1\n",
    "modified_result = roll_result + 9\n",
    "action_succeeded = modified_result > 16\n",
    "\n",
    "# The next line just prints out your results in a nice way\n",
    "# once you're done.  You can delete it if you want.\n",
    "print(\"On a modified roll of {:d}, Ashley's action {}.\".format(modified_result, \"succeeded\" if action_succeeded else \"failed\"))"
   ]
  },
  {
   "cell_type": "code",
   "execution_count": 3,
   "metadata": {
    "deletable": false,
    "editable": false
   },
   "outputs": [
    {
     "data": {
      "text/html": [
       "<p><strong><pre style='display: inline;'>q1_1</pre></strong> passed!</p>"
      ],
      "text/plain": [
       "q1_1 results: All test cases passed!"
      ]
     },
     "execution_count": 3,
     "metadata": {},
     "output_type": "execute_result"
    }
   ],
   "source": [
    "grader.check(\"q1_1\")"
   ]
  },
  {
   "cell_type": "markdown",
   "metadata": {},
   "source": [
    "**Question 1.2.** Let's repeat the above simulation ten times. Below, assign `ten_reps` to an array of Booleans, where each element corresponds to whether a single simulation was successful. Then, determine the fraction of those simulations that succeeded, and assign your answer to `rough_success_chance`.\n",
    "\n",
    "***Note:*** Do **not** use a `for`-loop here! Instead, call `np.random.choice` with multiple arguments (the second of which is the number of times you want to roll the die). The result will be an array. Remember that, for example, `arr + 1` adds the number 1 to every element in the array `arr`."
   ]
  },
  {
   "cell_type": "code",
   "execution_count": 4,
   "metadata": {},
   "outputs": [
    {
     "data": {
      "text/plain": [
       "0.8"
      ]
     },
     "execution_count": 4,
     "metadata": {},
     "output_type": "execute_result"
    }
   ],
   "source": [
    "ten_reps = np.count_nonzero(((np.random.choice(20, 10) + 1) + 9) > 16)\n",
    "rough_success_chance = ten_reps / 10\n",
    "rough_success_chance"
   ]
  },
  {
   "cell_type": "code",
   "execution_count": 5,
   "metadata": {
    "deletable": false,
    "editable": false
   },
   "outputs": [
    {
     "data": {
      "text/html": [
       "<p><strong><pre style='display: inline;'>q1_2</pre></strong> passed!</p>"
      ],
      "text/plain": [
       "q1_2 results: All test cases passed!"
      ]
     },
     "execution_count": 5,
     "metadata": {},
     "output_type": "execute_result"
    }
   ],
   "source": [
    "grader.check(\"q1_2\")"
   ]
  },
  {
   "cell_type": "markdown",
   "metadata": {},
   "source": [
    "**Question 1.3.** What is the theoretical probability of Wulfgar successfully knocking down the door when rolling a 20-sided die with a modifier of 9 and success threshold of 16? This is a math question, not a programming question."
   ]
  },
  {
   "cell_type": "code",
   "execution_count": 6,
   "metadata": {},
   "outputs": [],
   "source": [
    "theoretical_probability = 14/20"
   ]
  },
  {
   "cell_type": "code",
   "execution_count": 7,
   "metadata": {
    "deletable": false,
    "editable": false
   },
   "outputs": [
    {
     "data": {
      "text/html": [
       "<p><strong><pre style='display: inline;'>q1_3</pre></strong> passed!</p>"
      ],
      "text/plain": [
       "q1_3 results: All test cases passed!"
      ]
     },
     "execution_count": 7,
     "metadata": {},
     "output_type": "execute_result"
    }
   ],
   "source": [
    "grader.check(\"q1_3\")"
   ]
  },
  {
   "cell_type": "markdown",
   "metadata": {},
   "source": [
    "**Question 1.4.** Let's try and put some of your work from Question 1.2 into a function. Below, complete the implementation of the function `simulate_observations`.  It should take no arguments, and it should return an array of ten numbers.  Each of the numbers should be the modified roll from one simulation.  **Then**, call your function once to compute an array of ten simulated modified rolls.  Name that array `observations`.\n",
    "\n",
    "Again, like in Question 1.2, there should be no need to use a `for`-loop."
   ]
  },
  {
   "cell_type": "code",
   "execution_count": 8,
   "metadata": {},
   "outputs": [
    {
     "data": {
      "text/plain": [
       "array([ 9, 10, 10, 18, 16, 17,  8,  3, 11,  9,  2, 17, 11,  6,  3,  2, 18,\n",
       "        2,  1, 14, 15,  4, 19,  3, 14, 10,  7, 12, 17,  6, 17, 13, 10,  4,\n",
       "       19,  7, 11,  7,  4, 19, 15, 16,  5,  4, 10, 18, 13, 13, 16, 15,  8,\n",
       "        6, 17,  2,  1,  8, 18,  8,  8,  7,  1,  7, 14,  8, 17, 12, 11,  8,\n",
       "       11,  4,  9, 17, 17, 16,  7,  6, 17, 20, 13,  9,  6, 19, 20, 20, 18,\n",
       "        6,  8,  6,  3,  2,  1,  6, 16, 18,  7, 15, 18,  2, 20, 19])"
      ]
     },
     "execution_count": 8,
     "metadata": {},
     "output_type": "execute_result"
    }
   ],
   "source": [
    "np.random.choice(20, 100) + 1"
   ]
  },
  {
   "cell_type": "code",
   "execution_count": 9,
   "metadata": {},
   "outputs": [
    {
     "data": {
      "text/plain": [
       "array([20, 26, 29, 15, 16, 21, 17, 16, 27, 10])"
      ]
     },
     "execution_count": 9,
     "metadata": {},
     "output_type": "execute_result"
    }
   ],
   "source": [
    "modifier = 9 # Don't change this!\n",
    "num_observations = 10 # Don't change this!\n",
    "\n",
    "def simulate_observations():\n",
    "    \"\"\"Returns an array of 10 simulated modified die rolls.\"\"\"\n",
    "    return (np.random.choice(20, num_observations) + 1) + modifier\n",
    "    \n",
    "observations = simulate_observations() \n",
    "observations"
   ]
  },
  {
   "cell_type": "code",
   "execution_count": 10,
   "metadata": {
    "deletable": false,
    "editable": false
   },
   "outputs": [
    {
     "data": {
      "text/html": [
       "<p><strong><pre style='display: inline;'>q1_4</pre></strong> passed!</p>"
      ],
      "text/plain": [
       "q1_4 results: All test cases passed!"
      ]
     },
     "execution_count": 10,
     "metadata": {},
     "output_type": "execute_result"
    }
   ],
   "source": [
    "grader.check(\"q1_4\")"
   ]
  },
  {
   "cell_type": "markdown",
   "metadata": {},
   "source": [
    "Now, let's pretend we **don't know** that Wulfgar has a modifier of 9 for this action. Instead, we observe the modified roll (that is, the die roll plus the modifier) from ten of Wulfgar's attempts to knock down doors. We would like to **estimate** Wulfgar's modifier using just the ten numbers in the array `observations`, and nothing else.\n",
    "\n",
    "One straightforward way to do this involves looking at the smallest overall modified roll. Remember, the smallest number on a 20-sided die is 1, and the smallest possible modifier is 0.\n",
    "- If we see that the smallest modified roll was 1, we know that the character's modifier must be 0. \n",
    "- If we see that the smallest modified roll is something larger than 1 – say, 13 – we can't say for certain what the character's modifier is. In this case, **we'll guess that at some point, the player rolled a 1**, and that their character's modifier is **13 - 1 = 12**. \n",
    "    - This works because, if we see enough modified rolls, one of them will have occurred when the player rolled a 1.\n",
    "\n",
    "**Question 1.5.** Using this method, estimate `modifier` from `observations` and name that estimate `min_based_estimate`. If you're not sure what to do, read the previous paragraph again carefully."
   ]
  },
  {
   "cell_type": "code",
   "execution_count": 11,
   "metadata": {},
   "outputs": [
    {
     "data": {
      "text/plain": [
       "9"
      ]
     },
     "execution_count": 11,
     "metadata": {},
     "output_type": "execute_result"
    }
   ],
   "source": [
    "min_based_estimate = observations.min() - 1\n",
    "min_based_estimate"
   ]
  },
  {
   "cell_type": "code",
   "execution_count": 12,
   "metadata": {
    "deletable": false,
    "editable": false
   },
   "outputs": [
    {
     "data": {
      "text/html": [
       "<p><strong><pre style='display: inline;'>q1_5</pre></strong> passed!</p>"
      ],
      "text/plain": [
       "q1_5 results: All test cases passed!"
      ]
     },
     "execution_count": 12,
     "metadata": {},
     "output_type": "execute_result"
    }
   ],
   "source": [
    "grader.check(\"q1_5\")"
   ]
  },
  {
   "cell_type": "markdown",
   "metadata": {},
   "source": [
    "Another way to estimate the modifier involves the mean of `observations`. \n",
    "- If a character's modifier is zero, then the mean of many of their modified rolls will be close to the mean of 1, 2, ..., 20, which is 10.5. \n",
    "- If their modifier is $m$, then the mean of their modified rolls will be close to the mean of $1 + m$, $2 + m$, ..., $20 + m$,\n",
    "which is 10.5 + $m$. \n",
    "- Since we can calculate the mean of the modified rolls, we can use this to estimate $m$.\n",
    "\n",
    "**Question 1.6.** Write a function named `calculate_mean_based_estimate` that computes an estimate of the modifier using this method.  It should take an array of modified rolls (like the array `observations`) as its argument and return an estimate of `modifier` based on the mean of those numbers.\n",
    "\n",
    "***Note:*** It's okay if your `mean_based_estimate` is not an integer!"
   ]
  },
  {
   "cell_type": "code",
   "execution_count": 13,
   "metadata": {},
   "outputs": [
    {
     "data": {
      "text/plain": [
       "9.2"
      ]
     },
     "execution_count": 13,
     "metadata": {},
     "output_type": "execute_result"
    }
   ],
   "source": [
    "def calculate_mean_based_estimate(nums):\n",
    "    \"\"\"Estimate the roll modifier based on observed modified rolls in the array nums.\"\"\"\n",
    "    return nums.mean() - 10.5\n",
    "\n",
    "# Here is an example call to your function.  It computes an estimate\n",
    "# of the modifier from our ten observations.\n",
    "mean_based_estimate = calculate_mean_based_estimate(observations)\n",
    "mean_based_estimate"
   ]
  },
  {
   "cell_type": "code",
   "execution_count": 14,
   "metadata": {
    "deletable": false,
    "editable": false
   },
   "outputs": [
    {
     "data": {
      "text/html": [
       "<p><strong><pre style='display: inline;'>q1_6</pre></strong> passed!</p>"
      ],
      "text/plain": [
       "q1_6 results: All test cases passed!"
      ]
     },
     "execution_count": 14,
     "metadata": {},
     "output_type": "execute_result"
    }
   ],
   "source": [
    "grader.check(\"q1_6\")"
   ]
  },
  {
   "cell_type": "markdown",
   "metadata": {},
   "source": [
    "Remember, the actual modifier was 9. Which was a better estimate, the `min_based_estimate` or the `mean_based_estimate`? Run the cell below to compare the different estimates to the actual modifier."
   ]
  },
  {
   "cell_type": "code",
   "execution_count": 15,
   "metadata": {
    "scrolled": true
   },
   "outputs": [
    {
     "name": "stdout",
     "output_type": "stream",
     "text": [
      "Actual modifier: 9\n",
      "Min-based estimate: 9\n",
      "Mean-based estimate: 9.2\n"
     ]
    }
   ],
   "source": [
    "print(\"Actual modifier:\", modifier)\n",
    "print(\"Min-based estimate:\", min_based_estimate)\n",
    "print(\"Mean-based estimate:\", mean_based_estimate)"
   ]
  },
  {
   "cell_type": "markdown",
   "metadata": {},
   "source": [
    "Which estimation strategy do you think is better in general? Does the better estimation strategy change as the number of observations grows? Does the value of the actual modifier matter? Feel free to explore these questions or answer some questions of your own!"
   ]
  },
  {
   "cell_type": "code",
   "execution_count": 16,
   "metadata": {},
   "outputs": [
    {
     "name": "stdout",
     "output_type": "stream",
     "text": [
      "Min-based estimate: 10.0\n",
      "Mean-based estimate: 8.802\n"
     ]
    }
   ],
   "source": [
    "# Play around, it's good practice!\n",
    "temp = np.array([])\n",
    "\n",
    "for i in range(100):\n",
    "    temp = np.append(temp, simulate_observations())\n",
    "    \n",
    "print(f'Min-based estimate: {temp.min()}')\n",
    "print(f'Mean-based estimate: {calculate_mean_based_estimate(temp)}')"
   ]
  },
  {
   "cell_type": "markdown",
   "metadata": {},
   "source": [
    "## 2. Allied Intelligence Preliminaries 🧠\n",
    "\n",
    "Now that we've had some fun with Dungeons and Dragons, we'll focus on a more serious problem throughout the rest of this lab.\n",
    "\n",
    "In World War II, the Allies (led by the US, the UK, and the Soviet Union) wanted to know how many military tanks the Germans had produced. However, they didn't get to see every single tank produced by the Germans – rather, all they saw was a random **sample** of tanks, and the wanted to use this sample to estimate the total number of tanks produced by the Germans. This problem, known as the [German tank problem](https://en.wikipedia.org/wiki/German_tank_problem), is a famous application of statistical estimation in a real-world scenario.\n",
    "\n",
    "To frame the problem more precisely, consider that tanks were given serial numbers ranging from 1 to `N`, where `N` was the total number of tanks produced. The Allies were trying to estimate `N`, a **population parameter**, using the serial numbers of the tanks in their sample. We will assume that the Allies' sample is a simple random sample of the population (drawn without replacement).\n",
    "\n",
    "<br>\n",
    "\n",
    "<center><img src='images/tank.jpg' width=400></center>\n",
    "\n",
    "<br>\n",
    "\n",
    "\n",
    "In this lab, given **just** a random sample of serial numbers, we'll estimate `N`, and then we'll use simulation to find out how accurate our estimate likely is, without ever looking at the whole population. This is an example of **statistical inference** – inferring something about a population using just the information in a sample."
   ]
  },
  {
   "cell_type": "markdown",
   "metadata": {},
   "source": [
    "**Question 2.1.** Is `N` a population parameter or a statistic?  If we compute a number using our random sample that's an estimate of `N`, is that a population parameter or a statistic?  Assign either 1, 2, 3, or 4 to the variable `q2_1` below. \n",
    "1. `N` is a population parameter.  An estimate of `N` from our random sample is a population parameter.\n",
    "2. `N` is a population parameter.  An estimate of `N` from our random sample is a statistic.\n",
    "3. `N` is a statistic.  An estimate of `N` from our random sample is a population parameter.\n",
    "4. `N` is a statistic.  An estimate of `N` from our random sample is a statistic."
   ]
  },
  {
   "cell_type": "code",
   "execution_count": 17,
   "metadata": {},
   "outputs": [],
   "source": [
    "q2_1 = 2"
   ]
  },
  {
   "cell_type": "code",
   "execution_count": 18,
   "metadata": {
    "deletable": false,
    "editable": false
   },
   "outputs": [
    {
     "data": {
      "text/html": [
       "<p><strong><pre style='display: inline;'>q2_1</pre></strong> passed!</p>"
      ],
      "text/plain": [
       "q2_1 results: All test cases passed!"
      ]
     },
     "execution_count": 18,
     "metadata": {},
     "output_type": "execute_result"
    }
   ],
   "source": [
    "grader.check(\"q2_1\")"
   ]
  },
  {
   "cell_type": "markdown",
   "metadata": {},
   "source": [
    "To make the situation realistic, we're going to hide the true number of tanks from you.  You'll have access only to this random sample:"
   ]
  },
  {
   "cell_type": "code",
   "execution_count": 19,
   "metadata": {},
   "outputs": [
    {
     "data": {
      "text/html": [
       "<div>\n",
       "<style scoped>\n",
       "    .dataframe tbody tr th:only-of-type {\n",
       "        vertical-align: middle;\n",
       "    }\n",
       "\n",
       "    .dataframe tbody tr th {\n",
       "        vertical-align: top;\n",
       "    }\n",
       "\n",
       "    .dataframe thead th {\n",
       "        text-align: right;\n",
       "    }\n",
       "</style>\n",
       "<table border=\"1\" class=\"dataframe\">\n",
       "  <thead>\n",
       "    <tr style=\"text-align: right;\">\n",
       "      <th></th>\n",
       "      <th>serial_number</th>\n",
       "    </tr>\n",
       "  </thead>\n",
       "  <tbody>\n",
       "    <tr>\n",
       "      <th>0</th>\n",
       "      <td>47</td>\n",
       "    </tr>\n",
       "    <tr>\n",
       "      <th>1</th>\n",
       "      <td>42</td>\n",
       "    </tr>\n",
       "    <tr>\n",
       "      <th>2</th>\n",
       "      <td>57</td>\n",
       "    </tr>\n",
       "    <tr>\n",
       "      <th>3</th>\n",
       "      <td>79</td>\n",
       "    </tr>\n",
       "    <tr>\n",
       "      <th>4</th>\n",
       "      <td>26</td>\n",
       "    </tr>\n",
       "    <tr>\n",
       "      <th>...</th>\n",
       "      <td>...</td>\n",
       "    </tr>\n",
       "    <tr>\n",
       "      <th>12</th>\n",
       "      <td>67</td>\n",
       "    </tr>\n",
       "    <tr>\n",
       "      <th>13</th>\n",
       "      <td>108</td>\n",
       "    </tr>\n",
       "    <tr>\n",
       "      <th>14</th>\n",
       "      <td>84</td>\n",
       "    </tr>\n",
       "    <tr>\n",
       "      <th>15</th>\n",
       "      <td>50</td>\n",
       "    </tr>\n",
       "    <tr>\n",
       "      <th>16</th>\n",
       "      <td>78</td>\n",
       "    </tr>\n",
       "  </tbody>\n",
       "</table>\n",
       "<p>17 rows × 1 columns</p>\n",
       "</div>"
      ],
      "text/plain": [
       "    serial_number\n",
       "0              47\n",
       "1              42\n",
       "2              57\n",
       "3              79\n",
       "4              26\n",
       "..            ...\n",
       "12             67\n",
       "13            108\n",
       "14             84\n",
       "15             50\n",
       "16             78\n",
       "\n",
       "[17 rows x 1 columns]"
      ]
     },
     "execution_count": 19,
     "metadata": {},
     "output_type": "execute_result"
    }
   ],
   "source": [
    "observations = bpd.read_csv(\"data/serial_numbers.csv\")\n",
    "num_observations = observations.shape[0]\n",
    "observations"
   ]
  },
  {
   "cell_type": "markdown",
   "metadata": {},
   "source": [
    "**Question 2.2.** Complete the implementation of the function `plot_serial_numbers`, which draws a histogram of any DataFrame of serial numbers.  It should take one argument, a DataFrame `df` with a single column column called `'serial_number'` (like `observations`).  It should plot a histogram of the values in the `'serial_number'` column **using bins of width 1** ranging from **1 to 200 (inclusive)** but return nothing.  Then, call that function to make a histogram of `observations`."
   ]
  },
  {
   "cell_type": "code",
   "execution_count": 20,
   "metadata": {},
   "outputs": [
    {
     "data": {
      "image/png": "[encoded data removed]",
      "text/plain": [
       "<Figure size 720x360 with 1 Axes>"
      ]
     },
     "metadata": {},
     "output_type": "display_data"
    }
   ],
   "source": [
    "def plot_serial_numbers(df):\n",
    "    df.plot(kind='hist', y='serial_number', ec='white', bins=np.arange(1, 200, 1), density=True)\n",
    "\n",
    "# Call your function.\n",
    "plot_serial_numbers(observations)"
   ]
  },
  {
   "cell_type": "markdown",
   "metadata": {},
   "source": [
    "***Check your answer***: Your histogram should have bars that are all the same height and the x-axis should range from 0 to 200."
   ]
  },
  {
   "cell_type": "markdown",
   "metadata": {},
   "source": [
    "**Question 2.3.** Since we are trying to estimate the population maximum, `N`, a natural statistic to use is the sample **maximum**. In other words, we can estimate the total number of tanks using the biggest serial number in our sample.\n",
    "\n",
    "Below, complete the implementation of the function `calculate_max_based_estimate`, which computes that statistic on a given Series of serial numbers. It should take as its argument a Series of serial numbers and return their maximum.\n",
    "\n",
    "After that, use it to compute an estimate of `N` using the serial numbers in `observations`. Call the estimate `max_based_estimate`."
   ]
  },
  {
   "cell_type": "code",
   "execution_count": 21,
   "metadata": {},
   "outputs": [
    {
     "data": {
      "text/plain": [
       "135"
      ]
     },
     "execution_count": 21,
     "metadata": {},
     "output_type": "execute_result"
    }
   ],
   "source": [
    "def calculate_max_based_estimate(nums):\n",
    "    return nums.max()\n",
    "\n",
    "max_based_estimate = calculate_max_based_estimate(observations.get('serial_number'))\n",
    "max_based_estimate"
   ]
  },
  {
   "cell_type": "code",
   "execution_count": 22,
   "metadata": {
    "deletable": false,
    "editable": false
   },
   "outputs": [
    {
     "data": {
      "text/html": [
       "<p><strong><pre style='display: inline;'>q2_3</pre></strong> passed!</p>"
      ],
      "text/plain": [
       "q2_3 results: All test cases passed!"
      ]
     },
     "execution_count": 22,
     "metadata": {},
     "output_type": "execute_result"
    }
   ],
   "source": [
    "grader.check(\"q2_3\")"
   ]
  },
  {
   "cell_type": "markdown",
   "metadata": {},
   "source": [
    "**Question 2.4.** Another way to estimate `N` is to take **twice the mean** of the serial numbers in our sample. This is based on the idea that the mean of a random sample of the numbers `1` through `N` usually falls about halfway between `1` and `N`. So we can estimate `N` by doubling this mean.\n",
    "\n",
    "Below, write a function called `calculate_mean_based_estimate` that computes that statistic. It should take as its argument a Series of serial numbers and return twice their mean.\n",
    "\n",
    "After that, use it to compute an estimate of `N` using the serial numbers in `observations`. Call the estimate `mean_based_estimate`."
   ]
  },
  {
   "cell_type": "code",
   "execution_count": 23,
   "metadata": {},
   "outputs": [
    {
     "data": {
      "text/plain": [
       "122.47058823529412"
      ]
     },
     "execution_count": 23,
     "metadata": {},
     "output_type": "execute_result"
    }
   ],
   "source": [
    "def calculate_mean_based_estimate(nums):\n",
    "    return nums.mean() * 2\n",
    "\n",
    "mean_based_estimate = calculate_mean_based_estimate(observations.get('serial_number'))\n",
    "mean_based_estimate"
   ]
  },
  {
   "cell_type": "code",
   "execution_count": 24,
   "metadata": {
    "deletable": false,
    "editable": false
   },
   "outputs": [
    {
     "data": {
      "text/html": [
       "<p><strong><pre style='display: inline;'>q2_4</pre></strong> passed!</p>"
      ],
      "text/plain": [
       "q2_4 results: All test cases passed!"
      ]
     },
     "execution_count": 24,
     "metadata": {},
     "output_type": "execute_result"
    }
   ],
   "source": [
    "grader.check(\"q2_4\")"
   ]
  },
  {
   "cell_type": "markdown",
   "metadata": {},
   "source": [
    "**Question 2.5.** Look at the values of `max_based_estimate` and `mean_based_estimate` that we happened to get for our dataset."
   ]
  },
  {
   "cell_type": "code",
   "execution_count": 25,
   "metadata": {},
   "outputs": [
    {
     "data": {
      "text/plain": [
       "135"
      ]
     },
     "execution_count": 25,
     "metadata": {},
     "output_type": "execute_result"
    }
   ],
   "source": [
    "max_based_estimate"
   ]
  },
  {
   "cell_type": "code",
   "execution_count": 26,
   "metadata": {},
   "outputs": [
    {
     "data": {
      "text/plain": [
       "122.47058823529412"
      ]
     },
     "execution_count": 26,
     "metadata": {},
     "output_type": "execute_result"
    }
   ],
   "source": [
    "mean_based_estimate"
   ]
  },
  {
   "cell_type": "markdown",
   "metadata": {},
   "source": [
    "The value of `max_based_estimate` tells you something about `mean_based_estimate`.  Could our current `mean_based_estimate` possibly be equal to `N` (at least if we round it to the nearest integer)?  If not, is it definitely higher, definitely lower, or can we not tell?  Assign one of the choices (1-6) to the variable `q2_5` below. \n",
    "1. Yes, our `mean_based_estimate` for this sample could equal `N`.\n",
    "2. No, our `mean_based_estimate` for this sample cannot be equal to `N`, it is definitely lower by roughly 3.\n",
    "3. No, our `mean_based_estimate` for this sample cannot be equal to `N`, it is definitely lower by at least 12.\n",
    "4. No, our `mean_based_estimate` for this sample cannot be equal to `N`, it is definitely higher by roughly 3.\n",
    "5. No, our `mean_based_estimate` for this sample cannot be equal to `N`, it is definitely higher by at least 12.\n",
    "6. No, our `mean_based_estimate` for this sample cannot be equal to `N`, but we cannot tell if it is lower or higher."
   ]
  },
  {
   "cell_type": "code",
   "execution_count": 27,
   "metadata": {},
   "outputs": [],
   "source": [
    "q2_5 = 3"
   ]
  },
  {
   "cell_type": "code",
   "execution_count": 28,
   "metadata": {
    "deletable": false,
    "editable": false
   },
   "outputs": [
    {
     "data": {
      "text/html": [
       "<p><strong><pre style='display: inline;'>q2_5</pre></strong> passed!</p>"
      ],
      "text/plain": [
       "q2_5 results: All test cases passed!"
      ]
     },
     "execution_count": 28,
     "metadata": {},
     "output_type": "execute_result"
    }
   ],
   "source": [
    "grader.check(\"q2_5\")"
   ]
  },
  {
   "cell_type": "markdown",
   "metadata": {},
   "source": [
    "We can't just confidently proclaim that `max_based_estimate` or `mean_based_estimate` are equal to `N`, because we don't know what `N` actually is.  What if we're really far off? We want to get a sense of the accuracy of our estimates."
   ]
  },
  {
   "cell_type": "markdown",
   "metadata": {},
   "source": [
    "## 3. Resampling 🥾\n",
    "\n",
    "If we had access to the entire population, we could repeatedly draw samples from the population and compute our estimate using each sample. This would give an empirical distribution of estimate, which we could use to see how wrong our estimates tend to be. This is what we did in Lecture 14.\n",
    "\n",
    "Unfortunately, we **don't** have access to the entire population (i.e. we don't know the value of `N`). All we have access to is a single sample of serial numbers. How do we tell how accurate our estimates are without being able to sample repeatedly from the population to create an empirical distribution? 🤔\n",
    "\n",
    "<br>\n",
    "\n",
    "One strategy is to repeatedly sample from our sample, or \"**resample**\", and use those resamples to compute an empirical distribution of our estimate. Let's talk about why this is a reasonable strategy. \n",
    "- When we tried to determine `N`, the number of tanks, we would have liked to use the whole population.  Since we had only a sample, we used that to estimate `N` instead.\n",
    "- Similarly, now we would like to use the population of serial numbers to **run a simulation** to help us understand how different estimates of `N` might have turned out. But we still only have our **sample**, so can we use that instead? **We can!** \n",
    "- Since large random samples tend to resemble the populations they are drawn from, and our sample is relatively large, we can treat our sample as if it is the population, and sample from it.\n",
    "\n",
    "When we resample from our original sample, we sample **uniformly at random with replacement** and create a resample **that has the same number of elements as the original sample**. (In Question 5, we'll look at why we must resample with replacement.)\n",
    "\n",
    "Here's an analogy between estimating `N` and computing the empirical distribution of our estimates:\n",
    "\n",
    "$$\\text{computing }N\\text{ from the population}$$\n",
    "$$\\text{is to}$$\n",
    "$$\\text{computing an estimate of }N\\text{ from a sample}$$\n",
    "\n",
    "$$\\text{as}$$\n",
    "\n",
    "$$\\text{computing an empirical distribution of estimates of }N\\text{ using samples from the population}$$\n",
    "$$\\text{is to}$$\n",
    "$$\\text{computing an empirical distribution of estimates of }N\\text{ using resamples from a sample}$$\n",
    "\n",
    "The process of resampling from our original sample is known as **bootstrap resampling**. Run the cell below to walk through an animation that illustrates how bootstrapping works."
   ]
  },
  {
   "cell_type": "code",
   "execution_count": 29,
   "metadata": {
    "scrolled": true
   },
   "outputs": [
    {
     "data": {
      "text/html": [
       "\n",
       "        <iframe\n",
       "            width=\"600\"\n",
       "            height=\"320\"\n",
       "            src=\"https://docs.google.com/presentation/d/e/2PACX-1vS_iYHJYXSVMMZ-YQVFwMEFR6EFN3FDSAvaMyUm-YJfLQgRMTHm3vI-wWJJ5999eFJq70nWp2hyItZg/embed?start=false&loop=false&delayms=3000&rm=minimal\"\n",
       "            frameborder=\"0\"\n",
       "            allowfullscreen\n",
       "        ></iframe>\n",
       "        "
      ],
      "text/plain": [
       "<IPython.lib.display.IFrame at 0x7f2cc4188c70>"
      ]
     },
     "metadata": {},
     "output_type": "display_data"
    }
   ],
   "source": [
    "show_bootstrapping_slides()"
   ]
  },
  {
   "cell_type": "markdown",
   "metadata": {},
   "source": [
    "**Bootstrapping is a really tricky idea, so please ask for help if you're confused!**"
   ]
  },
  {
   "cell_type": "markdown",
   "metadata": {},
   "source": [
    "**Question 3.1.** Complete the implementation of the function `simulate_resample`.  It should take no arguments, and it should generate a resample (again, **with replacement**) from the observed serial numbers in `observations` and return that resample.  (The resample should be a DataFrame like `observations`.)\n",
    "\n",
    "***Hint:*** Use the `.sample` method."
   ]
  },
  {
   "cell_type": "code",
   "execution_count": 30,
   "metadata": {},
   "outputs": [
    {
     "data": {
      "text/html": [
       "<div>\n",
       "<style scoped>\n",
       "    .dataframe tbody tr th:only-of-type {\n",
       "        vertical-align: middle;\n",
       "    }\n",
       "\n",
       "    .dataframe tbody tr th {\n",
       "        vertical-align: top;\n",
       "    }\n",
       "\n",
       "    .dataframe thead th {\n",
       "        text-align: right;\n",
       "    }\n",
       "</style>\n",
       "<table border=\"1\" class=\"dataframe\">\n",
       "  <thead>\n",
       "    <tr style=\"text-align: right;\">\n",
       "      <th></th>\n",
       "      <th>serial_number</th>\n",
       "    </tr>\n",
       "  </thead>\n",
       "  <tbody>\n",
       "    <tr>\n",
       "      <th>13</th>\n",
       "      <td>108</td>\n",
       "    </tr>\n",
       "    <tr>\n",
       "      <th>2</th>\n",
       "      <td>57</td>\n",
       "    </tr>\n",
       "    <tr>\n",
       "      <th>2</th>\n",
       "      <td>57</td>\n",
       "    </tr>\n",
       "    <tr>\n",
       "      <th>6</th>\n",
       "      <td>36</td>\n",
       "    </tr>\n",
       "    <tr>\n",
       "      <th>10</th>\n",
       "      <td>41</td>\n",
       "    </tr>\n",
       "    <tr>\n",
       "      <th>...</th>\n",
       "      <td>...</td>\n",
       "    </tr>\n",
       "    <tr>\n",
       "      <th>15</th>\n",
       "      <td>50</td>\n",
       "    </tr>\n",
       "    <tr>\n",
       "      <th>14</th>\n",
       "      <td>84</td>\n",
       "    </tr>\n",
       "    <tr>\n",
       "      <th>4</th>\n",
       "      <td>26</td>\n",
       "    </tr>\n",
       "    <tr>\n",
       "      <th>0</th>\n",
       "      <td>47</td>\n",
       "    </tr>\n",
       "    <tr>\n",
       "      <th>16</th>\n",
       "      <td>78</td>\n",
       "    </tr>\n",
       "  </tbody>\n",
       "</table>\n",
       "<p>17 rows × 1 columns</p>\n",
       "</div>"
      ],
      "text/plain": [
       "    serial_number\n",
       "13            108\n",
       "2              57\n",
       "2              57\n",
       "6              36\n",
       "10             41\n",
       "..            ...\n",
       "15             50\n",
       "14             84\n",
       "4              26\n",
       "0              47\n",
       "16             78\n",
       "\n",
       "[17 rows x 1 columns]"
      ]
     },
     "execution_count": 30,
     "metadata": {},
     "output_type": "execute_result"
    }
   ],
   "source": [
    "def simulate_resample():\n",
    "    return observations.sample(17, replace=True)\n",
    "\n",
    "# This is a little magic to make sure that you see the same results we did – don't change it.\n",
    "np.random.seed(123)\n",
    "\n",
    "# Don't change the line below!\n",
    "one_resample = simulate_resample()\n",
    "one_resample"
   ]
  },
  {
   "cell_type": "code",
   "execution_count": 31,
   "metadata": {
    "deletable": false,
    "editable": false
   },
   "outputs": [
    {
     "data": {
      "text/html": [
       "<p><strong><pre style='display: inline;'>q3_1</pre></strong> passed!</p>"
      ],
      "text/plain": [
       "q3_1 results: All test cases passed!"
      ]
     },
     "execution_count": 31,
     "metadata": {},
     "output_type": "execute_result"
    }
   ],
   "source": [
    "grader.check(\"q3_1\")"
   ]
  },
  {
   "cell_type": "markdown",
   "metadata": {},
   "source": [
    "Later, we'll use many resamples at once to see what estimates typically look like.  We don't often pay attention to single resamples, so it's easy to misunderstand them.  Let's examine some individual resamples before we start using them."
   ]
  },
  {
   "cell_type": "markdown",
   "metadata": {},
   "source": [
    "**Question 3.2.** Make a histogram of your `one_resample` **and** a separate histogram of the original observations. Make sure to use the function `plot_serial_numbers` that you defined earlier in the lab."
   ]
  },
  {
   "cell_type": "code",
   "execution_count": 32,
   "metadata": {},
   "outputs": [
    {
     "data": {
      "image/png": "[encoded data removed]",
      "text/plain": [
       "<Figure size 720x360 with 1 Axes>"
      ]
     },
     "metadata": {},
     "output_type": "display_data"
    }
   ],
   "source": [
    "# Histogram of resample.\n",
    "plot_serial_numbers(one_resample)"
   ]
  },
  {
   "cell_type": "code",
   "execution_count": 33,
   "metadata": {},
   "outputs": [
    {
     "data": {
      "image/png": "[encoded data removed]",
      "text/plain": [
       "<Figure size 720x360 with 1 Axes>"
      ]
     },
     "metadata": {},
     "output_type": "display_data"
    }
   ],
   "source": [
    "# Histogram of original sample.\n",
    "plot_serial_numbers(observations)"
   ]
  },
  {
   "cell_type": "markdown",
   "metadata": {},
   "source": [
    "**Question 3.3.** Which of the following are true:\n",
    "1. In the plot of the resample, there are no bars at locations that weren't there in the plot of the original observations.\n",
    "2. In the plot of the original observations, there are no bars at locations that weren't there in the plot of the resample.\n",
    "3. There are no duplicate serial numbers in the resample.\n",
    "4. There are no duplicate serial numbers in the original observations.\n",
    "\n",
    "Assign `true_statements` to a list of the correct statements"
   ]
  },
  {
   "cell_type": "code",
   "execution_count": 34,
   "metadata": {},
   "outputs": [],
   "source": [
    "true_statements = [1, 4]"
   ]
  },
  {
   "cell_type": "code",
   "execution_count": 35,
   "metadata": {
    "deletable": false,
    "editable": false
   },
   "outputs": [
    {
     "data": {
      "text/html": [
       "<p><strong><pre style='display: inline;'>q3_3</pre></strong> passed!</p>"
      ],
      "text/plain": [
       "q3_3 results: All test cases passed!"
      ]
     },
     "execution_count": 35,
     "metadata": {},
     "output_type": "execute_result"
    }
   ],
   "source": [
    "grader.check(\"q3_3\")"
   ]
  },
  {
   "cell_type": "markdown",
   "metadata": {},
   "source": [
    "**Question 3.4.** Create 2 more resamples. For each resample, plot a histogram and compute the max-based and mean-based estimates using that resample."
   ]
  },
  {
   "cell_type": "code",
   "execution_count": 36,
   "metadata": {},
   "outputs": [
    {
     "data": {
      "image/png": "[encoded data removed]",
      "text/plain": [
       "<Figure size 720x360 with 1 Axes>"
      ]
     },
     "metadata": {},
     "output_type": "display_data"
    },
    {
     "name": "stdout",
     "output_type": "stream",
     "text": [
      "Mean-based estimate for resample 1: 128.8235294117647\n",
      "Max-based estimate for resample 1: 135\n",
      "\n",
      "\n"
     ]
    },
    {
     "data": {
      "image/png": "[encoded data removed]",
      "text/plain": [
       "<Figure size 720x360 with 1 Axes>"
      ]
     },
     "metadata": {},
     "output_type": "display_data"
    },
    {
     "name": "stdout",
     "output_type": "stream",
     "text": [
      "Mean-based estimate for resample 2: 106.82352941176471\n",
      "Max-based estimate for resample 2: 108\n",
      "\n",
      "\n"
     ]
    }
   ],
   "source": [
    "# np.arange(2) because we want to create 2 resamples.\n",
    "for i in np.arange(2):\n",
    "    resample = simulate_resample()\n",
    "    \n",
    "    # Plot a histogram of this resample.\n",
    "    plot_serial_numbers(resample)\n",
    "    plt.show() # Don't change this line!\n",
    "    \n",
    "    # Calculate the mean-based and max-based estimates based on this resample.\n",
    "    mean_based_estimate_resample = calculate_mean_based_estimate(resample.get('serial_number'))\n",
    "    max_based_estimate_resample = calculate_max_based_estimate(resample.get('serial_number'))\n",
    "    \n",
    "    # Don't change the following 3 lines:\n",
    "    print(f\"Mean-based estimate for resample {i+1}:\", mean_based_estimate_resample)\n",
    "    print(f\"Max-based estimate for resample {i+1}:\", max_based_estimate_resample)\n",
    "    print('\\n')"
   ]
  },
  {
   "cell_type": "markdown",
   "metadata": {},
   "source": [
    "There's a good chance that you'll find that the max-based estimates from the resamples are both exactly 135 (run the cell a few times and you'll almost surely see this happen). You'll also probably find that the two mean-based estimates differ from the sample mean-based estimate (and from each other).\n",
    "\n",
    "**Question 3.5.** Compute the exact probability that a max-based estimate from one *resample* of our observations sample is 135 and assign it to the variable `q3_5` below. It may be useful to recall that the size of `observations` is 17.\n",
    "\n",
    "Note that this is a **math** question, not a programming one. It may help to figure out your answer on paper and then assign `q3_5` to an expression that evaluates to the right answer.\n",
    "\n",
    "***Hint:*** Think about the \"grandma\" example from Lecture 11. What is the probability that any one of the elements in our resample is equal to 135?"
   ]
  },
  {
   "cell_type": "code",
   "execution_count": 37,
   "metadata": {},
   "outputs": [
    {
     "data": {
      "text/plain": [
       "0.6432138052537073"
      ]
     },
     "execution_count": 37,
     "metadata": {},
     "output_type": "execute_result"
    }
   ],
   "source": [
    "q3_5 = (1 - (16 / 17) ** 17)\n",
    "q3_5"
   ]
  },
  {
   "cell_type": "code",
   "execution_count": 38,
   "metadata": {
    "deletable": false,
    "editable": false
   },
   "outputs": [
    {
     "data": {
      "text/html": [
       "<p><strong><pre style='display: inline;'>q3_5</pre></strong> passed!</p>"
      ],
      "text/plain": [
       "q3_5 results: All test cases passed!"
      ]
     },
     "execution_count": 38,
     "metadata": {},
     "output_type": "execute_result"
    }
   ],
   "source": [
    "grader.check(\"q3_5\")"
   ]
  },
  {
   "cell_type": "markdown",
   "metadata": {},
   "source": [
    "The correct answer is high, above 60%. Think about why a mean-based estimate from a resample is less likely to be exactly equal to the mean-based estimate from the original sample as compared to a max-based estimate."
   ]
  },
  {
   "cell_type": "markdown",
   "metadata": {},
   "source": [
    "## 4. Resampling via Simulation 💻\n",
    "\n",
    "Since resampling from a large random sample looks just like sampling from a population, the code should look almost the same, too. That means we can write a function that simulates either sampling from a population or resampling from a sample.  If we pass it a population as its argument, it will do the former; if we pass it a sample, it will do the latter.\n",
    "\n",
    "**Question 4.1.** Complete the implementation of the function `simulate_estimates`. It should take 4 arguments:\n",
    "- `original_df`: A DataFrame from which the data should be sampled, with a single column named `'serial_number'`.\n",
    "- `sample_size`: The size of each sample, an integer. (For example, to do resampling, we would pass the number of rows in `original_df` for this argument.)\n",
    "- `statistic`: A **function** that computes a statistic on a sample. This argument is the **name of a function** that takes a Series of serial numbers as its argument and returns a number (e.g. `calculate_mean_based_estimate`).\n",
    "- `repetitions`: The number of repetitions to perform (i.e. the number of resamples to create).\n",
    "\n",
    "It should simulate `repetitions` samples **with replacement** from the given DataFrame. For each of those samples, it should compute the statistic on that sample. Then it should return an array containing the value of that statistic for each sample (this means that the length of the returned array should be equal to `repetitions`).\n",
    "\n",
    "The code below provides an example use of your function and describes how you can verify that you've written it correctly."
   ]
  },
  {
   "cell_type": "markdown",
   "metadata": {},
   "source": [
    "***Check your answer***: The histogram you see should be a roughly bell-shaped curve centered at 1000 with most of its area in the interval [800, 1200]."
   ]
  },
  {
   "cell_type": "code",
   "execution_count": 39,
   "metadata": {},
   "outputs": [
    {
     "data": {
      "image/png": "[encoded data removed]",
      "text/plain": [
       "<Figure size 720x360 with 1 Axes>"
      ]
     },
     "metadata": {},
     "output_type": "display_data"
    }
   ],
   "source": [
    "def simulate_estimates(original_df, sample_size, statistic, repetitions):\n",
    "    # Our implementation of this function took 4 to 5 short lines of code.\n",
    "    temp = np.array([])\n",
    "    # simulate repetitions with replacement\n",
    "    for i in range(repetitions):\n",
    "        new_sample = original_df.sample(sample_size, replace=True)\n",
    "    # for each sample compute statistic and append to array\n",
    "        temp = np.append(temp, statistic(new_sample.get('serial_number')))\n",
    "    # return array containing statistic for each sample\n",
    "    return temp\n",
    "\n",
    "# This should generate an empirical histogram of twice-mean estimates\n",
    "# of N from samples of size 50 if N is 1000.\n",
    "# Notice that the statistic argument is calculate_mean_based_estimate.\n",
    "example_estimates = simulate_estimates(\n",
    "    bpd.DataFrame().assign(serial_number=np.arange(1, 1000+1)),\n",
    "    50,\n",
    "    calculate_mean_based_estimate,\n",
    "    10000)\n",
    "bpd.DataFrame().assign(mean_based_estimate = example_estimates).plot(kind='hist', density=True, bins=np.arange(500, 1500, 25), ec='w');"
   ]
  },
  {
   "cell_type": "code",
   "execution_count": 40,
   "metadata": {
    "deletable": false,
    "editable": false
   },
   "outputs": [
    {
     "data": {
      "text/html": [
       "<p><strong><pre style='display: inline;'>q4_1</pre></strong> passed!</p>"
      ],
      "text/plain": [
       "q4_1 results: All test cases passed!"
      ]
     },
     "execution_count": 40,
     "metadata": {},
     "output_type": "execute_result"
    }
   ],
   "source": [
    "grader.check(\"q4_1\")"
   ]
  },
  {
   "cell_type": "markdown",
   "metadata": {},
   "source": [
    "Now we can go back to the sample we actually observed (`observations`) and estimate how much our mean-based estimate of `N` would have varied from sample to sample."
   ]
  },
  {
   "cell_type": "markdown",
   "metadata": {},
   "source": [
    "**Question 4.2.** Using the bootstrap procedure and the sample `observations`, simulate the approximate distribution of **mean-based estimates** of `N`. Use 5,000 repetitions. Store the estimates in `bootstrap_estimates`. (Note that this only requires one line of code; call your `simulate_estimates` function.)\n",
    "\n",
    "We have provided code that plots a histogram, allowing you to visualize the simulated estimates."
   ]
  },
  {
   "cell_type": "code",
   "execution_count": 41,
   "metadata": {},
   "outputs": [
    {
     "data": {
      "image/png": "[encoded data removed]",
      "text/plain": [
       "<Figure size 720x360 with 1 Axes>"
      ]
     },
     "metadata": {},
     "output_type": "display_data"
    }
   ],
   "source": [
    "bootstrap_estimates = simulate_estimates(observations, observations.shape[0], calculate_mean_based_estimate, 5000)\n",
    "bpd.DataFrame().assign(mean_based_estimate=bootstrap_estimates).plot(kind='hist', density=True, bins=np.arange(0, 200, 4), ec='w');"
   ]
  },
  {
   "cell_type": "code",
   "execution_count": 42,
   "metadata": {
    "deletable": false,
    "editable": false
   },
   "outputs": [
    {
     "data": {
      "text/html": [
       "<p><strong><pre style='display: inline;'>q4_2</pre></strong> passed!</p>"
      ],
      "text/plain": [
       "q4_2 results: All test cases passed!"
      ]
     },
     "execution_count": 42,
     "metadata": {},
     "output_type": "execute_result"
    }
   ],
   "source": [
    "grader.check(\"q4_2\")"
   ]
  },
  {
   "cell_type": "markdown",
   "metadata": {},
   "source": [
    "**Question 4.3.** Compute an interval that covers the middle 95% of the bootstrap estimates.  Verify that your interval looks like it covers 95% of the area in the histogram above.\n",
    "\n",
    "\n",
    "***Hint:*** If you find yourself using 5 and 95 as the arguments to `np.percentile`, try again – only 90% of the data is between the 5th and 95th percentiles!"
   ]
  },
  {
   "cell_type": "code",
   "execution_count": 43,
   "metadata": {},
   "outputs": [
    {
     "name": "stdout",
     "output_type": "stream",
     "text": [
      "Middle 95% of bootstrap estimates: [99.294118, 147.064706]\n"
     ]
    }
   ],
   "source": [
    "left_end = np.percentile(bootstrap_estimates, 5)\n",
    "right_end = np.percentile(bootstrap_estimates, 95)\n",
    "print(\"Middle 95% of bootstrap estimates: [{:f}, {:f}]\".format(left_end, right_end))"
   ]
  },
  {
   "cell_type": "code",
   "execution_count": 44,
   "metadata": {
    "deletable": false,
    "editable": false
   },
   "outputs": [
    {
     "data": {
      "text/html": [
       "<p><strong><pre style='display: inline;'>q4_3</pre></strong> passed!</p>"
      ],
      "text/plain": [
       "q4_3 results: All test cases passed!"
      ]
     },
     "execution_count": 44,
     "metadata": {},
     "output_type": "execute_result"
    }
   ],
   "source": [
    "grader.check(\"q4_3\")"
   ]
  },
  {
   "cell_type": "markdown",
   "metadata": {},
   "source": [
    "**Question 4.4.** Let's say that `N`, the population parameter we've been trying to estimate, is actually 150. Write code that simulates the sampling and bootstrapping process again, as follows:\n",
    "\n",
    "1. Generate a new set of random observations the Allies might have seen by sampling from the population DataFrame we have created for you below. Take a sample of size 70 **without replacement**. Store the sample in the variable name `new_observations`\n",
    "2. Using only `new_observations` – not `population` – compute 5,000 bootstrapped mean-based estimates of `N`. To do this, call your  `simulate_estimates` function.\n",
    "3. Compute an interval covering the middle 95% of these bootstrapped mean-based estimates."
   ]
  },
  {
   "cell_type": "code",
   "execution_count": 56,
   "metadata": {},
   "outputs": [
    {
     "name": "stdout",
     "output_type": "stream",
     "text": [
      "Middle 95% of bootstrap estimates: [142.733333, 165.720000]\n"
     ]
    }
   ],
   "source": [
    "population = bpd.DataFrame().assign(serial_number=np.arange(1, 150+1))\n",
    "new_observations = population.sample(70, replace=False)\n",
    "new_bootstrap_estimates = (\n",
    "    simulate_estimates(new_observations, 150, calculate_mean_based_estimate, 5000)\n",
    ")\n",
    "\n",
    "new_left_end = np.percentile(new_bootstrap_estimates, 5)\n",
    "new_right_end = np.percentile(new_bootstrap_estimates, 95)\n",
    "\n",
    "print(\"Middle 95% of bootstrap estimates: [{:f}, {:f}]\".format(new_left_end, new_right_end))"
   ]
  },
  {
   "cell_type": "code",
   "execution_count": 57,
   "metadata": {
    "deletable": false,
    "editable": false
   },
   "outputs": [
    {
     "data": {
      "text/html": [
       "<p><strong style='color: red;'><pre style='display: inline;'>q4_4</pre> results:</strong></p><p><strong><pre style='display: inline;'>q4_4 - 1</pre> result:</strong></p><pre>    Test case passed!</pre><p><strong><pre style='display: inline;'>q4_4 - 2</pre> result:</strong></p><pre>    Test case passed!</pre><p><strong><pre style='display: inline;'>q4_4 - 3</pre> result:</strong></p><pre>    Trying:\n",
       "        stdv = np.std(new_bootstrap_estimates)\n",
       "    Expecting nothing\n",
       "    ok\n",
       "    Trying:\n",
       "        abs(((new_right_end - new_left_end) / stdv) - 3.9) < 0.20\n",
       "    Expecting:\n",
       "        True\n",
       "    **********************************************************************\n",
       "    Line 2, in q4_4 2\n",
       "    Failed example:\n",
       "        abs(((new_right_end - new_left_end) / stdv) - 3.9) < 0.20\n",
       "    Expected:\n",
       "        True\n",
       "    Got:\n",
       "        False\n",
       "</pre>"
      ],
      "text/plain": [
       "q4_4 results:\n",
       "    q4_4 - 1 result:\n",
       "        Test case passed!\n",
       "\n",
       "    q4_4 - 2 result:\n",
       "        Test case passed!\n",
       "\n",
       "    q4_4 - 3 result:\n",
       "        Trying:\n",
       "            stdv = np.std(new_bootstrap_estimates)\n",
       "        Expecting nothing\n",
       "        ok\n",
       "        Trying:\n",
       "            abs(((new_right_end - new_left_end) / stdv) - 3.9) < 0.20\n",
       "        Expecting:\n",
       "            True\n",
       "        **********************************************************************\n",
       "        Line 2, in q4_4 2\n",
       "        Failed example:\n",
       "            abs(((new_right_end - new_left_end) / stdv) - 3.9) < 0.20\n",
       "        Expected:\n",
       "            True\n",
       "        Got:\n",
       "            False"
      ]
     },
     "execution_count": 57,
     "metadata": {},
     "output_type": "execute_result"
    }
   ],
   "source": [
    "grader.check(\"q4_4\")"
   ]
  },
  {
   "cell_type": "markdown",
   "metadata": {},
   "source": [
    "**Question 4.5.** If you ran your cell above many, many times, approximately what percentage of the intervals you created would include `N` (150 in this case)?  Assign either 1, 2, 3, 4, or 5 to the variable `q4_5` below.\n",
    "\n",
    "1. 100%\n",
    "2. 97.5%\n",
    "3. 95%\n",
    "4. 5%\n",
    "5. It's impossible to tell."
   ]
  },
  {
   "cell_type": "code",
   "execution_count": 47,
   "metadata": {},
   "outputs": [],
   "source": [
    "q4_5 = 3"
   ]
  },
  {
   "cell_type": "code",
   "execution_count": 48,
   "metadata": {
    "deletable": false,
    "editable": false
   },
   "outputs": [
    {
     "data": {
      "text/html": [
       "<p><strong><pre style='display: inline;'>q4_5</pre></strong> passed!</p>"
      ],
      "text/plain": [
       "q4_5 results: All test cases passed!"
      ]
     },
     "execution_count": 48,
     "metadata": {},
     "output_type": "execute_result"
    }
   ],
   "source": [
    "grader.check(\"q4_5\")"
   ]
  },
  {
   "cell_type": "markdown",
   "metadata": {},
   "source": [
    "## 5. With or Without Replacement? 🔂\n",
    "\n",
    "Each time we resampled from our original sample, we sampled **with replacement**. What would happen if we tried to resample without replacement? Let's find out!\n",
    "\n",
    "Below, we will collect another random sample of size 70 from `population` that we can then resample from. We'll call it `original_sample`."
   ]
  },
  {
   "cell_type": "code",
   "execution_count": 49,
   "metadata": {},
   "outputs": [
    {
     "data": {
      "text/html": [
       "<div>\n",
       "<style scoped>\n",
       "    .dataframe tbody tr th:only-of-type {\n",
       "        vertical-align: middle;\n",
       "    }\n",
       "\n",
       "    .dataframe tbody tr th {\n",
       "        vertical-align: top;\n",
       "    }\n",
       "\n",
       "    .dataframe thead th {\n",
       "        text-align: right;\n",
       "    }\n",
       "</style>\n",
       "<table border=\"1\" class=\"dataframe\">\n",
       "  <thead>\n",
       "    <tr style=\"text-align: right;\">\n",
       "      <th></th>\n",
       "      <th>serial_number</th>\n",
       "    </tr>\n",
       "  </thead>\n",
       "  <tbody>\n",
       "    <tr>\n",
       "      <th>139</th>\n",
       "      <td>140</td>\n",
       "    </tr>\n",
       "    <tr>\n",
       "      <th>125</th>\n",
       "      <td>126</td>\n",
       "    </tr>\n",
       "    <tr>\n",
       "      <th>67</th>\n",
       "      <td>68</td>\n",
       "    </tr>\n",
       "    <tr>\n",
       "      <th>3</th>\n",
       "      <td>4</td>\n",
       "    </tr>\n",
       "    <tr>\n",
       "      <th>113</th>\n",
       "      <td>114</td>\n",
       "    </tr>\n",
       "    <tr>\n",
       "      <th>...</th>\n",
       "      <td>...</td>\n",
       "    </tr>\n",
       "    <tr>\n",
       "      <th>53</th>\n",
       "      <td>54</td>\n",
       "    </tr>\n",
       "    <tr>\n",
       "      <th>76</th>\n",
       "      <td>77</td>\n",
       "    </tr>\n",
       "    <tr>\n",
       "      <th>132</th>\n",
       "      <td>133</td>\n",
       "    </tr>\n",
       "    <tr>\n",
       "      <th>114</th>\n",
       "      <td>115</td>\n",
       "    </tr>\n",
       "    <tr>\n",
       "      <th>72</th>\n",
       "      <td>73</td>\n",
       "    </tr>\n",
       "  </tbody>\n",
       "</table>\n",
       "<p>70 rows × 1 columns</p>\n",
       "</div>"
      ],
      "text/plain": [
       "     serial_number\n",
       "139            140\n",
       "125            126\n",
       "67              68\n",
       "3                4\n",
       "113            114\n",
       "..             ...\n",
       "53              54\n",
       "76              77\n",
       "132            133\n",
       "114            115\n",
       "72              73\n",
       "\n",
       "[70 rows x 1 columns]"
      ]
     },
     "execution_count": 49,
     "metadata": {},
     "output_type": "execute_result"
    }
   ],
   "source": [
    "np.random.seed(23) # Magic so that you get the same result as us – don't change this line\n",
    "original_sample = population.sample(70)\n",
    "original_sample"
   ]
  },
  {
   "cell_type": "markdown",
   "metadata": {},
   "source": [
    "**Question 5.1.** Below, 5,000 times, collect a resample of size 70 **from `original_sample` without replacement**. Compute the mean-based estimate on each resample, and store the estimates in the array `estimates_without_replacement`.\n",
    "\n",
    "***Note:*** You **cannot** use your `simulate_estimates` function here, because that samples with replacement. Instead, you'll have to write a new for-loop. It's a good idea to start by copying the code from your function in Question 4.1 and changing the necessary pieces."
   ]
  },
  {
   "cell_type": "code",
   "execution_count": 50,
   "metadata": {},
   "outputs": [
    {
     "data": {
      "text/plain": [
       "array([149.51428571, 149.51428571, 149.51428571, ..., 149.51428571,\n",
       "       149.51428571, 149.51428571])"
      ]
     },
     "execution_count": 50,
     "metadata": {},
     "output_type": "execute_result"
    }
   ],
   "source": [
    "temp = np.array([])\n",
    "\n",
    "for i in range(5000):\n",
    "    sample = original_sample.sample(70, replace=False)\n",
    "    temp = np.append(temp, calculate_mean_based_estimate(sample.get('serial_number')))\n",
    "\n",
    "\n",
    "estimates_without_replacement = temp\n",
    "estimates_without_replacement"
   ]
  },
  {
   "cell_type": "code",
   "execution_count": 51,
   "metadata": {
    "deletable": false,
    "editable": false
   },
   "outputs": [
    {
     "data": {
      "text/html": [
       "<p><strong><pre style='display: inline;'>q5_1</pre></strong> passed!</p>"
      ],
      "text/plain": [
       "q5_1 results: All test cases passed!"
      ]
     },
     "execution_count": 51,
     "metadata": {},
     "output_type": "execute_result"
    }
   ],
   "source": [
    "grader.check(\"q5_1\")"
   ]
  },
  {
   "cell_type": "markdown",
   "metadata": {},
   "source": [
    "**Question 5.2.** If you completed Question 5.1 correctly, you'll notice that all 5,000 of your estimates are identical, and are equal to roughly 149.5143. Furthermore, this number is equal to the mean-based estimate derived from `original_sample`, without any resampling:"
   ]
  },
  {
   "cell_type": "code",
   "execution_count": 52,
   "metadata": {},
   "outputs": [
    {
     "data": {
      "text/plain": [
       "149.5142857142857"
      ]
     },
     "execution_count": 52,
     "metadata": {},
     "output_type": "execute_result"
    }
   ],
   "source": [
    "calculate_mean_based_estimate(original_sample.get('serial_number'))"
   ]
  },
  {
   "cell_type": "markdown",
   "metadata": {},
   "source": [
    "Why are all of our estimates identical, and why **must** we sample with replacement when resampling?"
   ]
  },
  {
   "cell_type": "markdown",
   "metadata": {
    "deletable": false,
    "editable": false
   },
   "source": [
    "<!-- BEGIN QUESTION -->\n",
    "\n",
    "<!--\n",
    "BEGIN QUESTION\n",
    "name: q5_2\n",
    "manual: true\n",
    "-->"
   ]
  },
  {
   "cell_type": "markdown",
   "metadata": {},
   "source": [
    "Since we don't replace or values with every sample, we just end up choosing the same values for every resample which results in the same statistic. "
   ]
  },
  {
   "cell_type": "markdown",
   "metadata": {},
   "source": [
    "<!-- END QUESTION -->\n",
    "\n",
    "\n",
    "\n",
    "# Finish Line 🏁\n",
    "\n",
    "Congratulations! You are done with Lab 4.\n",
    "\n",
    "**Citations:** Did you use any generative artificial intelligence tools to assist you on this assignment? If so, please state, for each tool you used, the name of the tool (ex. ChatGPT) and the problem(s) in this assignment where you used the tool for help."
   ]
  },
  {
   "cell_type": "markdown",
   "metadata": {},
   "source": [
    "<hr style=\"color:Maroon;background-color:Maroon;border:0 none; height: 3px;\">\n",
    "\n",
    "Please cite tools here.\n",
    "\n",
    "<hr style=\"color:Maroon;background-color:Maroon;border:0 none; height: 3px;\">"
   ]
  },
  {
   "cell_type": "markdown",
   "metadata": {},
   "source": [
    "To submit your assignment:\n",
    "\n",
    "1. Select `Kernel -> Restart & Run All` to ensure that you have executed all cells, including the test cells.\n",
    "2. Read through the notebook to make sure everything is fine and all tests passed.\n",
    "3. Run the cell below to run all tests, and make sure that they all pass.\n",
    "4. Download your notebook using `File -> Download as -> Notebook (.ipynb)`, then upload your notebook to Gradescope.\n",
    "5. Stick around while the Gradescope autograder grades your work. Make sure you see that all tests have passed on Gradescope.\n",
    "6. Check that you have a confirmation email from Gradescope and save it as proof of your submission."
   ]
  },
  {
   "cell_type": "code",
   "execution_count": 53,
   "metadata": {
    "scrolled": false
   },
   "outputs": [
    {
     "data": {
      "text/plain": [
       "q1_1 results: All test cases passed!\n",
       "\n",
       "q1_2 results: All test cases passed!\n",
       "\n",
       "q1_3 results: All test cases passed!\n",
       "\n",
       "q1_4 results: All test cases passed!\n",
       "\n",
       "q1_5 results:\n",
       "    q1_5 - 1 result:\n",
       "        Trying:\n",
       "            min_based_estimate == min(observations) - 1 # Don't just copy this!\n",
       "        Expecting:\n",
       "            True\n",
       "        **********************************************************************\n",
       "        Line 1, in q1_5 0\n",
       "        Failed example:\n",
       "            min_based_estimate == min(observations) - 1 # Don't just copy this!\n",
       "        Exception raised:\n",
       "            Traceback (most recent call last):\n",
       "              File \"/opt/conda/lib/python3.9/doctest.py\", line 1336, in __run\n",
       "                exec(compile(example.source, filename, \"single\",\n",
       "              File \"<doctest q1_5 0[0]>\", line 1, in <module>\n",
       "                min_based_estimate == min(observations) - 1 # Don't just copy this!\n",
       "            ValueError: min() arg is an empty sequence\n",
       "\n",
       "q1_6 results:\n",
       "    q1_6 - 1 result:\n",
       "        Trying:\n",
       "            test_array = np.array([1, 2, 3, 4, 5, 6, 7, 8, 9 , 10])\n",
       "        Expecting nothing\n",
       "        ok\n",
       "        Trying:\n",
       "            np.mean(test_array) - calculate_mean_based_estimate(test_array) == 10.5\n",
       "        Expecting:\n",
       "            True\n",
       "        **********************************************************************\n",
       "        Line 2, in q1_6 0\n",
       "        Failed example:\n",
       "            np.mean(test_array) - calculate_mean_based_estimate(test_array) == 10.5\n",
       "        Expected:\n",
       "            True\n",
       "        Got:\n",
       "            False\n",
       "\n",
       "    q1_6 - 2 result:\n",
       "        Trying:\n",
       "            test_array = np.array([5, 4, 3, 6, 7, 1, 4, 12, 8])\n",
       "        Expecting nothing\n",
       "        ok\n",
       "        Trying:\n",
       "            np.mean(test_array) - calculate_mean_based_estimate(test_array) == 10.5\n",
       "        Expecting:\n",
       "            True\n",
       "        **********************************************************************\n",
       "        Line 2, in q1_6 1\n",
       "        Failed example:\n",
       "            np.mean(test_array) - calculate_mean_based_estimate(test_array) == 10.5\n",
       "        Expected:\n",
       "            True\n",
       "        Got:\n",
       "            False\n",
       "\n",
       "    q1_6 - 3 result:\n",
       "        Trying:\n",
       "            np.mean(observations) - calculate_mean_based_estimate(observations) == 10.5\n",
       "        Expecting:\n",
       "            True\n",
       "        **********************************************************************\n",
       "        Line 1, in q1_6 2\n",
       "        Failed example:\n",
       "            np.mean(observations) - calculate_mean_based_estimate(observations) == 10.5\n",
       "        Exception raised:\n",
       "            Traceback (most recent call last):\n",
       "              File \"/opt/conda/lib/python3.9/doctest.py\", line 1336, in __run\n",
       "                exec(compile(example.source, filename, \"single\",\n",
       "              File \"<doctest q1_6 2[0]>\", line 1, in <module>\n",
       "                np.mean(observations) - calculate_mean_based_estimate(observations) == 10.5\n",
       "              File \"<__array_function__ internals>\", line 5, in mean\n",
       "              File \"/opt/conda/lib/python3.9/site-packages/numpy/core/fromnumeric.py\", line 3440, in mean\n",
       "                return _methods._mean(a, axis=axis, dtype=dtype,\n",
       "              File \"/opt/conda/lib/python3.9/site-packages/numpy/core/_methods.py\", line 191, in _mean\n",
       "                ret = ret / rcount\n",
       "            TypeError: unsupported operand type(s) for /: 'DataFrame' and 'int'\n",
       "\n",
       "q2_1 results: All test cases passed!\n",
       "\n",
       "q2_3 results: All test cases passed!\n",
       "\n",
       "q2_4 results: All test cases passed!\n",
       "\n",
       "q2_5 results: All test cases passed!\n",
       "\n",
       "q3_1 results: All test cases passed!\n",
       "\n",
       "q3_3 results: All test cases passed!\n",
       "\n",
       "q3_5 results: All test cases passed!\n",
       "\n",
       "q4_1 results: All test cases passed!\n",
       "\n",
       "q4_2 results: All test cases passed!\n",
       "\n",
       "q4_3 results: All test cases passed!\n",
       "\n",
       "q4_4 results:\n",
       "    q4_4 - 1 result:\n",
       "        Test case passed!\n",
       "\n",
       "    q4_4 - 2 result:\n",
       "        Test case passed!\n",
       "\n",
       "    q4_4 - 3 result:\n",
       "        Trying:\n",
       "            stdv = np.std(new_bootstrap_estimates)\n",
       "        Expecting nothing\n",
       "        ok\n",
       "        Trying:\n",
       "            abs(((new_right_end - new_left_end) / stdv) - 3.9) < 0.20\n",
       "        Expecting:\n",
       "            True\n",
       "        **********************************************************************\n",
       "        Line 2, in q4_4 2\n",
       "        Failed example:\n",
       "            abs(((new_right_end - new_left_end) / stdv) - 3.9) < 0.20\n",
       "        Expected:\n",
       "            True\n",
       "        Got:\n",
       "            False\n",
       "\n",
       "q4_5 results: All test cases passed!\n",
       "\n",
       "q5_1 results: All test cases passed!"
      ]
     },
     "execution_count": 53,
     "metadata": {},
     "output_type": "execute_result"
    }
   ],
   "source": [
    "# For your convenience, you can run this cell to run all the tests at once!\n",
    "grader.check_all()"
   ]
  }
 ],
 "metadata": {
  "anaconda-cloud": {},
  "kernelspec": {
   "display_name": "Python 3 (ipykernel)",
   "language": "python",
   "name": "python3"
  },
  "language_info": {
   "codemirror_mode": {
    "name": "ipython",
    "version": 3
   },
   "file_extension": ".py",
   "mimetype": "text/x-python",
   "name": "python",
   "nbconvert_exporter": "python",
   "pygments_lexer": "ipython3",
   "version": "3.9.5"
  }
 },
 "nbformat": 4,
 "nbformat_minor": 1
}
